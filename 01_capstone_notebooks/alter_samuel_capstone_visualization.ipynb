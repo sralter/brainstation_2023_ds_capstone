{
 "cells": [
  {
   "cell_type": "markdown",
   "id": "e5d090ac-1abe-4a34-9467-d9f09404b3f4",
   "metadata": {},
   "source": [
    "# Welcome\n",
    "\n",
    "Notebook Author: Samuel Alter  \n",
    "Notebook Subject: Capstone Project - Visualization\n",
    "\n",
    "BrainStation Winter 2023: Data Science"
   ]
  },
  {
   "cell_type": "markdown",
   "id": "0391934c-7ec3-4958-ba42-44a949d04272",
   "metadata": {},
   "source": [
    "# Introduction\n",
    "\n",
    "This notebook attempts to create one or more visualizations."
   ]
  },
  {
   "cell_type": "code",
   "execution_count": 6,
   "id": "c7804352-ca93-4548-bf03-aeae02736ef7",
   "metadata": {},
   "outputs": [],
   "source": [
    "import pandas as pd\n",
    "from keplergl import KeplerGl\n",
    "import geopandas as gpd"
   ]
  },
  {
   "cell_type": "code",
   "execution_count": 7,
   "id": "7684ec34-51a4-45e3-aaaa-6410095c12a6",
   "metadata": {},
   "outputs": [
    {
     "data": {
      "text/html": [
       "<div>\n",
       "<style scoped>\n",
       "    .dataframe tbody tr th:only-of-type {\n",
       "        vertical-align: middle;\n",
       "    }\n",
       "\n",
       "    .dataframe tbody tr th {\n",
       "        vertical-align: top;\n",
       "    }\n",
       "\n",
       "    .dataframe thead th {\n",
       "        text-align: right;\n",
       "    }\n",
       "</style>\n",
       "<table border=\"1\" class=\"dataframe\">\n",
       "  <thead>\n",
       "    <tr style=\"text-align: right;\">\n",
       "      <th></th>\n",
       "      <th>id</th>\n",
       "      <th>geometry</th>\n",
       "    </tr>\n",
       "  </thead>\n",
       "  <tbody>\n",
       "    <tr>\n",
       "      <th>0</th>\n",
       "      <td>1</td>\n",
       "      <td>MULTIPOLYGON (((-119.09300 34.10136, -119.0930...</td>\n",
       "    </tr>\n",
       "  </tbody>\n",
       "</table>\n",
       "</div>"
      ],
      "text/plain": [
       "   id                                           geometry\n",
       "0   1  MULTIPOLYGON (((-119.09300 34.10136, -119.0930..."
      ]
     },
     "execution_count": 7,
     "metadata": {},
     "output_type": "execute_result"
    }
   ],
   "source": [
    "sm_bounds = gpd.read_file('/Users/sra/Desktop/Data_Science_2023/_capstone/00_capstone_data/shapefiles/santa_monica_water_bounds/sm_bounds_water.geojson')\n",
    "sm_bounds.head()"
   ]
  },
  {
   "cell_type": "code",
   "execution_count": 9,
   "id": "0b379ac0-bd4c-4099-a1c8-e06d286b6449",
   "metadata": {},
   "outputs": [
    {
     "name": "stdout",
     "output_type": "stream",
     "text": [
      "User Guide: https://docs.kepler.gl/docs/keplergl-jupyter\n"
     ]
    },
    {
     "data": {
      "application/vnd.jupyter.widget-view+json": {
       "model_id": "511972cbaedb45549a039810f32ff932",
       "version_major": 2,
       "version_minor": 0
      },
      "text/plain": [
       "KeplerGl(height=600)"
      ]
     },
     "metadata": {},
     "output_type": "display_data"
    }
   ],
   "source": [
    "#Create a basemap \n",
    "kgl_map = KeplerGl(height=600, width=800)\n",
    "#show the map\n",
    "kgl_map"
   ]
  },
  {
   "cell_type": "markdown",
   "id": "b852ae30-3a87-4529-b1c1-202232ff09c0",
   "metadata": {},
   "source": [
    "# Create a heatmap"
   ]
  },
  {
   "cell_type": "code",
   "execution_count": 10,
   "id": "5fb4c5b5-66da-49df-9a82-79c7c57c465b",
   "metadata": {},
   "outputs": [],
   "source": [
    "# https://github.com/opengeos\n",
    "# https://github.com/giswqs/streamlit-multipage-template"
   ]
  },
  {
   "cell_type": "code",
   "execution_count": 11,
   "id": "7c609907-772f-46af-980f-429f0e2f7bc1",
   "metadata": {},
   "outputs": [],
   "source": [
    "import leafmap"
   ]
  },
  {
   "cell_type": "code",
   "execution_count": 12,
   "id": "b778a62c-f589-4dc1-81b3-fd84bcaa562b",
   "metadata": {},
   "outputs": [],
   "source": [
    "# extract lat and lon from fire/nofire point file"
   ]
  },
  {
   "cell_type": "code",
   "execution_count": 14,
   "id": "a77d8877-098f-4de2-a653-e0c012d01262",
   "metadata": {},
   "outputs": [],
   "source": [
    "fire_elev_asp_file='/Users/sra/Desktop/Data_Science_2023/_capstone/00_capstone_data/shapefiles/joins/patch_fire_elev_asp.geojson'\n",
    "nofire_elev_asp_file='/Users/sra/Desktop/Data_Science_2023/_capstone/00_capstone_data/shapefiles/joins/patch_nofire_elev_asp.geojson'"
   ]
  },
  {
   "cell_type": "code",
   "execution_count": 39,
   "id": "91a98e65-b9df-417a-8614-3339a339ed89",
   "metadata": {},
   "outputs": [
    {
     "data": {
      "text/html": [
       "<div>\n",
       "<style scoped>\n",
       "    .dataframe tbody tr th:only-of-type {\n",
       "        vertical-align: middle;\n",
       "    }\n",
       "\n",
       "    .dataframe tbody tr th {\n",
       "        vertical-align: top;\n",
       "    }\n",
       "\n",
       "    .dataframe thead th {\n",
       "        text-align: right;\n",
       "    }\n",
       "</style>\n",
       "<table border=\"1\" class=\"dataframe\">\n",
       "  <thead>\n",
       "    <tr style=\"text-align: right;\">\n",
       "      <th></th>\n",
       "      <th>id</th>\n",
       "      <th>layer</th>\n",
       "      <th>path</th>\n",
       "      <th>elevation1</th>\n",
       "      <th>aspect1</th>\n",
       "      <th>geometry</th>\n",
       "    </tr>\n",
       "  </thead>\n",
       "  <tbody>\n",
       "    <tr>\n",
       "      <th>0</th>\n",
       "      <td>0</td>\n",
       "      <td>patch_fire1_points</td>\n",
       "      <td>/Users/sra/Desktop/Data_Science_2023/_capstone...</td>\n",
       "      <td>52.0</td>\n",
       "      <td>14.743560</td>\n",
       "      <td>POINT (310476.000 3778264.200)</td>\n",
       "    </tr>\n",
       "    <tr>\n",
       "      <th>1</th>\n",
       "      <td>1</td>\n",
       "      <td>patch_fire1_points</td>\n",
       "      <td>/Users/sra/Desktop/Data_Science_2023/_capstone...</td>\n",
       "      <td>45.0</td>\n",
       "      <td>21.037510</td>\n",
       "      <td>POINT (310552.800 3778264.200)</td>\n",
       "    </tr>\n",
       "    <tr>\n",
       "      <th>2</th>\n",
       "      <td>2</td>\n",
       "      <td>patch_fire1_points</td>\n",
       "      <td>/Users/sra/Desktop/Data_Science_2023/_capstone...</td>\n",
       "      <td>45.0</td>\n",
       "      <td>333.434967</td>\n",
       "      <td>POINT (310629.600 3778264.200)</td>\n",
       "    </tr>\n",
       "    <tr>\n",
       "      <th>3</th>\n",
       "      <td>3</td>\n",
       "      <td>patch_fire1_points</td>\n",
       "      <td>/Users/sra/Desktop/Data_Science_2023/_capstone...</td>\n",
       "      <td>51.0</td>\n",
       "      <td>283.392487</td>\n",
       "      <td>POINT (310706.400 3778264.200)</td>\n",
       "    </tr>\n",
       "    <tr>\n",
       "      <th>4</th>\n",
       "      <td>4</td>\n",
       "      <td>patch_fire1_points</td>\n",
       "      <td>/Users/sra/Desktop/Data_Science_2023/_capstone...</td>\n",
       "      <td>63.0</td>\n",
       "      <td>229.289154</td>\n",
       "      <td>POINT (310783.200 3778264.200)</td>\n",
       "    </tr>\n",
       "    <tr>\n",
       "      <th>...</th>\n",
       "      <td>...</td>\n",
       "      <td>...</td>\n",
       "      <td>...</td>\n",
       "      <td>...</td>\n",
       "      <td>...</td>\n",
       "      <td>...</td>\n",
       "    </tr>\n",
       "    <tr>\n",
       "      <th>9913</th>\n",
       "      <td>2389</td>\n",
       "      <td>patch_fire2_points</td>\n",
       "      <td>/Users/sra/Desktop/Data_Science_2023/_capstone...</td>\n",
       "      <td>92.0</td>\n",
       "      <td>249.702423</td>\n",
       "      <td>POINT (341041.800 3767814.600)</td>\n",
       "    </tr>\n",
       "    <tr>\n",
       "      <th>9914</th>\n",
       "      <td>2390</td>\n",
       "      <td>patch_fire2_points</td>\n",
       "      <td>/Users/sra/Desktop/Data_Science_2023/_capstone...</td>\n",
       "      <td>120.0</td>\n",
       "      <td>222.709396</td>\n",
       "      <td>POINT (341118.600 3767814.600)</td>\n",
       "    </tr>\n",
       "    <tr>\n",
       "      <th>9915</th>\n",
       "      <td>2391</td>\n",
       "      <td>patch_fire2_points</td>\n",
       "      <td>/Users/sra/Desktop/Data_Science_2023/_capstone...</td>\n",
       "      <td>134.0</td>\n",
       "      <td>228.990921</td>\n",
       "      <td>POINT (341195.400 3767814.600)</td>\n",
       "    </tr>\n",
       "    <tr>\n",
       "      <th>9916</th>\n",
       "      <td>2392</td>\n",
       "      <td>patch_fire2_points</td>\n",
       "      <td>/Users/sra/Desktop/Data_Science_2023/_capstone...</td>\n",
       "      <td>149.0</td>\n",
       "      <td>233.686356</td>\n",
       "      <td>POINT (341272.200 3767814.600)</td>\n",
       "    </tr>\n",
       "    <tr>\n",
       "      <th>9917</th>\n",
       "      <td>2393</td>\n",
       "      <td>patch_fire2_points</td>\n",
       "      <td>/Users/sra/Desktop/Data_Science_2023/_capstone...</td>\n",
       "      <td>194.0</td>\n",
       "      <td>227.563766</td>\n",
       "      <td>POINT (341349.000 3767814.600)</td>\n",
       "    </tr>\n",
       "  </tbody>\n",
       "</table>\n",
       "<p>9918 rows × 6 columns</p>\n",
       "</div>"
      ],
      "text/plain": [
       "        id               layer  \\\n",
       "0        0  patch_fire1_points   \n",
       "1        1  patch_fire1_points   \n",
       "2        2  patch_fire1_points   \n",
       "3        3  patch_fire1_points   \n",
       "4        4  patch_fire1_points   \n",
       "...    ...                 ...   \n",
       "9913  2389  patch_fire2_points   \n",
       "9914  2390  patch_fire2_points   \n",
       "9915  2391  patch_fire2_points   \n",
       "9916  2392  patch_fire2_points   \n",
       "9917  2393  patch_fire2_points   \n",
       "\n",
       "                                                   path  elevation1  \\\n",
       "0     /Users/sra/Desktop/Data_Science_2023/_capstone...        52.0   \n",
       "1     /Users/sra/Desktop/Data_Science_2023/_capstone...        45.0   \n",
       "2     /Users/sra/Desktop/Data_Science_2023/_capstone...        45.0   \n",
       "3     /Users/sra/Desktop/Data_Science_2023/_capstone...        51.0   \n",
       "4     /Users/sra/Desktop/Data_Science_2023/_capstone...        63.0   \n",
       "...                                                 ...         ...   \n",
       "9913  /Users/sra/Desktop/Data_Science_2023/_capstone...        92.0   \n",
       "9914  /Users/sra/Desktop/Data_Science_2023/_capstone...       120.0   \n",
       "9915  /Users/sra/Desktop/Data_Science_2023/_capstone...       134.0   \n",
       "9916  /Users/sra/Desktop/Data_Science_2023/_capstone...       149.0   \n",
       "9917  /Users/sra/Desktop/Data_Science_2023/_capstone...       194.0   \n",
       "\n",
       "         aspect1                        geometry  \n",
       "0      14.743560  POINT (310476.000 3778264.200)  \n",
       "1      21.037510  POINT (310552.800 3778264.200)  \n",
       "2     333.434967  POINT (310629.600 3778264.200)  \n",
       "3     283.392487  POINT (310706.400 3778264.200)  \n",
       "4     229.289154  POINT (310783.200 3778264.200)  \n",
       "...          ...                             ...  \n",
       "9913  249.702423  POINT (341041.800 3767814.600)  \n",
       "9914  222.709396  POINT (341118.600 3767814.600)  \n",
       "9915  228.990921  POINT (341195.400 3767814.600)  \n",
       "9916  233.686356  POINT (341272.200 3767814.600)  \n",
       "9917  227.563766  POINT (341349.000 3767814.600)  \n",
       "\n",
       "[9918 rows x 6 columns]"
      ]
     },
     "execution_count": 39,
     "metadata": {},
     "output_type": "execute_result"
    }
   ],
   "source": [
    "fire_elev_asp_file_gpd=gpd.read_file(fire_elev_asp_file)\n",
    "fire_elev_asp_file_gpd"
   ]
  },
  {
   "cell_type": "code",
   "execution_count": 35,
   "id": "c643a0ee-dcb0-4ff7-917e-6ae99d4e4fd3",
   "metadata": {},
   "outputs": [],
   "source": [
    "import json\n",
    "\n",
    "# fire_elev_asp\n",
    "\n",
    "# open the GeoJSON file\n",
    "with open(fire_elev_asp_file, 'r') as f:\n",
    "    geojson_data = json.load(f)\n",
    "\n",
    "# extract the latitude and longitude coordinates from the features\n",
    "fire_latitudes = []\n",
    "fire_longitudes = []\n",
    "for feature in geojson_data['features']:\n",
    "    geometry = feature['geometry']\n",
    "    coordinates = geometry['coordinates']\n",
    "    fire_latitudes.append(coordinates[0])\n",
    "    fire_longitudes.append(coordinates[1])"
   ]
  },
  {
   "cell_type": "code",
   "execution_count": 36,
   "id": "0a6cc5b7-20ca-4b2b-8ba4-6054d02e34b0",
   "metadata": {},
   "outputs": [
    {
     "data": {
      "text/plain": [
       "9918"
      ]
     },
     "execution_count": 36,
     "metadata": {},
     "output_type": "execute_result"
    }
   ],
   "source": [
    "len(fire_latitudes)"
   ]
  },
  {
   "cell_type": "code",
   "execution_count": 37,
   "id": "d6a792b9-2758-4bab-a82a-12130a6e5d74",
   "metadata": {},
   "outputs": [],
   "source": [
    "# nofire_elev_asp\n",
    "\n",
    "# open the GeoJSON file\n",
    "with open(nofire_elev_asp_file, 'r') as f:\n",
    "    geojson_data = json.load(f)\n",
    "\n",
    "# extract the latitude and longitude coordinates from the features\n",
    "nofire_latitudes = []\n",
    "nofire_longitudes = []\n",
    "for feature in geojson_data['features']:\n",
    "    geometry = feature['geometry']\n",
    "    coordinates = geometry['coordinates']\n",
    "    nofire_latitudes.append(coordinates[0])\n",
    "    nofire_longitudes.append(coordinates[1])"
   ]
  },
  {
   "cell_type": "code",
   "execution_count": 38,
   "id": "ea9a4319-4a1a-44f7-92ea-c245d87b452b",
   "metadata": {},
   "outputs": [
    {
     "data": {
      "text/plain": [
       "9918"
      ]
     },
     "execution_count": 38,
     "metadata": {},
     "output_type": "execute_result"
    }
   ],
   "source": [
    "len(nofire_longitudes)"
   ]
  },
  {
   "cell_type": "code",
   "execution_count": null,
   "id": "3dddb9bc-dd77-4372-9a78-9758adb0489d",
   "metadata": {},
   "outputs": [],
   "source": [
    "# create DataFrame of elevation and aspect plus lat/lon\n",
    "\n"
   ]
  },
  {
   "cell_type": "code",
   "execution_count": 2,
   "id": "716b9a57-08cf-4845-80e4-73b5cd3da8c4",
   "metadata": {},
   "outputs": [
    {
     "ename": "NameError",
     "evalue": "name 'leafmap' is not defined",
     "output_type": "error",
     "traceback": [
      "\u001b[0;31m---------------------------------------------------------------------------\u001b[0m",
      "\u001b[0;31mNameError\u001b[0m                                 Traceback (most recent call last)",
      "Cell \u001b[0;32mIn[2], line 2\u001b[0m\n\u001b[1;32m      1\u001b[0m filepath \u001b[38;5;241m=\u001b[39m \u001b[38;5;124m\"\u001b[39m\u001b[38;5;124mhttps://raw.githubusercontent.com/giswqs/leafmap/master/examples/data/us_cities.csv\u001b[39m\u001b[38;5;124m\"\u001b[39m\n\u001b[0;32m----> 2\u001b[0m m \u001b[38;5;241m=\u001b[39m \u001b[43mleafmap\u001b[49m\u001b[38;5;241m.\u001b[39mMap(center\u001b[38;5;241m=\u001b[39m[\u001b[38;5;241m40\u001b[39m, \u001b[38;5;241m-\u001b[39m\u001b[38;5;241m100\u001b[39m], zoom\u001b[38;5;241m=\u001b[39m\u001b[38;5;241m4\u001b[39m, tiles\u001b[38;5;241m=\u001b[39m\u001b[38;5;124m\"\u001b[39m\u001b[38;5;124mstamentoner\u001b[39m\u001b[38;5;124m\"\u001b[39m)\n\u001b[1;32m      3\u001b[0m m\u001b[38;5;241m.\u001b[39madd_heatmap(\n\u001b[1;32m      4\u001b[0m     filepath,\n\u001b[1;32m      5\u001b[0m     latitude\u001b[38;5;241m=\u001b[39m\u001b[38;5;124m\"\u001b[39m\u001b[38;5;124mlatitude\u001b[39m\u001b[38;5;124m\"\u001b[39m,\n\u001b[0;32m   (...)\u001b[0m\n\u001b[1;32m      9\u001b[0m     radius\u001b[38;5;241m=\u001b[39m\u001b[38;5;241m20\u001b[39m,\n\u001b[1;32m     10\u001b[0m )\n",
      "\u001b[0;31mNameError\u001b[0m: name 'leafmap' is not defined"
     ]
    }
   ],
   "source": [
    "# https://github.com/opengeos\n",
    "# https://github.com/giswqs/streamlit-multipage-template\n",
    "\n",
    "filepath = \"https://raw.githubusercontent.com/giswqs/leafmap/master/examples/data/us_cities.csv\"\n",
    "m = leafmap.Map(center=[40, -100], zoom=4, tiles=\"stamentoner\")\n",
    "m.add_heatmap(\n",
    "    filepath,\n",
    "    latitude=\"lat\",\n",
    "    longitude=\"longitude\",\n",
    "    value=\"pop_max\",\n",
    "    name=\"Heat map\",\n",
    "    radius=20,\n",
    ")"
   ]
  },
  {
   "cell_type": "code",
   "execution_count": null,
   "id": "d0b8e545-4288-4615-b60e-3b60f44bcfc4",
   "metadata": {},
   "outputs": [],
   "source": []
  }
 ],
 "metadata": {
  "kernelspec": {
   "display_name": "gis",
   "language": "python",
   "name": "gis"
  },
  "language_info": {
   "codemirror_mode": {
    "name": "ipython",
    "version": 3
   },
   "file_extension": ".py",
   "mimetype": "text/x-python",
   "name": "python",
   "nbconvert_exporter": "python",
   "pygments_lexer": "ipython3",
   "version": "3.10.8"
  }
 },
 "nbformat": 4,
 "nbformat_minor": 5
}
