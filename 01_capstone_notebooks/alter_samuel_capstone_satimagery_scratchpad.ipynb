{
 "cells": [
  {
   "cell_type": "code",
   "execution_count": null,
   "id": "660a8099-6644-476f-9e36-8deabfbde7f1",
   "metadata": {},
   "outputs": [],
   "source": [
    "# https://stackoverflow.com/questions/40385782/make-a-union-of-polygons-in-geopandas-or-shapely-into-a-single-geometry\n",
    "# first, merge perimeters\n",
    "\n",
    "from shapely.ops import cascaded_union\n",
    "\n",
    "poly='/Users/sra/Desktop/Data_Science_2023/_capstone/00_capstone_data/shapefiles/perimeters_sm/santa_monica_fire_perimeters_le2018.geojson'\n",
    "\n",
    "polygon=[poly]\n",
    "\n",
    "boundary=gpd.GeoSeries(cascaded_union(polygon))\n",
    "\n",
    "boundary.plot(color='red')\n",
    "plt.show()"
   ]
  }
 ],
 "metadata": {
  "kernelspec": {
   "display_name": "gis",
   "language": "python",
   "name": "gis"
  },
  "language_info": {
   "codemirror_mode": {
    "name": "ipython",
    "version": 3
   },
   "file_extension": ".py",
   "mimetype": "text/x-python",
   "name": "python",
   "nbconvert_exporter": "python",
   "pygments_lexer": "ipython3",
   "version": "3.10.9"
  }
 },
 "nbformat": 4,
 "nbformat_minor": 5
}
