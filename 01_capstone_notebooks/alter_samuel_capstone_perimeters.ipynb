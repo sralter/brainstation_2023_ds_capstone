{
 "cells": [
  {
   "cell_type": "markdown",
   "id": "e17a6e48",
   "metadata": {},
   "source": [
    "# Welcome  \n",
    "\n",
    "Notebook Author: Samuel Alter  \n",
    "Notebook Subject: Capstone Project - Fire Perimeters Processing\n",
    "\n",
    "BrainStation Winter 2023: Data Science"
   ]
  },
  {
   "cell_type": "code",
   "execution_count": 1,
   "id": "22bd6f87",
   "metadata": {},
   "outputs": [],
   "source": [
    "# imports\n",
    "\n",
    "import numpy as np\n",
    "import pandas as pd\n",
    "import geopandas as gpd"
   ]
  },
  {
   "cell_type": "code",
   "execution_count": 26,
   "id": "f0bb6c3e",
   "metadata": {},
   "outputs": [
    {
     "data": {
      "text/html": [
       "<div>\n",
       "<style scoped>\n",
       "    .dataframe tbody tr th:only-of-type {\n",
       "        vertical-align: middle;\n",
       "    }\n",
       "\n",
       "    .dataframe tbody tr th {\n",
       "        vertical-align: top;\n",
       "    }\n",
       "\n",
       "    .dataframe thead th {\n",
       "        text-align: right;\n",
       "    }\n",
       "</style>\n",
       "<table border=\"1\" class=\"dataframe\">\n",
       "  <thead>\n",
       "    <tr style=\"text-align: right;\">\n",
       "      <th></th>\n",
       "      <th>OBJECTID</th>\n",
       "      <th>MAP_METHOD</th>\n",
       "      <th>DATE_CUR</th>\n",
       "      <th>COMMENTS</th>\n",
       "      <th>GEO_ID</th>\n",
       "      <th>IRWINID</th>\n",
       "      <th>UNQE_FIRE_</th>\n",
       "      <th>FIRE_YEAR</th>\n",
       "      <th>LOCAL_NUM</th>\n",
       "      <th>INCIDENT</th>\n",
       "      <th>...</th>\n",
       "      <th>POO_RESP_I</th>\n",
       "      <th>FEATURE_CA</th>\n",
       "      <th>GIS_ACRES</th>\n",
       "      <th>USER_NAME</th>\n",
       "      <th>SOURCE</th>\n",
       "      <th>AGENCY</th>\n",
       "      <th>FIRE_YEAR_</th>\n",
       "      <th>Shape__Are</th>\n",
       "      <th>Shape__Len</th>\n",
       "      <th>geometry</th>\n",
       "    </tr>\n",
       "  </thead>\n",
       "  <tbody>\n",
       "    <tr>\n",
       "      <th>0</th>\n",
       "      <td>4751</td>\n",
       "      <td>Mixed Collection Methods</td>\n",
       "      <td>20070508</td>\n",
       "      <td>NPS from BARC imagery and air photo interp. Pr...</td>\n",
       "      <td>21990</td>\n",
       "      <td>None</td>\n",
       "      <td>2007-CALAC-00000000</td>\n",
       "      <td>2007</td>\n",
       "      <td>00000000</td>\n",
       "      <td>GRIFFITH PARK</td>\n",
       "      <td>...</td>\n",
       "      <td>None</td>\n",
       "      <td>Wildfire</td>\n",
       "      <td>747.8984</td>\n",
       "      <td>None</td>\n",
       "      <td>CalFire FRAP</td>\n",
       "      <td>LRA</td>\n",
       "      <td>2007</td>\n",
       "      <td>4427910.25</td>\n",
       "      <td>15010.918614</td>\n",
       "      <td>MULTIPOLYGON (((-118.28805 34.13886, -118.2879...</td>\n",
       "    </tr>\n",
       "  </tbody>\n",
       "</table>\n",
       "<p>1 rows × 21 columns</p>\n",
       "</div>"
      ],
      "text/plain": [
       "   OBJECTID                MAP_METHOD  DATE_CUR  \\\n",
       "0      4751  Mixed Collection Methods  20070508   \n",
       "\n",
       "                                            COMMENTS GEO_ID IRWINID  \\\n",
       "0  NPS from BARC imagery and air photo interp. Pr...  21990    None   \n",
       "\n",
       "            UNQE_FIRE_ FIRE_YEAR LOCAL_NUM       INCIDENT  ... POO_RESP_I  \\\n",
       "0  2007-CALAC-00000000      2007  00000000  GRIFFITH PARK  ...       None   \n",
       "\n",
       "  FEATURE_CA GIS_ACRES  USER_NAME        SOURCE AGENCY FIRE_YEAR_  Shape__Are  \\\n",
       "0   Wildfire  747.8984       None  CalFire FRAP    LRA       2007  4427910.25   \n",
       "\n",
       "     Shape__Len                                           geometry  \n",
       "0  15010.918614  MULTIPOLYGON (((-118.28805 34.13886, -118.2879...  \n",
       "\n",
       "[1 rows x 21 columns]"
      ]
     },
     "execution_count": 26,
     "metadata": {},
     "output_type": "execute_result"
    }
   ],
   "source": [
    "perim_year=gpd.read_file('/Users/sra/Desktop/Data_Science_2023/_capstone/00_capstone_data/shapefiles/perimeters_sm/santa_monica_fire_perimeters.geojson')\n",
    "\n",
    "perim_year.head()"
   ]
  },
  {
   "cell_type": "code",
   "execution_count": 27,
   "id": "9b81468a",
   "metadata": {
    "scrolled": true
   },
   "outputs": [
    {
     "data": {
      "text/html": [
       "<div>\n",
       "<style scoped>\n",
       "    .dataframe tbody tr th:only-of-type {\n",
       "        vertical-align: middle;\n",
       "    }\n",
       "\n",
       "    .dataframe tbody tr th {\n",
       "        vertical-align: top;\n",
       "    }\n",
       "\n",
       "    .dataframe thead th {\n",
       "        text-align: right;\n",
       "    }\n",
       "</style>\n",
       "<table border=\"1\" class=\"dataframe\">\n",
       "  <thead>\n",
       "    <tr style=\"text-align: right;\">\n",
       "      <th></th>\n",
       "      <th>OBJECTID</th>\n",
       "      <th>agency</th>\n",
       "      <th>comments</th>\n",
       "      <th>mapmethod</th>\n",
       "      <th>datecurrent</th>\n",
       "      <th>uniquefireidentifier</th>\n",
       "      <th>fireyear</th>\n",
       "      <th>incidentname</th>\n",
       "      <th>pooownerunit</th>\n",
       "      <th>perimeterdatetime</th>\n",
       "      <th>...</th>\n",
       "      <th>pooresponsibleunit</th>\n",
       "      <th>state</th>\n",
       "      <th>inciwebid</th>\n",
       "      <th>localincidentidentifier</th>\n",
       "      <th>irwinid</th>\n",
       "      <th>incomplex</th>\n",
       "      <th>complexfirecode</th>\n",
       "      <th>SHAPE_Length</th>\n",
       "      <th>SHAPE_Area</th>\n",
       "      <th>geometry</th>\n",
       "    </tr>\n",
       "  </thead>\n",
       "  <tbody>\n",
       "    <tr>\n",
       "      <th>0</th>\n",
       "      <td>1</td>\n",
       "      <td>USFS</td>\n",
       "      <td>WFDSS</td>\n",
       "      <td>GPS-Walked/ Driven</td>\n",
       "      <td>2018-02-14T00:00:00+00:00</td>\n",
       "      <td>2018-AZCNF-000059</td>\n",
       "      <td>2018</td>\n",
       "      <td>BOX</td>\n",
       "      <td>AZCNF</td>\n",
       "      <td>2018-02-12T17:00:00+00:00</td>\n",
       "      <td>...</td>\n",
       "      <td>AZCNF</td>\n",
       "      <td>AZ</td>\n",
       "      <td>None</td>\n",
       "      <td>000059</td>\n",
       "      <td>{9A5CFD7A-5C05-40E6-A617-088B44A41174}</td>\n",
       "      <td>N</td>\n",
       "      <td>None</td>\n",
       "      <td>0.025799</td>\n",
       "      <td>3.072046e-05</td>\n",
       "      <td>MULTIPOLYGON (((-110.84899 31.77031, -110.8493...</td>\n",
       "    </tr>\n",
       "    <tr>\n",
       "      <th>1</th>\n",
       "      <td>2</td>\n",
       "      <td>USFS</td>\n",
       "      <td>WFDSS</td>\n",
       "      <td>GPS-Walked/ Driven</td>\n",
       "      <td>2018-04-06T00:00:00+00:00</td>\n",
       "      <td>2018-AROUF-000688</td>\n",
       "      <td>2018</td>\n",
       "      <td>Zoe</td>\n",
       "      <td>AROUF</td>\n",
       "      <td>2018-04-05T00:00:00+00:00</td>\n",
       "      <td>...</td>\n",
       "      <td>AROUF</td>\n",
       "      <td>OK</td>\n",
       "      <td>None</td>\n",
       "      <td>000688</td>\n",
       "      <td>{5AFC28D0-6193-4103-AE00-65F4E659CA55}</td>\n",
       "      <td>N</td>\n",
       "      <td>None</td>\n",
       "      <td>0.001289</td>\n",
       "      <td>8.045641e-08</td>\n",
       "      <td>MULTIPOLYGON (((-94.57675 34.78029, -94.57685 ...</td>\n",
       "    </tr>\n",
       "    <tr>\n",
       "      <th>2</th>\n",
       "      <td>3</td>\n",
       "      <td>C&amp;L</td>\n",
       "      <td>WFDSS</td>\n",
       "      <td>Hand Sketch</td>\n",
       "      <td>2017-04-24T00:00:00+00:00</td>\n",
       "      <td>2017-CORBX-000061</td>\n",
       "      <td>2017</td>\n",
       "      <td>Milemarker 24</td>\n",
       "      <td>None</td>\n",
       "      <td>2017-04-21T00:00:00+00:00</td>\n",
       "      <td>...</td>\n",
       "      <td>CORBX</td>\n",
       "      <td>CO</td>\n",
       "      <td>None</td>\n",
       "      <td>000061</td>\n",
       "      <td>{9C1A9E10-8FA8-4166-A212-EAF39A860469}</td>\n",
       "      <td>N</td>\n",
       "      <td>None</td>\n",
       "      <td>0.037537</td>\n",
       "      <td>3.542421e-05</td>\n",
       "      <td>MULTIPOLYGON (((-107.59472 40.00728, -107.5946...</td>\n",
       "    </tr>\n",
       "    <tr>\n",
       "      <th>3</th>\n",
       "      <td>4</td>\n",
       "      <td>BLM</td>\n",
       "      <td>None</td>\n",
       "      <td>GPS-Walked</td>\n",
       "      <td>2017-07-13T00:00:00+00:00</td>\n",
       "      <td>2017-IDIFD-017076</td>\n",
       "      <td>2017</td>\n",
       "      <td>Buffalo Jump</td>\n",
       "      <td>None</td>\n",
       "      <td>2017-06-25T00:00:00+00:00</td>\n",
       "      <td>...</td>\n",
       "      <td>IDIFD</td>\n",
       "      <td>ID</td>\n",
       "      <td>None</td>\n",
       "      <td>017076</td>\n",
       "      <td>{833B0C23-A630-4181-A76C-3451386E970E}</td>\n",
       "      <td>N</td>\n",
       "      <td>None</td>\n",
       "      <td>0.013583</td>\n",
       "      <td>2.506614e-06</td>\n",
       "      <td>MULTIPOLYGON (((-114.22769 44.44964, -114.2276...</td>\n",
       "    </tr>\n",
       "    <tr>\n",
       "      <th>4</th>\n",
       "      <td>5</td>\n",
       "      <td>DFR</td>\n",
       "      <td>WFDSS; This is a heads up drawing based on EGP...</td>\n",
       "      <td>Image Interpretation</td>\n",
       "      <td>2017-02-06T00:00:00+00:00</td>\n",
       "      <td>2017-NCNCS-170004</td>\n",
       "      <td>2017</td>\n",
       "      <td>SUGAR COVE</td>\n",
       "      <td>NCNCS</td>\n",
       "      <td>2017-01-30T00:00:00+00:00</td>\n",
       "      <td>...</td>\n",
       "      <td>NCNCS</td>\n",
       "      <td>NC</td>\n",
       "      <td>None</td>\n",
       "      <td>170004</td>\n",
       "      <td>{76278212-B950-430A-8042-4F8C239DCEA2}</td>\n",
       "      <td>N</td>\n",
       "      <td>None</td>\n",
       "      <td>0.026399</td>\n",
       "      <td>5.110220e-05</td>\n",
       "      <td>MULTIPOLYGON (((-82.14783 35.74547, -82.14921 ...</td>\n",
       "    </tr>\n",
       "  </tbody>\n",
       "</table>\n",
       "<p>5 rows × 24 columns</p>\n",
       "</div>"
      ],
      "text/plain": [
       "   OBJECTID agency                                           comments  \\\n",
       "0         1   USFS                                              WFDSS   \n",
       "1         2   USFS                                              WFDSS   \n",
       "2         3    C&L                                              WFDSS   \n",
       "3         4    BLM                                               None   \n",
       "4         5    DFR  WFDSS; This is a heads up drawing based on EGP...   \n",
       "\n",
       "              mapmethod                datecurrent uniquefireidentifier  \\\n",
       "0    GPS-Walked/ Driven  2018-02-14T00:00:00+00:00    2018-AZCNF-000059   \n",
       "1    GPS-Walked/ Driven  2018-04-06T00:00:00+00:00    2018-AROUF-000688   \n",
       "2           Hand Sketch  2017-04-24T00:00:00+00:00    2017-CORBX-000061   \n",
       "3            GPS-Walked  2017-07-13T00:00:00+00:00    2017-IDIFD-017076   \n",
       "4  Image Interpretation  2017-02-06T00:00:00+00:00    2017-NCNCS-170004   \n",
       "\n",
       "   fireyear   incidentname pooownerunit          perimeterdatetime  ...  \\\n",
       "0      2018            BOX        AZCNF  2018-02-12T17:00:00+00:00  ...   \n",
       "1      2018            Zoe        AROUF  2018-04-05T00:00:00+00:00  ...   \n",
       "2      2017  Milemarker 24         None  2017-04-21T00:00:00+00:00  ...   \n",
       "3      2017   Buffalo Jump         None  2017-06-25T00:00:00+00:00  ...   \n",
       "4      2017     SUGAR COVE        NCNCS  2017-01-30T00:00:00+00:00  ...   \n",
       "\n",
       "   pooresponsibleunit state inciwebid localincidentidentifier  \\\n",
       "0               AZCNF    AZ      None                  000059   \n",
       "1               AROUF    OK      None                  000688   \n",
       "2               CORBX    CO      None                  000061   \n",
       "3               IDIFD    ID      None                  017076   \n",
       "4               NCNCS    NC      None                  170004   \n",
       "\n",
       "                                  irwinid incomplex complexfirecode  \\\n",
       "0  {9A5CFD7A-5C05-40E6-A617-088B44A41174}         N            None   \n",
       "1  {5AFC28D0-6193-4103-AE00-65F4E659CA55}         N            None   \n",
       "2  {9C1A9E10-8FA8-4166-A212-EAF39A860469}         N            None   \n",
       "3  {833B0C23-A630-4181-A76C-3451386E970E}         N            None   \n",
       "4  {76278212-B950-430A-8042-4F8C239DCEA2}         N            None   \n",
       "\n",
       "  SHAPE_Length    SHAPE_Area  \\\n",
       "0     0.025799  3.072046e-05   \n",
       "1     0.001289  8.045641e-08   \n",
       "2     0.037537  3.542421e-05   \n",
       "3     0.013583  2.506614e-06   \n",
       "4     0.026399  5.110220e-05   \n",
       "\n",
       "                                            geometry  \n",
       "0  MULTIPOLYGON (((-110.84899 31.77031, -110.8493...  \n",
       "1  MULTIPOLYGON (((-94.57675 34.78029, -94.57685 ...  \n",
       "2  MULTIPOLYGON (((-107.59472 40.00728, -107.5946...  \n",
       "3  MULTIPOLYGON (((-114.22769 44.44964, -114.2276...  \n",
       "4  MULTIPOLYGON (((-82.14783 35.74547, -82.14921 ...  \n",
       "\n",
       "[5 rows x 24 columns]"
      ]
     },
     "execution_count": 27,
     "metadata": {},
     "output_type": "execute_result"
    }
   ],
   "source": [
    "perim_geomac=gpd.read_file('/Users/sra/Desktop/Data_Science_2023/_capstone/00_capstone_data/Historic Perimeters Combined 2000-2018 GeoMAC/Historic_Perimeters_Combined_2000-2018_GeoMAC.geojson')\n",
    "perim_geomac.head()"
   ]
  },
  {
   "cell_type": "code",
   "execution_count": 28,
   "id": "cab4b732",
   "metadata": {},
   "outputs": [
    {
     "data": {
      "text/plain": [
       "2007    1\n",
       "Name: FIRE_YEAR, dtype: int64"
      ]
     },
     "execution_count": 28,
     "metadata": {},
     "output_type": "execute_result"
    }
   ],
   "source": [
    "perim_year['FIRE_YEAR'].value_counts()"
   ]
  },
  {
   "cell_type": "code",
   "execution_count": 29,
   "id": "f9017e81",
   "metadata": {},
   "outputs": [
    {
     "data": {
      "text/plain": [
       "2011    2996\n",
       "2017    1702\n",
       "2018    1618\n",
       "2006    1510\n",
       "2012    1466\n",
       "2007    1440\n",
       "2015    1294\n",
       "2005    1256\n",
       "2016    1179\n",
       "2008    1154\n",
       "2000    1123\n",
       "2010    1030\n",
       "2013     997\n",
       "2001     918\n",
       "2003     915\n",
       "2009     867\n",
       "2002     866\n",
       "2014     750\n",
       "2004     695\n",
       "Name: fireyear, dtype: int64"
      ]
     },
     "execution_count": 29,
     "metadata": {},
     "output_type": "execute_result"
    }
   ],
   "source": [
    "perim_geomac['fireyear'].value_counts()"
   ]
  },
  {
   "cell_type": "code",
   "execution_count": 30,
   "id": "0b9a7a50",
   "metadata": {
    "scrolled": true
   },
   "outputs": [
    {
     "ename": "KeyError",
     "evalue": "'uniquefireidentifier'",
     "output_type": "error",
     "traceback": [
      "\u001b[0;31m---------------------------------------------------------------------------\u001b[0m",
      "\u001b[0;31mKeyError\u001b[0m                                  Traceback (most recent call last)",
      "Cell \u001b[0;32mIn[30], line 2\u001b[0m\n\u001b[1;32m      1\u001b[0m \u001b[38;5;66;03m# does perim_year and perim_geomac have the same data?\u001b[39;00m\n\u001b[0;32m----> 2\u001b[0m perim_year_geomac\u001b[38;5;241m=\u001b[39m\u001b[43mpd\u001b[49m\u001b[38;5;241;43m.\u001b[39;49m\u001b[43mmerge\u001b[49m\u001b[43m(\u001b[49m\u001b[43mperim_geomac\u001b[49m\u001b[43m,\u001b[49m\u001b[43mperim_year\u001b[49m\u001b[43m,\u001b[49m\u001b[43mhow\u001b[49m\u001b[38;5;241;43m=\u001b[39;49m\u001b[38;5;124;43m'\u001b[39;49m\u001b[38;5;124;43mleft\u001b[39;49m\u001b[38;5;124;43m'\u001b[39;49m\u001b[43m,\u001b[49m\u001b[43mon\u001b[49m\u001b[38;5;241;43m=\u001b[39;49m\u001b[38;5;124;43m'\u001b[39;49m\u001b[38;5;124;43muniquefireidentifier\u001b[39;49m\u001b[38;5;124;43m'\u001b[39;49m\u001b[43m)\u001b[49m\n\u001b[1;32m      3\u001b[0m perim_year_geomac\n",
      "File \u001b[0;32m/Applications/Anaconda/anaconda3/envs/gis/lib/python3.10/site-packages/pandas/core/reshape/merge.py:110\u001b[0m, in \u001b[0;36mmerge\u001b[0;34m(left, right, how, on, left_on, right_on, left_index, right_index, sort, suffixes, copy, indicator, validate)\u001b[0m\n\u001b[1;32m     93\u001b[0m \u001b[38;5;129m@Substitution\u001b[39m(\u001b[38;5;124m\"\u001b[39m\u001b[38;5;130;01m\\n\u001b[39;00m\u001b[38;5;124mleft : DataFrame or named Series\u001b[39m\u001b[38;5;124m\"\u001b[39m)\n\u001b[1;32m     94\u001b[0m \u001b[38;5;129m@Appender\u001b[39m(_merge_doc, indents\u001b[38;5;241m=\u001b[39m\u001b[38;5;241m0\u001b[39m)\n\u001b[1;32m     95\u001b[0m \u001b[38;5;28;01mdef\u001b[39;00m \u001b[38;5;21mmerge\u001b[39m(\n\u001b[0;32m   (...)\u001b[0m\n\u001b[1;32m    108\u001b[0m     validate: \u001b[38;5;28mstr\u001b[39m \u001b[38;5;241m|\u001b[39m \u001b[38;5;28;01mNone\u001b[39;00m \u001b[38;5;241m=\u001b[39m \u001b[38;5;28;01mNone\u001b[39;00m,\n\u001b[1;32m    109\u001b[0m ) \u001b[38;5;241m-\u001b[39m\u001b[38;5;241m>\u001b[39m DataFrame:\n\u001b[0;32m--> 110\u001b[0m     op \u001b[38;5;241m=\u001b[39m \u001b[43m_MergeOperation\u001b[49m\u001b[43m(\u001b[49m\n\u001b[1;32m    111\u001b[0m \u001b[43m        \u001b[49m\u001b[43mleft\u001b[49m\u001b[43m,\u001b[49m\n\u001b[1;32m    112\u001b[0m \u001b[43m        \u001b[49m\u001b[43mright\u001b[49m\u001b[43m,\u001b[49m\n\u001b[1;32m    113\u001b[0m \u001b[43m        \u001b[49m\u001b[43mhow\u001b[49m\u001b[38;5;241;43m=\u001b[39;49m\u001b[43mhow\u001b[49m\u001b[43m,\u001b[49m\n\u001b[1;32m    114\u001b[0m \u001b[43m        \u001b[49m\u001b[43mon\u001b[49m\u001b[38;5;241;43m=\u001b[39;49m\u001b[43mon\u001b[49m\u001b[43m,\u001b[49m\n\u001b[1;32m    115\u001b[0m \u001b[43m        \u001b[49m\u001b[43mleft_on\u001b[49m\u001b[38;5;241;43m=\u001b[39;49m\u001b[43mleft_on\u001b[49m\u001b[43m,\u001b[49m\n\u001b[1;32m    116\u001b[0m \u001b[43m        \u001b[49m\u001b[43mright_on\u001b[49m\u001b[38;5;241;43m=\u001b[39;49m\u001b[43mright_on\u001b[49m\u001b[43m,\u001b[49m\n\u001b[1;32m    117\u001b[0m \u001b[43m        \u001b[49m\u001b[43mleft_index\u001b[49m\u001b[38;5;241;43m=\u001b[39;49m\u001b[43mleft_index\u001b[49m\u001b[43m,\u001b[49m\n\u001b[1;32m    118\u001b[0m \u001b[43m        \u001b[49m\u001b[43mright_index\u001b[49m\u001b[38;5;241;43m=\u001b[39;49m\u001b[43mright_index\u001b[49m\u001b[43m,\u001b[49m\n\u001b[1;32m    119\u001b[0m \u001b[43m        \u001b[49m\u001b[43msort\u001b[49m\u001b[38;5;241;43m=\u001b[39;49m\u001b[43msort\u001b[49m\u001b[43m,\u001b[49m\n\u001b[1;32m    120\u001b[0m \u001b[43m        \u001b[49m\u001b[43msuffixes\u001b[49m\u001b[38;5;241;43m=\u001b[39;49m\u001b[43msuffixes\u001b[49m\u001b[43m,\u001b[49m\n\u001b[1;32m    121\u001b[0m \u001b[43m        \u001b[49m\u001b[43mindicator\u001b[49m\u001b[38;5;241;43m=\u001b[39;49m\u001b[43mindicator\u001b[49m\u001b[43m,\u001b[49m\n\u001b[1;32m    122\u001b[0m \u001b[43m        \u001b[49m\u001b[43mvalidate\u001b[49m\u001b[38;5;241;43m=\u001b[39;49m\u001b[43mvalidate\u001b[49m\u001b[43m,\u001b[49m\n\u001b[1;32m    123\u001b[0m \u001b[43m    \u001b[49m\u001b[43m)\u001b[49m\n\u001b[1;32m    124\u001b[0m     \u001b[38;5;28;01mreturn\u001b[39;00m op\u001b[38;5;241m.\u001b[39mget_result(copy\u001b[38;5;241m=\u001b[39mcopy)\n",
      "File \u001b[0;32m/Applications/Anaconda/anaconda3/envs/gis/lib/python3.10/site-packages/pandas/core/reshape/merge.py:703\u001b[0m, in \u001b[0;36m_MergeOperation.__init__\u001b[0;34m(self, left, right, how, on, left_on, right_on, axis, left_index, right_index, sort, suffixes, indicator, validate)\u001b[0m\n\u001b[1;32m    696\u001b[0m \u001b[38;5;28mself\u001b[39m\u001b[38;5;241m.\u001b[39m_cross \u001b[38;5;241m=\u001b[39m cross_col\n\u001b[1;32m    698\u001b[0m \u001b[38;5;66;03m# note this function has side effects\u001b[39;00m\n\u001b[1;32m    699\u001b[0m (\n\u001b[1;32m    700\u001b[0m     \u001b[38;5;28mself\u001b[39m\u001b[38;5;241m.\u001b[39mleft_join_keys,\n\u001b[1;32m    701\u001b[0m     \u001b[38;5;28mself\u001b[39m\u001b[38;5;241m.\u001b[39mright_join_keys,\n\u001b[1;32m    702\u001b[0m     \u001b[38;5;28mself\u001b[39m\u001b[38;5;241m.\u001b[39mjoin_names,\n\u001b[0;32m--> 703\u001b[0m ) \u001b[38;5;241m=\u001b[39m \u001b[38;5;28;43mself\u001b[39;49m\u001b[38;5;241;43m.\u001b[39;49m\u001b[43m_get_merge_keys\u001b[49m\u001b[43m(\u001b[49m\u001b[43m)\u001b[49m\n\u001b[1;32m    705\u001b[0m \u001b[38;5;66;03m# validate the merge keys dtypes. We may need to coerce\u001b[39;00m\n\u001b[1;32m    706\u001b[0m \u001b[38;5;66;03m# to avoid incompatible dtypes\u001b[39;00m\n\u001b[1;32m    707\u001b[0m \u001b[38;5;28mself\u001b[39m\u001b[38;5;241m.\u001b[39m_maybe_coerce_merge_keys()\n",
      "File \u001b[0;32m/Applications/Anaconda/anaconda3/envs/gis/lib/python3.10/site-packages/pandas/core/reshape/merge.py:1162\u001b[0m, in \u001b[0;36m_MergeOperation._get_merge_keys\u001b[0;34m(self)\u001b[0m\n\u001b[1;32m   1160\u001b[0m rk \u001b[38;5;241m=\u001b[39m cast(Hashable, rk)\n\u001b[1;32m   1161\u001b[0m \u001b[38;5;28;01mif\u001b[39;00m rk \u001b[38;5;129;01mis\u001b[39;00m \u001b[38;5;129;01mnot\u001b[39;00m \u001b[38;5;28;01mNone\u001b[39;00m:\n\u001b[0;32m-> 1162\u001b[0m     right_keys\u001b[38;5;241m.\u001b[39mappend(\u001b[43mright\u001b[49m\u001b[38;5;241;43m.\u001b[39;49m\u001b[43m_get_label_or_level_values\u001b[49m\u001b[43m(\u001b[49m\u001b[43mrk\u001b[49m\u001b[43m)\u001b[49m)\n\u001b[1;32m   1163\u001b[0m \u001b[38;5;28;01melse\u001b[39;00m:\n\u001b[1;32m   1164\u001b[0m     \u001b[38;5;66;03m# work-around for merge_asof(right_index=True)\u001b[39;00m\n\u001b[1;32m   1165\u001b[0m     right_keys\u001b[38;5;241m.\u001b[39mappend(right\u001b[38;5;241m.\u001b[39mindex)\n",
      "File \u001b[0;32m/Applications/Anaconda/anaconda3/envs/gis/lib/python3.10/site-packages/pandas/core/generic.py:1850\u001b[0m, in \u001b[0;36mNDFrame._get_label_or_level_values\u001b[0;34m(self, key, axis)\u001b[0m\n\u001b[1;32m   1844\u001b[0m     values \u001b[38;5;241m=\u001b[39m (\n\u001b[1;32m   1845\u001b[0m         \u001b[38;5;28mself\u001b[39m\u001b[38;5;241m.\u001b[39maxes[axis]\n\u001b[1;32m   1846\u001b[0m         \u001b[38;5;241m.\u001b[39mget_level_values(key)  \u001b[38;5;66;03m# type: ignore[assignment]\u001b[39;00m\n\u001b[1;32m   1847\u001b[0m         \u001b[38;5;241m.\u001b[39m_values\n\u001b[1;32m   1848\u001b[0m     )\n\u001b[1;32m   1849\u001b[0m \u001b[38;5;28;01melse\u001b[39;00m:\n\u001b[0;32m-> 1850\u001b[0m     \u001b[38;5;28;01mraise\u001b[39;00m \u001b[38;5;167;01mKeyError\u001b[39;00m(key)\n\u001b[1;32m   1852\u001b[0m \u001b[38;5;66;03m# Check for duplicates\u001b[39;00m\n\u001b[1;32m   1853\u001b[0m \u001b[38;5;28;01mif\u001b[39;00m values\u001b[38;5;241m.\u001b[39mndim \u001b[38;5;241m>\u001b[39m \u001b[38;5;241m1\u001b[39m:\n",
      "\u001b[0;31mKeyError\u001b[0m: 'uniquefireidentifier'"
     ]
    }
   ],
   "source": [
    "# does perim_year and perim_geomac have the same data?\n",
    "perim_year_geomac=pd.merge(perim_geomac,perim_year,how='left',on='uniquefireidentifier')\n",
    "perim_year_geomac\n",
    "\n",
    "# this will throw an error\n",
    "# we have to rename the UNQE_FIRE_ column \n",
    "# to match the uniquefireidentifier\n",
    "\n",
    "# but first, let's see if the unique fire identifiers are the same"
   ]
  },
  {
   "cell_type": "code",
   "execution_count": null,
   "id": "ccff0fd4",
   "metadata": {},
   "outputs": [],
   "source": [
    "perim_year['UNQE_FIRE_'].value_counts()"
   ]
  },
  {
   "cell_type": "code",
   "execution_count": null,
   "id": "e3c09d68",
   "metadata": {},
   "outputs": [],
   "source": [
    "perim_geomac['uniquefireidentifier'].value_counts()"
   ]
  },
  {
   "cell_type": "code",
   "execution_count": null,
   "id": "f25b418f",
   "metadata": {},
   "outputs": [],
   "source": [
    "perim_geomac[perim_geomac['uniquefireidentifier']=='2021-CALAC-00223635']"
   ]
  },
  {
   "cell_type": "code",
   "execution_count": null,
   "id": "4315d90e",
   "metadata": {},
   "outputs": [],
   "source": [
    "perim_year.info()"
   ]
  },
  {
   "cell_type": "code",
   "execution_count": null,
   "id": "71a85071",
   "metadata": {},
   "outputs": [],
   "source": [
    "perim_geomac.info()"
   ]
  },
  {
   "cell_type": "code",
   "execution_count": null,
   "id": "5f2ce06c",
   "metadata": {},
   "outputs": [],
   "source": [
    "perim_year.rename(columns={'UNQE_FIRE_':'uniquefireidentifier'},inplace=True)"
   ]
  },
  {
   "cell_type": "code",
   "execution_count": null,
   "id": "1e78da3d",
   "metadata": {},
   "outputs": [],
   "source": [
    "perim_year_geomac=pd.merge(perim_geomac,perim_year,how='left',on='uniquefireidentifier')\n",
    "perim_year_geomac"
   ]
  },
  {
   "cell_type": "code",
   "execution_count": null,
   "id": "55f73d6a",
   "metadata": {},
   "outputs": [],
   "source": [
    "perim_year_geomac.info()"
   ]
  },
  {
   "cell_type": "code",
   "execution_count": null,
   "id": "43830940",
   "metadata": {},
   "outputs": [],
   "source": [
    "# this means that the perim_year dataset has \n",
    "# different fires than the perim_geomac dataset.\n",
    "# because the perim_geomac dataset has dates \n",
    "# for the fires, I will use that for my analysis."
   ]
  },
  {
   "cell_type": "code",
   "execution_count": null,
   "id": "d427811f",
   "metadata": {},
   "outputs": [],
   "source": [
    "perim_join=gpd.read_file('/Users/sra/Desktop/Data_Science_2023/_capstone/1.capstone_data/sm_elevasp_perim_join_contain.geojson')\n",
    "perim_join.head()"
   ]
  },
  {
   "cell_type": "code",
   "execution_count": null,
   "id": "29f4f0e7",
   "metadata": {},
   "outputs": [],
   "source": [
    "perim_join.rename(columns={'_perimid':'point_id',\n",
    "                           '_perimelevation_1':'point_elevation',\n",
    "                           '_perimaspect_1':'point_aspect'},\n",
    "                  inplace=True)\n",
    "perim_join.head()"
   ]
  },
  {
   "cell_type": "code",
   "execution_count": null,
   "id": "f86c778e",
   "metadata": {},
   "outputs": [],
   "source": [
    "perim_join.sort_values(by=['point_id'])\n",
    "perim_join"
   ]
  },
  {
   "cell_type": "code",
   "execution_count": null,
   "id": "a670ca03",
   "metadata": {},
   "outputs": [],
   "source": [
    "# what are the NaNs? This is disturbing.\n",
    "perim_join['point_id']"
   ]
  },
  {
   "cell_type": "code",
   "execution_count": null,
   "id": "b218192e",
   "metadata": {},
   "outputs": [],
   "source": [
    "perim_join['point_id'].isna().sum()\n",
    "# 641 NaNs in the dataset"
   ]
  },
  {
   "cell_type": "code",
   "execution_count": null,
   "id": "58a35edd",
   "metadata": {},
   "outputs": [],
   "source": [
    "perim_join.plot(\"point_elevation\", cmap=\"Blues\",figsize=(10,10))  "
   ]
  },
  {
   "cell_type": "code",
   "execution_count": null,
   "id": "5ea133c6",
   "metadata": {},
   "outputs": [],
   "source": [
    "perim_join.info()"
   ]
  },
  {
   "cell_type": "code",
   "execution_count": null,
   "id": "c1e63a0c",
   "metadata": {},
   "outputs": [],
   "source": [
    "perim_join_clean=perim_join[['OBJECTID','FIRE_YEAR','FIRE_YEAR_','point_id','point_elevation','point_aspect','geometry']]\n",
    "perim_join_clean"
   ]
  },
  {
   "cell_type": "code",
   "execution_count": null,
   "id": "380d3de4",
   "metadata": {},
   "outputs": [],
   "source": [
    "perim_join_clean=perim_join_clean.dropna()"
   ]
  },
  {
   "cell_type": "code",
   "execution_count": null,
   "id": "30294742",
   "metadata": {},
   "outputs": [],
   "source": [
    "perim_join_clean"
   ]
  },
  {
   "cell_type": "code",
   "execution_count": null,
   "id": "7f596d71",
   "metadata": {},
   "outputs": [],
   "source": [
    "# clip fire location geojson to santa monica bounding box\n",
    "fire_loc_path='/Users/sra/Desktop/Data_Science_2023/_capstone/1.capstone_data/fire_data/Wildland_Fire_Incident_Locations/full/Wildland_Fire_Incident_Locations.geojson'\n",
    "bounds_path='/Users/sra/Files/brainstation_2023_ds_capstone/brainstation_2023_ds_capstone/01_capstone_data/shapefiles/santa_monica_bounds/sm_bounds.geojson'\n",
    "\n",
    "fire_loc_original=gpd.read_file(fire_loc_path)\n",
    "bounds_path_original=gpd.read_file(bounds_path)\n",
    "\n",
    "fire_loc_sm_clip=gpd.clip(fire_loc_original, bounds_path_original)"
   ]
  },
  {
   "cell_type": "code",
   "execution_count": null,
   "id": "6c8b2148",
   "metadata": {},
   "outputs": [],
   "source": [
    "# from geojson import Point, Feature, FeatureCollection, dump\n",
    "\n",
    "# point = Point((-115.81, 37.24))\n",
    "\n",
    "# features = []\n",
    "# features.append(Feature(geometry=point, properties={\"country\": \"Spain\"}))\n",
    "\n",
    "# # add more features...\n",
    "# # features.append(...)\n",
    "\n",
    "# feature_collection = FeatureCollection(features)\n",
    "\n",
    "# with open('myfile.geojson', 'w') as f:\n",
    "#    dump(feature_collection, f)"
   ]
  },
  {
   "cell_type": "code",
   "execution_count": null,
   "id": "4caf1e3a",
   "metadata": {},
   "outputs": [],
   "source": [
    "# fire_loc_sm_clip.to_json('/Users/sra/Files/brainstation_2023_ds_capstone/brainstation_2023_ds_capstone/01_capstone_data/shapefiles/locations/fire_loc_sm_clip')\n",
    "\n",
    "fire_loc_sm_clip.plot()\n",
    "perim_join.plot(\"point_elevation\", cmap=\"Blues\")  "
   ]
  },
  {
   "cell_type": "code",
   "execution_count": null,
   "id": "81cb4065",
   "metadata": {},
   "outputs": [],
   "source": [
    "fire_loc_original.head()"
   ]
  },
  {
   "cell_type": "code",
   "execution_count": null,
   "id": "8d448fff",
   "metadata": {},
   "outputs": [],
   "source": [
    "fire_loc_original.info()"
   ]
  },
  {
   "cell_type": "code",
   "execution_count": null,
   "id": "44fef942",
   "metadata": {},
   "outputs": [],
   "source": [
    "pd.set_option('display.max_rows', 500)\n",
    "pd.set_option('display.max_columns', 500)\n",
    "fire_loc_sm_clip.head()"
   ]
  },
  {
   "cell_type": "code",
   "execution_count": null,
   "id": "6a396639",
   "metadata": {},
   "outputs": [],
   "source": [
    "fire_loc_sm_clip.plot()"
   ]
  },
  {
   "cell_type": "code",
   "execution_count": null,
   "id": "63f5af06",
   "metadata": {},
   "outputs": [],
   "source": [
    "fire_loc_sm_clip.shape"
   ]
  },
  {
   "cell_type": "code",
   "execution_count": null,
   "id": "bd369b42",
   "metadata": {},
   "outputs": [],
   "source": [
    "print(fire_loc_sm_clip['FireDiscoveryDateTime'].min())\n",
    "print(fire_loc_sm_clip['FireDiscoveryDateTime'].max())"
   ]
  },
  {
   "cell_type": "code",
   "execution_count": null,
   "id": "8942bdbf-3da4-4311-9aae-e6a96c1b1730",
   "metadata": {
    "tags": []
   },
   "outputs": [],
   "source": [
    "sm_elev_asp_join_perim_contain"
   ]
  },
  {
   "cell_type": "code",
   "execution_count": null,
   "id": "3a145c42-a0b1-41a5-9dad-dc317033f37a",
   "metadata": {},
   "outputs": [],
   "source": [
    "sm_elev_asp=gpd.read_file('/Users/sra/Desktop/Data_Science_2023/_capstone/00_capstone_data/shapefiles/points_elev_aspect/sm_points_005_elev_asp.geojson')\n",
    "sm_elev_asp"
   ]
  },
  {
   "cell_type": "code",
   "execution_count": null,
   "id": "b2ab98b3-576c-46d1-bcf3-8cb14e669a72",
   "metadata": {
    "tags": []
   },
   "outputs": [],
   "source": [
    "# this layer is of no use because the shapefiles are too small for the 005_points layer\n",
    "\n",
    "sm_elev_asp_join_perim_noncontain=gpd.read_file('/Users/sra/Desktop/Data_Science_2023/_capstone/00_capstone_data/shapefiles/joins/sm_elevasp_perim_join_unjoinable.geojson')\n",
    "sm_elev_asp_join_perim_noncontain.head()"
   ]
  },
  {
   "cell_type": "markdown",
   "id": "13c304d7-52f0-4fac-be31-15b3133cc117",
   "metadata": {
    "tags": []
   },
   "source": [
    "# Join perim_fire and perim_nofire dataset together\n",
    "First run"
   ]
  },
  {
   "cell_type": "code",
   "execution_count": null,
   "id": "ec818674",
   "metadata": {},
   "outputs": [],
   "source": [
    "sm_elev_asp_join_perim_contain=gpd.read_file('/Users/sra/Desktop/Data_Science_2023/_capstone/00_capstone_data/shapefiles/joins/sm_elev_asp_join_perim_contain.geojson')\n",
    "sm_elev_asp_join_perim_contain.head()"
   ]
  },
  {
   "cell_type": "code",
   "execution_count": null,
   "id": "91635881-ac22-456b-984a-60c980c5ceac",
   "metadata": {},
   "outputs": [],
   "source": [
    "sm_elev_asp_join_perim_contain['perim_id'].describe()"
   ]
  },
  {
   "cell_type": "code",
   "execution_count": null,
   "id": "3530b5c1-235b-40f8-a6e3-06e74e8ad46e",
   "metadata": {
    "tags": []
   },
   "outputs": [],
   "source": [
    "pd.set_option('display.max_rows', 10)\n",
    "pd.set_option('display.max_columns', None)\n",
    "sm_elev_asp_join_perim_contain#.info()"
   ]
  },
  {
   "cell_type": "code",
   "execution_count": null,
   "id": "07e14689-7683-439f-9b6e-5f5f3d52a609",
   "metadata": {},
   "outputs": [],
   "source": [
    "sm_elev_asp_perim_fire=sm_elev_asp_join_perim_contain.loc[:,['OBJECTID','FIRE_YEAR','perim_id','perim_elevation_1','perim_asp_1','geometry']]\n",
    "sm_elev_asp_perim_fire"
   ]
  },
  {
   "cell_type": "code",
   "execution_count": null,
   "id": "b2b747bf-5444-419a-9223-176cea55136d",
   "metadata": {},
   "outputs": [],
   "source": [
    "sm_elev_asp_perim_fire['perim_id'].describe()"
   ]
  },
  {
   "cell_type": "code",
   "execution_count": null,
   "id": "9aba848f-f563-4c7d-99b2-33377bba52c8",
   "metadata": {},
   "outputs": [],
   "source": [
    "pd.set_option('display.max_rows', 10)\n",
    "sm_elev_asp_join_perim_noncontain=gpd.read_file('/Users/sra/Desktop/Data_Science_2023/_capstone/00_capstone_data/shapefiles/joins/sm_elev_asp_join_perim_nofire.geojson')\n",
    "sm_elev_asp_join_perim_noncontain\n",
    "sm_elev_asp_join_perim_noncontain=sm_elev_asp_join_perim_noncontain[sm_elev_asp_join_perim_noncontain['geometry'] != None]\n",
    "sm_elev_asp_join_perim_noncontain"
   ]
  },
  {
   "cell_type": "code",
   "execution_count": null,
   "id": "a834d881-4fd8-466f-9b59-66a5e4ee0b0e",
   "metadata": {},
   "outputs": [],
   "source": [
    "sm_elev_asp_join_perim_noncontain.rename(columns={'id':'perim_id','elevation_1':'perim_elevation_1','asp_1':'perim_asp_1'},inplace=True)\n",
    "sm_elev_asp_join_perim_noncontain"
   ]
  },
  {
   "cell_type": "code",
   "execution_count": null,
   "id": "fc7a365c-7de1-47aa-917e-fc777777351e",
   "metadata": {},
   "outputs": [],
   "source": [
    "sm_elev_asp_perim_combine=pd.concat([sm_elev_asp_perim_fire,sm_elev_asp_join_perim_noncontain],axis=0)\n",
    "sm_elev_asp_perim_combine"
   ]
  },
  {
   "cell_type": "markdown",
   "id": "3fd3ae32-908d-4a50-93f8-64398cdb20b6",
   "metadata": {},
   "source": [
    "## Update NaNs"
   ]
  },
  {
   "cell_type": "code",
   "execution_count": null,
   "id": "0ba69138-1800-455f-8aa0-168d65d7577d",
   "metadata": {},
   "outputs": [],
   "source": [
    "sm_elev_asp_perim_combine['fire']=np.where(sm_elev_asp_perim_combine['FIRE_YEAR'].isna()==True,0,1)\n",
    "sm_elev_asp_perim_combine=sm_elev_asp_perim_combine[['OBJECTID','perim_id','FIRE_YEAR','fire','perim_elevation_1','perim_asp_1','geometry']]\n",
    "\n",
    "sm_elev_asp_perim_combine"
   ]
  },
  {
   "cell_type": "code",
   "execution_count": null,
   "id": "b5f3dd91-111a-42e2-b4f4-c8eb81033026",
   "metadata": {
    "tags": []
   },
   "outputs": [],
   "source": [
    "# clean up dataframe one more step to have just perim_id, fire, elevation, aspect, and geometry\n",
    "\n",
    "sm_geo_combine=sm_elev_asp_perim_combine[['OBJECTID','perim_id','perim_elevation_1','perim_asp_1','fire','geometry']]\n",
    "sm_geo_combine=sm_geo_combine.reset_index()\n",
    "sm_geo_combine=sm_geo_combine.drop(columns=['index'])\n",
    "sm_geo_combine.rename(columns={'OBJECTID':'objectid'},inplace=True)\n",
    "sm_geo_combine['objectid']=np.where(sm_geo_combine['objectid'].isna()==True,0,sm_geo_combine['objectid'])\n",
    "sm_geo_combine"
   ]
  },
  {
   "cell_type": "code",
   "execution_count": null,
   "id": "b7da3c8d-8c1a-4544-b18e-1ca55197a165",
   "metadata": {
    "tags": []
   },
   "outputs": [],
   "source": [
    "path='/Users/sra/Desktop/Data_Science_2023/_capstone/00_capstone_data/shapefiles/joins/sm_geo_combine.csv'"
   ]
  },
  {
   "cell_type": "code",
   "execution_count": null,
   "id": "6d634568-07bf-4f39-a22f-b5f259460a1f",
   "metadata": {
    "tags": []
   },
   "outputs": [],
   "source": [
    "sm_geo_combine.to_csv(path_or_buf=path,index=False)"
   ]
  },
  {
   "cell_type": "code",
   "execution_count": null,
   "id": "b9256b05-5fe9-46d4-8568-723b2635cd32",
   "metadata": {
    "tags": []
   },
   "outputs": [],
   "source": [
    "sm_geo_combine.to_file(path_or_buf=path,driver='GeoJSON')"
   ]
  },
  {
   "cell_type": "markdown",
   "id": "3c249720-bf18-4729-bc9d-f5ddfa2a8fa8",
   "metadata": {
    "tags": []
   },
   "source": [
    "# Join perim_fire and perim_nofire dataset together\n",
    "Second run"
   ]
  },
  {
   "cell_type": "markdown",
   "id": "84454b08-10cc-4c30-9a35-0a4d1960cf7e",
   "metadata": {},
   "source": [
    "I had created two layers of points, one in areas that experienced no fire, and one that expereinced fire. These point layers had elevation and aspect values joined to them from the underlying raster layers. Since each layer was either completely within a \"fire/nofire\" area, that means that I already know where the layers are in relation to fire incidence. I simply have to concatenate the two and then I have a dataset of fire/nofire point locations. I can then feed that into a model."
   ]
  },
  {
   "cell_type": "code",
   "execution_count": 8,
   "id": "da526b3d-65ea-4cbd-a7da-e29f1f90f47a",
   "metadata": {},
   "outputs": [
    {
     "name": "stdout",
     "output_type": "stream",
     "text": [
      "(9918, 6)\n"
     ]
    },
    {
     "data": {
      "text/html": [
       "<div>\n",
       "<style scoped>\n",
       "    .dataframe tbody tr th:only-of-type {\n",
       "        vertical-align: middle;\n",
       "    }\n",
       "\n",
       "    .dataframe tbody tr th {\n",
       "        vertical-align: top;\n",
       "    }\n",
       "\n",
       "    .dataframe thead th {\n",
       "        text-align: right;\n",
       "    }\n",
       "</style>\n",
       "<table border=\"1\" class=\"dataframe\">\n",
       "  <thead>\n",
       "    <tr style=\"text-align: right;\">\n",
       "      <th></th>\n",
       "      <th>id</th>\n",
       "      <th>layer</th>\n",
       "      <th>path</th>\n",
       "      <th>elevation1</th>\n",
       "      <th>aspect1</th>\n",
       "      <th>geometry</th>\n",
       "    </tr>\n",
       "  </thead>\n",
       "  <tbody>\n",
       "    <tr>\n",
       "      <th>0</th>\n",
       "      <td>0</td>\n",
       "      <td>patch_fire1_points</td>\n",
       "      <td>/Users/sra/Desktop/Data_Science_2023/_capstone...</td>\n",
       "      <td>52.0</td>\n",
       "      <td>14.743560</td>\n",
       "      <td>POINT (310476.000 3778264.200)</td>\n",
       "    </tr>\n",
       "    <tr>\n",
       "      <th>1</th>\n",
       "      <td>1</td>\n",
       "      <td>patch_fire1_points</td>\n",
       "      <td>/Users/sra/Desktop/Data_Science_2023/_capstone...</td>\n",
       "      <td>45.0</td>\n",
       "      <td>21.037510</td>\n",
       "      <td>POINT (310552.800 3778264.200)</td>\n",
       "    </tr>\n",
       "    <tr>\n",
       "      <th>2</th>\n",
       "      <td>2</td>\n",
       "      <td>patch_fire1_points</td>\n",
       "      <td>/Users/sra/Desktop/Data_Science_2023/_capstone...</td>\n",
       "      <td>45.0</td>\n",
       "      <td>333.434967</td>\n",
       "      <td>POINT (310629.600 3778264.200)</td>\n",
       "    </tr>\n",
       "    <tr>\n",
       "      <th>3</th>\n",
       "      <td>3</td>\n",
       "      <td>patch_fire1_points</td>\n",
       "      <td>/Users/sra/Desktop/Data_Science_2023/_capstone...</td>\n",
       "      <td>51.0</td>\n",
       "      <td>283.392487</td>\n",
       "      <td>POINT (310706.400 3778264.200)</td>\n",
       "    </tr>\n",
       "    <tr>\n",
       "      <th>4</th>\n",
       "      <td>4</td>\n",
       "      <td>patch_fire1_points</td>\n",
       "      <td>/Users/sra/Desktop/Data_Science_2023/_capstone...</td>\n",
       "      <td>63.0</td>\n",
       "      <td>229.289154</td>\n",
       "      <td>POINT (310783.200 3778264.200)</td>\n",
       "    </tr>\n",
       "  </tbody>\n",
       "</table>\n",
       "</div>"
      ],
      "text/plain": [
       "   id               layer                                               path  \\\n",
       "0   0  patch_fire1_points  /Users/sra/Desktop/Data_Science_2023/_capstone...   \n",
       "1   1  patch_fire1_points  /Users/sra/Desktop/Data_Science_2023/_capstone...   \n",
       "2   2  patch_fire1_points  /Users/sra/Desktop/Data_Science_2023/_capstone...   \n",
       "3   3  patch_fire1_points  /Users/sra/Desktop/Data_Science_2023/_capstone...   \n",
       "4   4  patch_fire1_points  /Users/sra/Desktop/Data_Science_2023/_capstone...   \n",
       "\n",
       "   elevation1     aspect1                        geometry  \n",
       "0        52.0   14.743560  POINT (310476.000 3778264.200)  \n",
       "1        45.0   21.037510  POINT (310552.800 3778264.200)  \n",
       "2        45.0  333.434967  POINT (310629.600 3778264.200)  \n",
       "3        51.0  283.392487  POINT (310706.400 3778264.200)  \n",
       "4        63.0  229.289154  POINT (310783.200 3778264.200)  "
      ]
     },
     "metadata": {},
     "output_type": "display_data"
    }
   ],
   "source": [
    "layer_fire=gpd.read_file('/Users/sra/Desktop/Data_Science_2023/_capstone/00_capstone_data/shapefiles/joins/patch_fire_elev_asp.geojson')\n",
    "print(layer_fire.shape)\n",
    "display(layer_fire.head())"
   ]
  },
  {
   "cell_type": "code",
   "execution_count": 9,
   "id": "e58c3827-c530-4b1a-85d4-6a16018664d4",
   "metadata": {},
   "outputs": [
    {
     "name": "stdout",
     "output_type": "stream",
     "text": [
      "(9918, 6)\n"
     ]
    },
    {
     "data": {
      "text/html": [
       "<div>\n",
       "<style scoped>\n",
       "    .dataframe tbody tr th:only-of-type {\n",
       "        vertical-align: middle;\n",
       "    }\n",
       "\n",
       "    .dataframe tbody tr th {\n",
       "        vertical-align: top;\n",
       "    }\n",
       "\n",
       "    .dataframe thead th {\n",
       "        text-align: right;\n",
       "    }\n",
       "</style>\n",
       "<table border=\"1\" class=\"dataframe\">\n",
       "  <thead>\n",
       "    <tr style=\"text-align: right;\">\n",
       "      <th></th>\n",
       "      <th>id</th>\n",
       "      <th>layer</th>\n",
       "      <th>path</th>\n",
       "      <th>elevation1</th>\n",
       "      <th>aspect1</th>\n",
       "      <th>geometry</th>\n",
       "    </tr>\n",
       "  </thead>\n",
       "  <tbody>\n",
       "    <tr>\n",
       "      <th>0</th>\n",
       "      <td>0</td>\n",
       "      <td>patch_city_points</td>\n",
       "      <td>/Users/sra/Desktop/Data_Science_2023/_capstone...</td>\n",
       "      <td>229.0</td>\n",
       "      <td>90.000000</td>\n",
       "      <td>POINT (361436.400 3782022.600)</td>\n",
       "    </tr>\n",
       "    <tr>\n",
       "      <th>1</th>\n",
       "      <td>1</td>\n",
       "      <td>patch_city_points</td>\n",
       "      <td>/Users/sra/Desktop/Data_Science_2023/_capstone...</td>\n",
       "      <td>230.0</td>\n",
       "      <td>180.000000</td>\n",
       "      <td>POINT (361513.200 3782022.600)</td>\n",
       "    </tr>\n",
       "    <tr>\n",
       "      <th>2</th>\n",
       "      <td>2</td>\n",
       "      <td>patch_city_points</td>\n",
       "      <td>/Users/sra/Desktop/Data_Science_2023/_capstone...</td>\n",
       "      <td>227.0</td>\n",
       "      <td>147.528809</td>\n",
       "      <td>POINT (361590.000 3782022.600)</td>\n",
       "    </tr>\n",
       "    <tr>\n",
       "      <th>3</th>\n",
       "      <td>3</td>\n",
       "      <td>patch_city_points</td>\n",
       "      <td>/Users/sra/Desktop/Data_Science_2023/_capstone...</td>\n",
       "      <td>226.0</td>\n",
       "      <td>149.036240</td>\n",
       "      <td>POINT (361666.800 3782022.600)</td>\n",
       "    </tr>\n",
       "    <tr>\n",
       "      <th>4</th>\n",
       "      <td>4</td>\n",
       "      <td>patch_city_points</td>\n",
       "      <td>/Users/sra/Desktop/Data_Science_2023/_capstone...</td>\n",
       "      <td>228.0</td>\n",
       "      <td>206.565048</td>\n",
       "      <td>POINT (361743.600 3782022.600)</td>\n",
       "    </tr>\n",
       "  </tbody>\n",
       "</table>\n",
       "</div>"
      ],
      "text/plain": [
       "   id              layer                                               path  \\\n",
       "0   0  patch_city_points  /Users/sra/Desktop/Data_Science_2023/_capstone...   \n",
       "1   1  patch_city_points  /Users/sra/Desktop/Data_Science_2023/_capstone...   \n",
       "2   2  patch_city_points  /Users/sra/Desktop/Data_Science_2023/_capstone...   \n",
       "3   3  patch_city_points  /Users/sra/Desktop/Data_Science_2023/_capstone...   \n",
       "4   4  patch_city_points  /Users/sra/Desktop/Data_Science_2023/_capstone...   \n",
       "\n",
       "   elevation1     aspect1                        geometry  \n",
       "0       229.0   90.000000  POINT (361436.400 3782022.600)  \n",
       "1       230.0  180.000000  POINT (361513.200 3782022.600)  \n",
       "2       227.0  147.528809  POINT (361590.000 3782022.600)  \n",
       "3       226.0  149.036240  POINT (361666.800 3782022.600)  \n",
       "4       228.0  206.565048  POINT (361743.600 3782022.600)  "
      ]
     },
     "metadata": {},
     "output_type": "display_data"
    }
   ],
   "source": [
    "layer_nofire=gpd.read_file('/Users/sra/Desktop/Data_Science_2023/_capstone/00_capstone_data/shapefiles/joins/patch_nofire_elev_asp.geojson')\n",
    "print(layer_nofire.shape)\n",
    "display(layer_nofire.head())"
   ]
  },
  {
   "cell_type": "code",
   "execution_count": 28,
   "id": "ec1a9442-242c-46ac-902e-a93508e06080",
   "metadata": {},
   "outputs": [
    {
     "data": {
      "text/html": [
       "<div>\n",
       "<style scoped>\n",
       "    .dataframe tbody tr th:only-of-type {\n",
       "        vertical-align: middle;\n",
       "    }\n",
       "\n",
       "    .dataframe tbody tr th {\n",
       "        vertical-align: top;\n",
       "    }\n",
       "\n",
       "    .dataframe thead th {\n",
       "        text-align: right;\n",
       "    }\n",
       "</style>\n",
       "<table border=\"1\" class=\"dataframe\">\n",
       "  <thead>\n",
       "    <tr style=\"text-align: right;\">\n",
       "      <th></th>\n",
       "      <th>id</th>\n",
       "      <th>layer</th>\n",
       "      <th>path</th>\n",
       "      <th>elevation1</th>\n",
       "      <th>aspect1</th>\n",
       "      <th>geometry</th>\n",
       "    </tr>\n",
       "  </thead>\n",
       "  <tbody>\n",
       "    <tr>\n",
       "      <th>60</th>\n",
       "      <td>60</td>\n",
       "      <td>patch_city_points</td>\n",
       "      <td>/Users/sra/Desktop/Data_Science_2023/_capstone...</td>\n",
       "      <td>209.0</td>\n",
       "      <td>NaN</td>\n",
       "      <td>POINT (366044.400 3782022.600)</td>\n",
       "    </tr>\n",
       "    <tr>\n",
       "      <th>99</th>\n",
       "      <td>99</td>\n",
       "      <td>patch_city_points</td>\n",
       "      <td>/Users/sra/Desktop/Data_Science_2023/_capstone...</td>\n",
       "      <td>207.0</td>\n",
       "      <td>NaN</td>\n",
       "      <td>POINT (369039.600 3782022.600)</td>\n",
       "    </tr>\n",
       "    <tr>\n",
       "      <th>146</th>\n",
       "      <td>146</td>\n",
       "      <td>patch_city_points</td>\n",
       "      <td>/Users/sra/Desktop/Data_Science_2023/_capstone...</td>\n",
       "      <td>201.0</td>\n",
       "      <td>NaN</td>\n",
       "      <td>POINT (372649.200 3782022.600)</td>\n",
       "    </tr>\n",
       "    <tr>\n",
       "      <th>156</th>\n",
       "      <td>156</td>\n",
       "      <td>patch_city_points</td>\n",
       "      <td>/Users/sra/Desktop/Data_Science_2023/_capstone...</td>\n",
       "      <td>197.0</td>\n",
       "      <td>NaN</td>\n",
       "      <td>POINT (373417.200 3782022.600)</td>\n",
       "    </tr>\n",
       "    <tr>\n",
       "      <th>171</th>\n",
       "      <td>171</td>\n",
       "      <td>patch_city_points</td>\n",
       "      <td>/Users/sra/Desktop/Data_Science_2023/_capstone...</td>\n",
       "      <td>192.0</td>\n",
       "      <td>NaN</td>\n",
       "      <td>POINT (374569.200 3782022.600)</td>\n",
       "    </tr>\n",
       "    <tr>\n",
       "      <th>...</th>\n",
       "      <td>...</td>\n",
       "      <td>...</td>\n",
       "      <td>...</td>\n",
       "      <td>...</td>\n",
       "      <td>...</td>\n",
       "      <td>...</td>\n",
       "    </tr>\n",
       "    <tr>\n",
       "      <th>9744</th>\n",
       "      <td>2220</td>\n",
       "      <td>patch_farm_points</td>\n",
       "      <td>/Users/sra/Desktop/Data_Science_2023/_capstone...</td>\n",
       "      <td>5.0</td>\n",
       "      <td>NaN</td>\n",
       "      <td>POINT (308350.200 3778880.400)</td>\n",
       "    </tr>\n",
       "    <tr>\n",
       "      <th>9747</th>\n",
       "      <td>2223</td>\n",
       "      <td>patch_farm_points</td>\n",
       "      <td>/Users/sra/Desktop/Data_Science_2023/_capstone...</td>\n",
       "      <td>4.0</td>\n",
       "      <td>NaN</td>\n",
       "      <td>POINT (308580.600 3778880.400)</td>\n",
       "    </tr>\n",
       "    <tr>\n",
       "      <th>9762</th>\n",
       "      <td>2238</td>\n",
       "      <td>patch_farm_points</td>\n",
       "      <td>/Users/sra/Desktop/Data_Science_2023/_capstone...</td>\n",
       "      <td>6.0</td>\n",
       "      <td>NaN</td>\n",
       "      <td>POINT (309732.600 3778880.400)</td>\n",
       "    </tr>\n",
       "    <tr>\n",
       "      <th>9782</th>\n",
       "      <td>2258</td>\n",
       "      <td>patch_farm_points</td>\n",
       "      <td>/Users/sra/Desktop/Data_Science_2023/_capstone...</td>\n",
       "      <td>5.0</td>\n",
       "      <td>NaN</td>\n",
       "      <td>POINT (308350.200 3778803.600)</td>\n",
       "    </tr>\n",
       "    <tr>\n",
       "      <th>9788</th>\n",
       "      <td>2264</td>\n",
       "      <td>patch_farm_points</td>\n",
       "      <td>/Users/sra/Desktop/Data_Science_2023/_capstone...</td>\n",
       "      <td>5.0</td>\n",
       "      <td>NaN</td>\n",
       "      <td>POINT (308811.000 3778803.600)</td>\n",
       "    </tr>\n",
       "  </tbody>\n",
       "</table>\n",
       "<p>194 rows × 6 columns</p>\n",
       "</div>"
      ],
      "text/plain": [
       "        id              layer  \\\n",
       "60      60  patch_city_points   \n",
       "99      99  patch_city_points   \n",
       "146    146  patch_city_points   \n",
       "156    156  patch_city_points   \n",
       "171    171  patch_city_points   \n",
       "...    ...                ...   \n",
       "9744  2220  patch_farm_points   \n",
       "9747  2223  patch_farm_points   \n",
       "9762  2238  patch_farm_points   \n",
       "9782  2258  patch_farm_points   \n",
       "9788  2264  patch_farm_points   \n",
       "\n",
       "                                                   path  elevation1  aspect1  \\\n",
       "60    /Users/sra/Desktop/Data_Science_2023/_capstone...       209.0      NaN   \n",
       "99    /Users/sra/Desktop/Data_Science_2023/_capstone...       207.0      NaN   \n",
       "146   /Users/sra/Desktop/Data_Science_2023/_capstone...       201.0      NaN   \n",
       "156   /Users/sra/Desktop/Data_Science_2023/_capstone...       197.0      NaN   \n",
       "171   /Users/sra/Desktop/Data_Science_2023/_capstone...       192.0      NaN   \n",
       "...                                                 ...         ...      ...   \n",
       "9744  /Users/sra/Desktop/Data_Science_2023/_capstone...         5.0      NaN   \n",
       "9747  /Users/sra/Desktop/Data_Science_2023/_capstone...         4.0      NaN   \n",
       "9762  /Users/sra/Desktop/Data_Science_2023/_capstone...         6.0      NaN   \n",
       "9782  /Users/sra/Desktop/Data_Science_2023/_capstone...         5.0      NaN   \n",
       "9788  /Users/sra/Desktop/Data_Science_2023/_capstone...         5.0      NaN   \n",
       "\n",
       "                            geometry  \n",
       "60    POINT (366044.400 3782022.600)  \n",
       "99    POINT (369039.600 3782022.600)  \n",
       "146   POINT (372649.200 3782022.600)  \n",
       "156   POINT (373417.200 3782022.600)  \n",
       "171   POINT (374569.200 3782022.600)  \n",
       "...                              ...  \n",
       "9744  POINT (308350.200 3778880.400)  \n",
       "9747  POINT (308580.600 3778880.400)  \n",
       "9762  POINT (309732.600 3778880.400)  \n",
       "9782  POINT (308350.200 3778803.600)  \n",
       "9788  POINT (308811.000 3778803.600)  \n",
       "\n",
       "[194 rows x 6 columns]"
      ]
     },
     "execution_count": 28,
     "metadata": {},
     "output_type": "execute_result"
    }
   ],
   "source": [
    "layer_nofire[layer_nofire['aspect1'].isna()==True]"
   ]
  },
  {
   "cell_type": "code",
   "execution_count": 24,
   "id": "400836d7-c9a8-47d3-9ea3-b0ac89789393",
   "metadata": {},
   "outputs": [
    {
     "data": {
      "text/html": [
       "<div>\n",
       "<style scoped>\n",
       "    .dataframe tbody tr th:only-of-type {\n",
       "        vertical-align: middle;\n",
       "    }\n",
       "\n",
       "    .dataframe tbody tr th {\n",
       "        vertical-align: top;\n",
       "    }\n",
       "\n",
       "    .dataframe thead th {\n",
       "        text-align: right;\n",
       "    }\n",
       "</style>\n",
       "<table border=\"1\" class=\"dataframe\">\n",
       "  <thead>\n",
       "    <tr style=\"text-align: right;\">\n",
       "      <th></th>\n",
       "      <th>id</th>\n",
       "      <th>layer</th>\n",
       "      <th>path</th>\n",
       "      <th>elevation1</th>\n",
       "      <th>aspect1</th>\n",
       "      <th>geometry</th>\n",
       "    </tr>\n",
       "  </thead>\n",
       "  <tbody>\n",
       "    <tr>\n",
       "      <th>78</th>\n",
       "      <td>78</td>\n",
       "      <td>patch_fire1_points</td>\n",
       "      <td>/Users/sra/Desktop/Data_Science_2023/_capstone...</td>\n",
       "      <td>101.0</td>\n",
       "      <td>NaN</td>\n",
       "      <td>POINT (316466.400 3778264.200)</td>\n",
       "    </tr>\n",
       "  </tbody>\n",
       "</table>\n",
       "</div>"
      ],
      "text/plain": [
       "    id               layer                                               path  \\\n",
       "78  78  patch_fire1_points  /Users/sra/Desktop/Data_Science_2023/_capstone...   \n",
       "\n",
       "    elevation1  aspect1                        geometry  \n",
       "78       101.0      NaN  POINT (316466.400 3778264.200)  "
      ]
     },
     "execution_count": 24,
     "metadata": {},
     "output_type": "execute_result"
    }
   ],
   "source": [
    "layer_fire[layer_fire['aspect1'].isna()==True]"
   ]
  },
  {
   "cell_type": "markdown",
   "id": "310ff843-5875-4ab5-be58-47ad20948bfb",
   "metadata": {},
   "source": [
    "I want to impute an aspect value to the `NaN` rows. What should I do? Looking at the map, the aspect actually has a value, and I'm not sure why it gave a `NaN`. But there are too many to manually update the aspects for. To impute the aspect, I could set a random value to that point, or copy adjacent points."
   ]
  },
  {
   "cell_type": "code",
   "execution_count": null,
   "id": "9a65a0d0-d68d-4b2a-8486-1e0510451ae1",
   "metadata": {},
   "outputs": [],
   "source": []
  },
  {
   "cell_type": "code",
   "execution_count": null,
   "id": "5af0bf58-3a4c-4809-b3b2-8e91c453325d",
   "metadata": {},
   "outputs": [],
   "source": [
    "sm_elev_asp_join_perim_contain['perim_id'].describe()"
   ]
  },
  {
   "cell_type": "code",
   "execution_count": null,
   "id": "a6f14584-711b-41b5-887f-e696d3472887",
   "metadata": {
    "tags": []
   },
   "outputs": [],
   "source": [
    "pd.set_option('display.max_rows', 10)\n",
    "pd.set_option('display.max_columns', None)\n",
    "sm_elev_asp_join_perim_contain#.info()"
   ]
  },
  {
   "cell_type": "code",
   "execution_count": null,
   "id": "191f615d-dd8f-42c7-bdd3-dbb99cbe5ba6",
   "metadata": {},
   "outputs": [],
   "source": [
    "sm_elev_asp_perim_fire=sm_elev_asp_join_perim_contain.loc[:,['OBJECTID','FIRE_YEAR','perim_id','perim_elevation_1','perim_asp_1','geometry']]\n",
    "sm_elev_asp_perim_fire"
   ]
  },
  {
   "cell_type": "code",
   "execution_count": null,
   "id": "d2bdae89-b47e-4660-8858-548c0d7b2cca",
   "metadata": {},
   "outputs": [],
   "source": [
    "sm_elev_asp_perim_fire['perim_id'].describe()"
   ]
  },
  {
   "cell_type": "code",
   "execution_count": null,
   "id": "f20548ee-43d7-4260-a980-fa3db58213a9",
   "metadata": {},
   "outputs": [],
   "source": [
    "pd.set_option('display.max_rows', 10)\n",
    "sm_elev_asp_join_perim_noncontain=gpd.read_file('/Users/sra/Desktop/Data_Science_2023/_capstone/00_capstone_data/shapefiles/joins/sm_elev_asp_join_perim_nofire.geojson')\n",
    "sm_elev_asp_join_perim_noncontain\n",
    "sm_elev_asp_join_perim_noncontain=sm_elev_asp_join_perim_noncontain[sm_elev_asp_join_perim_noncontain['geometry'] != None]\n",
    "sm_elev_asp_join_perim_noncontain"
   ]
  },
  {
   "cell_type": "code",
   "execution_count": null,
   "id": "f04d9a91-0fb9-4713-aedf-78a8b2e2bb48",
   "metadata": {},
   "outputs": [],
   "source": [
    "sm_elev_asp_join_perim_noncontain.rename(columns={'id':'perim_id','elevation_1':'perim_elevation_1','asp_1':'perim_asp_1'},inplace=True)\n",
    "sm_elev_asp_join_perim_noncontain"
   ]
  },
  {
   "cell_type": "code",
   "execution_count": null,
   "id": "a0d6a341-6b81-4737-8f4b-2049a22e1251",
   "metadata": {},
   "outputs": [],
   "source": [
    "sm_elev_asp_perim_combine=pd.concat([sm_elev_asp_perim_fire,sm_elev_asp_join_perim_noncontain],axis=0)\n",
    "sm_elev_asp_perim_combine"
   ]
  },
  {
   "cell_type": "markdown",
   "id": "1650ce83-32a7-4531-9633-b340fa1e7c05",
   "metadata": {},
   "source": [
    "## Update NaNs"
   ]
  },
  {
   "cell_type": "code",
   "execution_count": null,
   "id": "d1816de8-f4d6-49a8-9867-3139c8029cbe",
   "metadata": {},
   "outputs": [],
   "source": [
    "sm_elev_asp_perim_combine['fire']=np.where(sm_elev_asp_perim_combine['FIRE_YEAR'].isna()==True,0,1)\n",
    "sm_elev_asp_perim_combine=sm_elev_asp_perim_combine[['OBJECTID','perim_id','FIRE_YEAR','fire','perim_elevation_1','perim_asp_1','geometry']]\n",
    "\n",
    "sm_elev_asp_perim_combine"
   ]
  },
  {
   "cell_type": "code",
   "execution_count": null,
   "id": "05d9096b-1e73-446b-b6dc-917d634dc167",
   "metadata": {
    "tags": []
   },
   "outputs": [],
   "source": [
    "# clean up dataframe one more step to have just perim_id, fire, elevation, aspect, and geometry\n",
    "\n",
    "sm_geo_combine=sm_elev_asp_perim_combine[['OBJECTID','perim_id','perim_elevation_1','perim_asp_1','fire','geometry']]\n",
    "sm_geo_combine=sm_geo_combine.reset_index()\n",
    "sm_geo_combine=sm_geo_combine.drop(columns=['index'])\n",
    "sm_geo_combine.rename(columns={'OBJECTID':'objectid'},inplace=True)\n",
    "sm_geo_combine['objectid']=np.where(sm_geo_combine['objectid'].isna()==True,0,sm_geo_combine['objectid'])\n",
    "sm_geo_combine"
   ]
  },
  {
   "cell_type": "code",
   "execution_count": null,
   "id": "1c1fa711-9bc0-46f1-9877-7803613c5f05",
   "metadata": {
    "tags": []
   },
   "outputs": [],
   "source": [
    "path='/Users/sra/Desktop/Data_Science_2023/_capstone/00_capstone_data/shapefiles/joins/sm_geo_combine.csv'"
   ]
  },
  {
   "cell_type": "code",
   "execution_count": null,
   "id": "ad82da30-2174-415f-badb-6bbd96541b84",
   "metadata": {
    "tags": []
   },
   "outputs": [],
   "source": [
    "sm_geo_combine.to_csv(path_or_buf=path,index=False)"
   ]
  },
  {
   "cell_type": "code",
   "execution_count": null,
   "id": "bb17ab8d-27a5-4305-a637-77f682d0d964",
   "metadata": {
    "tags": []
   },
   "outputs": [],
   "source": [
    "sm_geo_combine.to_file(path_or_buf=path,driver='GeoJSON')"
   ]
  },
  {
   "cell_type": "code",
   "execution_count": null,
   "id": "a07b65b8-f370-43aa-b052-8b1fbfbe6995",
   "metadata": {},
   "outputs": [],
   "source": []
  },
  {
   "cell_type": "markdown",
   "id": "e3d82a14-f3ca-4240-b0df-dbb2657766c1",
   "metadata": {},
   "source": [
    "## Merge years of polygon data **LATER PROJECT**\n",
    "\n",
    "Goal: get the state of fires in the area for each year in the dataset. Compare where there is a fire and where there isn't a fire based on the year. I could feed that all into a model and perhaps get a better sense of what landscape is more likely to experience a wildfire.\n",
    "\n",
    "Use the file:\n",
    "file:///Users/sra/Desktop/Data_Science_2023/_capstone/00_capstone_data/shapefiles/perimeters_sm/santa_monica_fire_perimeters_le2018.geojson"
   ]
  },
  {
   "cell_type": "markdown",
   "id": "60f53abe-9ef5-45b0-bbba-e2524ace92c1",
   "metadata": {},
   "source": [
    "To iterate over every year in the gdf layer and dissolve all rows that are from that year, you can use a loop that iterates over the unique values in the 'year' column.\n",
    "\n",
    "Here's an example of how you can modify the code to dissolve the polygons for every year in the gdf layer:\n",
    "\n",
    "\n",
    "```python\n",
    "import geopandas as gpd\n",
    "```\n",
    "\n",
    "##### Read in the GeoJSON file\n",
    "```python\n",
    "gdf = gpd.read_file('path/to/file.geojson')\n",
    "```\n",
    "\n",
    "##### Get the unique values in the 'year' column\n",
    "```python\n",
    "years = gdf['year'].unique()\n",
    "```\n",
    "\n",
    "##### Create a new GeoDataFrame to store the dissolved polygons\n",
    "```python\n",
    "dissolved_gdf = gpd.GeoDataFrame()\n",
    "```\n",
    "\n",
    "##### Iterate over each year and dissolve the polygons\n",
    "```python\n",
    "for year in years:\n",
    "    # Filter the rows for the current year\n",
    "    year_gdf = gdf[gdf['year'] == year]\n",
    "    \n",
    "    # Dissolve the polygons for the current year\n",
    "    dissolved_polygons = year_gdf.geometry.unary_union\n",
    "    dissolved_row = year_gdf.iloc[0]\n",
    "    dissolved_row['geometry'] = dissolved_polygons\n",
    "    \n",
    "    # Add the dissolved row to the GeoDataFrame\n",
    "    dissolved_gdf = dissolved_gdf.append(dissolved_row)\n",
    "```\n",
    "##### Save the dissolved GeoDataFrame to a new file\n",
    "```python\n",
    "dissolved_gdf.to_file('path/to/dissolved_file.geojson', driver='GeoJSON')\n",
    "```\n",
    "In this example, we first use the unique method to get the unique values in the 'year' column of the gdf GeoDataFrame. We then create an empty GeoDataFrame called dissolved_gdf to store the dissolved polygons.\n",
    "\n",
    "Next, we iterate over each year in the years array using a for loop. For each year, we filter the rows of gdf to only include the rows for that year, using boolean indexing with the == operator. We then dissolve the polygons for the current year using the unary_union method and create a new row for the dissolved polygons using the iloc method to get the first row in year_gdf and the append method to add it to dissolved_gdf.\n",
    "\n",
    "Note that we are using the iloc method to select the first row of year_gdf because we assume that all rows for the same year have the same attribute values (except for the 'geometry' column).\n",
    "\n",
    "Finally, we save the dissolved GeoDataFrame to a new file using the to_file method, specifying the output file format as GeoJSON.\n",
    "\n",
    "This updated code should dissolve the polygons for each year in the 'year' column and create a new GeoDataFrame containing one row per year, with a single geometry object that represents the merged polygons."
   ]
  },
  {
   "cell_type": "markdown",
   "id": "b665bacf-99b7-4c4f-b3c3-d26690826ef9",
   "metadata": {},
   "source": [
    "# Extract `lat`/`lon` from `geometry` so that `streamlit` can read location data"
   ]
  },
  {
   "cell_type": "code",
   "execution_count": 12,
   "id": "9ff4c9c0-62a6-4d49-a89f-a2c79e93ec06",
   "metadata": {
    "tags": []
   },
   "outputs": [],
   "source": [
    "import geopandas as gpd\n",
    "import folium"
   ]
  },
  {
   "cell_type": "code",
   "execution_count": 9,
   "id": "688a817a-4da0-4276-afc2-a4412e7f5bfb",
   "metadata": {
    "collapsed": true,
    "jupyter": {
     "outputs_hidden": true
    },
    "tags": []
   },
   "outputs": [
    {
     "ename": "RecursionError",
     "evalue": "maximum recursion depth exceeded",
     "output_type": "error",
     "traceback": [
      "\u001b[0;31m---------------------------------------------------------------------------\u001b[0m",
      "\u001b[0;31mRecursionError\u001b[0m                            Traceback (most recent call last)",
      "Cell \u001b[0;32mIn[9], line 1\u001b[0m\n\u001b[0;32m----> 1\u001b[0m polygons \u001b[38;5;241m=\u001b[39m \u001b[43mgpd\u001b[49m\u001b[38;5;241;43m.\u001b[39;49m\u001b[43mread_file\u001b[49m\u001b[43m(\u001b[49m\u001b[38;5;124;43m'\u001b[39;49m\u001b[38;5;124;43m/Users/sra/Desktop/Data_Science_2023/_capstone/00_capstone_data/shapefiles/joins/sm_geo_combine.csv\u001b[39;49m\u001b[38;5;124;43m'\u001b[39;49m\u001b[43m)\u001b[49m\n",
      "File \u001b[0;32m/Applications/Anaconda/anaconda3/envs/gis/lib/python3.10/site-packages/geopandas/io/file.py:203\u001b[0m, in \u001b[0;36m_read_file\u001b[0;34m(filename, bbox, mask, rows, **kwargs)\u001b[0m\n\u001b[1;32m    198\u001b[0m \u001b[38;5;28;01mif\u001b[39;00m kwargs\u001b[38;5;241m.\u001b[39mget(\u001b[38;5;124m\"\u001b[39m\u001b[38;5;124mignore_geometry\u001b[39m\u001b[38;5;124m\"\u001b[39m, \u001b[38;5;28;01mFalse\u001b[39;00m):\n\u001b[1;32m    199\u001b[0m     \u001b[38;5;28;01mreturn\u001b[39;00m pd\u001b[38;5;241m.\u001b[39mDataFrame(\n\u001b[1;32m    200\u001b[0m         [record[\u001b[38;5;124m\"\u001b[39m\u001b[38;5;124mproperties\u001b[39m\u001b[38;5;124m\"\u001b[39m] \u001b[38;5;28;01mfor\u001b[39;00m record \u001b[38;5;129;01min\u001b[39;00m f_filt], columns\u001b[38;5;241m=\u001b[39mcolumns\n\u001b[1;32m    201\u001b[0m     )\n\u001b[0;32m--> 203\u001b[0m \u001b[38;5;28;01mreturn\u001b[39;00m \u001b[43mGeoDataFrame\u001b[49m\u001b[38;5;241;43m.\u001b[39;49m\u001b[43mfrom_features\u001b[49m\u001b[43m(\u001b[49m\n\u001b[1;32m    204\u001b[0m \u001b[43m    \u001b[49m\u001b[43mf_filt\u001b[49m\u001b[43m,\u001b[49m\u001b[43m \u001b[49m\u001b[43mcrs\u001b[49m\u001b[38;5;241;43m=\u001b[39;49m\u001b[43mcrs\u001b[49m\u001b[43m,\u001b[49m\u001b[43m \u001b[49m\u001b[43mcolumns\u001b[49m\u001b[38;5;241;43m=\u001b[39;49m\u001b[43mcolumns\u001b[49m\u001b[43m \u001b[49m\u001b[38;5;241;43m+\u001b[39;49m\u001b[43m \u001b[49m\u001b[43m[\u001b[49m\u001b[38;5;124;43m\"\u001b[39;49m\u001b[38;5;124;43mgeometry\u001b[39;49m\u001b[38;5;124;43m\"\u001b[39;49m\u001b[43m]\u001b[49m\n\u001b[1;32m    205\u001b[0m \u001b[43m\u001b[49m\u001b[43m)\u001b[49m\n",
      "File \u001b[0;32m/Applications/Anaconda/anaconda3/envs/gis/lib/python3.10/site-packages/geopandas/geodataframe.py:587\u001b[0m, in \u001b[0;36mGeoDataFrame.from_features\u001b[0;34m(cls, features, crs, columns)\u001b[0m\n\u001b[1;32m    585\u001b[0m     row\u001b[38;5;241m.\u001b[39mupdate(feature[\u001b[38;5;124m\"\u001b[39m\u001b[38;5;124mproperties\u001b[39m\u001b[38;5;124m\"\u001b[39m])\n\u001b[1;32m    586\u001b[0m     rows\u001b[38;5;241m.\u001b[39mappend(row)\n\u001b[0;32m--> 587\u001b[0m \u001b[38;5;28;01mreturn\u001b[39;00m \u001b[43mGeoDataFrame\u001b[49m\u001b[43m(\u001b[49m\u001b[43mrows\u001b[49m\u001b[43m,\u001b[49m\u001b[43m \u001b[49m\u001b[43mcolumns\u001b[49m\u001b[38;5;241;43m=\u001b[39;49m\u001b[43mcolumns\u001b[49m\u001b[43m,\u001b[49m\u001b[43m \u001b[49m\u001b[43mcrs\u001b[49m\u001b[38;5;241;43m=\u001b[39;49m\u001b[43mcrs\u001b[49m\u001b[43m)\u001b[49m\n",
      "File \u001b[0;32m/Applications/Anaconda/anaconda3/envs/gis/lib/python3.10/site-packages/geopandas/geodataframe.py:122\u001b[0m, in \u001b[0;36mGeoDataFrame.__init__\u001b[0;34m(self, geometry, crs, *args, **kwargs)\u001b[0m\n\u001b[1;32m    119\u001b[0m index \u001b[38;5;241m=\u001b[39m \u001b[38;5;28mself\u001b[39m\u001b[38;5;241m.\u001b[39mindex\n\u001b[1;32m    120\u001b[0m \u001b[38;5;28;01mtry\u001b[39;00m:\n\u001b[1;32m    121\u001b[0m     \u001b[38;5;28;01mif\u001b[39;00m (\n\u001b[0;32m--> 122\u001b[0m         \u001b[38;5;28mhasattr\u001b[39m(\u001b[38;5;28;43mself\u001b[39;49m\u001b[43m[\u001b[49m\u001b[38;5;124;43m\"\u001b[39;49m\u001b[38;5;124;43mgeometry\u001b[39;49m\u001b[38;5;124;43m\"\u001b[39;49m\u001b[43m]\u001b[49m\u001b[38;5;241m.\u001b[39mvalues, \u001b[38;5;124m\"\u001b[39m\u001b[38;5;124mcrs\u001b[39m\u001b[38;5;124m\"\u001b[39m)\n\u001b[1;32m    123\u001b[0m         \u001b[38;5;129;01mand\u001b[39;00m \u001b[38;5;28mself\u001b[39m[\u001b[38;5;124m\"\u001b[39m\u001b[38;5;124mgeometry\u001b[39m\u001b[38;5;124m\"\u001b[39m]\u001b[38;5;241m.\u001b[39mvalues\u001b[38;5;241m.\u001b[39mcrs\n\u001b[1;32m    124\u001b[0m         \u001b[38;5;129;01mand\u001b[39;00m crs\n\u001b[1;32m    125\u001b[0m         \u001b[38;5;129;01mand\u001b[39;00m \u001b[38;5;129;01mnot\u001b[39;00m \u001b[38;5;28mself\u001b[39m[\u001b[38;5;124m\"\u001b[39m\u001b[38;5;124mgeometry\u001b[39m\u001b[38;5;124m\"\u001b[39m]\u001b[38;5;241m.\u001b[39mvalues\u001b[38;5;241m.\u001b[39mcrs \u001b[38;5;241m==\u001b[39m crs\n\u001b[1;32m    126\u001b[0m     ):\n\u001b[1;32m    127\u001b[0m         warnings\u001b[38;5;241m.\u001b[39mwarn(\n\u001b[1;32m    128\u001b[0m             \u001b[38;5;124m\"\u001b[39m\u001b[38;5;124mCRS mismatch between CRS of the passed geometries \u001b[39m\u001b[38;5;124m\"\u001b[39m\n\u001b[1;32m    129\u001b[0m             \u001b[38;5;124m\"\u001b[39m\u001b[38;5;124mand \u001b[39m\u001b[38;5;124m'\u001b[39m\u001b[38;5;124mcrs\u001b[39m\u001b[38;5;124m'\u001b[39m\u001b[38;5;124m. Use \u001b[39m\u001b[38;5;124m'\u001b[39m\u001b[38;5;124mGeoDataFrame.set_crs(crs, \u001b[39m\u001b[38;5;124m\"\u001b[39m\n\u001b[0;32m   (...)\u001b[0m\n\u001b[1;32m    135\u001b[0m             stacklevel\u001b[38;5;241m=\u001b[39m\u001b[38;5;241m2\u001b[39m,\n\u001b[1;32m    136\u001b[0m         )\n\u001b[1;32m    137\u001b[0m         \u001b[38;5;66;03m# TODO: raise error in 0.9 or 0.10.\u001b[39;00m\n",
      "File \u001b[0;32m/Applications/Anaconda/anaconda3/envs/gis/lib/python3.10/site-packages/geopandas/geodataframe.py:1299\u001b[0m, in \u001b[0;36mGeoDataFrame.__getitem__\u001b[0;34m(self, key)\u001b[0m\n\u001b[1;32m   1293\u001b[0m \u001b[38;5;28;01mdef\u001b[39;00m \u001b[38;5;21m__getitem__\u001b[39m(\u001b[38;5;28mself\u001b[39m, key):\n\u001b[1;32m   1294\u001b[0m     \u001b[38;5;124;03m\"\"\"\u001b[39;00m\n\u001b[1;32m   1295\u001b[0m \u001b[38;5;124;03m    If the result is a column containing only 'geometry', return a\u001b[39;00m\n\u001b[1;32m   1296\u001b[0m \u001b[38;5;124;03m    GeoSeries. If it's a DataFrame with a 'geometry' column, return a\u001b[39;00m\n\u001b[1;32m   1297\u001b[0m \u001b[38;5;124;03m    GeoDataFrame.\u001b[39;00m\n\u001b[1;32m   1298\u001b[0m \u001b[38;5;124;03m    \"\"\"\u001b[39;00m\n\u001b[0;32m-> 1299\u001b[0m     result \u001b[38;5;241m=\u001b[39m \u001b[38;5;28;43msuper\u001b[39;49m\u001b[43m(\u001b[49m\u001b[43mGeoDataFrame\u001b[49m\u001b[43m,\u001b[49m\u001b[43m \u001b[49m\u001b[38;5;28;43mself\u001b[39;49m\u001b[43m)\u001b[49m\u001b[38;5;241;43m.\u001b[39;49m\u001b[38;5;21;43m__getitem__\u001b[39;49m\u001b[43m(\u001b[49m\u001b[43mkey\u001b[49m\u001b[43m)\u001b[49m\n\u001b[1;32m   1300\u001b[0m     geo_col \u001b[38;5;241m=\u001b[39m \u001b[38;5;28mself\u001b[39m\u001b[38;5;241m.\u001b[39m_geometry_column_name\n\u001b[1;32m   1301\u001b[0m     \u001b[38;5;28;01mif\u001b[39;00m \u001b[38;5;28misinstance\u001b[39m(result, Series) \u001b[38;5;129;01mand\u001b[39;00m \u001b[38;5;28misinstance\u001b[39m(result\u001b[38;5;241m.\u001b[39mdtype, GeometryDtype):\n",
      "File \u001b[0;32m/Applications/Anaconda/anaconda3/envs/gis/lib/python3.10/site-packages/pandas/core/frame.py:3819\u001b[0m, in \u001b[0;36mDataFrame.__getitem__\u001b[0;34m(self, key)\u001b[0m\n\u001b[1;32m   3816\u001b[0m \u001b[38;5;28;01mif\u001b[39;00m \u001b[38;5;28mgetattr\u001b[39m(indexer, \u001b[38;5;124m\"\u001b[39m\u001b[38;5;124mdtype\u001b[39m\u001b[38;5;124m\"\u001b[39m, \u001b[38;5;28;01mNone\u001b[39;00m) \u001b[38;5;241m==\u001b[39m \u001b[38;5;28mbool\u001b[39m:\n\u001b[1;32m   3817\u001b[0m     indexer \u001b[38;5;241m=\u001b[39m np\u001b[38;5;241m.\u001b[39mwhere(indexer)[\u001b[38;5;241m0\u001b[39m]\n\u001b[0;32m-> 3819\u001b[0m data \u001b[38;5;241m=\u001b[39m \u001b[38;5;28;43mself\u001b[39;49m\u001b[38;5;241;43m.\u001b[39;49m\u001b[43m_take_with_is_copy\u001b[49m\u001b[43m(\u001b[49m\u001b[43mindexer\u001b[49m\u001b[43m,\u001b[49m\u001b[43m \u001b[49m\u001b[43maxis\u001b[49m\u001b[38;5;241;43m=\u001b[39;49m\u001b[38;5;241;43m1\u001b[39;49m\u001b[43m)\u001b[49m\n\u001b[1;32m   3821\u001b[0m \u001b[38;5;28;01mif\u001b[39;00m is_single_key:\n\u001b[1;32m   3822\u001b[0m     \u001b[38;5;66;03m# What does looking for a single key in a non-unique index return?\u001b[39;00m\n\u001b[1;32m   3823\u001b[0m     \u001b[38;5;66;03m# The behavior is inconsistent. It returns a Series, except when\u001b[39;00m\n\u001b[1;32m   3824\u001b[0m     \u001b[38;5;66;03m# - the key itself is repeated (test on data.shape, #9519), or\u001b[39;00m\n\u001b[1;32m   3825\u001b[0m     \u001b[38;5;66;03m# - we have a MultiIndex on columns (test on self.columns, #21309)\u001b[39;00m\n\u001b[1;32m   3826\u001b[0m     \u001b[38;5;28;01mif\u001b[39;00m data\u001b[38;5;241m.\u001b[39mshape[\u001b[38;5;241m1\u001b[39m] \u001b[38;5;241m==\u001b[39m \u001b[38;5;241m1\u001b[39m \u001b[38;5;129;01mand\u001b[39;00m \u001b[38;5;129;01mnot\u001b[39;00m \u001b[38;5;28misinstance\u001b[39m(\u001b[38;5;28mself\u001b[39m\u001b[38;5;241m.\u001b[39mcolumns, MultiIndex):\n\u001b[1;32m   3827\u001b[0m         \u001b[38;5;66;03m# GH#26490 using data[key] can cause RecursionError\u001b[39;00m\n",
      "File \u001b[0;32m/Applications/Anaconda/anaconda3/envs/gis/lib/python3.10/site-packages/pandas/core/generic.py:3902\u001b[0m, in \u001b[0;36mNDFrame._take_with_is_copy\u001b[0;34m(self, indices, axis)\u001b[0m\n\u001b[1;32m   3894\u001b[0m \u001b[38;5;28;01mdef\u001b[39;00m \u001b[38;5;21m_take_with_is_copy\u001b[39m(\u001b[38;5;28mself\u001b[39m: NDFrameT, indices, axis\u001b[38;5;241m=\u001b[39m\u001b[38;5;241m0\u001b[39m) \u001b[38;5;241m-\u001b[39m\u001b[38;5;241m>\u001b[39m NDFrameT:\n\u001b[1;32m   3895\u001b[0m     \u001b[38;5;124;03m\"\"\"\u001b[39;00m\n\u001b[1;32m   3896\u001b[0m \u001b[38;5;124;03m    Internal version of the `take` method that sets the `_is_copy`\u001b[39;00m\n\u001b[1;32m   3897\u001b[0m \u001b[38;5;124;03m    attribute to keep track of the parent dataframe (using in indexing\u001b[39;00m\n\u001b[0;32m   (...)\u001b[0m\n\u001b[1;32m   3900\u001b[0m \u001b[38;5;124;03m    See the docstring of `take` for full explanation of the parameters.\u001b[39;00m\n\u001b[1;32m   3901\u001b[0m \u001b[38;5;124;03m    \"\"\"\u001b[39;00m\n\u001b[0;32m-> 3902\u001b[0m     result \u001b[38;5;241m=\u001b[39m \u001b[38;5;28;43mself\u001b[39;49m\u001b[38;5;241;43m.\u001b[39;49m\u001b[43m_take\u001b[49m\u001b[43m(\u001b[49m\u001b[43mindices\u001b[49m\u001b[38;5;241;43m=\u001b[39;49m\u001b[43mindices\u001b[49m\u001b[43m,\u001b[49m\u001b[43m \u001b[49m\u001b[43maxis\u001b[49m\u001b[38;5;241;43m=\u001b[39;49m\u001b[43maxis\u001b[49m\u001b[43m)\u001b[49m\n\u001b[1;32m   3903\u001b[0m     \u001b[38;5;66;03m# Maybe set copy if we didn't actually change the index.\u001b[39;00m\n\u001b[1;32m   3904\u001b[0m     \u001b[38;5;28;01mif\u001b[39;00m \u001b[38;5;129;01mnot\u001b[39;00m result\u001b[38;5;241m.\u001b[39m_get_axis(axis)\u001b[38;5;241m.\u001b[39mequals(\u001b[38;5;28mself\u001b[39m\u001b[38;5;241m.\u001b[39m_get_axis(axis)):\n",
      "File \u001b[0;32m/Applications/Anaconda/anaconda3/envs/gis/lib/python3.10/site-packages/pandas/core/generic.py:3892\u001b[0m, in \u001b[0;36mNDFrame._take\u001b[0;34m(self, indices, axis, convert_indices)\u001b[0m\n\u001b[1;32m   3884\u001b[0m \u001b[38;5;28mself\u001b[39m\u001b[38;5;241m.\u001b[39m_consolidate_inplace()\n\u001b[1;32m   3886\u001b[0m new_data \u001b[38;5;241m=\u001b[39m \u001b[38;5;28mself\u001b[39m\u001b[38;5;241m.\u001b[39m_mgr\u001b[38;5;241m.\u001b[39mtake(\n\u001b[1;32m   3887\u001b[0m     indices,\n\u001b[1;32m   3888\u001b[0m     axis\u001b[38;5;241m=\u001b[39m\u001b[38;5;28mself\u001b[39m\u001b[38;5;241m.\u001b[39m_get_block_manager_axis(axis),\n\u001b[1;32m   3889\u001b[0m     verify\u001b[38;5;241m=\u001b[39m\u001b[38;5;28;01mTrue\u001b[39;00m,\n\u001b[1;32m   3890\u001b[0m     convert_indices\u001b[38;5;241m=\u001b[39mconvert_indices,\n\u001b[1;32m   3891\u001b[0m )\n\u001b[0;32m-> 3892\u001b[0m \u001b[38;5;28;01mreturn\u001b[39;00m \u001b[38;5;28;43mself\u001b[39;49m\u001b[38;5;241;43m.\u001b[39;49m\u001b[43m_constructor\u001b[49m\u001b[43m(\u001b[49m\u001b[43mnew_data\u001b[49m\u001b[43m)\u001b[49m\u001b[38;5;241m.\u001b[39m__finalize__(\u001b[38;5;28mself\u001b[39m, method\u001b[38;5;241m=\u001b[39m\u001b[38;5;124m\"\u001b[39m\u001b[38;5;124mtake\u001b[39m\u001b[38;5;124m\"\u001b[39m)\n",
      "File \u001b[0;32m/Applications/Anaconda/anaconda3/envs/gis/lib/python3.10/site-packages/geopandas/geodataframe.py:122\u001b[0m, in \u001b[0;36mGeoDataFrame.__init__\u001b[0;34m(self, geometry, crs, *args, **kwargs)\u001b[0m\n\u001b[1;32m    119\u001b[0m index \u001b[38;5;241m=\u001b[39m \u001b[38;5;28mself\u001b[39m\u001b[38;5;241m.\u001b[39mindex\n\u001b[1;32m    120\u001b[0m \u001b[38;5;28;01mtry\u001b[39;00m:\n\u001b[1;32m    121\u001b[0m     \u001b[38;5;28;01mif\u001b[39;00m (\n\u001b[0;32m--> 122\u001b[0m         \u001b[38;5;28mhasattr\u001b[39m(\u001b[38;5;28;43mself\u001b[39;49m\u001b[43m[\u001b[49m\u001b[38;5;124;43m\"\u001b[39;49m\u001b[38;5;124;43mgeometry\u001b[39;49m\u001b[38;5;124;43m\"\u001b[39;49m\u001b[43m]\u001b[49m\u001b[38;5;241m.\u001b[39mvalues, \u001b[38;5;124m\"\u001b[39m\u001b[38;5;124mcrs\u001b[39m\u001b[38;5;124m\"\u001b[39m)\n\u001b[1;32m    123\u001b[0m         \u001b[38;5;129;01mand\u001b[39;00m \u001b[38;5;28mself\u001b[39m[\u001b[38;5;124m\"\u001b[39m\u001b[38;5;124mgeometry\u001b[39m\u001b[38;5;124m\"\u001b[39m]\u001b[38;5;241m.\u001b[39mvalues\u001b[38;5;241m.\u001b[39mcrs\n\u001b[1;32m    124\u001b[0m         \u001b[38;5;129;01mand\u001b[39;00m crs\n\u001b[1;32m    125\u001b[0m         \u001b[38;5;129;01mand\u001b[39;00m \u001b[38;5;129;01mnot\u001b[39;00m \u001b[38;5;28mself\u001b[39m[\u001b[38;5;124m\"\u001b[39m\u001b[38;5;124mgeometry\u001b[39m\u001b[38;5;124m\"\u001b[39m]\u001b[38;5;241m.\u001b[39mvalues\u001b[38;5;241m.\u001b[39mcrs \u001b[38;5;241m==\u001b[39m crs\n\u001b[1;32m    126\u001b[0m     ):\n\u001b[1;32m    127\u001b[0m         warnings\u001b[38;5;241m.\u001b[39mwarn(\n\u001b[1;32m    128\u001b[0m             \u001b[38;5;124m\"\u001b[39m\u001b[38;5;124mCRS mismatch between CRS of the passed geometries \u001b[39m\u001b[38;5;124m\"\u001b[39m\n\u001b[1;32m    129\u001b[0m             \u001b[38;5;124m\"\u001b[39m\u001b[38;5;124mand \u001b[39m\u001b[38;5;124m'\u001b[39m\u001b[38;5;124mcrs\u001b[39m\u001b[38;5;124m'\u001b[39m\u001b[38;5;124m. Use \u001b[39m\u001b[38;5;124m'\u001b[39m\u001b[38;5;124mGeoDataFrame.set_crs(crs, \u001b[39m\u001b[38;5;124m\"\u001b[39m\n\u001b[0;32m   (...)\u001b[0m\n\u001b[1;32m    135\u001b[0m             stacklevel\u001b[38;5;241m=\u001b[39m\u001b[38;5;241m2\u001b[39m,\n\u001b[1;32m    136\u001b[0m         )\n\u001b[1;32m    137\u001b[0m         \u001b[38;5;66;03m# TODO: raise error in 0.9 or 0.10.\u001b[39;00m\n",
      "File \u001b[0;32m/Applications/Anaconda/anaconda3/envs/gis/lib/python3.10/site-packages/geopandas/geodataframe.py:1299\u001b[0m, in \u001b[0;36mGeoDataFrame.__getitem__\u001b[0;34m(self, key)\u001b[0m\n\u001b[1;32m   1293\u001b[0m \u001b[38;5;28;01mdef\u001b[39;00m \u001b[38;5;21m__getitem__\u001b[39m(\u001b[38;5;28mself\u001b[39m, key):\n\u001b[1;32m   1294\u001b[0m     \u001b[38;5;124;03m\"\"\"\u001b[39;00m\n\u001b[1;32m   1295\u001b[0m \u001b[38;5;124;03m    If the result is a column containing only 'geometry', return a\u001b[39;00m\n\u001b[1;32m   1296\u001b[0m \u001b[38;5;124;03m    GeoSeries. If it's a DataFrame with a 'geometry' column, return a\u001b[39;00m\n\u001b[1;32m   1297\u001b[0m \u001b[38;5;124;03m    GeoDataFrame.\u001b[39;00m\n\u001b[1;32m   1298\u001b[0m \u001b[38;5;124;03m    \"\"\"\u001b[39;00m\n\u001b[0;32m-> 1299\u001b[0m     result \u001b[38;5;241m=\u001b[39m \u001b[38;5;28;43msuper\u001b[39;49m\u001b[43m(\u001b[49m\u001b[43mGeoDataFrame\u001b[49m\u001b[43m,\u001b[49m\u001b[43m \u001b[49m\u001b[38;5;28;43mself\u001b[39;49m\u001b[43m)\u001b[49m\u001b[38;5;241;43m.\u001b[39;49m\u001b[38;5;21;43m__getitem__\u001b[39;49m\u001b[43m(\u001b[49m\u001b[43mkey\u001b[49m\u001b[43m)\u001b[49m\n\u001b[1;32m   1300\u001b[0m     geo_col \u001b[38;5;241m=\u001b[39m \u001b[38;5;28mself\u001b[39m\u001b[38;5;241m.\u001b[39m_geometry_column_name\n\u001b[1;32m   1301\u001b[0m     \u001b[38;5;28;01mif\u001b[39;00m \u001b[38;5;28misinstance\u001b[39m(result, Series) \u001b[38;5;129;01mand\u001b[39;00m \u001b[38;5;28misinstance\u001b[39m(result\u001b[38;5;241m.\u001b[39mdtype, GeometryDtype):\n",
      "File \u001b[0;32m/Applications/Anaconda/anaconda3/envs/gis/lib/python3.10/site-packages/pandas/core/frame.py:3819\u001b[0m, in \u001b[0;36mDataFrame.__getitem__\u001b[0;34m(self, key)\u001b[0m\n\u001b[1;32m   3816\u001b[0m \u001b[38;5;28;01mif\u001b[39;00m \u001b[38;5;28mgetattr\u001b[39m(indexer, \u001b[38;5;124m\"\u001b[39m\u001b[38;5;124mdtype\u001b[39m\u001b[38;5;124m\"\u001b[39m, \u001b[38;5;28;01mNone\u001b[39;00m) \u001b[38;5;241m==\u001b[39m \u001b[38;5;28mbool\u001b[39m:\n\u001b[1;32m   3817\u001b[0m     indexer \u001b[38;5;241m=\u001b[39m np\u001b[38;5;241m.\u001b[39mwhere(indexer)[\u001b[38;5;241m0\u001b[39m]\n\u001b[0;32m-> 3819\u001b[0m data \u001b[38;5;241m=\u001b[39m \u001b[38;5;28;43mself\u001b[39;49m\u001b[38;5;241;43m.\u001b[39;49m\u001b[43m_take_with_is_copy\u001b[49m\u001b[43m(\u001b[49m\u001b[43mindexer\u001b[49m\u001b[43m,\u001b[49m\u001b[43m \u001b[49m\u001b[43maxis\u001b[49m\u001b[38;5;241;43m=\u001b[39;49m\u001b[38;5;241;43m1\u001b[39;49m\u001b[43m)\u001b[49m\n\u001b[1;32m   3821\u001b[0m \u001b[38;5;28;01mif\u001b[39;00m is_single_key:\n\u001b[1;32m   3822\u001b[0m     \u001b[38;5;66;03m# What does looking for a single key in a non-unique index return?\u001b[39;00m\n\u001b[1;32m   3823\u001b[0m     \u001b[38;5;66;03m# The behavior is inconsistent. It returns a Series, except when\u001b[39;00m\n\u001b[1;32m   3824\u001b[0m     \u001b[38;5;66;03m# - the key itself is repeated (test on data.shape, #9519), or\u001b[39;00m\n\u001b[1;32m   3825\u001b[0m     \u001b[38;5;66;03m# - we have a MultiIndex on columns (test on self.columns, #21309)\u001b[39;00m\n\u001b[1;32m   3826\u001b[0m     \u001b[38;5;28;01mif\u001b[39;00m data\u001b[38;5;241m.\u001b[39mshape[\u001b[38;5;241m1\u001b[39m] \u001b[38;5;241m==\u001b[39m \u001b[38;5;241m1\u001b[39m \u001b[38;5;129;01mand\u001b[39;00m \u001b[38;5;129;01mnot\u001b[39;00m \u001b[38;5;28misinstance\u001b[39m(\u001b[38;5;28mself\u001b[39m\u001b[38;5;241m.\u001b[39mcolumns, MultiIndex):\n\u001b[1;32m   3827\u001b[0m         \u001b[38;5;66;03m# GH#26490 using data[key] can cause RecursionError\u001b[39;00m\n",
      "File \u001b[0;32m/Applications/Anaconda/anaconda3/envs/gis/lib/python3.10/site-packages/pandas/core/generic.py:3902\u001b[0m, in \u001b[0;36mNDFrame._take_with_is_copy\u001b[0;34m(self, indices, axis)\u001b[0m\n\u001b[1;32m   3894\u001b[0m \u001b[38;5;28;01mdef\u001b[39;00m \u001b[38;5;21m_take_with_is_copy\u001b[39m(\u001b[38;5;28mself\u001b[39m: NDFrameT, indices, axis\u001b[38;5;241m=\u001b[39m\u001b[38;5;241m0\u001b[39m) \u001b[38;5;241m-\u001b[39m\u001b[38;5;241m>\u001b[39m NDFrameT:\n\u001b[1;32m   3895\u001b[0m     \u001b[38;5;124;03m\"\"\"\u001b[39;00m\n\u001b[1;32m   3896\u001b[0m \u001b[38;5;124;03m    Internal version of the `take` method that sets the `_is_copy`\u001b[39;00m\n\u001b[1;32m   3897\u001b[0m \u001b[38;5;124;03m    attribute to keep track of the parent dataframe (using in indexing\u001b[39;00m\n\u001b[0;32m   (...)\u001b[0m\n\u001b[1;32m   3900\u001b[0m \u001b[38;5;124;03m    See the docstring of `take` for full explanation of the parameters.\u001b[39;00m\n\u001b[1;32m   3901\u001b[0m \u001b[38;5;124;03m    \"\"\"\u001b[39;00m\n\u001b[0;32m-> 3902\u001b[0m     result \u001b[38;5;241m=\u001b[39m \u001b[38;5;28;43mself\u001b[39;49m\u001b[38;5;241;43m.\u001b[39;49m\u001b[43m_take\u001b[49m\u001b[43m(\u001b[49m\u001b[43mindices\u001b[49m\u001b[38;5;241;43m=\u001b[39;49m\u001b[43mindices\u001b[49m\u001b[43m,\u001b[49m\u001b[43m \u001b[49m\u001b[43maxis\u001b[49m\u001b[38;5;241;43m=\u001b[39;49m\u001b[43maxis\u001b[49m\u001b[43m)\u001b[49m\n\u001b[1;32m   3903\u001b[0m     \u001b[38;5;66;03m# Maybe set copy if we didn't actually change the index.\u001b[39;00m\n\u001b[1;32m   3904\u001b[0m     \u001b[38;5;28;01mif\u001b[39;00m \u001b[38;5;129;01mnot\u001b[39;00m result\u001b[38;5;241m.\u001b[39m_get_axis(axis)\u001b[38;5;241m.\u001b[39mequals(\u001b[38;5;28mself\u001b[39m\u001b[38;5;241m.\u001b[39m_get_axis(axis)):\n",
      "File \u001b[0;32m/Applications/Anaconda/anaconda3/envs/gis/lib/python3.10/site-packages/pandas/core/generic.py:3892\u001b[0m, in \u001b[0;36mNDFrame._take\u001b[0;34m(self, indices, axis, convert_indices)\u001b[0m\n\u001b[1;32m   3884\u001b[0m \u001b[38;5;28mself\u001b[39m\u001b[38;5;241m.\u001b[39m_consolidate_inplace()\n\u001b[1;32m   3886\u001b[0m new_data \u001b[38;5;241m=\u001b[39m \u001b[38;5;28mself\u001b[39m\u001b[38;5;241m.\u001b[39m_mgr\u001b[38;5;241m.\u001b[39mtake(\n\u001b[1;32m   3887\u001b[0m     indices,\n\u001b[1;32m   3888\u001b[0m     axis\u001b[38;5;241m=\u001b[39m\u001b[38;5;28mself\u001b[39m\u001b[38;5;241m.\u001b[39m_get_block_manager_axis(axis),\n\u001b[1;32m   3889\u001b[0m     verify\u001b[38;5;241m=\u001b[39m\u001b[38;5;28;01mTrue\u001b[39;00m,\n\u001b[1;32m   3890\u001b[0m     convert_indices\u001b[38;5;241m=\u001b[39mconvert_indices,\n\u001b[1;32m   3891\u001b[0m )\n\u001b[0;32m-> 3892\u001b[0m \u001b[38;5;28;01mreturn\u001b[39;00m \u001b[38;5;28;43mself\u001b[39;49m\u001b[38;5;241;43m.\u001b[39;49m\u001b[43m_constructor\u001b[49m\u001b[43m(\u001b[49m\u001b[43mnew_data\u001b[49m\u001b[43m)\u001b[49m\u001b[38;5;241m.\u001b[39m__finalize__(\u001b[38;5;28mself\u001b[39m, method\u001b[38;5;241m=\u001b[39m\u001b[38;5;124m\"\u001b[39m\u001b[38;5;124mtake\u001b[39m\u001b[38;5;124m\"\u001b[39m)\n",
      "    \u001b[0;31m[... skipping similar frames: GeoDataFrame.__getitem__ at line 1299 (491 times), GeoDataFrame.__init__ at line 122 (491 times), DataFrame.__getitem__ at line 3819 (490 times), NDFrame._take at line 3892 (490 times), NDFrame._take_with_is_copy at line 3902 (490 times)]\u001b[0m\n",
      "File \u001b[0;32m/Applications/Anaconda/anaconda3/envs/gis/lib/python3.10/site-packages/pandas/core/frame.py:3819\u001b[0m, in \u001b[0;36mDataFrame.__getitem__\u001b[0;34m(self, key)\u001b[0m\n\u001b[1;32m   3816\u001b[0m \u001b[38;5;28;01mif\u001b[39;00m \u001b[38;5;28mgetattr\u001b[39m(indexer, \u001b[38;5;124m\"\u001b[39m\u001b[38;5;124mdtype\u001b[39m\u001b[38;5;124m\"\u001b[39m, \u001b[38;5;28;01mNone\u001b[39;00m) \u001b[38;5;241m==\u001b[39m \u001b[38;5;28mbool\u001b[39m:\n\u001b[1;32m   3817\u001b[0m     indexer \u001b[38;5;241m=\u001b[39m np\u001b[38;5;241m.\u001b[39mwhere(indexer)[\u001b[38;5;241m0\u001b[39m]\n\u001b[0;32m-> 3819\u001b[0m data \u001b[38;5;241m=\u001b[39m \u001b[38;5;28;43mself\u001b[39;49m\u001b[38;5;241;43m.\u001b[39;49m\u001b[43m_take_with_is_copy\u001b[49m\u001b[43m(\u001b[49m\u001b[43mindexer\u001b[49m\u001b[43m,\u001b[49m\u001b[43m \u001b[49m\u001b[43maxis\u001b[49m\u001b[38;5;241;43m=\u001b[39;49m\u001b[38;5;241;43m1\u001b[39;49m\u001b[43m)\u001b[49m\n\u001b[1;32m   3821\u001b[0m \u001b[38;5;28;01mif\u001b[39;00m is_single_key:\n\u001b[1;32m   3822\u001b[0m     \u001b[38;5;66;03m# What does looking for a single key in a non-unique index return?\u001b[39;00m\n\u001b[1;32m   3823\u001b[0m     \u001b[38;5;66;03m# The behavior is inconsistent. It returns a Series, except when\u001b[39;00m\n\u001b[1;32m   3824\u001b[0m     \u001b[38;5;66;03m# - the key itself is repeated (test on data.shape, #9519), or\u001b[39;00m\n\u001b[1;32m   3825\u001b[0m     \u001b[38;5;66;03m# - we have a MultiIndex on columns (test on self.columns, #21309)\u001b[39;00m\n\u001b[1;32m   3826\u001b[0m     \u001b[38;5;28;01mif\u001b[39;00m data\u001b[38;5;241m.\u001b[39mshape[\u001b[38;5;241m1\u001b[39m] \u001b[38;5;241m==\u001b[39m \u001b[38;5;241m1\u001b[39m \u001b[38;5;129;01mand\u001b[39;00m \u001b[38;5;129;01mnot\u001b[39;00m \u001b[38;5;28misinstance\u001b[39m(\u001b[38;5;28mself\u001b[39m\u001b[38;5;241m.\u001b[39mcolumns, MultiIndex):\n\u001b[1;32m   3827\u001b[0m         \u001b[38;5;66;03m# GH#26490 using data[key] can cause RecursionError\u001b[39;00m\n",
      "File \u001b[0;32m/Applications/Anaconda/anaconda3/envs/gis/lib/python3.10/site-packages/pandas/core/generic.py:3902\u001b[0m, in \u001b[0;36mNDFrame._take_with_is_copy\u001b[0;34m(self, indices, axis)\u001b[0m\n\u001b[1;32m   3894\u001b[0m \u001b[38;5;28;01mdef\u001b[39;00m \u001b[38;5;21m_take_with_is_copy\u001b[39m(\u001b[38;5;28mself\u001b[39m: NDFrameT, indices, axis\u001b[38;5;241m=\u001b[39m\u001b[38;5;241m0\u001b[39m) \u001b[38;5;241m-\u001b[39m\u001b[38;5;241m>\u001b[39m NDFrameT:\n\u001b[1;32m   3895\u001b[0m     \u001b[38;5;124;03m\"\"\"\u001b[39;00m\n\u001b[1;32m   3896\u001b[0m \u001b[38;5;124;03m    Internal version of the `take` method that sets the `_is_copy`\u001b[39;00m\n\u001b[1;32m   3897\u001b[0m \u001b[38;5;124;03m    attribute to keep track of the parent dataframe (using in indexing\u001b[39;00m\n\u001b[0;32m   (...)\u001b[0m\n\u001b[1;32m   3900\u001b[0m \u001b[38;5;124;03m    See the docstring of `take` for full explanation of the parameters.\u001b[39;00m\n\u001b[1;32m   3901\u001b[0m \u001b[38;5;124;03m    \"\"\"\u001b[39;00m\n\u001b[0;32m-> 3902\u001b[0m     result \u001b[38;5;241m=\u001b[39m \u001b[38;5;28;43mself\u001b[39;49m\u001b[38;5;241;43m.\u001b[39;49m\u001b[43m_take\u001b[49m\u001b[43m(\u001b[49m\u001b[43mindices\u001b[49m\u001b[38;5;241;43m=\u001b[39;49m\u001b[43mindices\u001b[49m\u001b[43m,\u001b[49m\u001b[43m \u001b[49m\u001b[43maxis\u001b[49m\u001b[38;5;241;43m=\u001b[39;49m\u001b[43maxis\u001b[49m\u001b[43m)\u001b[49m\n\u001b[1;32m   3903\u001b[0m     \u001b[38;5;66;03m# Maybe set copy if we didn't actually change the index.\u001b[39;00m\n\u001b[1;32m   3904\u001b[0m     \u001b[38;5;28;01mif\u001b[39;00m \u001b[38;5;129;01mnot\u001b[39;00m result\u001b[38;5;241m.\u001b[39m_get_axis(axis)\u001b[38;5;241m.\u001b[39mequals(\u001b[38;5;28mself\u001b[39m\u001b[38;5;241m.\u001b[39m_get_axis(axis)):\n",
      "File \u001b[0;32m/Applications/Anaconda/anaconda3/envs/gis/lib/python3.10/site-packages/pandas/core/generic.py:3892\u001b[0m, in \u001b[0;36mNDFrame._take\u001b[0;34m(self, indices, axis, convert_indices)\u001b[0m\n\u001b[1;32m   3884\u001b[0m \u001b[38;5;28mself\u001b[39m\u001b[38;5;241m.\u001b[39m_consolidate_inplace()\n\u001b[1;32m   3886\u001b[0m new_data \u001b[38;5;241m=\u001b[39m \u001b[38;5;28mself\u001b[39m\u001b[38;5;241m.\u001b[39m_mgr\u001b[38;5;241m.\u001b[39mtake(\n\u001b[1;32m   3887\u001b[0m     indices,\n\u001b[1;32m   3888\u001b[0m     axis\u001b[38;5;241m=\u001b[39m\u001b[38;5;28mself\u001b[39m\u001b[38;5;241m.\u001b[39m_get_block_manager_axis(axis),\n\u001b[1;32m   3889\u001b[0m     verify\u001b[38;5;241m=\u001b[39m\u001b[38;5;28;01mTrue\u001b[39;00m,\n\u001b[1;32m   3890\u001b[0m     convert_indices\u001b[38;5;241m=\u001b[39mconvert_indices,\n\u001b[1;32m   3891\u001b[0m )\n\u001b[0;32m-> 3892\u001b[0m \u001b[38;5;28;01mreturn\u001b[39;00m \u001b[38;5;28;43mself\u001b[39;49m\u001b[38;5;241;43m.\u001b[39;49m\u001b[43m_constructor\u001b[49m\u001b[43m(\u001b[49m\u001b[43mnew_data\u001b[49m\u001b[43m)\u001b[49m\u001b[38;5;241m.\u001b[39m__finalize__(\u001b[38;5;28mself\u001b[39m, method\u001b[38;5;241m=\u001b[39m\u001b[38;5;124m\"\u001b[39m\u001b[38;5;124mtake\u001b[39m\u001b[38;5;124m\"\u001b[39m)\n",
      "File \u001b[0;32m/Applications/Anaconda/anaconda3/envs/gis/lib/python3.10/site-packages/geopandas/geodataframe.py:122\u001b[0m, in \u001b[0;36mGeoDataFrame.__init__\u001b[0;34m(self, geometry, crs, *args, **kwargs)\u001b[0m\n\u001b[1;32m    119\u001b[0m index \u001b[38;5;241m=\u001b[39m \u001b[38;5;28mself\u001b[39m\u001b[38;5;241m.\u001b[39mindex\n\u001b[1;32m    120\u001b[0m \u001b[38;5;28;01mtry\u001b[39;00m:\n\u001b[1;32m    121\u001b[0m     \u001b[38;5;28;01mif\u001b[39;00m (\n\u001b[0;32m--> 122\u001b[0m         \u001b[38;5;28mhasattr\u001b[39m(\u001b[38;5;28;43mself\u001b[39;49m\u001b[43m[\u001b[49m\u001b[38;5;124;43m\"\u001b[39;49m\u001b[38;5;124;43mgeometry\u001b[39;49m\u001b[38;5;124;43m\"\u001b[39;49m\u001b[43m]\u001b[49m\u001b[38;5;241m.\u001b[39mvalues, \u001b[38;5;124m\"\u001b[39m\u001b[38;5;124mcrs\u001b[39m\u001b[38;5;124m\"\u001b[39m)\n\u001b[1;32m    123\u001b[0m         \u001b[38;5;129;01mand\u001b[39;00m \u001b[38;5;28mself\u001b[39m[\u001b[38;5;124m\"\u001b[39m\u001b[38;5;124mgeometry\u001b[39m\u001b[38;5;124m\"\u001b[39m]\u001b[38;5;241m.\u001b[39mvalues\u001b[38;5;241m.\u001b[39mcrs\n\u001b[1;32m    124\u001b[0m         \u001b[38;5;129;01mand\u001b[39;00m crs\n\u001b[1;32m    125\u001b[0m         \u001b[38;5;129;01mand\u001b[39;00m \u001b[38;5;129;01mnot\u001b[39;00m \u001b[38;5;28mself\u001b[39m[\u001b[38;5;124m\"\u001b[39m\u001b[38;5;124mgeometry\u001b[39m\u001b[38;5;124m\"\u001b[39m]\u001b[38;5;241m.\u001b[39mvalues\u001b[38;5;241m.\u001b[39mcrs \u001b[38;5;241m==\u001b[39m crs\n\u001b[1;32m    126\u001b[0m     ):\n\u001b[1;32m    127\u001b[0m         warnings\u001b[38;5;241m.\u001b[39mwarn(\n\u001b[1;32m    128\u001b[0m             \u001b[38;5;124m\"\u001b[39m\u001b[38;5;124mCRS mismatch between CRS of the passed geometries \u001b[39m\u001b[38;5;124m\"\u001b[39m\n\u001b[1;32m    129\u001b[0m             \u001b[38;5;124m\"\u001b[39m\u001b[38;5;124mand \u001b[39m\u001b[38;5;124m'\u001b[39m\u001b[38;5;124mcrs\u001b[39m\u001b[38;5;124m'\u001b[39m\u001b[38;5;124m. Use \u001b[39m\u001b[38;5;124m'\u001b[39m\u001b[38;5;124mGeoDataFrame.set_crs(crs, \u001b[39m\u001b[38;5;124m\"\u001b[39m\n\u001b[0;32m   (...)\u001b[0m\n\u001b[1;32m    135\u001b[0m             stacklevel\u001b[38;5;241m=\u001b[39m\u001b[38;5;241m2\u001b[39m,\n\u001b[1;32m    136\u001b[0m         )\n\u001b[1;32m    137\u001b[0m         \u001b[38;5;66;03m# TODO: raise error in 0.9 or 0.10.\u001b[39;00m\n",
      "File \u001b[0;32m/Applications/Anaconda/anaconda3/envs/gis/lib/python3.10/site-packages/geopandas/geodataframe.py:1299\u001b[0m, in \u001b[0;36mGeoDataFrame.__getitem__\u001b[0;34m(self, key)\u001b[0m\n\u001b[1;32m   1293\u001b[0m \u001b[38;5;28;01mdef\u001b[39;00m \u001b[38;5;21m__getitem__\u001b[39m(\u001b[38;5;28mself\u001b[39m, key):\n\u001b[1;32m   1294\u001b[0m     \u001b[38;5;124;03m\"\"\"\u001b[39;00m\n\u001b[1;32m   1295\u001b[0m \u001b[38;5;124;03m    If the result is a column containing only 'geometry', return a\u001b[39;00m\n\u001b[1;32m   1296\u001b[0m \u001b[38;5;124;03m    GeoSeries. If it's a DataFrame with a 'geometry' column, return a\u001b[39;00m\n\u001b[1;32m   1297\u001b[0m \u001b[38;5;124;03m    GeoDataFrame.\u001b[39;00m\n\u001b[1;32m   1298\u001b[0m \u001b[38;5;124;03m    \"\"\"\u001b[39;00m\n\u001b[0;32m-> 1299\u001b[0m     result \u001b[38;5;241m=\u001b[39m \u001b[38;5;28;43msuper\u001b[39;49m\u001b[43m(\u001b[49m\u001b[43mGeoDataFrame\u001b[49m\u001b[43m,\u001b[49m\u001b[43m \u001b[49m\u001b[38;5;28;43mself\u001b[39;49m\u001b[43m)\u001b[49m\u001b[38;5;241;43m.\u001b[39;49m\u001b[38;5;21;43m__getitem__\u001b[39;49m\u001b[43m(\u001b[49m\u001b[43mkey\u001b[49m\u001b[43m)\u001b[49m\n\u001b[1;32m   1300\u001b[0m     geo_col \u001b[38;5;241m=\u001b[39m \u001b[38;5;28mself\u001b[39m\u001b[38;5;241m.\u001b[39m_geometry_column_name\n\u001b[1;32m   1301\u001b[0m     \u001b[38;5;28;01mif\u001b[39;00m \u001b[38;5;28misinstance\u001b[39m(result, Series) \u001b[38;5;129;01mand\u001b[39;00m \u001b[38;5;28misinstance\u001b[39m(result\u001b[38;5;241m.\u001b[39mdtype, GeometryDtype):\n",
      "File \u001b[0;32m/Applications/Anaconda/anaconda3/envs/gis/lib/python3.10/site-packages/pandas/core/frame.py:3772\u001b[0m, in \u001b[0;36mDataFrame.__getitem__\u001b[0;34m(self, key)\u001b[0m\n\u001b[1;32m   3766\u001b[0m is_mi \u001b[38;5;241m=\u001b[39m \u001b[38;5;28misinstance\u001b[39m(\u001b[38;5;28mself\u001b[39m\u001b[38;5;241m.\u001b[39mcolumns, MultiIndex)\n\u001b[1;32m   3767\u001b[0m \u001b[38;5;66;03m# GH#45316 Return view if key is not duplicated\u001b[39;00m\n\u001b[1;32m   3768\u001b[0m \u001b[38;5;66;03m# Only use drop_duplicates with duplicates for performance\u001b[39;00m\n\u001b[1;32m   3769\u001b[0m \u001b[38;5;28;01mif\u001b[39;00m \u001b[38;5;129;01mnot\u001b[39;00m is_mi \u001b[38;5;129;01mand\u001b[39;00m (\n\u001b[1;32m   3770\u001b[0m     \u001b[38;5;28mself\u001b[39m\u001b[38;5;241m.\u001b[39mcolumns\u001b[38;5;241m.\u001b[39mis_unique\n\u001b[1;32m   3771\u001b[0m     \u001b[38;5;129;01mand\u001b[39;00m key \u001b[38;5;129;01min\u001b[39;00m \u001b[38;5;28mself\u001b[39m\u001b[38;5;241m.\u001b[39mcolumns\n\u001b[0;32m-> 3772\u001b[0m     \u001b[38;5;129;01mor\u001b[39;00m key \u001b[38;5;129;01min\u001b[39;00m \u001b[38;5;28;43mself\u001b[39;49m\u001b[38;5;241;43m.\u001b[39;49m\u001b[43mcolumns\u001b[49m\u001b[38;5;241;43m.\u001b[39;49m\u001b[43mdrop_duplicates\u001b[49m\u001b[43m(\u001b[49m\u001b[43mkeep\u001b[49m\u001b[38;5;241;43m=\u001b[39;49m\u001b[38;5;28;43;01mFalse\u001b[39;49;00m\u001b[43m)\u001b[49m\n\u001b[1;32m   3773\u001b[0m ):\n\u001b[1;32m   3774\u001b[0m     \u001b[38;5;28;01mreturn\u001b[39;00m \u001b[38;5;28mself\u001b[39m\u001b[38;5;241m.\u001b[39m_get_item_cache(key)\n\u001b[1;32m   3776\u001b[0m \u001b[38;5;28;01melif\u001b[39;00m is_mi \u001b[38;5;129;01mand\u001b[39;00m \u001b[38;5;28mself\u001b[39m\u001b[38;5;241m.\u001b[39mcolumns\u001b[38;5;241m.\u001b[39mis_unique \u001b[38;5;129;01mand\u001b[39;00m key \u001b[38;5;129;01min\u001b[39;00m \u001b[38;5;28mself\u001b[39m\u001b[38;5;241m.\u001b[39mcolumns:\n",
      "File \u001b[0;32m/Applications/Anaconda/anaconda3/envs/gis/lib/python3.10/site-packages/pandas/util/_decorators.py:331\u001b[0m, in \u001b[0;36mdeprecate_nonkeyword_arguments.<locals>.decorate.<locals>.wrapper\u001b[0;34m(*args, **kwargs)\u001b[0m\n\u001b[1;32m    325\u001b[0m \u001b[38;5;28;01mif\u001b[39;00m \u001b[38;5;28mlen\u001b[39m(args) \u001b[38;5;241m>\u001b[39m num_allow_args:\n\u001b[1;32m    326\u001b[0m     warnings\u001b[38;5;241m.\u001b[39mwarn(\n\u001b[1;32m    327\u001b[0m         msg\u001b[38;5;241m.\u001b[39mformat(arguments\u001b[38;5;241m=\u001b[39m_format_argument_list(allow_args)),\n\u001b[1;32m    328\u001b[0m         \u001b[38;5;167;01mFutureWarning\u001b[39;00m,\n\u001b[1;32m    329\u001b[0m         stacklevel\u001b[38;5;241m=\u001b[39mfind_stack_level(),\n\u001b[1;32m    330\u001b[0m     )\n\u001b[0;32m--> 331\u001b[0m \u001b[38;5;28;01mreturn\u001b[39;00m \u001b[43mfunc\u001b[49m\u001b[43m(\u001b[49m\u001b[38;5;241;43m*\u001b[39;49m\u001b[43margs\u001b[49m\u001b[43m,\u001b[49m\u001b[43m \u001b[49m\u001b[38;5;241;43m*\u001b[39;49m\u001b[38;5;241;43m*\u001b[39;49m\u001b[43mkwargs\u001b[49m\u001b[43m)\u001b[49m\n",
      "File \u001b[0;32m/Applications/Anaconda/anaconda3/envs/gis/lib/python3.10/site-packages/pandas/core/indexes/base.py:3083\u001b[0m, in \u001b[0;36mIndex.drop_duplicates\u001b[0;34m(self, keep)\u001b[0m\n\u001b[1;32m   3080\u001b[0m \u001b[38;5;28;01mif\u001b[39;00m \u001b[38;5;28mself\u001b[39m\u001b[38;5;241m.\u001b[39mis_unique:\n\u001b[1;32m   3081\u001b[0m     \u001b[38;5;28;01mreturn\u001b[39;00m \u001b[38;5;28mself\u001b[39m\u001b[38;5;241m.\u001b[39m_view()\n\u001b[0;32m-> 3083\u001b[0m \u001b[38;5;28;01mreturn\u001b[39;00m \u001b[38;5;28;43msuper\u001b[39;49m\u001b[43m(\u001b[49m\u001b[43m)\u001b[49m\u001b[38;5;241;43m.\u001b[39;49m\u001b[43mdrop_duplicates\u001b[49m\u001b[43m(\u001b[49m\u001b[43mkeep\u001b[49m\u001b[38;5;241;43m=\u001b[39;49m\u001b[43mkeep\u001b[49m\u001b[43m)\u001b[49m\n",
      "File \u001b[0;32m/Applications/Anaconda/anaconda3/envs/gis/lib/python3.10/site-packages/pandas/core/base.py:1306\u001b[0m, in \u001b[0;36mIndexOpsMixin.drop_duplicates\u001b[0;34m(self, keep)\u001b[0m\n\u001b[1;32m   1305\u001b[0m \u001b[38;5;28;01mdef\u001b[39;00m \u001b[38;5;21mdrop_duplicates\u001b[39m(\u001b[38;5;28mself\u001b[39m, keep\u001b[38;5;241m=\u001b[39m\u001b[38;5;124m\"\u001b[39m\u001b[38;5;124mfirst\u001b[39m\u001b[38;5;124m\"\u001b[39m):\n\u001b[0;32m-> 1306\u001b[0m     duplicated \u001b[38;5;241m=\u001b[39m \u001b[38;5;28;43mself\u001b[39;49m\u001b[38;5;241;43m.\u001b[39;49m\u001b[43m_duplicated\u001b[49m\u001b[43m(\u001b[49m\u001b[43mkeep\u001b[49m\u001b[38;5;241;43m=\u001b[39;49m\u001b[43mkeep\u001b[49m\u001b[43m)\u001b[49m\n\u001b[1;32m   1307\u001b[0m     \u001b[38;5;66;03m# error: Value of type \"IndexOpsMixin\" is not indexable\u001b[39;00m\n\u001b[1;32m   1308\u001b[0m     \u001b[38;5;28;01mreturn\u001b[39;00m \u001b[38;5;28mself\u001b[39m[\u001b[38;5;241m~\u001b[39mduplicated]\n",
      "File \u001b[0;32m/Applications/Anaconda/anaconda3/envs/gis/lib/python3.10/site-packages/pandas/core/base.py:1314\u001b[0m, in \u001b[0;36mIndexOpsMixin._duplicated\u001b[0;34m(self, keep)\u001b[0m\n\u001b[1;32m   1310\u001b[0m \u001b[38;5;129m@final\u001b[39m\n\u001b[1;32m   1311\u001b[0m \u001b[38;5;28;01mdef\u001b[39;00m \u001b[38;5;21m_duplicated\u001b[39m(\n\u001b[1;32m   1312\u001b[0m     \u001b[38;5;28mself\u001b[39m, keep: Literal[\u001b[38;5;124m\"\u001b[39m\u001b[38;5;124mfirst\u001b[39m\u001b[38;5;124m\"\u001b[39m, \u001b[38;5;124m\"\u001b[39m\u001b[38;5;124mlast\u001b[39m\u001b[38;5;124m\"\u001b[39m, \u001b[38;5;28;01mFalse\u001b[39;00m] \u001b[38;5;241m=\u001b[39m \u001b[38;5;124m\"\u001b[39m\u001b[38;5;124mfirst\u001b[39m\u001b[38;5;124m\"\u001b[39m\n\u001b[1;32m   1313\u001b[0m ) \u001b[38;5;241m-\u001b[39m\u001b[38;5;241m>\u001b[39m npt\u001b[38;5;241m.\u001b[39mNDArray[np\u001b[38;5;241m.\u001b[39mbool_]:\n\u001b[0;32m-> 1314\u001b[0m     \u001b[38;5;28;01mreturn\u001b[39;00m \u001b[43mduplicated\u001b[49m\u001b[43m(\u001b[49m\u001b[38;5;28;43mself\u001b[39;49m\u001b[38;5;241;43m.\u001b[39;49m\u001b[43m_values\u001b[49m\u001b[43m,\u001b[49m\u001b[43m \u001b[49m\u001b[43mkeep\u001b[49m\u001b[38;5;241;43m=\u001b[39;49m\u001b[43mkeep\u001b[49m\u001b[43m)\u001b[49m\n",
      "File \u001b[0;32m/Applications/Anaconda/anaconda3/envs/gis/lib/python3.10/site-packages/pandas/core/algorithms.py:1062\u001b[0m, in \u001b[0;36mduplicated\u001b[0;34m(values, keep)\u001b[0m\n\u001b[1;32m   1041\u001b[0m \u001b[38;5;28;01mdef\u001b[39;00m \u001b[38;5;21mduplicated\u001b[39m(\n\u001b[1;32m   1042\u001b[0m     values: ArrayLike, keep: Literal[\u001b[38;5;124m\"\u001b[39m\u001b[38;5;124mfirst\u001b[39m\u001b[38;5;124m\"\u001b[39m, \u001b[38;5;124m\"\u001b[39m\u001b[38;5;124mlast\u001b[39m\u001b[38;5;124m\"\u001b[39m, \u001b[38;5;28;01mFalse\u001b[39;00m] \u001b[38;5;241m=\u001b[39m \u001b[38;5;124m\"\u001b[39m\u001b[38;5;124mfirst\u001b[39m\u001b[38;5;124m\"\u001b[39m\n\u001b[1;32m   1043\u001b[0m ) \u001b[38;5;241m-\u001b[39m\u001b[38;5;241m>\u001b[39m npt\u001b[38;5;241m.\u001b[39mNDArray[np\u001b[38;5;241m.\u001b[39mbool_]:\n\u001b[1;32m   1044\u001b[0m     \u001b[38;5;124;03m\"\"\"\u001b[39;00m\n\u001b[1;32m   1045\u001b[0m \u001b[38;5;124;03m    Return boolean ndarray denoting duplicate values.\u001b[39;00m\n\u001b[1;32m   1046\u001b[0m \n\u001b[0;32m   (...)\u001b[0m\n\u001b[1;32m   1060\u001b[0m \u001b[38;5;124;03m    duplicated : ndarray[bool]\u001b[39;00m\n\u001b[1;32m   1061\u001b[0m \u001b[38;5;124;03m    \"\"\"\u001b[39;00m\n\u001b[0;32m-> 1062\u001b[0m     values \u001b[38;5;241m=\u001b[39m \u001b[43m_ensure_data\u001b[49m\u001b[43m(\u001b[49m\u001b[43mvalues\u001b[49m\u001b[43m)\u001b[49m\n\u001b[1;32m   1063\u001b[0m     \u001b[38;5;28;01mreturn\u001b[39;00m htable\u001b[38;5;241m.\u001b[39mduplicated(values, keep\u001b[38;5;241m=\u001b[39mkeep)\n",
      "File \u001b[0;32m/Applications/Anaconda/anaconda3/envs/gis/lib/python3.10/site-packages/pandas/core/algorithms.py:139\u001b[0m, in \u001b[0;36m_ensure_data\u001b[0;34m(values)\u001b[0m\n\u001b[1;32m    117\u001b[0m \u001b[38;5;28;01mdef\u001b[39;00m \u001b[38;5;21m_ensure_data\u001b[39m(values: ArrayLike) \u001b[38;5;241m-\u001b[39m\u001b[38;5;241m>\u001b[39m np\u001b[38;5;241m.\u001b[39mndarray:\n\u001b[1;32m    118\u001b[0m     \u001b[38;5;124;03m\"\"\"\u001b[39;00m\n\u001b[1;32m    119\u001b[0m \u001b[38;5;124;03m    routine to ensure that our data is of the correct\u001b[39;00m\n\u001b[1;32m    120\u001b[0m \u001b[38;5;124;03m    input dtype for lower-level routines\u001b[39;00m\n\u001b[0;32m   (...)\u001b[0m\n\u001b[1;32m    136\u001b[0m \u001b[38;5;124;03m    np.ndarray\u001b[39;00m\n\u001b[1;32m    137\u001b[0m \u001b[38;5;124;03m    \"\"\"\u001b[39;00m\n\u001b[0;32m--> 139\u001b[0m     \u001b[38;5;28;01mif\u001b[39;00m \u001b[38;5;129;01mnot\u001b[39;00m \u001b[38;5;28;43misinstance\u001b[39;49m\u001b[43m(\u001b[49m\u001b[43mvalues\u001b[49m\u001b[43m,\u001b[49m\u001b[43m \u001b[49m\u001b[43mABCMultiIndex\u001b[49m\u001b[43m)\u001b[49m:\n\u001b[1;32m    140\u001b[0m         \u001b[38;5;66;03m# extract_array would raise\u001b[39;00m\n\u001b[1;32m    141\u001b[0m         values \u001b[38;5;241m=\u001b[39m extract_array(values, extract_numpy\u001b[38;5;241m=\u001b[39m\u001b[38;5;28;01mTrue\u001b[39;00m)\n\u001b[1;32m    143\u001b[0m     \u001b[38;5;28;01mif\u001b[39;00m is_object_dtype(values\u001b[38;5;241m.\u001b[39mdtype):\n",
      "File \u001b[0;32m/Applications/Anaconda/anaconda3/envs/gis/lib/python3.10/site-packages/pandas/core/dtypes/generic.py:47\u001b[0m, in \u001b[0;36mcreate_pandas_abc_type.<locals>._instancecheck\u001b[0;34m(cls, inst)\u001b[0m\n\u001b[1;32m     45\u001b[0m \u001b[38;5;129m@classmethod\u001b[39m  \u001b[38;5;66;03m# type: ignore[misc]\u001b[39;00m\n\u001b[1;32m     46\u001b[0m \u001b[38;5;28;01mdef\u001b[39;00m \u001b[38;5;21m_instancecheck\u001b[39m(\u001b[38;5;28mcls\u001b[39m, inst) \u001b[38;5;241m-\u001b[39m\u001b[38;5;241m>\u001b[39m \u001b[38;5;28mbool\u001b[39m:\n\u001b[0;32m---> 47\u001b[0m     \u001b[38;5;28;01mreturn\u001b[39;00m \u001b[43m_check\u001b[49m\u001b[43m(\u001b[49m\u001b[43minst\u001b[49m\u001b[43m)\u001b[49m \u001b[38;5;129;01mand\u001b[39;00m \u001b[38;5;129;01mnot\u001b[39;00m \u001b[38;5;28misinstance\u001b[39m(inst, \u001b[38;5;28mtype\u001b[39m)\n",
      "\u001b[0;31mRecursionError\u001b[0m: maximum recursion depth exceeded"
     ]
    }
   ],
   "source": [
    "polygons = gpd.read_file('/Users/sra/Desktop/Data_Science_2023/_capstone/00_capstone_data/shapefiles/joins/sm_geo_combine.csv')"
   ]
  },
  {
   "cell_type": "code",
   "execution_count": null,
   "id": "4be6eeaf-7fad-4bd7-b1de-3748525bb437",
   "metadata": {},
   "outputs": [],
   "source": [
    "# switch to streamlit kernel\n",
    "import streamlit as st"
   ]
  },
  {
   "cell_type": "code",
   "execution_count": 10,
   "id": "1f276484-1d5a-419a-a895-b08623a15bab",
   "metadata": {
    "tags": []
   },
   "outputs": [
    {
     "ename": "NameError",
     "evalue": "name 'st' is not defined",
     "output_type": "error",
     "traceback": [
      "\u001b[0;31m---------------------------------------------------------------------------\u001b[0m",
      "\u001b[0;31mNameError\u001b[0m                                 Traceback (most recent call last)",
      "Cell \u001b[0;32mIn[10], line 1\u001b[0m\n\u001b[0;32m----> 1\u001b[0m \u001b[43mst\u001b[49m\u001b[38;5;241m.\u001b[39mmap(polygons, zoom\u001b[38;5;241m=\u001b[39m\u001b[38;5;241m12\u001b[39m, location\u001b[38;5;241m=\u001b[39m(lat, lon))\n",
      "\u001b[0;31mNameError\u001b[0m: name 'st' is not defined"
     ]
    }
   ],
   "source": [
    "st.map(polygons, zoom=12, location=(lat, lon))"
   ]
  },
  {
   "cell_type": "code",
   "execution_count": 11,
   "id": "22cc8a07-04b2-4dc7-a8d5-d5353535c359",
   "metadata": {
    "tags": []
   },
   "outputs": [
    {
     "ename": "NameError",
     "evalue": "name 'polygons' is not defined",
     "output_type": "error",
     "traceback": [
      "\u001b[0;31m---------------------------------------------------------------------------\u001b[0m",
      "\u001b[0;31mNameError\u001b[0m                                 Traceback (most recent call last)",
      "Cell \u001b[0;32mIn[11], line 1\u001b[0m\n\u001b[0;32m----> 1\u001b[0m geojson \u001b[38;5;241m=\u001b[39m \u001b[43mpolygons\u001b[49m\u001b[38;5;241m.\u001b[39mto_json()\n\u001b[1;32m      2\u001b[0m folium\u001b[38;5;241m.\u001b[39mGeoJson(geojson)\u001b[38;5;241m.\u001b[39madd_to(st\u001b[38;5;241m.\u001b[39mpydeck_chart())\n",
      "\u001b[0;31mNameError\u001b[0m: name 'polygons' is not defined"
     ]
    }
   ],
   "source": [
    "geojson = polygons.to_json()\n",
    "folium.GeoJson(geojson).add_to(st.pydeck_chart())"
   ]
  },
  {
   "cell_type": "code",
   "execution_count": null,
   "id": "0d399296-957d-40aa-83a5-b676681c600a",
   "metadata": {},
   "outputs": [],
   "source": []
  }
 ],
 "metadata": {
  "kernelspec": {
   "display_name": "gis",
   "language": "python",
   "name": "gis"
  },
  "language_info": {
   "codemirror_mode": {
    "name": "ipython",
    "version": 3
   },
   "file_extension": ".py",
   "mimetype": "text/x-python",
   "name": "python",
   "nbconvert_exporter": "python",
   "pygments_lexer": "ipython3",
   "version": "3.10.8"
  }
 },
 "nbformat": 4,
 "nbformat_minor": 5
}
