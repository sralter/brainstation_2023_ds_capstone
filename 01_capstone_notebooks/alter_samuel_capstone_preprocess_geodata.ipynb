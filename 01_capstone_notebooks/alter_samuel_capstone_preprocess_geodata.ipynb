{
 "cells": [
  {
   "cell_type": "markdown",
   "id": "e17a6e48",
   "metadata": {},
   "source": [
    "# Welcome  \n",
    "\n",
    "Notebook Author: Samuel Alter  \n",
    "Notebook Subject: Capstone Project - Geographic Data Processing\n",
    "\n",
    "BrainStation Winter 2023: Data Science"
   ]
  },
  {
   "cell_type": "markdown",
   "id": "7f49d118-44f7-4cb6-a353-7bbe7314cd73",
   "metadata": {},
   "source": [
    "This notebook reads the `.geojson` fire perimeter files created in `QGIS`, deals with the `NaN` rows, and cleans the data in anticipation of the next step, running the perimeter dataset through a suite of `statsmodels` and `sklearn` modeling."
   ]
  },
  {
   "cell_type": "code",
   "execution_count": 2,
   "id": "22bd6f87",
   "metadata": {},
   "outputs": [],
   "source": [
    "# imports\n",
    "\n",
    "import numpy as np\n",
    "import pandas as pd\n",
    "import geopandas as gpd\n",
    "\n",
    "from scipy.spatial import KDTree"
   ]
  },
  {
   "cell_type": "markdown",
   "id": "3c249720-bf18-4729-bc9d-f5ddfa2a8fa8",
   "metadata": {
    "tags": []
   },
   "source": [
    "# Join `city`, `farm`, `fire1`, `fire2` datasets together"
   ]
  },
  {
   "cell_type": "markdown",
   "id": "84454b08-10cc-4c30-9a35-0a4d1960cf7e",
   "metadata": {},
   "source": [
    "I had created four layers of points, two in areas that experienced no fire, and two that experienced fire. These point layers had slope, elevation, and aspect values joined to them from the underlying raster layers. Since each layer was either completely within a \"fire/nofire\" area, that means that I already know where the layers are in relation to fire incidence. I simply have to concatenate the four and then I have a dataset of fire/nofire point locations. I can then feed that into a model. I want to preserve the order of datasets, which is:\n",
    "* `city`\n",
    "* `farm`\n",
    "* `fire1`\n",
    "* `fire2`"
   ]
  },
  {
   "cell_type": "markdown",
   "id": "5a0c3436-4aa0-4e3a-aee6-415126766626",
   "metadata": {},
   "source": [
    "## Read in data"
   ]
  },
  {
   "cell_type": "code",
   "execution_count": 27,
   "id": "da526b3d-65ea-4cbd-a7da-e29f1f90f47a",
   "metadata": {},
   "outputs": [
    {
     "name": "stdout",
     "output_type": "stream",
     "text": [
      "(7524, 5)\n"
     ]
    },
    {
     "data": {
      "text/html": [
       "<div>\n",
       "<style scoped>\n",
       "    .dataframe tbody tr th:only-of-type {\n",
       "        vertical-align: middle;\n",
       "    }\n",
       "\n",
       "    .dataframe tbody tr th {\n",
       "        vertical-align: top;\n",
       "    }\n",
       "\n",
       "    .dataframe thead th {\n",
       "        text-align: right;\n",
       "    }\n",
       "</style>\n",
       "<table border=\"1\" class=\"dataframe\">\n",
       "  <thead>\n",
       "    <tr style=\"text-align: right;\">\n",
       "      <th></th>\n",
       "      <th>id</th>\n",
       "      <th>aspect1</th>\n",
       "      <th>elevation1</th>\n",
       "      <th>slope1</th>\n",
       "      <th>geometry</th>\n",
       "    </tr>\n",
       "  </thead>\n",
       "  <tbody>\n",
       "    <tr>\n",
       "      <th>0</th>\n",
       "      <td>0</td>\n",
       "      <td>90.000000</td>\n",
       "      <td>229.0</td>\n",
       "      <td>1.891522</td>\n",
       "      <td>POINT (361436.400 3782022.600)</td>\n",
       "    </tr>\n",
       "    <tr>\n",
       "      <th>1</th>\n",
       "      <td>1</td>\n",
       "      <td>180.000000</td>\n",
       "      <td>230.0</td>\n",
       "      <td>0.535182</td>\n",
       "      <td>POINT (361513.200 3782022.600)</td>\n",
       "    </tr>\n",
       "    <tr>\n",
       "      <th>2</th>\n",
       "      <td>2</td>\n",
       "      <td>147.528809</td>\n",
       "      <td>227.0</td>\n",
       "      <td>2.269464</td>\n",
       "      <td>POINT (361590.000 3782022.600)</td>\n",
       "    </tr>\n",
       "    <tr>\n",
       "      <th>3</th>\n",
       "      <td>3</td>\n",
       "      <td>149.036240</td>\n",
       "      <td>226.0</td>\n",
       "      <td>1.559970</td>\n",
       "      <td>POINT (361666.800 3782022.600)</td>\n",
       "    </tr>\n",
       "    <tr>\n",
       "      <th>4</th>\n",
       "      <td>4</td>\n",
       "      <td>206.565048</td>\n",
       "      <td>228.0</td>\n",
       "      <td>2.037113</td>\n",
       "      <td>POINT (361743.600 3782022.600)</td>\n",
       "    </tr>\n",
       "  </tbody>\n",
       "</table>\n",
       "</div>"
      ],
      "text/plain": [
       "   id     aspect1  elevation1    slope1                        geometry\n",
       "0   0   90.000000       229.0  1.891522  POINT (361436.400 3782022.600)\n",
       "1   1  180.000000       230.0  0.535182  POINT (361513.200 3782022.600)\n",
       "2   2  147.528809       227.0  2.269464  POINT (361590.000 3782022.600)\n",
       "3   3  149.036240       226.0  1.559970  POINT (361666.800 3782022.600)\n",
       "4   4  206.565048       228.0  2.037113  POINT (361743.600 3782022.600)"
      ]
     },
     "metadata": {},
     "output_type": "display_data"
    }
   ],
   "source": [
    "layer_city=gpd.read_file('/Users/sra/Desktop/Data_Science_2023/_capstone/00_capstone_data/shapefiles/joins/patch_city_asp_elev_slope.geojson')\n",
    "print(layer_city.shape)\n",
    "display(layer_city.head())"
   ]
  },
  {
   "cell_type": "code",
   "execution_count": 28,
   "id": "316d0d5f-7ae5-43fa-b846-c66b00bc4640",
   "metadata": {
    "tags": []
   },
   "outputs": [
    {
     "name": "stdout",
     "output_type": "stream",
     "text": [
      "(2394, 5)\n"
     ]
    },
    {
     "data": {
      "text/html": [
       "<div>\n",
       "<style scoped>\n",
       "    .dataframe tbody tr th:only-of-type {\n",
       "        vertical-align: middle;\n",
       "    }\n",
       "\n",
       "    .dataframe tbody tr th {\n",
       "        vertical-align: top;\n",
       "    }\n",
       "\n",
       "    .dataframe thead th {\n",
       "        text-align: right;\n",
       "    }\n",
       "</style>\n",
       "<table border=\"1\" class=\"dataframe\">\n",
       "  <thead>\n",
       "    <tr style=\"text-align: right;\">\n",
       "      <th></th>\n",
       "      <th>id</th>\n",
       "      <th>aspect1</th>\n",
       "      <th>elevation1</th>\n",
       "      <th>slope1</th>\n",
       "      <th>geometry</th>\n",
       "    </tr>\n",
       "  </thead>\n",
       "  <tbody>\n",
       "    <tr>\n",
       "      <th>0</th>\n",
       "      <td>0</td>\n",
       "      <td>45.00000</td>\n",
       "      <td>8.0</td>\n",
       "      <td>1.135177</td>\n",
       "      <td>POINT (307121.400 3783334.800)</td>\n",
       "    </tr>\n",
       "    <tr>\n",
       "      <th>1</th>\n",
       "      <td>1</td>\n",
       "      <td>210.96376</td>\n",
       "      <td>7.0</td>\n",
       "      <td>1.559970</td>\n",
       "      <td>POINT (307198.200 3783334.800)</td>\n",
       "    </tr>\n",
       "    <tr>\n",
       "      <th>2</th>\n",
       "      <td>2</td>\n",
       "      <td>270.00000</td>\n",
       "      <td>9.0</td>\n",
       "      <td>0.535182</td>\n",
       "      <td>POINT (307275.000 3783334.800)</td>\n",
       "    </tr>\n",
       "    <tr>\n",
       "      <th>3</th>\n",
       "      <td>3</td>\n",
       "      <td>360.00000</td>\n",
       "      <td>10.0</td>\n",
       "      <td>1.605173</td>\n",
       "      <td>POINT (307351.800 3783334.800)</td>\n",
       "    </tr>\n",
       "    <tr>\n",
       "      <th>4</th>\n",
       "      <td>4</td>\n",
       "      <td>90.00000</td>\n",
       "      <td>9.0</td>\n",
       "      <td>1.070271</td>\n",
       "      <td>POINT (307428.600 3783334.800)</td>\n",
       "    </tr>\n",
       "  </tbody>\n",
       "</table>\n",
       "</div>"
      ],
      "text/plain": [
       "   id    aspect1  elevation1    slope1                        geometry\n",
       "0   0   45.00000         8.0  1.135177  POINT (307121.400 3783334.800)\n",
       "1   1  210.96376         7.0  1.559970  POINT (307198.200 3783334.800)\n",
       "2   2  270.00000         9.0  0.535182  POINT (307275.000 3783334.800)\n",
       "3   3  360.00000        10.0  1.605173  POINT (307351.800 3783334.800)\n",
       "4   4   90.00000         9.0  1.070271  POINT (307428.600 3783334.800)"
      ]
     },
     "metadata": {},
     "output_type": "display_data"
    }
   ],
   "source": [
    "layer_farm=gpd.read_file('/Users/sra/Desktop/Data_Science_2023/_capstone/00_capstone_data/shapefiles/joins/patch_farm_asp_elev_slope.geojson')\n",
    "print(layer_farm.shape)\n",
    "display(layer_farm.head())"
   ]
  },
  {
   "cell_type": "code",
   "execution_count": 53,
   "id": "edd9f35f-58b8-471b-88df-fa0997b32a7c",
   "metadata": {
    "tags": []
   },
   "outputs": [
    {
     "name": "stdout",
     "output_type": "stream",
     "text": [
      "(7524, 5)\n"
     ]
    },
    {
     "data": {
      "text/html": [
       "<div>\n",
       "<style scoped>\n",
       "    .dataframe tbody tr th:only-of-type {\n",
       "        vertical-align: middle;\n",
       "    }\n",
       "\n",
       "    .dataframe tbody tr th {\n",
       "        vertical-align: top;\n",
       "    }\n",
       "\n",
       "    .dataframe thead th {\n",
       "        text-align: right;\n",
       "    }\n",
       "</style>\n",
       "<table border=\"1\" class=\"dataframe\">\n",
       "  <thead>\n",
       "    <tr style=\"text-align: right;\">\n",
       "      <th></th>\n",
       "      <th>id</th>\n",
       "      <th>aspect1</th>\n",
       "      <th>elevation1</th>\n",
       "      <th>slope1</th>\n",
       "      <th>geometry</th>\n",
       "    </tr>\n",
       "  </thead>\n",
       "  <tbody>\n",
       "    <tr>\n",
       "      <th>0</th>\n",
       "      <td>0</td>\n",
       "      <td>14.743560</td>\n",
       "      <td>52.0</td>\n",
       "      <td>12.257875</td>\n",
       "      <td>POINT (310476.000 3778264.200)</td>\n",
       "    </tr>\n",
       "    <tr>\n",
       "      <th>1</th>\n",
       "      <td>1</td>\n",
       "      <td>21.037510</td>\n",
       "      <td>45.0</td>\n",
       "      <td>7.412804</td>\n",
       "      <td>POINT (310552.800 3778264.200)</td>\n",
       "    </tr>\n",
       "    <tr>\n",
       "      <th>2</th>\n",
       "      <td>2</td>\n",
       "      <td>333.434967</td>\n",
       "      <td>45.0</td>\n",
       "      <td>4.775862</td>\n",
       "      <td>POINT (310629.600 3778264.200)</td>\n",
       "    </tr>\n",
       "    <tr>\n",
       "      <th>3</th>\n",
       "      <td>3</td>\n",
       "      <td>283.392487</td>\n",
       "      <td>51.0</td>\n",
       "      <td>5.757210</td>\n",
       "      <td>POINT (310706.400 3778264.200)</td>\n",
       "    </tr>\n",
       "    <tr>\n",
       "      <th>4</th>\n",
       "      <td>4</td>\n",
       "      <td>229.289154</td>\n",
       "      <td>63.0</td>\n",
       "      <td>14.839245</td>\n",
       "      <td>POINT (310783.200 3778264.200)</td>\n",
       "    </tr>\n",
       "  </tbody>\n",
       "</table>\n",
       "</div>"
      ],
      "text/plain": [
       "   id     aspect1  elevation1     slope1                        geometry\n",
       "0   0   14.743560        52.0  12.257875  POINT (310476.000 3778264.200)\n",
       "1   1   21.037510        45.0   7.412804  POINT (310552.800 3778264.200)\n",
       "2   2  333.434967        45.0   4.775862  POINT (310629.600 3778264.200)\n",
       "3   3  283.392487        51.0   5.757210  POINT (310706.400 3778264.200)\n",
       "4   4  229.289154        63.0  14.839245  POINT (310783.200 3778264.200)"
      ]
     },
     "metadata": {},
     "output_type": "display_data"
    }
   ],
   "source": [
    "layer_fire1=gpd.read_file('/Users/sra/Desktop/Data_Science_2023/_capstone/00_capstone_data/shapefiles/joins/patch_fire1_asp_elev_slope.geojson')\n",
    "print(layer_fire1.shape)\n",
    "display(layer_fire1.head())"
   ]
  },
  {
   "cell_type": "code",
   "execution_count": 54,
   "id": "e6ae3091-7784-47cf-bf3b-7632b55accb5",
   "metadata": {
    "tags": []
   },
   "outputs": [
    {
     "name": "stdout",
     "output_type": "stream",
     "text": [
      "(2394, 5)\n"
     ]
    },
    {
     "data": {
      "text/html": [
       "<div>\n",
       "<style scoped>\n",
       "    .dataframe tbody tr th:only-of-type {\n",
       "        vertical-align: middle;\n",
       "    }\n",
       "\n",
       "    .dataframe tbody tr th {\n",
       "        vertical-align: top;\n",
       "    }\n",
       "\n",
       "    .dataframe thead th {\n",
       "        text-align: right;\n",
       "    }\n",
       "</style>\n",
       "<table border=\"1\" class=\"dataframe\">\n",
       "  <thead>\n",
       "    <tr style=\"text-align: right;\">\n",
       "      <th></th>\n",
       "      <th>id</th>\n",
       "      <th>aspect1</th>\n",
       "      <th>elevation1</th>\n",
       "      <th>slope1</th>\n",
       "      <th>geometry</th>\n",
       "    </tr>\n",
       "  </thead>\n",
       "  <tbody>\n",
       "    <tr>\n",
       "      <th>0</th>\n",
       "      <td>0</td>\n",
       "      <td>19.885162</td>\n",
       "      <td>604.0</td>\n",
       "      <td>13.139307</td>\n",
       "      <td>POINT (338507.400 3772576.200)</td>\n",
       "    </tr>\n",
       "    <tr>\n",
       "      <th>1</th>\n",
       "      <td>1</td>\n",
       "      <td>6.892421</td>\n",
       "      <td>604.0</td>\n",
       "      <td>23.176134</td>\n",
       "      <td>POINT (338584.200 3772576.200)</td>\n",
       "    </tr>\n",
       "    <tr>\n",
       "      <th>2</th>\n",
       "      <td>2</td>\n",
       "      <td>9.211024</td>\n",
       "      <td>592.0</td>\n",
       "      <td>19.296698</td>\n",
       "      <td>POINT (338661.000 3772576.200)</td>\n",
       "    </tr>\n",
       "    <tr>\n",
       "      <th>3</th>\n",
       "      <td>3</td>\n",
       "      <td>251.565048</td>\n",
       "      <td>598.0</td>\n",
       "      <td>10.868616</td>\n",
       "      <td>POINT (338737.800 3772576.200)</td>\n",
       "    </tr>\n",
       "    <tr>\n",
       "      <th>4</th>\n",
       "      <td>4</td>\n",
       "      <td>294.928467</td>\n",
       "      <td>618.0</td>\n",
       "      <td>20.086058</td>\n",
       "      <td>POINT (338814.600 3772576.200)</td>\n",
       "    </tr>\n",
       "  </tbody>\n",
       "</table>\n",
       "</div>"
      ],
      "text/plain": [
       "   id     aspect1  elevation1     slope1                        geometry\n",
       "0   0   19.885162       604.0  13.139307  POINT (338507.400 3772576.200)\n",
       "1   1    6.892421       604.0  23.176134  POINT (338584.200 3772576.200)\n",
       "2   2    9.211024       592.0  19.296698  POINT (338661.000 3772576.200)\n",
       "3   3  251.565048       598.0  10.868616  POINT (338737.800 3772576.200)\n",
       "4   4  294.928467       618.0  20.086058  POINT (338814.600 3772576.200)"
      ]
     },
     "metadata": {},
     "output_type": "display_data"
    }
   ],
   "source": [
    "layer_fire2=gpd.read_file('/Users/sra/Desktop/Data_Science_2023/_capstone/00_capstone_data/shapefiles/joins/patch_fire2_asp_elev_slope.geojson')\n",
    "print(layer_fire2.shape)\n",
    "display(layer_fire2.head())"
   ]
  },
  {
   "cell_type": "code",
   "execution_count": 31,
   "id": "41cf22d1-ca48-4ab0-9972-cde9b56afe32",
   "metadata": {},
   "outputs": [
    {
     "name": "stdout",
     "output_type": "stream",
     "text": [
      "Empty GeoDataFrame\n",
      "Columns: [id, aspect1, elevation1, slope1, geometry]\n",
      "Index: []\n"
     ]
    }
   ],
   "source": [
    "# are there any duplicates?\n",
    "dups=layer_city[layer_city.duplicated()]\n",
    "print(dups)"
   ]
  },
  {
   "cell_type": "markdown",
   "id": "b6e0a9e5-091d-40e1-af40-d285b844bbe9",
   "metadata": {},
   "source": [
    "## Inspect dataframes for `NaN`: use `.isna()` and impute values if necessary"
   ]
  },
  {
   "cell_type": "markdown",
   "id": "9553f365-0e55-4180-a886-820295fbf898",
   "metadata": {},
   "source": [
    "### `city`"
   ]
  },
  {
   "cell_type": "code",
   "execution_count": 32,
   "id": "fde689b1-6f1e-47cf-899a-47c1eb008c8b",
   "metadata": {},
   "outputs": [
    {
     "data": {
      "text/plain": [
       "id             0\n",
       "aspect1       92\n",
       "elevation1     0\n",
       "slope1         0\n",
       "geometry       0\n",
       "dtype: int64"
      ]
     },
     "execution_count": 32,
     "metadata": {},
     "output_type": "execute_result"
    }
   ],
   "source": [
    "layer_city.isna().sum()"
   ]
  },
  {
   "cell_type": "code",
   "execution_count": 33,
   "id": "ec1a9442-242c-46ac-902e-a93508e06080",
   "metadata": {},
   "outputs": [
    {
     "data": {
      "text/html": [
       "<div>\n",
       "<style scoped>\n",
       "    .dataframe tbody tr th:only-of-type {\n",
       "        vertical-align: middle;\n",
       "    }\n",
       "\n",
       "    .dataframe tbody tr th {\n",
       "        vertical-align: top;\n",
       "    }\n",
       "\n",
       "    .dataframe thead th {\n",
       "        text-align: right;\n",
       "    }\n",
       "</style>\n",
       "<table border=\"1\" class=\"dataframe\">\n",
       "  <thead>\n",
       "    <tr style=\"text-align: right;\">\n",
       "      <th></th>\n",
       "      <th>id</th>\n",
       "      <th>aspect1</th>\n",
       "      <th>elevation1</th>\n",
       "      <th>slope1</th>\n",
       "      <th>geometry</th>\n",
       "    </tr>\n",
       "  </thead>\n",
       "  <tbody>\n",
       "    <tr>\n",
       "      <th>60</th>\n",
       "      <td>60</td>\n",
       "      <td>NaN</td>\n",
       "      <td>209.0</td>\n",
       "      <td>0.000000</td>\n",
       "      <td>POINT (366044.400 3782022.600)</td>\n",
       "    </tr>\n",
       "    <tr>\n",
       "      <th>99</th>\n",
       "      <td>99</td>\n",
       "      <td>NaN</td>\n",
       "      <td>207.0</td>\n",
       "      <td>0.000000</td>\n",
       "      <td>POINT (369039.600 3782022.600)</td>\n",
       "    </tr>\n",
       "    <tr>\n",
       "      <th>146</th>\n",
       "      <td>146</td>\n",
       "      <td>NaN</td>\n",
       "      <td>201.0</td>\n",
       "      <td>0.000000</td>\n",
       "      <td>POINT (372649.200 3782022.600)</td>\n",
       "    </tr>\n",
       "    <tr>\n",
       "      <th>156</th>\n",
       "      <td>156</td>\n",
       "      <td>NaN</td>\n",
       "      <td>197.0</td>\n",
       "      <td>0.000000</td>\n",
       "      <td>POINT (373417.200 3782022.600)</td>\n",
       "    </tr>\n",
       "    <tr>\n",
       "      <th>171</th>\n",
       "      <td>171</td>\n",
       "      <td>NaN</td>\n",
       "      <td>192.0</td>\n",
       "      <td>0.000000</td>\n",
       "      <td>POINT (374569.200 3782022.600)</td>\n",
       "    </tr>\n",
       "    <tr>\n",
       "      <th>...</th>\n",
       "      <td>...</td>\n",
       "      <td>...</td>\n",
       "      <td>...</td>\n",
       "      <td>...</td>\n",
       "      <td>...</td>\n",
       "    </tr>\n",
       "    <tr>\n",
       "      <th>6706</th>\n",
       "      <td>6706</td>\n",
       "      <td>NaN</td>\n",
       "      <td>177.0</td>\n",
       "      <td>0.000000</td>\n",
       "      <td>POINT (374646.000 3779488.200)</td>\n",
       "    </tr>\n",
       "    <tr>\n",
       "      <th>6902</th>\n",
       "      <td>6902</td>\n",
       "      <td>NaN</td>\n",
       "      <td>180.0</td>\n",
       "      <td>0.000000</td>\n",
       "      <td>POINT (374492.400 3779411.400)</td>\n",
       "    </tr>\n",
       "    <tr>\n",
       "      <th>7031</th>\n",
       "      <td>7031</td>\n",
       "      <td>NaN</td>\n",
       "      <td>195.0</td>\n",
       "      <td>0.535182</td>\n",
       "      <td>POINT (369193.200 3779334.600)</td>\n",
       "    </tr>\n",
       "    <tr>\n",
       "      <th>7112</th>\n",
       "      <td>7112</td>\n",
       "      <td>NaN</td>\n",
       "      <td>174.0</td>\n",
       "      <td>0.000000</td>\n",
       "      <td>POINT (375414.000 3779334.600)</td>\n",
       "    </tr>\n",
       "    <tr>\n",
       "      <th>7493</th>\n",
       "      <td>7493</td>\n",
       "      <td>NaN</td>\n",
       "      <td>179.0</td>\n",
       "      <td>0.000000</td>\n",
       "      <td>POINT (374262.000 3779181.000)</td>\n",
       "    </tr>\n",
       "  </tbody>\n",
       "</table>\n",
       "<p>92 rows × 5 columns</p>\n",
       "</div>"
      ],
      "text/plain": [
       "        id  aspect1  elevation1    slope1                        geometry\n",
       "60      60      NaN       209.0  0.000000  POINT (366044.400 3782022.600)\n",
       "99      99      NaN       207.0  0.000000  POINT (369039.600 3782022.600)\n",
       "146    146      NaN       201.0  0.000000  POINT (372649.200 3782022.600)\n",
       "156    156      NaN       197.0  0.000000  POINT (373417.200 3782022.600)\n",
       "171    171      NaN       192.0  0.000000  POINT (374569.200 3782022.600)\n",
       "...    ...      ...         ...       ...                             ...\n",
       "6706  6706      NaN       177.0  0.000000  POINT (374646.000 3779488.200)\n",
       "6902  6902      NaN       180.0  0.000000  POINT (374492.400 3779411.400)\n",
       "7031  7031      NaN       195.0  0.535182  POINT (369193.200 3779334.600)\n",
       "7112  7112      NaN       174.0  0.000000  POINT (375414.000 3779334.600)\n",
       "7493  7493      NaN       179.0  0.000000  POINT (374262.000 3779181.000)\n",
       "\n",
       "[92 rows x 5 columns]"
      ]
     },
     "execution_count": 33,
     "metadata": {},
     "output_type": "execute_result"
    }
   ],
   "source": [
    "layer_city[layer_city['aspect1'].isna()==True]"
   ]
  },
  {
   "cell_type": "code",
   "execution_count": 34,
   "id": "6f95be1e-9a87-4944-861e-6101616328a9",
   "metadata": {},
   "outputs": [
    {
     "data": {
      "text/plain": [
       "1.2227538543328018"
      ]
     },
     "execution_count": 34,
     "metadata": {},
     "output_type": "execute_result"
    }
   ],
   "source": [
    "perc_nan_city=(layer_city['aspect1'].isna().sum())/(layer_city.shape[0])*100\n",
    "perc_nan_city"
   ]
  },
  {
   "cell_type": "code",
   "execution_count": 36,
   "id": "d013a311-d9c3-4366-9a6f-1de6d9bc225f",
   "metadata": {},
   "outputs": [
    {
     "name": "stdout",
     "output_type": "stream",
     "text": [
      "The percentage of nulls to actual numbers in the aspect column is:\n",
      "~1.22\n"
     ]
    }
   ],
   "source": [
    "print(f'The percentage of nulls to actual numbers in the aspect column is:\\n~{round(perc_nan_city,2)}')"
   ]
  },
  {
   "cell_type": "markdown",
   "id": "310ff843-5875-4ab5-be58-47ad20948bfb",
   "metadata": {},
   "source": [
    "I want to impute an aspect value to the `NaN` rows. What should I do? Looking at the map, the aspect actually has a value, and I'm not sure why it gave a `NaN`. But there are too many to manually update the aspects for. To impute the aspect, I could set a random value to that point, or copy adjacent points. I will try using a nearest-neighbors approach to impute the missing data."
   ]
  },
  {
   "cell_type": "code",
   "execution_count": 20,
   "id": "4f3f6a27-3bd7-4e05-adfa-4da42d1c8172",
   "metadata": {
    "jupyter": {
     "source_hidden": true
    },
    "tags": []
   },
   "outputs": [],
   "source": [
    "# make a function to impute aspect\n",
    "\n",
    "def imputeAspect(df):\n",
    "    '''\n",
    "    Imputes aspect values from nearest neighbors.\n",
    "    \n",
    "    Requires the scipy KDTree module and that the \n",
    "    aspect column is named 'aspect1'.\n",
    "    \n",
    "    'from scipy.spatial import KDTree'\n",
    "    \n",
    "    ----\n",
    "    Input\n",
    "    \n",
    "    > df\n",
    "    the dataframe that you want to impute.\n",
    "    '''\n",
    "    # create a KDTree from the x,y coordinates of the points\n",
    "    tree = KDTree(np.array(df.geometry.apply(lambda geom: (geom.x, geom.y))).tolist())\n",
    "\n",
    "    # get the indices of the NaN values in the 'aspect1' column\n",
    "    nan_idx = df['aspect1'].isna()\n",
    "\n",
    "    # iterate over the NaN indices and impute the values\n",
    "    for idx in nan_idx[nan_idx].index:\n",
    "        # get the 4 nearest neighbors to the point at the current index\n",
    "        _, neighbor_idx = tree.query(np.array(df.loc[idx].geometry.coords)[0], k=4)\n",
    "\n",
    "        # compute the average of the 'aspect1' values of the neighbors\n",
    "        neighbor_vals = df.loc[neighbor_idx].aspect1.dropna()\n",
    "        imputed_val = neighbor_vals.mean()\n",
    "\n",
    "        # set the imputed value for the current index\n",
    "        df.loc[idx, 'aspect1'] = imputed_val"
   ]
  },
  {
   "cell_type": "code",
   "execution_count": 37,
   "id": "810a9652-0cbb-4655-b80e-2e868fa280f5",
   "metadata": {
    "tags": []
   },
   "outputs": [],
   "source": [
    "imputeAspect(layer_city)"
   ]
  },
  {
   "cell_type": "code",
   "execution_count": 39,
   "id": "e53c6a4e-9587-426d-a930-24189f509721",
   "metadata": {},
   "outputs": [
    {
     "data": {
      "text/plain": [
       "id            0\n",
       "aspect1       0\n",
       "elevation1    0\n",
       "slope1        0\n",
       "geometry      0\n",
       "dtype: int64"
      ]
     },
     "execution_count": 39,
     "metadata": {},
     "output_type": "execute_result"
    }
   ],
   "source": [
    "layer_city.isna().sum()"
   ]
  },
  {
   "cell_type": "markdown",
   "id": "10ab96f1-c41e-4224-bf4f-ba2debef4bc9",
   "metadata": {},
   "source": [
    "It worked! Now for the `layer_farm` dataset."
   ]
  },
  {
   "cell_type": "markdown",
   "id": "3d95dfdb-21a3-4ed0-a022-9bc86e6eb72d",
   "metadata": {},
   "source": [
    "### `farm`"
   ]
  },
  {
   "cell_type": "code",
   "execution_count": 40,
   "id": "6eca3476-9d00-4d14-ba90-54694ec93844",
   "metadata": {},
   "outputs": [
    {
     "data": {
      "text/plain": [
       "id              0\n",
       "aspect1       102\n",
       "elevation1      0\n",
       "slope1          0\n",
       "geometry        0\n",
       "dtype: int64"
      ]
     },
     "execution_count": 40,
     "metadata": {},
     "output_type": "execute_result"
    }
   ],
   "source": [
    "layer_farm.isna().sum()"
   ]
  },
  {
   "cell_type": "code",
   "execution_count": 41,
   "id": "0e899fe5-ba0e-4c63-9fdb-e4023b657078",
   "metadata": {},
   "outputs": [
    {
     "data": {
      "text/plain": [
       "4.260651629072681"
      ]
     },
     "execution_count": 41,
     "metadata": {},
     "output_type": "execute_result"
    }
   ],
   "source": [
    "perc_nan_farm=(layer_farm['aspect1'].isna().sum())/(layer_farm.shape[0])*100\n",
    "perc_nan_farm"
   ]
  },
  {
   "cell_type": "code",
   "execution_count": 42,
   "id": "c7af43eb-70bc-47c1-8cab-7c0597fde383",
   "metadata": {},
   "outputs": [
    {
     "name": "stdout",
     "output_type": "stream",
     "text": [
      "The percentage of nulls to actual numbers in the aspect column is:\n",
      "~4.26\n"
     ]
    }
   ],
   "source": [
    "print(f'The percentage of nulls to actual numbers in the aspect column is:\\n~{round(perc_nan_farm,2)}')"
   ]
  },
  {
   "cell_type": "code",
   "execution_count": 43,
   "id": "5b8d28af-109c-4996-bdf1-5cf5ba47dc96",
   "metadata": {
    "tags": []
   },
   "outputs": [],
   "source": [
    "imputeAspect(layer_farm)"
   ]
  },
  {
   "cell_type": "code",
   "execution_count": 44,
   "id": "36014943-e366-4556-94d0-6d609b88f585",
   "metadata": {},
   "outputs": [
    {
     "data": {
      "text/plain": [
       "id            0\n",
       "aspect1       0\n",
       "elevation1    0\n",
       "slope1        0\n",
       "geometry      0\n",
       "dtype: int64"
      ]
     },
     "execution_count": 44,
     "metadata": {},
     "output_type": "execute_result"
    }
   ],
   "source": [
    "layer_farm.isna().sum()"
   ]
  },
  {
   "cell_type": "markdown",
   "id": "b6f641ad-88d9-4d9c-a483-d83d203cee74",
   "metadata": {},
   "source": [
    "### `fire1`"
   ]
  },
  {
   "cell_type": "code",
   "execution_count": 55,
   "id": "c890987d-7f62-4049-b8b5-e819cf918483",
   "metadata": {
    "tags": []
   },
   "outputs": [
    {
     "data": {
      "text/plain": [
       "id            0\n",
       "aspect1       1\n",
       "elevation1    0\n",
       "slope1        0\n",
       "geometry      0\n",
       "dtype: int64"
      ]
     },
     "execution_count": 55,
     "metadata": {},
     "output_type": "execute_result"
    }
   ],
   "source": [
    "layer_fire1.isna().sum()"
   ]
  },
  {
   "cell_type": "code",
   "execution_count": 56,
   "id": "faac987e-47e6-46f4-a89d-46e78a8095ca",
   "metadata": {
    "tags": []
   },
   "outputs": [
    {
     "name": "stdout",
     "output_type": "stream",
     "text": [
      "The percentage of nulls to actual numbers in the aspect column is:\n",
      "~0.01\n"
     ]
    }
   ],
   "source": [
    "perc_nan_fire1=(layer_fire1['aspect1'].isna().sum())/(layer_fire1.shape[0])*100\n",
    "perc_nan_fire1\n",
    "print(f'The percentage of nulls to actual numbers in the aspect column is:\\n~{round(perc_nan_fire1,2)}')\n",
    "imputeAspect(layer_fire1)"
   ]
  },
  {
   "cell_type": "code",
   "execution_count": 57,
   "id": "3df0de77-e05f-4895-af40-cb0d663abab5",
   "metadata": {
    "tags": []
   },
   "outputs": [
    {
     "data": {
      "text/plain": [
       "id            0\n",
       "aspect1       0\n",
       "elevation1    0\n",
       "slope1        0\n",
       "geometry      0\n",
       "dtype: int64"
      ]
     },
     "execution_count": 57,
     "metadata": {},
     "output_type": "execute_result"
    }
   ],
   "source": [
    "layer_fire1.isna().sum()"
   ]
  },
  {
   "cell_type": "markdown",
   "id": "307f4fca-5bc8-47f7-aa7d-91ba00a0bcdc",
   "metadata": {},
   "source": [
    "### `fire2`"
   ]
  },
  {
   "cell_type": "code",
   "execution_count": 58,
   "id": "10643c7e-56ae-4325-bd53-a9b0adc5affd",
   "metadata": {
    "tags": []
   },
   "outputs": [
    {
     "data": {
      "text/plain": [
       "id            0\n",
       "aspect1       0\n",
       "elevation1    0\n",
       "slope1        0\n",
       "geometry      0\n",
       "dtype: int64"
      ]
     },
     "execution_count": 58,
     "metadata": {},
     "output_type": "execute_result"
    }
   ],
   "source": [
    "layer_fire2.isna().sum()"
   ]
  },
  {
   "cell_type": "code",
   "execution_count": 59,
   "id": "034995f5-b05e-40bf-be66-73ee9782dee7",
   "metadata": {
    "tags": []
   },
   "outputs": [
    {
     "name": "stdout",
     "output_type": "stream",
     "text": [
      "The percentage of nulls to actual numbers in the aspect column is:\n",
      "~0.0\n"
     ]
    }
   ],
   "source": [
    "perc_nan_fire2=(layer_fire2['aspect1'].isna().sum())/(layer_fire2.shape[0])*100\n",
    "perc_nan_fire2\n",
    "print(f'The percentage of nulls to actual numbers in the aspect column is:\\n~{round(perc_nan_fire2,2)}')\n",
    "imputeAspect(layer_fire2)"
   ]
  },
  {
   "cell_type": "code",
   "execution_count": 60,
   "id": "0aa33d67-cbac-4b59-b36c-08408e21fa12",
   "metadata": {
    "tags": []
   },
   "outputs": [
    {
     "data": {
      "text/plain": [
       "id            0\n",
       "aspect1       0\n",
       "elevation1    0\n",
       "slope1        0\n",
       "geometry      0\n",
       "dtype: int64"
      ]
     },
     "execution_count": 60,
     "metadata": {},
     "output_type": "execute_result"
    }
   ],
   "source": [
    "layer_fire1.isna().sum()"
   ]
  },
  {
   "cell_type": "markdown",
   "id": "e50124f3-0c9d-4125-b2ef-c9a53bb23fb3",
   "metadata": {},
   "source": [
    "## Combine `city`, `farm`, `fire1`, and `fire2` datasets, in that order"
   ]
  },
  {
   "cell_type": "markdown",
   "id": "64ed2c38-aa26-4177-84da-bd11b9e911fb",
   "metadata": {},
   "source": [
    "First need to create a column denoting which layer is from the fire area and which is from the nofire."
   ]
  },
  {
   "cell_type": "code",
   "execution_count": 62,
   "id": "9828725b-db40-4a88-be83-2e2b0c1e66c4",
   "metadata": {},
   "outputs": [
    {
     "data": {
      "text/html": [
       "<div>\n",
       "<style scoped>\n",
       "    .dataframe tbody tr th:only-of-type {\n",
       "        vertical-align: middle;\n",
       "    }\n",
       "\n",
       "    .dataframe tbody tr th {\n",
       "        vertical-align: top;\n",
       "    }\n",
       "\n",
       "    .dataframe thead th {\n",
       "        text-align: right;\n",
       "    }\n",
       "</style>\n",
       "<table border=\"1\" class=\"dataframe\">\n",
       "  <thead>\n",
       "    <tr style=\"text-align: right;\">\n",
       "      <th></th>\n",
       "      <th>id</th>\n",
       "      <th>aspect1</th>\n",
       "      <th>elevation1</th>\n",
       "      <th>slope1</th>\n",
       "      <th>geometry</th>\n",
       "      <th>fire</th>\n",
       "    </tr>\n",
       "  </thead>\n",
       "  <tbody>\n",
       "    <tr>\n",
       "      <th>0</th>\n",
       "      <td>0</td>\n",
       "      <td>90.000000</td>\n",
       "      <td>229.0</td>\n",
       "      <td>1.891522</td>\n",
       "      <td>POINT (361436.400 3782022.600)</td>\n",
       "      <td>0</td>\n",
       "    </tr>\n",
       "    <tr>\n",
       "      <th>1</th>\n",
       "      <td>1</td>\n",
       "      <td>180.000000</td>\n",
       "      <td>230.0</td>\n",
       "      <td>0.535182</td>\n",
       "      <td>POINT (361513.200 3782022.600)</td>\n",
       "      <td>0</td>\n",
       "    </tr>\n",
       "    <tr>\n",
       "      <th>2</th>\n",
       "      <td>2</td>\n",
       "      <td>147.528809</td>\n",
       "      <td>227.0</td>\n",
       "      <td>2.269464</td>\n",
       "      <td>POINT (361590.000 3782022.600)</td>\n",
       "      <td>0</td>\n",
       "    </tr>\n",
       "  </tbody>\n",
       "</table>\n",
       "</div>"
      ],
      "text/plain": [
       "   id     aspect1  elevation1    slope1                        geometry  fire\n",
       "0   0   90.000000       229.0  1.891522  POINT (361436.400 3782022.600)     0\n",
       "1   1  180.000000       230.0  0.535182  POINT (361513.200 3782022.600)     0\n",
       "2   2  147.528809       227.0  2.269464  POINT (361590.000 3782022.600)     0"
      ]
     },
     "execution_count": 62,
     "metadata": {},
     "output_type": "execute_result"
    }
   ],
   "source": [
    "layer_city['fire']=0\n",
    "layer_city.head(3)"
   ]
  },
  {
   "cell_type": "code",
   "execution_count": 63,
   "id": "eaf48396-80f3-4c7e-a2a2-e5ed6c59c0a2",
   "metadata": {},
   "outputs": [
    {
     "data": {
      "text/html": [
       "<div>\n",
       "<style scoped>\n",
       "    .dataframe tbody tr th:only-of-type {\n",
       "        vertical-align: middle;\n",
       "    }\n",
       "\n",
       "    .dataframe tbody tr th {\n",
       "        vertical-align: top;\n",
       "    }\n",
       "\n",
       "    .dataframe thead th {\n",
       "        text-align: right;\n",
       "    }\n",
       "</style>\n",
       "<table border=\"1\" class=\"dataframe\">\n",
       "  <thead>\n",
       "    <tr style=\"text-align: right;\">\n",
       "      <th></th>\n",
       "      <th>id</th>\n",
       "      <th>aspect1</th>\n",
       "      <th>elevation1</th>\n",
       "      <th>slope1</th>\n",
       "      <th>geometry</th>\n",
       "      <th>fire</th>\n",
       "    </tr>\n",
       "  </thead>\n",
       "  <tbody>\n",
       "    <tr>\n",
       "      <th>0</th>\n",
       "      <td>0</td>\n",
       "      <td>45.00000</td>\n",
       "      <td>8.0</td>\n",
       "      <td>1.135177</td>\n",
       "      <td>POINT (307121.400 3783334.800)</td>\n",
       "      <td>0</td>\n",
       "    </tr>\n",
       "    <tr>\n",
       "      <th>1</th>\n",
       "      <td>1</td>\n",
       "      <td>210.96376</td>\n",
       "      <td>7.0</td>\n",
       "      <td>1.559970</td>\n",
       "      <td>POINT (307198.200 3783334.800)</td>\n",
       "      <td>0</td>\n",
       "    </tr>\n",
       "    <tr>\n",
       "      <th>2</th>\n",
       "      <td>2</td>\n",
       "      <td>270.00000</td>\n",
       "      <td>9.0</td>\n",
       "      <td>0.535182</td>\n",
       "      <td>POINT (307275.000 3783334.800)</td>\n",
       "      <td>0</td>\n",
       "    </tr>\n",
       "  </tbody>\n",
       "</table>\n",
       "</div>"
      ],
      "text/plain": [
       "   id    aspect1  elevation1    slope1                        geometry  fire\n",
       "0   0   45.00000         8.0  1.135177  POINT (307121.400 3783334.800)     0\n",
       "1   1  210.96376         7.0  1.559970  POINT (307198.200 3783334.800)     0\n",
       "2   2  270.00000         9.0  0.535182  POINT (307275.000 3783334.800)     0"
      ]
     },
     "execution_count": 63,
     "metadata": {},
     "output_type": "execute_result"
    }
   ],
   "source": [
    "layer_farm['fire']=0\n",
    "layer_farm.head(3)"
   ]
  },
  {
   "cell_type": "code",
   "execution_count": 64,
   "id": "84e79ce5-2f98-47c1-9186-56666abba1c2",
   "metadata": {
    "tags": []
   },
   "outputs": [
    {
     "data": {
      "text/html": [
       "<div>\n",
       "<style scoped>\n",
       "    .dataframe tbody tr th:only-of-type {\n",
       "        vertical-align: middle;\n",
       "    }\n",
       "\n",
       "    .dataframe tbody tr th {\n",
       "        vertical-align: top;\n",
       "    }\n",
       "\n",
       "    .dataframe thead th {\n",
       "        text-align: right;\n",
       "    }\n",
       "</style>\n",
       "<table border=\"1\" class=\"dataframe\">\n",
       "  <thead>\n",
       "    <tr style=\"text-align: right;\">\n",
       "      <th></th>\n",
       "      <th>id</th>\n",
       "      <th>aspect1</th>\n",
       "      <th>elevation1</th>\n",
       "      <th>slope1</th>\n",
       "      <th>geometry</th>\n",
       "      <th>fire</th>\n",
       "    </tr>\n",
       "  </thead>\n",
       "  <tbody>\n",
       "    <tr>\n",
       "      <th>0</th>\n",
       "      <td>0</td>\n",
       "      <td>14.743560</td>\n",
       "      <td>52.0</td>\n",
       "      <td>12.257875</td>\n",
       "      <td>POINT (310476.000 3778264.200)</td>\n",
       "      <td>1</td>\n",
       "    </tr>\n",
       "    <tr>\n",
       "      <th>1</th>\n",
       "      <td>1</td>\n",
       "      <td>21.037510</td>\n",
       "      <td>45.0</td>\n",
       "      <td>7.412804</td>\n",
       "      <td>POINT (310552.800 3778264.200)</td>\n",
       "      <td>1</td>\n",
       "    </tr>\n",
       "    <tr>\n",
       "      <th>2</th>\n",
       "      <td>2</td>\n",
       "      <td>333.434967</td>\n",
       "      <td>45.0</td>\n",
       "      <td>4.775862</td>\n",
       "      <td>POINT (310629.600 3778264.200)</td>\n",
       "      <td>1</td>\n",
       "    </tr>\n",
       "  </tbody>\n",
       "</table>\n",
       "</div>"
      ],
      "text/plain": [
       "   id     aspect1  elevation1     slope1                        geometry  fire\n",
       "0   0   14.743560        52.0  12.257875  POINT (310476.000 3778264.200)     1\n",
       "1   1   21.037510        45.0   7.412804  POINT (310552.800 3778264.200)     1\n",
       "2   2  333.434967        45.0   4.775862  POINT (310629.600 3778264.200)     1"
      ]
     },
     "execution_count": 64,
     "metadata": {},
     "output_type": "execute_result"
    }
   ],
   "source": [
    "layer_fire1['fire']=1\n",
    "layer_fire1.head(3)"
   ]
  },
  {
   "cell_type": "code",
   "execution_count": 65,
   "id": "4e42f6af-3d28-4c39-b788-14eb21e20a93",
   "metadata": {
    "tags": []
   },
   "outputs": [
    {
     "data": {
      "text/html": [
       "<div>\n",
       "<style scoped>\n",
       "    .dataframe tbody tr th:only-of-type {\n",
       "        vertical-align: middle;\n",
       "    }\n",
       "\n",
       "    .dataframe tbody tr th {\n",
       "        vertical-align: top;\n",
       "    }\n",
       "\n",
       "    .dataframe thead th {\n",
       "        text-align: right;\n",
       "    }\n",
       "</style>\n",
       "<table border=\"1\" class=\"dataframe\">\n",
       "  <thead>\n",
       "    <tr style=\"text-align: right;\">\n",
       "      <th></th>\n",
       "      <th>id</th>\n",
       "      <th>aspect1</th>\n",
       "      <th>elevation1</th>\n",
       "      <th>slope1</th>\n",
       "      <th>geometry</th>\n",
       "      <th>fire</th>\n",
       "    </tr>\n",
       "  </thead>\n",
       "  <tbody>\n",
       "    <tr>\n",
       "      <th>0</th>\n",
       "      <td>0</td>\n",
       "      <td>19.885162</td>\n",
       "      <td>604.0</td>\n",
       "      <td>13.139307</td>\n",
       "      <td>POINT (338507.400 3772576.200)</td>\n",
       "      <td>1</td>\n",
       "    </tr>\n",
       "    <tr>\n",
       "      <th>1</th>\n",
       "      <td>1</td>\n",
       "      <td>6.892421</td>\n",
       "      <td>604.0</td>\n",
       "      <td>23.176134</td>\n",
       "      <td>POINT (338584.200 3772576.200)</td>\n",
       "      <td>1</td>\n",
       "    </tr>\n",
       "    <tr>\n",
       "      <th>2</th>\n",
       "      <td>2</td>\n",
       "      <td>9.211024</td>\n",
       "      <td>592.0</td>\n",
       "      <td>19.296698</td>\n",
       "      <td>POINT (338661.000 3772576.200)</td>\n",
       "      <td>1</td>\n",
       "    </tr>\n",
       "  </tbody>\n",
       "</table>\n",
       "</div>"
      ],
      "text/plain": [
       "   id    aspect1  elevation1     slope1                        geometry  fire\n",
       "0   0  19.885162       604.0  13.139307  POINT (338507.400 3772576.200)     1\n",
       "1   1   6.892421       604.0  23.176134  POINT (338584.200 3772576.200)     1\n",
       "2   2   9.211024       592.0  19.296698  POINT (338661.000 3772576.200)     1"
      ]
     },
     "execution_count": 65,
     "metadata": {},
     "output_type": "execute_result"
    }
   ],
   "source": [
    "layer_fire2['fire']=1\n",
    "layer_fire2.head(3)"
   ]
  },
  {
   "cell_type": "markdown",
   "id": "1aa8fd0d-4b9c-45c2-a040-fc2d6a88520c",
   "metadata": {},
   "source": [
    "Combine the dataframes in the order specified:"
   ]
  },
  {
   "cell_type": "code",
   "execution_count": 66,
   "id": "acba9b25-da34-48cc-9c3b-0e336d8b4115",
   "metadata": {},
   "outputs": [
    {
     "data": {
      "text/html": [
       "<div>\n",
       "<style scoped>\n",
       "    .dataframe tbody tr th:only-of-type {\n",
       "        vertical-align: middle;\n",
       "    }\n",
       "\n",
       "    .dataframe tbody tr th {\n",
       "        vertical-align: top;\n",
       "    }\n",
       "\n",
       "    .dataframe thead th {\n",
       "        text-align: right;\n",
       "    }\n",
       "</style>\n",
       "<table border=\"1\" class=\"dataframe\">\n",
       "  <thead>\n",
       "    <tr style=\"text-align: right;\">\n",
       "      <th></th>\n",
       "      <th>id</th>\n",
       "      <th>aspect1</th>\n",
       "      <th>elevation1</th>\n",
       "      <th>slope1</th>\n",
       "      <th>geometry</th>\n",
       "      <th>fire</th>\n",
       "    </tr>\n",
       "  </thead>\n",
       "  <tbody>\n",
       "    <tr>\n",
       "      <th>0</th>\n",
       "      <td>0</td>\n",
       "      <td>90.000000</td>\n",
       "      <td>229.0</td>\n",
       "      <td>1.891522</td>\n",
       "      <td>POINT (361436.400 3782022.600)</td>\n",
       "      <td>0</td>\n",
       "    </tr>\n",
       "    <tr>\n",
       "      <th>1</th>\n",
       "      <td>1</td>\n",
       "      <td>180.000000</td>\n",
       "      <td>230.0</td>\n",
       "      <td>0.535182</td>\n",
       "      <td>POINT (361513.200 3782022.600)</td>\n",
       "      <td>0</td>\n",
       "    </tr>\n",
       "    <tr>\n",
       "      <th>2</th>\n",
       "      <td>2</td>\n",
       "      <td>147.528809</td>\n",
       "      <td>227.0</td>\n",
       "      <td>2.269464</td>\n",
       "      <td>POINT (361590.000 3782022.600)</td>\n",
       "      <td>0</td>\n",
       "    </tr>\n",
       "    <tr>\n",
       "      <th>3</th>\n",
       "      <td>3</td>\n",
       "      <td>149.036240</td>\n",
       "      <td>226.0</td>\n",
       "      <td>1.559970</td>\n",
       "      <td>POINT (361666.800 3782022.600)</td>\n",
       "      <td>0</td>\n",
       "    </tr>\n",
       "    <tr>\n",
       "      <th>4</th>\n",
       "      <td>4</td>\n",
       "      <td>206.565048</td>\n",
       "      <td>228.0</td>\n",
       "      <td>2.037113</td>\n",
       "      <td>POINT (361743.600 3782022.600)</td>\n",
       "      <td>0</td>\n",
       "    </tr>\n",
       "    <tr>\n",
       "      <th>...</th>\n",
       "      <td>...</td>\n",
       "      <td>...</td>\n",
       "      <td>...</td>\n",
       "      <td>...</td>\n",
       "      <td>...</td>\n",
       "      <td>...</td>\n",
       "    </tr>\n",
       "    <tr>\n",
       "      <th>2389</th>\n",
       "      <td>2389</td>\n",
       "      <td>249.702423</td>\n",
       "      <td>92.0</td>\n",
       "      <td>19.977131</td>\n",
       "      <td>POINT (341041.800 3767814.600)</td>\n",
       "      <td>1</td>\n",
       "    </tr>\n",
       "    <tr>\n",
       "      <th>2390</th>\n",
       "      <td>2390</td>\n",
       "      <td>222.709396</td>\n",
       "      <td>120.0</td>\n",
       "      <td>18.289597</td>\n",
       "      <td>POINT (341118.600 3767814.600)</td>\n",
       "      <td>1</td>\n",
       "    </tr>\n",
       "    <tr>\n",
       "      <th>2391</th>\n",
       "      <td>2391</td>\n",
       "      <td>228.990921</td>\n",
       "      <td>134.0</td>\n",
       "      <td>15.892071</td>\n",
       "      <td>POINT (341195.400 3767814.600)</td>\n",
       "      <td>1</td>\n",
       "    </tr>\n",
       "    <tr>\n",
       "      <th>2392</th>\n",
       "      <td>2392</td>\n",
       "      <td>233.686356</td>\n",
       "      <td>149.0</td>\n",
       "      <td>25.691380</td>\n",
       "      <td>POINT (341272.200 3767814.600)</td>\n",
       "      <td>1</td>\n",
       "    </tr>\n",
       "    <tr>\n",
       "      <th>2393</th>\n",
       "      <td>2393</td>\n",
       "      <td>227.563766</td>\n",
       "      <td>194.0</td>\n",
       "      <td>28.442411</td>\n",
       "      <td>POINT (341349.000 3767814.600)</td>\n",
       "      <td>1</td>\n",
       "    </tr>\n",
       "  </tbody>\n",
       "</table>\n",
       "<p>19836 rows × 6 columns</p>\n",
       "</div>"
      ],
      "text/plain": [
       "        id     aspect1  elevation1     slope1                        geometry  \\\n",
       "0        0   90.000000       229.0   1.891522  POINT (361436.400 3782022.600)   \n",
       "1        1  180.000000       230.0   0.535182  POINT (361513.200 3782022.600)   \n",
       "2        2  147.528809       227.0   2.269464  POINT (361590.000 3782022.600)   \n",
       "3        3  149.036240       226.0   1.559970  POINT (361666.800 3782022.600)   \n",
       "4        4  206.565048       228.0   2.037113  POINT (361743.600 3782022.600)   \n",
       "...    ...         ...         ...        ...                             ...   \n",
       "2389  2389  249.702423        92.0  19.977131  POINT (341041.800 3767814.600)   \n",
       "2390  2390  222.709396       120.0  18.289597  POINT (341118.600 3767814.600)   \n",
       "2391  2391  228.990921       134.0  15.892071  POINT (341195.400 3767814.600)   \n",
       "2392  2392  233.686356       149.0  25.691380  POINT (341272.200 3767814.600)   \n",
       "2393  2393  227.563766       194.0  28.442411  POINT (341349.000 3767814.600)   \n",
       "\n",
       "      fire  \n",
       "0        0  \n",
       "1        0  \n",
       "2        0  \n",
       "3        0  \n",
       "4        0  \n",
       "...    ...  \n",
       "2389     1  \n",
       "2390     1  \n",
       "2391     1  \n",
       "2392     1  \n",
       "2393     1  \n",
       "\n",
       "[19836 rows x 6 columns]"
      ]
     },
     "execution_count": 66,
     "metadata": {},
     "output_type": "execute_result"
    }
   ],
   "source": [
    "layer_combine=pd.concat([layer_city,layer_farm,layer_fire1,layer_fire2],axis=0)\n",
    "layer_combine"
   ]
  },
  {
   "cell_type": "code",
   "execution_count": 67,
   "id": "0caec99f-4d7f-45c2-b946-23637dcf2ff2",
   "metadata": {},
   "outputs": [
    {
     "data": {
      "text/html": [
       "<div>\n",
       "<style scoped>\n",
       "    .dataframe tbody tr th:only-of-type {\n",
       "        vertical-align: middle;\n",
       "    }\n",
       "\n",
       "    .dataframe tbody tr th {\n",
       "        vertical-align: top;\n",
       "    }\n",
       "\n",
       "    .dataframe thead th {\n",
       "        text-align: right;\n",
       "    }\n",
       "</style>\n",
       "<table border=\"1\" class=\"dataframe\">\n",
       "  <thead>\n",
       "    <tr style=\"text-align: right;\">\n",
       "      <th></th>\n",
       "      <th>id</th>\n",
       "      <th>aspect1</th>\n",
       "      <th>elevation1</th>\n",
       "      <th>slope1</th>\n",
       "      <th>fire</th>\n",
       "    </tr>\n",
       "  </thead>\n",
       "  <tbody>\n",
       "    <tr>\n",
       "      <th>count</th>\n",
       "      <td>19836.000000</td>\n",
       "      <td>19836.000000</td>\n",
       "      <td>19836.000000</td>\n",
       "      <td>19836.000000</td>\n",
       "      <td>19836.000000</td>\n",
       "    </tr>\n",
       "    <tr>\n",
       "      <th>mean</th>\n",
       "      <td>3142.362069</td>\n",
       "      <td>178.895378</td>\n",
       "      <td>281.611867</td>\n",
       "      <td>10.670559</td>\n",
       "      <td>0.500000</td>\n",
       "    </tr>\n",
       "    <tr>\n",
       "      <th>std</th>\n",
       "      <td>2213.394884</td>\n",
       "      <td>103.031413</td>\n",
       "      <td>203.469005</td>\n",
       "      <td>10.365280</td>\n",
       "      <td>0.500013</td>\n",
       "    </tr>\n",
       "    <tr>\n",
       "      <th>min</th>\n",
       "      <td>0.000000</td>\n",
       "      <td>0.437359</td>\n",
       "      <td>1.000000</td>\n",
       "      <td>0.000000</td>\n",
       "      <td>0.000000</td>\n",
       "    </tr>\n",
       "    <tr>\n",
       "      <th>25%</th>\n",
       "      <td>1239.000000</td>\n",
       "      <td>93.709311</td>\n",
       "      <td>185.000000</td>\n",
       "      <td>1.891522</td>\n",
       "      <td>0.000000</td>\n",
       "    </tr>\n",
       "    <tr>\n",
       "      <th>50%</th>\n",
       "      <td>2564.500000</td>\n",
       "      <td>176.633545</td>\n",
       "      <td>212.000000</td>\n",
       "      <td>5.890609</td>\n",
       "      <td>0.500000</td>\n",
       "    </tr>\n",
       "    <tr>\n",
       "      <th>75%</th>\n",
       "      <td>5044.000000</td>\n",
       "      <td>261.869904</td>\n",
       "      <td>357.000000</td>\n",
       "      <td>18.752480</td>\n",
       "      <td>1.000000</td>\n",
       "    </tr>\n",
       "    <tr>\n",
       "      <th>max</th>\n",
       "      <td>7523.000000</td>\n",
       "      <td>360.000000</td>\n",
       "      <td>924.000000</td>\n",
       "      <td>64.823074</td>\n",
       "      <td>1.000000</td>\n",
       "    </tr>\n",
       "  </tbody>\n",
       "</table>\n",
       "</div>"
      ],
      "text/plain": [
       "                 id       aspect1    elevation1        slope1          fire\n",
       "count  19836.000000  19836.000000  19836.000000  19836.000000  19836.000000\n",
       "mean    3142.362069    178.895378    281.611867     10.670559      0.500000\n",
       "std     2213.394884    103.031413    203.469005     10.365280      0.500013\n",
       "min        0.000000      0.437359      1.000000      0.000000      0.000000\n",
       "25%     1239.000000     93.709311    185.000000      1.891522      0.000000\n",
       "50%     2564.500000    176.633545    212.000000      5.890609      0.500000\n",
       "75%     5044.000000    261.869904    357.000000     18.752480      1.000000\n",
       "max     7523.000000    360.000000    924.000000     64.823074      1.000000"
      ]
     },
     "execution_count": 67,
     "metadata": {},
     "output_type": "execute_result"
    }
   ],
   "source": [
    "layer_combine.describe()"
   ]
  },
  {
   "cell_type": "markdown",
   "id": "27e897d1-d62f-48ba-8b9b-f81b387af9ae",
   "metadata": {},
   "source": [
    "Mean and median are roughly the same for aspect and elevation. Slope is skewed right."
   ]
  },
  {
   "cell_type": "code",
   "execution_count": 68,
   "id": "9ef7c9fc-583a-4b2f-be1c-813c23bb73fc",
   "metadata": {},
   "outputs": [
    {
     "data": {
      "text/html": [
       "<div>\n",
       "<style scoped>\n",
       "    .dataframe tbody tr th:only-of-type {\n",
       "        vertical-align: middle;\n",
       "    }\n",
       "\n",
       "    .dataframe tbody tr th {\n",
       "        vertical-align: top;\n",
       "    }\n",
       "\n",
       "    .dataframe thead th {\n",
       "        text-align: right;\n",
       "    }\n",
       "</style>\n",
       "<table border=\"1\" class=\"dataframe\">\n",
       "  <thead>\n",
       "    <tr style=\"text-align: right;\">\n",
       "      <th></th>\n",
       "      <th>id</th>\n",
       "      <th>aspect1</th>\n",
       "      <th>elevation1</th>\n",
       "      <th>slope1</th>\n",
       "      <th>fire</th>\n",
       "    </tr>\n",
       "  </thead>\n",
       "  <tbody>\n",
       "    <tr>\n",
       "      <th>count</th>\n",
       "      <td>9918.000000</td>\n",
       "      <td>9918.000000</td>\n",
       "      <td>9918.000000</td>\n",
       "      <td>9918.000000</td>\n",
       "      <td>9918.0</td>\n",
       "    </tr>\n",
       "    <tr>\n",
       "      <th>mean</th>\n",
       "      <td>3142.362069</td>\n",
       "      <td>176.750417</td>\n",
       "      <td>158.715568</td>\n",
       "      <td>2.458668</td>\n",
       "      <td>0.0</td>\n",
       "    </tr>\n",
       "    <tr>\n",
       "      <th>std</th>\n",
       "      <td>2213.450681</td>\n",
       "      <td>105.974963</td>\n",
       "      <td>88.066381</td>\n",
       "      <td>2.617656</td>\n",
       "      <td>0.0</td>\n",
       "    </tr>\n",
       "    <tr>\n",
       "      <th>min</th>\n",
       "      <td>0.000000</td>\n",
       "      <td>1.468800</td>\n",
       "      <td>1.000000</td>\n",
       "      <td>0.000000</td>\n",
       "      <td>0.0</td>\n",
       "    </tr>\n",
       "    <tr>\n",
       "      <th>25%</th>\n",
       "      <td>1239.250000</td>\n",
       "      <td>90.000000</td>\n",
       "      <td>171.000000</td>\n",
       "      <td>1.070271</td>\n",
       "      <td>0.0</td>\n",
       "    </tr>\n",
       "    <tr>\n",
       "      <th>50%</th>\n",
       "      <td>2564.500000</td>\n",
       "      <td>171.869904</td>\n",
       "      <td>197.000000</td>\n",
       "      <td>1.891522</td>\n",
       "      <td>0.0</td>\n",
       "    </tr>\n",
       "    <tr>\n",
       "      <th>75%</th>\n",
       "      <td>5043.750000</td>\n",
       "      <td>270.000000</td>\n",
       "      <td>208.000000</td>\n",
       "      <td>2.879701</td>\n",
       "      <td>0.0</td>\n",
       "    </tr>\n",
       "    <tr>\n",
       "      <th>max</th>\n",
       "      <td>7523.000000</td>\n",
       "      <td>360.000000</td>\n",
       "      <td>324.000000</td>\n",
       "      <td>29.405672</td>\n",
       "      <td>0.0</td>\n",
       "    </tr>\n",
       "  </tbody>\n",
       "</table>\n",
       "</div>"
      ],
      "text/plain": [
       "                id      aspect1   elevation1       slope1    fire\n",
       "count  9918.000000  9918.000000  9918.000000  9918.000000  9918.0\n",
       "mean   3142.362069   176.750417   158.715568     2.458668     0.0\n",
       "std    2213.450681   105.974963    88.066381     2.617656     0.0\n",
       "min       0.000000     1.468800     1.000000     0.000000     0.0\n",
       "25%    1239.250000    90.000000   171.000000     1.070271     0.0\n",
       "50%    2564.500000   171.869904   197.000000     1.891522     0.0\n",
       "75%    5043.750000   270.000000   208.000000     2.879701     0.0\n",
       "max    7523.000000   360.000000   324.000000    29.405672     0.0"
      ]
     },
     "execution_count": 68,
     "metadata": {},
     "output_type": "execute_result"
    }
   ],
   "source": [
    "layer_combine[layer_combine['fire']==0].describe()"
   ]
  },
  {
   "cell_type": "code",
   "execution_count": 69,
   "id": "27799857-325c-4b6c-ac02-b303ccc3811c",
   "metadata": {},
   "outputs": [
    {
     "data": {
      "text/html": [
       "<div>\n",
       "<style scoped>\n",
       "    .dataframe tbody tr th:only-of-type {\n",
       "        vertical-align: middle;\n",
       "    }\n",
       "\n",
       "    .dataframe tbody tr th {\n",
       "        vertical-align: top;\n",
       "    }\n",
       "\n",
       "    .dataframe thead th {\n",
       "        text-align: right;\n",
       "    }\n",
       "</style>\n",
       "<table border=\"1\" class=\"dataframe\">\n",
       "  <thead>\n",
       "    <tr style=\"text-align: right;\">\n",
       "      <th></th>\n",
       "      <th>id</th>\n",
       "      <th>aspect1</th>\n",
       "      <th>elevation1</th>\n",
       "      <th>slope1</th>\n",
       "      <th>fire</th>\n",
       "    </tr>\n",
       "  </thead>\n",
       "  <tbody>\n",
       "    <tr>\n",
       "      <th>count</th>\n",
       "      <td>9918.000000</td>\n",
       "      <td>9918.000000</td>\n",
       "      <td>9918.000000</td>\n",
       "      <td>9918.000000</td>\n",
       "      <td>9918.0</td>\n",
       "    </tr>\n",
       "    <tr>\n",
       "      <th>mean</th>\n",
       "      <td>3142.362069</td>\n",
       "      <td>181.040339</td>\n",
       "      <td>404.508167</td>\n",
       "      <td>18.882451</td>\n",
       "      <td>1.0</td>\n",
       "    </tr>\n",
       "    <tr>\n",
       "      <th>std</th>\n",
       "      <td>2213.450681</td>\n",
       "      <td>99.960587</td>\n",
       "      <td>211.749173</td>\n",
       "      <td>8.552943</td>\n",
       "      <td>0.0</td>\n",
       "    </tr>\n",
       "    <tr>\n",
       "      <th>min</th>\n",
       "      <td>0.000000</td>\n",
       "      <td>0.437359</td>\n",
       "      <td>32.000000</td>\n",
       "      <td>0.000000</td>\n",
       "      <td>1.0</td>\n",
       "    </tr>\n",
       "    <tr>\n",
       "      <th>25%</th>\n",
       "      <td>1239.250000</td>\n",
       "      <td>107.251465</td>\n",
       "      <td>237.000000</td>\n",
       "      <td>12.514403</td>\n",
       "      <td>1.0</td>\n",
       "    </tr>\n",
       "    <tr>\n",
       "      <th>50%</th>\n",
       "      <td>2564.500000</td>\n",
       "      <td>178.736259</td>\n",
       "      <td>357.000000</td>\n",
       "      <td>18.646463</td>\n",
       "      <td>1.0</td>\n",
       "    </tr>\n",
       "    <tr>\n",
       "      <th>75%</th>\n",
       "      <td>5043.750000</td>\n",
       "      <td>257.900124</td>\n",
       "      <td>569.000000</td>\n",
       "      <td>24.880323</td>\n",
       "      <td>1.0</td>\n",
       "    </tr>\n",
       "    <tr>\n",
       "      <th>max</th>\n",
       "      <td>7523.000000</td>\n",
       "      <td>360.000000</td>\n",
       "      <td>924.000000</td>\n",
       "      <td>64.823074</td>\n",
       "      <td>1.0</td>\n",
       "    </tr>\n",
       "  </tbody>\n",
       "</table>\n",
       "</div>"
      ],
      "text/plain": [
       "                id      aspect1   elevation1       slope1    fire\n",
       "count  9918.000000  9918.000000  9918.000000  9918.000000  9918.0\n",
       "mean   3142.362069   181.040339   404.508167    18.882451     1.0\n",
       "std    2213.450681    99.960587   211.749173     8.552943     0.0\n",
       "min       0.000000     0.437359    32.000000     0.000000     1.0\n",
       "25%    1239.250000   107.251465   237.000000    12.514403     1.0\n",
       "50%    2564.500000   178.736259   357.000000    18.646463     1.0\n",
       "75%    5043.750000   257.900124   569.000000    24.880323     1.0\n",
       "max    7523.000000   360.000000   924.000000    64.823074     1.0"
      ]
     },
     "execution_count": 69,
     "metadata": {},
     "output_type": "execute_result"
    }
   ],
   "source": [
    "layer_combine[layer_combine['fire']==1].describe()"
   ]
  },
  {
   "cell_type": "markdown",
   "id": "ff745311-6990-4919-b3bd-3d0a65ddf4d4",
   "metadata": {},
   "source": [
    "Mean elevation is $281$ meters in the combined dataset.\n",
    "* In the fire areas, the mean elevation is $404$ meters. \n",
    "* In the nofire areas, the mean elevation is $158$ meters.\n",
    "\n",
    "Aspect is almost identical between the two areas.\n",
    "\n",
    "Slope is much higher in the fire areas (${\\approx}19{^\\circ}$) versus the nofire (${\\approx}2.5{^\\circ}$) areas."
   ]
  },
  {
   "cell_type": "code",
   "execution_count": 71,
   "id": "6bc5fca5-8665-4343-87ea-11fba9d0da73",
   "metadata": {
    "tags": []
   },
   "outputs": [
    {
     "data": {
      "text/html": [
       "<div>\n",
       "<style scoped>\n",
       "    .dataframe tbody tr th:only-of-type {\n",
       "        vertical-align: middle;\n",
       "    }\n",
       "\n",
       "    .dataframe tbody tr th {\n",
       "        vertical-align: top;\n",
       "    }\n",
       "\n",
       "    .dataframe thead th {\n",
       "        text-align: right;\n",
       "    }\n",
       "</style>\n",
       "<table border=\"1\" class=\"dataframe\">\n",
       "  <thead>\n",
       "    <tr style=\"text-align: right;\">\n",
       "      <th></th>\n",
       "      <th>elevation1</th>\n",
       "      <th>aspect1</th>\n",
       "      <th>slope1</th>\n",
       "      <th>fire</th>\n",
       "    </tr>\n",
       "  </thead>\n",
       "  <tbody>\n",
       "    <tr>\n",
       "      <th>0</th>\n",
       "      <td>229.0</td>\n",
       "      <td>90.000000</td>\n",
       "      <td>1.891522</td>\n",
       "      <td>0</td>\n",
       "    </tr>\n",
       "    <tr>\n",
       "      <th>1</th>\n",
       "      <td>230.0</td>\n",
       "      <td>180.000000</td>\n",
       "      <td>0.535182</td>\n",
       "      <td>0</td>\n",
       "    </tr>\n",
       "    <tr>\n",
       "      <th>2</th>\n",
       "      <td>227.0</td>\n",
       "      <td>147.528809</td>\n",
       "      <td>2.269464</td>\n",
       "      <td>0</td>\n",
       "    </tr>\n",
       "    <tr>\n",
       "      <th>3</th>\n",
       "      <td>226.0</td>\n",
       "      <td>149.036240</td>\n",
       "      <td>1.559970</td>\n",
       "      <td>0</td>\n",
       "    </tr>\n",
       "    <tr>\n",
       "      <th>4</th>\n",
       "      <td>228.0</td>\n",
       "      <td>206.565048</td>\n",
       "      <td>2.037113</td>\n",
       "      <td>0</td>\n",
       "    </tr>\n",
       "    <tr>\n",
       "      <th>...</th>\n",
       "      <td>...</td>\n",
       "      <td>...</td>\n",
       "      <td>...</td>\n",
       "      <td>...</td>\n",
       "    </tr>\n",
       "    <tr>\n",
       "      <th>2389</th>\n",
       "      <td>92.0</td>\n",
       "      <td>249.702423</td>\n",
       "      <td>19.977131</td>\n",
       "      <td>1</td>\n",
       "    </tr>\n",
       "    <tr>\n",
       "      <th>2390</th>\n",
       "      <td>120.0</td>\n",
       "      <td>222.709396</td>\n",
       "      <td>18.289597</td>\n",
       "      <td>1</td>\n",
       "    </tr>\n",
       "    <tr>\n",
       "      <th>2391</th>\n",
       "      <td>134.0</td>\n",
       "      <td>228.990921</td>\n",
       "      <td>15.892071</td>\n",
       "      <td>1</td>\n",
       "    </tr>\n",
       "    <tr>\n",
       "      <th>2392</th>\n",
       "      <td>149.0</td>\n",
       "      <td>233.686356</td>\n",
       "      <td>25.691380</td>\n",
       "      <td>1</td>\n",
       "    </tr>\n",
       "    <tr>\n",
       "      <th>2393</th>\n",
       "      <td>194.0</td>\n",
       "      <td>227.563766</td>\n",
       "      <td>28.442411</td>\n",
       "      <td>1</td>\n",
       "    </tr>\n",
       "  </tbody>\n",
       "</table>\n",
       "<p>19836 rows × 4 columns</p>\n",
       "</div>"
      ],
      "text/plain": [
       "      elevation1     aspect1     slope1  fire\n",
       "0          229.0   90.000000   1.891522     0\n",
       "1          230.0  180.000000   0.535182     0\n",
       "2          227.0  147.528809   2.269464     0\n",
       "3          226.0  149.036240   1.559970     0\n",
       "4          228.0  206.565048   2.037113     0\n",
       "...          ...         ...        ...   ...\n",
       "2389        92.0  249.702423  19.977131     1\n",
       "2390       120.0  222.709396  18.289597     1\n",
       "2391       134.0  228.990921  15.892071     1\n",
       "2392       149.0  233.686356  25.691380     1\n",
       "2393       194.0  227.563766  28.442411     1\n",
       "\n",
       "[19836 rows x 4 columns]"
      ]
     },
     "execution_count": 71,
     "metadata": {},
     "output_type": "execute_result"
    }
   ],
   "source": [
    "# clean up dataframe to have just elevation, aspect, slope, and fire\n",
    "\n",
    "layer_combine=layer_combine[['elevation1','aspect1','slope1','fire']]\n",
    "layer_combine"
   ]
  },
  {
   "cell_type": "code",
   "execution_count": 72,
   "id": "ff9ab10e-87ae-4d01-8215-a0fb686c7411",
   "metadata": {},
   "outputs": [
    {
     "name": "stderr",
     "output_type": "stream",
     "text": [
      "/var/folders/n3/q8wb235x57n_sx2q14dsngjr0000gn/T/ipykernel_22024/1656118329.py:1: SettingWithCopyWarning: \n",
      "A value is trying to be set on a copy of a slice from a DataFrame.\n",
      "Try using .loc[row_indexer,col_indexer] = value instead\n",
      "\n",
      "See the caveats in the documentation: https://pandas.pydata.org/pandas-docs/stable/user_guide/indexing.html#returning-a-view-versus-a-copy\n",
      "  layer_combine.loc[:,'elevation']=layer_combine['elevation1']\n"
     ]
    },
    {
     "data": {
      "text/html": [
       "<div>\n",
       "<style scoped>\n",
       "    .dataframe tbody tr th:only-of-type {\n",
       "        vertical-align: middle;\n",
       "    }\n",
       "\n",
       "    .dataframe tbody tr th {\n",
       "        vertical-align: top;\n",
       "    }\n",
       "\n",
       "    .dataframe thead th {\n",
       "        text-align: right;\n",
       "    }\n",
       "</style>\n",
       "<table border=\"1\" class=\"dataframe\">\n",
       "  <thead>\n",
       "    <tr style=\"text-align: right;\">\n",
       "      <th></th>\n",
       "      <th>elevation</th>\n",
       "      <th>aspect</th>\n",
       "      <th>slope</th>\n",
       "      <th>fire</th>\n",
       "    </tr>\n",
       "  </thead>\n",
       "  <tbody>\n",
       "    <tr>\n",
       "      <th>0</th>\n",
       "      <td>229.0</td>\n",
       "      <td>90.000000</td>\n",
       "      <td>1.891522</td>\n",
       "      <td>0</td>\n",
       "    </tr>\n",
       "    <tr>\n",
       "      <th>1</th>\n",
       "      <td>230.0</td>\n",
       "      <td>180.000000</td>\n",
       "      <td>0.535182</td>\n",
       "      <td>0</td>\n",
       "    </tr>\n",
       "    <tr>\n",
       "      <th>2</th>\n",
       "      <td>227.0</td>\n",
       "      <td>147.528809</td>\n",
       "      <td>2.269464</td>\n",
       "      <td>0</td>\n",
       "    </tr>\n",
       "    <tr>\n",
       "      <th>3</th>\n",
       "      <td>226.0</td>\n",
       "      <td>149.036240</td>\n",
       "      <td>1.559970</td>\n",
       "      <td>0</td>\n",
       "    </tr>\n",
       "    <tr>\n",
       "      <th>4</th>\n",
       "      <td>228.0</td>\n",
       "      <td>206.565048</td>\n",
       "      <td>2.037113</td>\n",
       "      <td>0</td>\n",
       "    </tr>\n",
       "    <tr>\n",
       "      <th>...</th>\n",
       "      <td>...</td>\n",
       "      <td>...</td>\n",
       "      <td>...</td>\n",
       "      <td>...</td>\n",
       "    </tr>\n",
       "    <tr>\n",
       "      <th>19831</th>\n",
       "      <td>92.0</td>\n",
       "      <td>249.702423</td>\n",
       "      <td>19.977131</td>\n",
       "      <td>1</td>\n",
       "    </tr>\n",
       "    <tr>\n",
       "      <th>19832</th>\n",
       "      <td>120.0</td>\n",
       "      <td>222.709396</td>\n",
       "      <td>18.289597</td>\n",
       "      <td>1</td>\n",
       "    </tr>\n",
       "    <tr>\n",
       "      <th>19833</th>\n",
       "      <td>134.0</td>\n",
       "      <td>228.990921</td>\n",
       "      <td>15.892071</td>\n",
       "      <td>1</td>\n",
       "    </tr>\n",
       "    <tr>\n",
       "      <th>19834</th>\n",
       "      <td>149.0</td>\n",
       "      <td>233.686356</td>\n",
       "      <td>25.691380</td>\n",
       "      <td>1</td>\n",
       "    </tr>\n",
       "    <tr>\n",
       "      <th>19835</th>\n",
       "      <td>194.0</td>\n",
       "      <td>227.563766</td>\n",
       "      <td>28.442411</td>\n",
       "      <td>1</td>\n",
       "    </tr>\n",
       "  </tbody>\n",
       "</table>\n",
       "<p>19836 rows × 4 columns</p>\n",
       "</div>"
      ],
      "text/plain": [
       "       elevation      aspect      slope  fire\n",
       "0          229.0   90.000000   1.891522     0\n",
       "1          230.0  180.000000   0.535182     0\n",
       "2          227.0  147.528809   2.269464     0\n",
       "3          226.0  149.036240   1.559970     0\n",
       "4          228.0  206.565048   2.037113     0\n",
       "...          ...         ...        ...   ...\n",
       "19831       92.0  249.702423  19.977131     1\n",
       "19832      120.0  222.709396  18.289597     1\n",
       "19833      134.0  228.990921  15.892071     1\n",
       "19834      149.0  233.686356  25.691380     1\n",
       "19835      194.0  227.563766  28.442411     1\n",
       "\n",
       "[19836 rows x 4 columns]"
      ]
     },
     "execution_count": 72,
     "metadata": {},
     "output_type": "execute_result"
    }
   ],
   "source": [
    "layer_combine.loc[:,'elevation']=layer_combine['elevation1']\n",
    "layer_combine.loc[:,'aspect']=layer_combine['aspect1']\n",
    "layer_combine.loc[:,'slope']=layer_combine['slope1']\n",
    "layer_combine=layer_combine[['elevation','aspect','slope','fire']]\n",
    "layer_combine=layer_combine.reset_index()\n",
    "layer_combine=layer_combine[['elevation','aspect','slope','fire']]\n",
    "layer_combine"
   ]
  },
  {
   "cell_type": "markdown",
   "id": "3ad074ef-45c4-4ff2-9906-cce957f10ec3",
   "metadata": {},
   "source": [
    "### Write `layer_combined` to a `.csv`"
   ]
  },
  {
   "cell_type": "code",
   "execution_count": 73,
   "id": "1c1fa711-9bc0-46f1-9877-7803613c5f05",
   "metadata": {
    "tags": []
   },
   "outputs": [],
   "source": [
    "path='/Users/sra/Desktop/Data_Science_2023/_capstone/00_capstone_data/shapefiles/joins/layer_combine.csv'"
   ]
  },
  {
   "cell_type": "code",
   "execution_count": 74,
   "id": "ad82da30-2174-415f-badb-6bbd96541b84",
   "metadata": {
    "tags": []
   },
   "outputs": [],
   "source": [
    "layer_combine.to_csv(path_or_buf=path,index=False)"
   ]
  },
  {
   "cell_type": "markdown",
   "id": "fbfa0efb-6f8a-4cf8-bbc7-cfa45a7027aa",
   "metadata": {},
   "source": [
    "# Now the `layer_combine.csv` file will be used in the Geoanalysis notebook."
   ]
  },
  {
   "cell_type": "code",
   "execution_count": null,
   "id": "4bc84f3e-8929-49e5-8e2a-b4d9f407f6aa",
   "metadata": {},
   "outputs": [],
   "source": []
  }
 ],
 "metadata": {
  "kernelspec": {
   "display_name": "gis",
   "language": "python",
   "name": "gis"
  },
  "language_info": {
   "codemirror_mode": {
    "name": "ipython",
    "version": 3
   },
   "file_extension": ".py",
   "mimetype": "text/x-python",
   "name": "python",
   "nbconvert_exporter": "python",
   "pygments_lexer": "ipython3",
   "version": "3.10.8"
  }
 },
 "nbformat": 4,
 "nbformat_minor": 5
}
