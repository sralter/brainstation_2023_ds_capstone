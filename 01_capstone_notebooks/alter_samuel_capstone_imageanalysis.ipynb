{
 "cells": [
  {
   "cell_type": "markdown",
   "id": "537a66da-b2a3-4e9a-af40-8a90530ca548",
   "metadata": {},
   "source": [
    "# Welcome  \n",
    "\n",
    "Notebook Author: Samuel Alter  \n",
    "Notebook Subject: Capstone Project - Image Analysis\n",
    "\n",
    "BrainStation Winter 2023: Data Science"
   ]
  },
  {
   "cell_type": "markdown",
   "id": "5a309895-d206-43f0-ba7f-21a35fa580ee",
   "metadata": {},
   "source": [
    "This notebook is for running my images through deep learning networks. The images have been pre-processed in a separate notebook."
   ]
  },
  {
   "cell_type": "markdown",
   "id": "9232d4ba-88f4-4cf5-986f-83ec02913083",
   "metadata": {},
   "source": [
    "Using a pre-trained satellite image classifier from `Kaggle`, I will analyze the my satellite data using a `fire` and `nofire` set of image(s)"
   ]
  },
  {
   "cell_type": "markdown",
   "id": "76c9324a-c086-47ea-b660-3aeb32f28565",
   "metadata": {},
   "source": [
    "`Kaggle` sources, choose one or many:\n",
    "\n",
    "1. [Satellite Image classification by aravindanr](https://www.kaggle.com/code/aravindanr22052001/satellite-image-classification)\n",
    "\n",
    "1. [Intel Image Classification by Puneet Bansal](https://www.kaggle.com/datasets/puneet6060/intel-image-classification)\n",
    "\n",
    "1. [Image Classification using CNN (94%+ Accuracy) by ask9](https://www.kaggle.com/code/arbazkhan971/image-classification-using-cnn-94-accuracy)\n",
    "\n",
    "1. [Satellite Image Classification by Mahmoud Reda](https://www.kaggle.com/datasets/mahmoudreda55/satellite-image-classification)\n",
    "\n",
    "1. [🛰️Satellite Image Classification | CNN by Sujith K Mandala](https://www.kaggle.com/code/sujithmandala/satellite-image-classification-cnn)"
   ]
  },
  {
   "cell_type": "markdown",
   "id": "52eb6ef5-6681-4d13-ab88-4b8d06af0914",
   "metadata": {},
   "source": [
    "I will start with <mark>number 1</mark> because it has the highest accuracy."
   ]
  },
  {
   "cell_type": "markdown",
   "id": "821271c8-f172-477e-b748-fc081a45fed4",
   "metadata": {},
   "source": [
    "## Imports"
   ]
  },
  {
   "cell_type": "code",
   "execution_count": 1,
   "id": "543f9418-ee18-41d9-adcf-704bff82e04f",
   "metadata": {},
   "outputs": [],
   "source": [
    "import numpy as np\n",
    "import pandas as pd\n",
    "import matplotlib.pyplot as plt\n",
    "import seaborn as sns\n",
    "\n",
    "import cv2\n"
   ]
  },
  {
   "cell_type": "code",
   "execution_count": 9,
   "id": "2f6b573f-69b4-4693-9e19-936d7654244f",
   "metadata": {},
   "outputs": [],
   "source": [
    "# from kaggle 1\n",
    "\n",
    "# import cv2\n",
    "# import numpy as np\n",
    "# import pandas as pd \n",
    "# import matplotlib.pyplot as plt \n",
    "\n",
    "# import tensorflow as tf \n",
    "# from keras.models import Sequential \n",
    "# from tensorflow.keras.layers import Dense,Flatten,Conv2D,MaxPooling2D, GlobalAveragePooling2D\n",
    "# from keras.preprocessing.image import ImageDataGenerator, load_img \n",
    "\n",
    "# from IPython import display \n",
    "# display.set_matplotlib_formats('svg')"
   ]
  },
  {
   "cell_type": "markdown",
   "id": "8a86362b-4642-4521-a70a-cae858185b96",
   "metadata": {},
   "source": [
    "### Tutorial for [visualizing tiff files](https://www.geeksforgeeks.org/visualizing-tiff-file-using-matplotlib-and-gdal-using-python/)"
   ]
  },
  {
   "cell_type": "code",
   "execution_count": 15,
   "id": "6a60b361-9678-4e5f-bd10-f6be599008ed",
   "metadata": {},
   "outputs": [],
   "source": [
    "from osgeo import gdal\n",
    "import matplotlib.pyplot as plt\n",
    "\n",
    "fire=r'/Users/sra/Desktop/Data_Science_2023/_capstone/00_capstone_data/orthoimagery/2018/ortho_2018_sm_fire.tif'\n",
    "nofire=r'/Users/sra/Desktop/Data_Science_2023/_capstone/00_capstone_data/orthoimagery/2018/ortho_2018_sm_nofire.tif'\n",
    "  \n",
    "dataset_fire = gdal.Open(fire)"
   ]
  },
  {
   "cell_type": "code",
   "execution_count": 17,
   "id": "16962640-3aef-45f1-b13f-53c87bea73f6",
   "metadata": {},
   "outputs": [
    {
     "name": "stdout",
     "output_type": "stream",
     "text": [
      "4\n"
     ]
    }
   ],
   "source": [
    "# print the number of bands\n",
    "\n",
    "print(dataset_fire.RasterCount)"
   ]
  },
  {
   "cell_type": "code",
   "execution_count": 18,
   "id": "e04b6955-3c7b-4077-b05e-4a7ba50e9f26",
   "metadata": {},
   "outputs": [],
   "source": [
    "# since there are 4 bands\n",
    "# we store in 4 different variables\n",
    "\n",
    "band1_red = dataset.GetRasterBand(1) # Red channel\n",
    "band2_gre = dataset.GetRasterBand(2) # Green channel\n",
    "band3_blu = dataset.GetRasterBand(3) # Blue channel"
   ]
  },
  {
   "cell_type": "code",
   "execution_count": 19,
   "id": "3b1bbfb8-3f64-4917-9588-b509186a3538",
   "metadata": {},
   "outputs": [],
   "source": [
    "# read bands as numpy arrays\n",
    "\n",
    "b1 = band1_red.ReadAsArray()\n",
    "b2 = band2_gre.ReadAsArray()\n",
    "b3 = band3_blu.ReadAsArray()"
   ]
  },
  {
   "cell_type": "code",
   "execution_count": null,
   "id": "af8cb0b7-3517-4ffd-aab6-dcd0eaea9728",
   "metadata": {},
   "outputs": [],
   "source": [
    "# warning: this won't work because the files are too large\n",
    "# # plot the arrays\n",
    "\n",
    "# img = np.dstack((b1, b2, b3))\n",
    "# f = plt.figure()\n",
    "# plt.imshow(img)\n",
    "# plt.savefig('fire.png')\n",
    "# plt.show()"
   ]
  },
  {
   "cell_type": "code",
   "execution_count": 6,
   "id": "842f6cb6-c454-4ab7-8d73-6fcccf3e66cd",
   "metadata": {},
   "outputs": [
    {
     "ename": "ModuleNotFoundError",
     "evalue": "No module named 'gdalconst'",
     "output_type": "error",
     "traceback": [
      "\u001b[0;31m---------------------------------------------------------------------------\u001b[0m",
      "\u001b[0;31mModuleNotFoundError\u001b[0m                       Traceback (most recent call last)",
      "Cell \u001b[0;32mIn[6], line 7\u001b[0m\n\u001b[1;32m      4\u001b[0m nofire\u001b[38;5;241m=\u001b[39m\u001b[38;5;124mr\u001b[39m\u001b[38;5;124m'\u001b[39m\u001b[38;5;124m/Users/sra/Desktop/Data_Science_2023/_capstone/00_capstone_data/orthoimagery/2018/ortho_2018_sm_nofire.tif\u001b[39m\u001b[38;5;124m'\u001b[39m\n\u001b[1;32m      6\u001b[0m \u001b[38;5;28;01mfrom\u001b[39;00m \u001b[38;5;21;01mosgeo\u001b[39;00m \u001b[38;5;28;01mimport\u001b[39;00m gdal\n\u001b[0;32m----> 7\u001b[0m \u001b[38;5;28;01mfrom\u001b[39;00m \u001b[38;5;21;01mgdalconst\u001b[39;00m \u001b[38;5;28;01mimport\u001b[39;00m \u001b[38;5;241m*\u001b[39m\n\u001b[1;32m      9\u001b[0m width \u001b[38;5;241m=\u001b[39m \u001b[38;5;241m512\u001b[39m\n\u001b[1;32m     10\u001b[0m height \u001b[38;5;241m=\u001b[39m \u001b[38;5;241m512\u001b[39m\n",
      "\u001b[0;31mModuleNotFoundError\u001b[0m: No module named 'gdalconst'"
     ]
    }
   ],
   "source": [
    "# https://gis.stackexchange.com/questions/14712/splitting-raster-into-smaller-chunks-using-gdal\n",
    "\n",
    "fire=r'/Users/sra/Desktop/Data_Science_2023/_capstone/00_capstone_data/orthoimagery/2018/ortho_2018_sm_fire.tif'\n",
    "nofire=r'/Users/sra/Desktop/Data_Science_2023/_capstone/00_capstone_data/orthoimagery/2018/ortho_2018_sm_nofire.tif'\n",
    "\n",
    "from osgeo import gdal\n",
    "from gdalconst import *\n",
    "\n",
    "width = 512\n",
    "height = 512\n",
    "tilesize = 64\n",
    "\n",
    "for i in range(0, width, tilesize):\n",
    "    for j in range(0, height, tilesize):\n",
    "        gdaltranString = f\"gdal_translate -of {fire} -srcwin \"+str(i)+\", \"+str(j)+\", \"+str(tilesize)+\", \" \\\n",
    "            +str(tilesize)+\" utm.tif utm_\"+str(i)+\"_\"+str(j)+\".tif\"\n",
    "        os.system(gdaltranString)"
   ]
  },
  {
   "cell_type": "code",
   "execution_count": null,
   "id": "21e5a92d-8d86-4939-b6e1-fed0ebbdae29",
   "metadata": {},
   "outputs": [],
   "source": []
  },
  {
   "cell_type": "code",
   "execution_count": null,
   "id": "f8752dc0-b439-4e3f-a0bc-73f9a3b81c06",
   "metadata": {},
   "outputs": [],
   "source": []
  }
 ],
 "metadata": {
  "kernelspec": {
   "display_name": "gis",
   "language": "python",
   "name": "gis"
  },
  "language_info": {
   "codemirror_mode": {
    "name": "ipython",
    "version": 3
   },
   "file_extension": ".py",
   "mimetype": "text/x-python",
   "name": "python",
   "nbconvert_exporter": "python",
   "pygments_lexer": "ipython3",
   "version": "3.10.9"
  }
 },
 "nbformat": 4,
 "nbformat_minor": 5
}
