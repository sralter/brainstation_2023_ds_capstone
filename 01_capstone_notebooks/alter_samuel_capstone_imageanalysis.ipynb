{
 "cells": [
  {
   "cell_type": "markdown",
   "id": "537a66da-b2a3-4e9a-af40-8a90530ca548",
   "metadata": {},
   "source": [
    "# Welcome  \n",
    "\n",
    "Notebook Author: Samuel Alter  \n",
    "Notebook Subject: Capstone Project - Image Analysis\n",
    "\n",
    "BrainStation Winter 2023: Data Science"
   ]
  },
  {
   "cell_type": "markdown",
   "id": "5a309895-d206-43f0-ba7f-21a35fa580ee",
   "metadata": {},
   "source": [
    "This notebook is for running my satellite images through deep learning networks. The images have been pre-processed in a separate notebook."
   ]
  },
  {
   "cell_type": "markdown",
   "id": "df329c1a-b0f0-4278-b3cf-017e24f143b1",
   "metadata": {},
   "source": [
    "The goal is to find a pre-trained CNN to adapt to our specific use-case of finding insights about wildfire-prone landscapes."
   ]
  },
  {
   "cell_type": "markdown",
   "id": "821271c8-f172-477e-b748-fc081a45fed4",
   "metadata": {},
   "source": [
    "## Imports"
   ]
  },
  {
   "cell_type": "code",
   "execution_count": 87,
   "id": "a5317015-1fc0-4ad5-b52c-612855b18144",
   "metadata": {
    "tags": []
   },
   "outputs": [],
   "source": [
    "import numpy as np\n",
    "import pandas as pd\n",
    "import matplotlib.pyplot as plt\n",
    "import seaborn as sns\n",
    "\n",
    "import os\n",
    "import shutil\n",
    "from PIL import Image\n",
    "import cv2"
   ]
  },
  {
   "cell_type": "markdown",
   "id": "50ecbfa3-8add-4bab-a5da-429c1cdba0a7",
   "metadata": {},
   "source": [
    "## Split all 7760 images in to `train` and `test` splits"
   ]
  },
  {
   "cell_type": "code",
   "execution_count": 138,
   "id": "06ec4b89-3da8-4115-a1c8-d71188cd3375",
   "metadata": {},
   "outputs": [],
   "source": [
    "def createTVTS(start,total_img:int,step=1,\n",
    "              valid_frac=0.15,test_frac=0.15,\n",
    "              replace=False,verbose=True,debug=False):\n",
    "    '''\n",
    "    Creates three lists for a train/validation/test split of \n",
    "    numbered files, such as patches previously made from \n",
    "    a larger image to be used in convolutional neural network \n",
    "    workflows.\n",
    "    \n",
    "    The training fraction of the output is the remainder of\n",
    "    the sum of the validation fraction and the testing fraction:\n",
    "    \n",
    "    train_frac = 1 - (valid_frac + test_frac)\n",
    "    \n",
    "    Default splits are:\n",
    "        0.7    = 1 - (   .15     +    .15 )\n",
    "    \n",
    "    Please ensure that you have a reasonable split amongst these\n",
    "    three groups.\n",
    "    \n",
    "    ----\n",
    "    Inputs:\n",
    "    \n",
    "    >start\n",
    "    starting number for the image patches\n",
    "    \n",
    "    >total_img\n",
    "    serves both as total size of images in the patch set\n",
    "    \n",
    "    >step\n",
    "    defaults to 1, the step size in creating a list of numbers\n",
    "    \n",
    "    >valid_frac\n",
    "    the fraction of the numbers that will be split into the\n",
    "    validation set. Please make the number between 0 and 1\n",
    "    \n",
    "    >train_frac\n",
    "    the fraction of the numbers that will be split into the\n",
    "    training set. Please make the number between 0 and 1\n",
    "    \n",
    "    >replace\n",
    "    since this function is splitting the numbers, replace defaults\n",
    "    to False\n",
    "    \n",
    "    >verbose\n",
    "    runs a line of code to check that the splitting was successful\n",
    "    \n",
    "    >debug\n",
    "    helpful print statements to show you what step function is on.\n",
    "    defaults to not showing these statements\n",
    "    \n",
    "    ----\n",
    "    Outputs:\n",
    "    \n",
    "    >train_valid_test_tuple\n",
    "    a tuple of three lists, containing the train, valid, and\n",
    "    test list that when combined together are the same size as\n",
    "    the total_img value\n",
    "    \n",
    "    '''\n",
    "#     create list with each image's number\n",
    "#     there are `total_img` images each in the fire and nofire datasets\n",
    "    file_nums=np.arange(start,total_img,step)\n",
    "    if debug==True:\n",
    "        print(f'created initial list of size {total_img}')\n",
    "        \n",
    "#     create train fraction\n",
    "    train_frac=1-(valid_frac+test_frac)\n",
    "    if debug==True:\n",
    "        print(f'created train_fraction ({train_frac})')\n",
    "    \n",
    "#     create train, valid, and test splits    \n",
    "    trains = np.random.choice(file_nums,\n",
    "                              size=int(total_img * train_frac),\n",
    "                              replace=False)\n",
    "    if debug==True:\n",
    "        print('created train list')\n",
    "    \n",
    "    valids = np.random.choice(np.setdiff1d(file_nums, trains),\n",
    "                              size=int(total_img * valid_frac),\n",
    "                              replace=False)\n",
    "    if debug==True:\n",
    "        print('created validation list')\n",
    "    \n",
    "    tests = np.random.choice(np.setdiff1d(file_nums, np.concatenate((trains, valids))),\n",
    "                             size=int(total_img * test_frac),\n",
    "                             replace=False)\n",
    "    if debug==True:\n",
    "        print('created test list')\n",
    "    \n",
    "    # tests=list(set(file_nums)-set(trains))\n",
    "\n",
    "    if verbose==True:\n",
    "        print(f'The size of train ({len(trains)}), validation ({len(valids)}), and tests ({len(tests)}) together is {len(trains)+len(valids)+len(tests)}')\n",
    "        if debug==True:\n",
    "            print('printed size of train, validation, and test')\n",
    "            \n",
    "    train_valid_test_tuple=(trains,tests,valids)\n",
    "    if debug==True:\n",
    "         print('created tuple of train, validation, and test')\n",
    "    \n",
    "    return train_valid_test_tuple"
   ]
  },
  {
   "cell_type": "code",
   "execution_count": 139,
   "id": "cebf92b2-7017-4f9a-aa43-8e30af799587",
   "metadata": {},
   "outputs": [
    {
     "name": "stdout",
     "output_type": "stream",
     "text": [
      "created initial list of size 7760\n",
      "created train_fraction (0.7)\n",
      "created train list\n",
      "created validation list\n",
      "created test list\n",
      "The size of train (5432), validation (1164), and tests (1164) together is 7760\n",
      "printed size of train, validation, and test\n",
      "created tuple of train, validation, and test\n",
      "5432\n",
      "1164\n",
      "1164\n",
      "set()\n"
     ]
    }
   ],
   "source": [
    "# run function\n",
    "\n",
    "train_valid_test_tuple=createTVTS(start=0,total_img=7760,\\\n",
    "                           step=1,verbose=True,\\\n",
    "                           debug=True)\n",
    "# train_valid_test_tuple\n",
    "\n",
    "# sanity checks\n",
    "trains=train_valid_test_tuple[0]\n",
    "valids=train_valid_test_tuple[1]\n",
    "tests=train_valid_test_tuple[2]\n",
    "\n",
    "print(len(trains))\n",
    "print(len(valids))\n",
    "print(len(tests))\n",
    "\n",
    "print(set(trains) & set(valids) & set(tests))"
   ]
  },
  {
   "cell_type": "code",
   "execution_count": 140,
   "id": "f6563511-a569-40a2-b071-9110de300ec8",
   "metadata": {},
   "outputs": [
    {
     "data": {
      "text/plain": [
       "array([1179, 5283, 7319, ..., 4356, 5760, 3943])"
      ]
     },
     "execution_count": 140,
     "metadata": {},
     "output_type": "execute_result"
    }
   ],
   "source": [
    "trains"
   ]
  },
  {
   "cell_type": "code",
   "execution_count": 141,
   "id": "b7985ba5-f344-42fc-b9ec-a8b8b9309f41",
   "metadata": {
    "tags": []
   },
   "outputs": [
    {
     "data": {
      "text/plain": [
       "str"
      ]
     },
     "execution_count": 141,
     "metadata": {},
     "output_type": "execute_result"
    }
   ],
   "source": [
    "# convert list of integers to list of strings\n",
    "# important for moving files in next step\n",
    "trains=[str(i) for i in trains]\n",
    "valids=[str(i) for i in valids]\n",
    "tests=[str(i) for i in tests]\n",
    "\n",
    "type(trains[0])"
   ]
  },
  {
   "cell_type": "markdown",
   "id": "beeec780-3924-4593-b22d-eaa12209064b",
   "metadata": {},
   "source": [
    "### Move the images to their corresponding training and validation locations"
   ]
  },
  {
   "cell_type": "code",
   "execution_count": 142,
   "id": "90199f27-f7ab-427d-ba88-3cb71e41c0b2",
   "metadata": {
    "tags": []
   },
   "outputs": [],
   "source": [
    "def copyFileByNumber(source, dest, set_):\n",
    "    '''\n",
    "    Copies files from `source` to `dest` that have numbers \n",
    "    in their filename and that match any element in `set_` \n",
    "    list (either trains, valids, or tests).\n",
    "    \n",
    "    ----\n",
    "    Inputs:\n",
    "    \n",
    "    >source\n",
    "    source of files to be copied\n",
    "    \n",
    "    >dest\n",
    "    destination of files to be moved to\n",
    "    \n",
    "    >set_\n",
    "    specify either the training ('trains'), validation\n",
    "    ('valids') or test ('tests') set\n",
    "    \n",
    "    ----\n",
    "    Outputs:\n",
    "    \n",
    "    >N/A\n",
    "    copies files, no further output\n",
    "    \n",
    "    '''\n",
    "    \n",
    "    for filename in os.listdir(source):\n",
    "        # Get the number in the filename\n",
    "        file_num = \"\".join(filter(str.isdigit, filename))\n",
    "        # Check if the number is in the trains list\n",
    "        if file_num in set_:\n",
    "            # Copy the file to the destination folder\n",
    "            shutil.copy(os.path.join(source, filename), dest)"
   ]
  },
  {
   "cell_type": "code",
   "execution_count": 143,
   "id": "c847cc4e-d525-4b2b-9f2f-eb16322b15a3",
   "metadata": {},
   "outputs": [],
   "source": [
    "def filePresenceSumChecker(directory:str,extension:str,verbose=False):\n",
    "    '''\n",
    "    Checks the sum of all the files with a certain extension.\n",
    "    \n",
    "    Useful to see if a file move process has already been completed.\n",
    "    \n",
    "    ----\n",
    "    Inputs\n",
    "    \n",
    "    >directory\n",
    "    path to a folder to check if files are there\n",
    "    \n",
    "    >extension\n",
    "    user-specified extension to only count those files\n",
    "    \n",
    "    ----\n",
    "    Outputs\n",
    "    \n",
    "    >counter\n",
    "    gives the amount of files within the directory\n",
    "    '''\n",
    "    \n",
    "    counter=0\n",
    "    \n",
    "    # get a list of all files in the directory\n",
    "    files = os.listdir(directory)\n",
    "\n",
    "    # iterate through the files and check if any have the specified extension\n",
    "    for file in files:\n",
    "        if file.endswith(extension):\n",
    "            counter+=1\n",
    "                \n",
    "    if verbose==True:\n",
    "        print(f\"There are {counter} '{extension}' files within {directory}.\")\n",
    "\n",
    "    return counter"
   ]
  },
  {
   "cell_type": "code",
   "execution_count": 144,
   "id": "45d3f3d9-6ef4-4446-aa89-f9dc2533c2fd",
   "metadata": {
    "tags": []
   },
   "outputs": [],
   "source": [
    "# setup loop for copyFileByNumber\n",
    "\n",
    "source_train_fire='/Users/sra/Desktop/Data_Science_2023/_capstone/00_capstone_data/orthoimagery/patches/patch_fire'\n",
    "source_train_nofire='/Users/sra/Desktop/Data_Science_2023/_capstone/00_capstone_data/orthoimagery/patches/patch_nofire'\n",
    "source_valid_fire='/Users/sra/Desktop/Data_Science_2023/_capstone/00_capstone_data/orthoimagery/patches/patch_fire'\n",
    "source_valid_nofire='/Users/sra/Desktop/Data_Science_2023/_capstone/00_capstone_data/orthoimagery/patches/patch_nofire'\n",
    "source_test_fire='/Users/sra/Desktop/Data_Science_2023/_capstone/00_capstone_data/orthoimagery/patches/patch_fire'\n",
    "source_test_nofire='/Users/sra/Desktop/Data_Science_2023/_capstone/00_capstone_data/orthoimagery/patches/patch_nofire'\n",
    "\n",
    "\n",
    "dest_train_fire='/Users/sra/Desktop/Data_Science_2023/_capstone/00_capstone_data/orthoimagery/patches/train/fire'\n",
    "dest_train_nofire='/Users/sra/Desktop/Data_Science_2023/_capstone/00_capstone_data/orthoimagery/patches/train/nofire'\n",
    "dest_valid_fire='/Users/sra/Desktop/Data_Science_2023/_capstone/00_capstone_data/orthoimagery/patches/validation/fire'\n",
    "dest_valid_nofire='/Users/sra/Desktop/Data_Science_2023/_capstone/00_capstone_data/orthoimagery/patches/validation/nofire'\n",
    "dest_test_fire='/Users/sra/Desktop/Data_Science_2023/_capstone/00_capstone_data/orthoimagery/patches/test/fire'\n",
    "dest_test_nofire='/Users/sra/Desktop/Data_Science_2023/_capstone/00_capstone_data/orthoimagery/patches/test/nofire'\n",
    "\n",
    "\n",
    "sources = [source_train_fire,\n",
    "          source_train_nofire,\n",
    "          source_valid_fire,\n",
    "          source_valid_nofire,\n",
    "          source_test_fire,\n",
    "          source_test_nofire]\n",
    "\n",
    "dests = [dest_train_fire,\n",
    "        dest_train_nofire,\n",
    "        dest_valid_fire,\n",
    "        dest_valid_nofire,\n",
    "        dest_test_fire,\n",
    "        dest_test_nofire]\n",
    "\n",
    "sets = [trains,\n",
    "        trains,\n",
    "        valids,\n",
    "        valids,\n",
    "        tests,\n",
    "        tests]"
   ]
  },
  {
   "cell_type": "code",
   "execution_count": 147,
   "id": "6494f4e9-13a3-4012-8d6f-398dd9bd05f0",
   "metadata": {
    "tags": []
   },
   "outputs": [],
   "source": [
    "# run function to move subsets of patches\n",
    "# flow control\n",
    "if filePresenceSumChecker(directory=dests[0],extension='.tif')==0:\n",
    "    for src,des,sts in zip(sources,dests,sets):\n",
    "        copyFileByNumber(source=src,dest=des,set_=sts)"
   ]
  },
  {
   "cell_type": "markdown",
   "id": "c081e783-0513-42d0-83bb-46cb60954136",
   "metadata": {},
   "source": [
    "### Rename files and change to proper format"
   ]
  },
  {
   "cell_type": "markdown",
   "id": "1c2ada1e-bf45-407e-9274-73429f76f27e",
   "metadata": {},
   "source": [
    "Convert filenames from `patch_fire.X.tif` to `patch_fire_X.tif`, where X is a number with one or more digits."
   ]
  },
  {
   "cell_type": "code",
   "execution_count": 148,
   "id": "af9047ad-b6ff-40f8-8040-9270dcb008f4",
   "metadata": {},
   "outputs": [],
   "source": [
    "def fileRenamer(source:str, prefix:str,extension='.tif'):\n",
    "    '''\n",
    "    Renames files to the format provided by the user.\n",
    "    It can help clean an image format to one that can be\n",
    "    read by modules like Tensorflow.\n",
    "    \n",
    "    ----\n",
    "    Inputs:\n",
    "    \n",
    "    >source\n",
    "    the directory where the files are located\n",
    "    \n",
    "    >prefix\n",
    "    the base part of the filename that will remain\n",
    "    \n",
    "    >extension\n",
    "    defaults to '.tif', but this will ensure you only rename\n",
    "    certain files that have the specified extension\n",
    "    \n",
    "    ----\n",
    "    Outputs:\n",
    "    \n",
    "    >N/A\n",
    "    renames files in-place, no further output\n",
    "    '''\n",
    "\n",
    "    # loop over each file from the source directory\n",
    "    for filename in os.listdir(source):\n",
    "        \n",
    "        # check if the file is the provided `ext` (extension)\n",
    "        if filename.endswith(extension):\n",
    "            \n",
    "            # split the filename into base and extension\n",
    "            base, ext = os.path.splitext(filename)\n",
    "            \n",
    "            # split the base into the prefix and number parts\n",
    "            prefix, number = base.split('.', 1)\n",
    "            \n",
    "            # create the new filename with the desired format\n",
    "            new_filename = f'{prefix}_{number}{ext}'\n",
    "            \n",
    "            # rename the file\n",
    "            os.rename(os.path.join(source, filename), \n",
    "                      os.path.join(source, new_filename))"
   ]
  },
  {
   "cell_type": "code",
   "execution_count": 152,
   "id": "5b6a6d5c-3bc8-4053-a789-06b8b77dab93",
   "metadata": {},
   "outputs": [],
   "source": [
    "# make a for loop to rename all the files\n",
    "\n",
    "source_train_fire='/Users/sra/Desktop/Data_Science_2023/_capstone/00_capstone_data/orthoimagery/patches/train/fire'\n",
    "source_train_nofire='/Users/sra/Desktop/Data_Science_2023/_capstone/00_capstone_data/orthoimagery/patches/train/nofire'\n",
    "source_valid_fire='/Users/sra/Desktop/Data_Science_2023/_capstone/00_capstone_data/orthoimagery/patches/validation/fire'\n",
    "source_valid_nofire='/Users/sra/Desktop/Data_Science_2023/_capstone/00_capstone_data/orthoimagery/patches/validation/nofire'\n",
    "source_test_fire='/Users/sra/Desktop/Data_Science_2023/_capstone/00_capstone_data/orthoimagery/patches/test/fire'\n",
    "source_test_nofire='/Users/sra/Desktop/Data_Science_2023/_capstone/00_capstone_data/orthoimagery/patches/test/nofire'\n",
    "\n",
    "\n",
    "sources=[source_train_fire,\n",
    "        source_train_nofire,\n",
    "        source_valid_fire,\n",
    "        source_valid_nofire,\n",
    "        source_test_fire,\n",
    "        source_test_nofire]\n",
    " \n",
    "# flow control\n",
    "if filePresenceSumChecker(directory=source_train_fire,extension='.tif')<0:\n",
    "    for src in sources:    \n",
    "        fileRenamer(source=src,prefix='patch_fire')"
   ]
  },
  {
   "cell_type": "markdown",
   "id": "5bb8ece9-69cd-4bce-ad1c-05618d776159",
   "metadata": {},
   "source": [
    "Convert .tif images to .jpg for `ImageDataGenerator`"
   ]
  },
  {
   "cell_type": "code",
   "execution_count": 155,
   "id": "71f51198-3837-4588-8b68-c0188c761111",
   "metadata": {},
   "outputs": [],
   "source": [
    "def imageConverter(inputPath, outputPath, oldExtension='.tif',newExtension='.jpg',fileType='JPEG',verbose=False):\n",
    "    '''\n",
    "    Iterates through a directory of (default) .tif files and \n",
    "    converts them to (default) .jpg format using Pillow library.\n",
    "\n",
    "    Requires an input directory path \n",
    "    and an output directory path as strings.\n",
    "    \n",
    "    ----\n",
    "    Inputs:\n",
    "    \n",
    "    >inputPath\n",
    "    string path to where the inputs are located\n",
    "    \n",
    "    >outputPath\n",
    "    string path to where the outputs will be located\n",
    "    '''\n",
    "\n",
    "    # create the output directory if it doesn't exist\n",
    "    # os.makedirs(outputPath, exist_ok=True)\n",
    "\n",
    "    # iterate through all files in the input directory\n",
    "    for file_name in os.listdir(inputPath):\n",
    "        if file_name.endswith(oldExtension):\n",
    "            # construct the input and output file paths\n",
    "            input_path = os.path.join(inputPath, file_name)\n",
    "            output_path = os.path.join(outputPath, \n",
    "                                       file_name.replace(oldExtension,\n",
    "                                                         newExtension))\n",
    "\n",
    "            # load the image\n",
    "            # https://stackoverflow.com/questions/40751523/how-do-you-read-a-32-bit-tiff-image-in-python\n",
    "            img = cv2.imread(input_path,-1)\n",
    "            \n",
    "            # convert to RGB format if necessary\n",
    "            if img.shape[2] == 1:\n",
    "                img = cv2.cvtColor(img, cv2.COLOR_GRAY2RGB)\n",
    "            elif img.shape[2] == 4:\n",
    "                img = cv2.cvtColor(img, cv2.COLOR_BGRA2RGB)\n",
    "\n",
    "            # Save the image as a .jpg file\n",
    "            cv2.imwrite(output_path, img, [int(cv2.IMWRITE_JPEG_QUALITY), 90])\n",
    "            \n",
    "            if verbose==True:\n",
    "                print(f\"Conversion complete: {input_path} -> {output_path}\")\n"
   ]
  },
  {
   "cell_type": "code",
   "execution_count": 156,
   "id": "60cfbed2-953a-4999-b590-9bcc132a02f1",
   "metadata": {},
   "outputs": [
    {
     "data": {
      "text/plain": [
       "0"
      ]
     },
     "execution_count": 156,
     "metadata": {},
     "output_type": "execute_result"
    }
   ],
   "source": [
    "directory = '/Users/sra/Desktop/Data_Science_2023/_capstone/00_capstone_data/orthoimagery/patches/validation/nofire'\n",
    "extension = '.jpg'\n",
    "\n",
    "filePresenceSumChecker(directory=directory,extension=extension)"
   ]
  },
  {
   "cell_type": "code",
   "execution_count": 157,
   "id": "d7d693d9-cc5b-4b43-a311-5328e0041ac1",
   "metadata": {},
   "outputs": [],
   "source": [
    "# setup for loop\n",
    "\n",
    "inputPath_train_fire='/Users/sra/Desktop/Data_Science_2023/_capstone/00_capstone_data/orthoimagery/patches/train/fire'\n",
    "inputPath_train_nofire='/Users/sra/Desktop/Data_Science_2023/_capstone/00_capstone_data/orthoimagery/patches/train/nofire'\n",
    "inputPath_valid_fire='/Users/sra/Desktop/Data_Science_2023/_capstone/00_capstone_data/orthoimagery/patches/validation/fire'\n",
    "inputPath_valid_nofire='/Users/sra/Desktop/Data_Science_2023/_capstone/00_capstone_data/orthoimagery/patches/validation/nofire'\n",
    "inputPath_test_fire='/Users/sra/Desktop/Data_Science_2023/_capstone/00_capstone_data/orthoimagery/patches/test/fire'\n",
    "inputPath_test_nofire='/Users/sra/Desktop/Data_Science_2023/_capstone/00_capstone_data/orthoimagery/patches/test/nofire'\n",
    "\n",
    "\n",
    "outputPath_train_fire='/Users/sra/Desktop/Data_Science_2023/_capstone/00_capstone_data/orthoimagery/patches/train/fire'\n",
    "outputPath_train_nofire='/Users/sra/Desktop/Data_Science_2023/_capstone/00_capstone_data/orthoimagery/patches/train/nofire'\n",
    "outputPath_valid_fire='/Users/sra/Desktop/Data_Science_2023/_capstone/00_capstone_data/orthoimagery/patches/validation/fire'\n",
    "outputPath_valid_nofire='/Users/sra/Desktop/Data_Science_2023/_capstone/00_capstone_data/orthoimagery/patches/validation/nofire'\n",
    "outputPath_test_fire='/Users/sra/Desktop/Data_Science_2023/_capstone/00_capstone_data/orthoimagery/patches/test/fire'\n",
    "outputPath_test_nofire='/Users/sra/Desktop/Data_Science_2023/_capstone/00_capstone_data/orthoimagery/patches/test/nofire'\n",
    "\n",
    "\n",
    "inputPaths=[inputPath_train_fire,\n",
    "            inputPath_train_nofire,\n",
    "            inputPath_valid_fire,\n",
    "            inputPath_valid_nofire,\n",
    "            inputPath_test_fire,\n",
    "            inputPath_test_nofire]\n",
    "\n",
    "outputPaths=[outputPath_train_fire,\n",
    "            outputPath_train_nofire,\n",
    "            outputPath_valid_fire,\n",
    "            outputPath_valid_nofire,\n",
    "            outputPath_test_fire,\n",
    "            outputPath_test_nofire]"
   ]
  },
  {
   "cell_type": "code",
   "execution_count": 158,
   "id": "c79af439-5c1c-490a-90af-4649c96c2424",
   "metadata": {},
   "outputs": [],
   "source": [
    "# flow control\n",
    "if filePresenceSumChecker(directory=outputPath_train_fire,extension='.jpg')==0:\n",
    "    for inp,outp in zip(inputPaths,outputPaths):\n",
    "        imageConverter(inputPath=inp,outputPath=outp)"
   ]
  },
  {
   "cell_type": "code",
   "execution_count": 159,
   "id": "261c8e88-61c1-4ccf-8596-7007b90a52ea",
   "metadata": {},
   "outputs": [
    {
     "data": {
      "text/plain": [
       "1164"
      ]
     },
     "execution_count": 159,
     "metadata": {},
     "output_type": "execute_result"
    }
   ],
   "source": [
    "filePresenceSumChecker(directory='/Users/sra/Desktop/Data_Science_2023/_capstone/00_capstone_data/orthoimagery/patches/validation/fire',\n",
    "                      extension='.jpg')"
   ]
  },
  {
   "cell_type": "code",
   "execution_count": 160,
   "id": "4dc1222d-b2d6-459d-800f-157b446a7243",
   "metadata": {
    "tags": []
   },
   "outputs": [],
   "source": [
    "def fileDeleter(source:str, extension:str='.tif'):\n",
    "    '''\n",
    "    Deletes files with the provided extension from the source directory.\n",
    "    \n",
    "    ----\n",
    "    Inputs:\n",
    "    \n",
    "    >source\n",
    "    the directory where the files are located\n",
    "    \n",
    "    >extension\n",
    "    defaults to '.tif', but this will ensure you only delete\n",
    "    certain files that have the specified extension\n",
    "    \n",
    "    ----\n",
    "    Outputs:\n",
    "    \n",
    "    >N/A\n",
    "    deletes files in-place, no further output\n",
    "    '''\n",
    "    \n",
    "    # loop over each file from the source directory\n",
    "    for filename in os.listdir(source):\n",
    "        \n",
    "        # check if the file is the provided `ext` (extension)\n",
    "        if filename.endswith(extension):\n",
    "            \n",
    "            # delete the file\n",
    "            os.remove(os.path.join(source, filename))\n"
   ]
  },
  {
   "cell_type": "code",
   "execution_count": 163,
   "id": "b955b424-12c6-4397-9fdd-e83cb7be262e",
   "metadata": {
    "tags": []
   },
   "outputs": [],
   "source": [
    "# setup for loop\n",
    "\n",
    "inputPath_train_fire='/Users/sra/Desktop/Data_Science_2023/_capstone/00_capstone_data/orthoimagery/patches/train/fire'\n",
    "inputPath_train_nofire='/Users/sra/Desktop/Data_Science_2023/_capstone/00_capstone_data/orthoimagery/patches/train/nofire'\n",
    "inputPath_valid_fire='/Users/sra/Desktop/Data_Science_2023/_capstone/00_capstone_data/orthoimagery/patches/validation/fire'\n",
    "inputPath_valid_nofire='/Users/sra/Desktop/Data_Science_2023/_capstone/00_capstone_data/orthoimagery/patches/validation/nofire'\n",
    "inputPath_test_fire='/Users/sra/Desktop/Data_Science_2023/_capstone/00_capstone_data/orthoimagery/patches/test/fire'\n",
    "inputPath_test_nofire='/Users/sra/Desktop/Data_Science_2023/_capstone/00_capstone_data/orthoimagery/patches/test/nofire'\n",
    "\n",
    "inputPaths=[inputPath_train_fire,\n",
    "            inputPath_train_nofire,\n",
    "            inputPath_valid_fire,\n",
    "            inputPath_valid_nofire,\n",
    "            inputPath_test_fire,\n",
    "            inputPath_test_nofire]"
   ]
  },
  {
   "cell_type": "code",
   "execution_count": 164,
   "id": "3ff704ae-2977-454d-8d8b-ca6889dbc7e7",
   "metadata": {
    "tags": []
   },
   "outputs": [],
   "source": [
    "# flow control\n",
    "if filePresenceSumChecker(directory=inputPath_train_fire,extension='.tif')>0:\n",
    "    for inp in (inputPaths):\n",
    "        fileDeleter(source=inp)"
   ]
  },
  {
   "cell_type": "markdown",
   "id": "d1200a66-7f84-4234-ac6c-14a64dfd051a",
   "metadata": {},
   "source": [
    "## Run the models: `VGG19` and `ResNet50v2`"
   ]
  },
  {
   "cell_type": "markdown",
   "id": "51f949bc-a736-49a6-9b15-219f4a110950",
   "metadata": {},
   "source": [
    "### `VGG19`"
   ]
  },
  {
   "cell_type": "markdown",
   "id": "1b84a129-907c-4a56-9458-a03ae495499a",
   "metadata": {
    "tags": []
   },
   "source": [
    "#### Setup `VGG19`"
   ]
  },
  {
   "cell_type": "code",
   "execution_count": 195,
   "id": "a91ae782-f95e-4ba0-b043-87c4e79ad5d6",
   "metadata": {},
   "outputs": [],
   "source": [
    "from tensorflow.keras.preprocessing.image import ImageDataGenerator"
   ]
  },
  {
   "cell_type": "markdown",
   "id": "45de5dfc-599e-4531-8335-1b37f2b7e603",
   "metadata": {},
   "source": [
    "##### Notes\n",
    "\n",
    "**Adapted from**\n",
    "https://stackoverflow.com/questions/42443936/keras-split-train-test-set-when-using-imagedatagenerator\n",
    "\n",
    "**And**\n",
    "https://www.tensorflow.org/tutorials/keras/save_and_load"
   ]
  },
  {
   "cell_type": "code",
   "execution_count": 196,
   "id": "16be0281-212e-4a77-b6e6-f3493123315f",
   "metadata": {},
   "outputs": [],
   "source": [
    "# import `ImageDataGenerator` to help facilitate \n",
    "# loading images directly from our computer\n",
    "from tensorflow.keras.preprocessing.image import ImageDataGenerator"
   ]
  },
  {
   "cell_type": "code",
   "execution_count": 197,
   "id": "c71ec862-dd6a-4d28-898f-d2581c7c8273",
   "metadata": {},
   "outputs": [
    {
     "name": "stdout",
     "output_type": "stream",
     "text": [
      "Found 2328 images belonging to 2 classes.\n",
      "Found 8692 images belonging to 2 classes.\n",
      "Found 2172 images belonging to 2 classes.\n"
     ]
    }
   ],
   "source": [
    "# use earlystopping to control if epoch length goes for too long\n",
    "# https://stackoverflow.com/questions/45185462/what-does-nb-epoch-in-neural-network-stands-for\n",
    "from keras.callbacks import EarlyStopping\n",
    "early_stopping = EarlyStopping(monitor='val_loss', patience=4, mode='auto')\n",
    "\n",
    "# checkpoint callback\n",
    "checkpoint_path = '/Users/sra/Desktop/Data_Science_2023/_capstone/00_capstone_data/models/_sam_vgg19/model_checkpoints'\n",
    "checkpoint_dir = os.path.dirname(checkpoint_path)\n",
    "\n",
    "# Specify the dimensions for the target preprocess image size\n",
    "# and the variable definitions used below\n",
    "img_height = 128 \n",
    "img_width = 128\n",
    "channels = 3\n",
    "batch_size = 32\n",
    "train_data_dir = '/Users/sra/Desktop/Data_Science_2023/_capstone/00_capstone_data/orthoimagery/patches/train'\n",
    "test_data_dir = '/Users/sra/Desktop/Data_Science_2023/_capstone/00_capstone_data/orthoimagery/patches/test'\n",
    "\n",
    "# Create a callback that saves the model's weights\n",
    "cp_callback = tf.keras.callbacks.ModelCheckpoint(\n",
    "    filepath=checkpoint_path,\n",
    "    save_weights_only=True,\n",
    "    verbose=1,\n",
    "    save_freq=5*batch_size)\n",
    "\n",
    "# instantiate training image data generator\n",
    "train_datagen = ImageDataGenerator(rescale=1./255,\n",
    "    shear_range=0.2,\n",
    "    horizontal_flip=True,\n",
    "    validation_split=0.2) # set validation split\n",
    "\n",
    "test_datagen=ImageDataGenerator(rescale=1./255)\n",
    "\n",
    "test_generator=test_datagen.flow_from_directory(\n",
    "    test_data_dir,\n",
    "    target_size=(img_height, img_width),\n",
    "    color_mode='rgb',\n",
    "    batch_size=batch_size,\n",
    "    class_mode='categorical')\n",
    "\n",
    "train_generator = train_datagen.flow_from_directory(\n",
    "    train_data_dir,\n",
    "    target_size=(img_height, img_width),\n",
    "    batch_size=batch_size,\n",
    "    class_mode='categorical',\n",
    "    subset='training') # set as training data\n",
    "\n",
    "validation_generator = train_datagen.flow_from_directory(\n",
    "    train_data_dir, # same directory as training data\n",
    "    target_size=(img_height, img_width),\n",
    "    batch_size=batch_size,\n",
    "    class_mode='categorical',\n",
    "    subset='validation') # set as validation data\n",
    "\n",
    "X_test, y_test = test_generator.next()"
   ]
  },
  {
   "cell_type": "code",
   "execution_count": 198,
   "id": "9b431e33-e6df-4130-9bd3-1187f28ced2d",
   "metadata": {},
   "outputs": [],
   "source": [
    "from tensorflow.keras.applications import VGG19\n",
    "from tensorflow.keras.models import Model\n",
    "from tensorflow.keras.layers import Dense\n",
    "\n",
    "height = 128 \n",
    "width = 128\n",
    "channels = 3\n",
    "\n",
    "res_model = VGG19(weights='imagenet',\n",
    "                  include_top=False,\n",
    "                  input_shape=(height,width,channels),\n",
    "                  pooling='avg')\n",
    "\n",
    "# Freeze all the layers in the base model\n",
    "for layer in res_model.layers:\n",
    "    layer.trainable = False"
   ]
  },
  {
   "cell_type": "code",
   "execution_count": 199,
   "id": "f300b20a-2bd7-42dd-ad85-466187a5cad6",
   "metadata": {},
   "outputs": [],
   "source": [
    "# because we are focused on two classes (fire/nofire), add a new\n",
    "# final output layer with 2 nodes and a sigmoid activation function\n",
    "x = Dense(2, activation=\"softmax\", name=\"output_\")(res_model.output)\n",
    "res_model = Model(inputs=res_model.input, outputs=x)\n",
    "\n",
    "#https://stackoverflow.com/questions/59100865/trying-to-append-a-dense-layer-to-vgg19-network\n",
    "\n",
    "# print(res_model.summary())"
   ]
  },
  {
   "cell_type": "markdown",
   "id": "c3c26490-0ce0-4174-975c-60afc30c12d1",
   "metadata": {},
   "source": [
    "Visualize the classes:"
   ]
  },
  {
   "cell_type": "code",
   "execution_count": 200,
   "id": "c85e7101-4af8-404f-b424-74a6cb66430f",
   "metadata": {},
   "outputs": [
    {
     "data": {
      "image/png": "[encoded data removed]",
      "text/plain": [
       "<Figure size 900x1400 with 2 Axes>"
      ]
     },
     "metadata": {},
     "output_type": "display_data"
    }
   ],
   "source": [
    "# Grab a batch of images from our validation generator: \n",
    "x, y = validation_generator.next() \n",
    "\n",
    "# Our images labels are one-hot encoded, lets \n",
    "# convert them to ordinal encoding\n",
    "labels = np.argmax(y, axis=1)\n",
    "\n",
    "landscape_classes = ['fire','nofire']\n",
    "\n",
    "fig, ax = plt.subplots(nrows=2, ncols=2, figsize=(9, 14))\n",
    "ax = ax.flatten()\n",
    "\n",
    "for i in range(2):\n",
    "    index = np.argmax(labels==i) \n",
    "    ax[i].imshow(x[index])\n",
    "    \n",
    "    # Set the title of the subplot\n",
    "    ax[i].set_title(landscape_classes[i])\n",
    "    \n",
    "    # Hide the x and y ticks\n",
    "    ax[i].set_xticks([]) \n",
    "    ax[i].set_yticks([])\n",
    "    \n",
    "\n",
    "fig.suptitle(\"Classification Labels\", size = 20)\n",
    "fig.tight_layout()\n",
    "\n",
    "# Delete the two unused subplots\n",
    "fig.delaxes(ax[-1])\n",
    "fig.delaxes(ax[-2])\n",
    "\n",
    "plt.show()"
   ]
  },
  {
   "cell_type": "markdown",
   "id": "359ef694-c06e-437f-8177-2414ca28749d",
   "metadata": {
    "tags": []
   },
   "source": [
    "#### Run `VGG19` model"
   ]
  },
  {
   "cell_type": "code",
   "execution_count": 201,
   "id": "040c0e0a-993a-4a49-a8e9-6e7a4131cb6f",
   "metadata": {
    "tags": []
   },
   "outputs": [
    {
     "name": "stdout",
     "output_type": "stream",
     "text": [
      "Epoch 1/30\n",
      "159/271 [================>.............] - ETA: 2:15 - loss: 0.4694 - accuracy: 0.8668\n",
      "Epoch 00001: saving model to /Users/sra/Desktop/Data_Science_2023/_capstone/00_capstone_data/models/_sam_vgg19/model_checkpoints\n",
      "271/271 [==============================] - 428s 2s/step - loss: 0.3942 - accuracy: 0.8878 - val_loss: 0.5855 - val_accuracy: 0.6320\n",
      "Epoch 2/30\n",
      " 48/271 [====>.........................] - ETA: 5:10 - loss: 0.2564 - accuracy: 0.9154\n",
      "Epoch 00002: saving model to /Users/sra/Desktop/Data_Science_2023/_capstone/00_capstone_data/models/_sam_vgg19/model_checkpoints\n",
      "208/271 [======================>.......] - ETA: 1:55 - loss: 0.2236 - accuracy: 0.9243\n",
      "Epoch 00002: saving model to /Users/sra/Desktop/Data_Science_2023/_capstone/00_capstone_data/models/_sam_vgg19/model_checkpoints\n",
      "271/271 [==============================] - 731s 3s/step - loss: 0.2160 - accuracy: 0.9248 - val_loss: 0.4637 - val_accuracy: 0.6889\n",
      "Epoch 3/30\n",
      " 97/271 [=========>....................] - ETA: 7:06 - loss: 0.1814 - accuracy: 0.9301\n",
      "Epoch 00003: saving model to /Users/sra/Desktop/Data_Science_2023/_capstone/00_capstone_data/models/_sam_vgg19/model_checkpoints\n",
      "257/271 [===========================>..] - ETA: 27s - loss: 0.1725 - accuracy: 0.9347\n",
      "Epoch 00003: saving model to /Users/sra/Desktop/Data_Science_2023/_capstone/00_capstone_data/models/_sam_vgg19/model_checkpoints\n",
      "271/271 [==============================] - 627s 2s/step - loss: 0.1713 - accuracy: 0.9358 - val_loss: 0.3827 - val_accuracy: 0.8354\n",
      "Epoch 4/30\n",
      "146/271 [===============>..............] - ETA: 5:22 - loss: 0.1552 - accuracy: 0.9418\n",
      "Epoch 00004: saving model to /Users/sra/Desktop/Data_Science_2023/_capstone/00_capstone_data/models/_sam_vgg19/model_checkpoints\n",
      "271/271 [==============================] - 705s 3s/step - loss: 0.1488 - accuracy: 0.9467 - val_loss: 0.3832 - val_accuracy: 0.8237\n",
      "Epoch 5/30\n",
      " 35/271 [==>...........................] - ETA: 6:38 - loss: 0.1462 - accuracy: 0.9482\n",
      "Epoch 00005: saving model to /Users/sra/Desktop/Data_Science_2023/_capstone/00_capstone_data/models/_sam_vgg19/model_checkpoints\n",
      "195/271 [====================>.........] - ETA: 2:09 - loss: 0.1372 - accuracy: 0.9502\n",
      "Epoch 00005: saving model to /Users/sra/Desktop/Data_Science_2023/_capstone/00_capstone_data/models/_sam_vgg19/model_checkpoints\n",
      "271/271 [==============================] - 584s 2s/step - loss: 0.1351 - accuracy: 0.9521 - val_loss: 0.3421 - val_accuracy: 0.8731\n",
      "Epoch 6/30\n",
      " 84/271 [========>.....................] - ETA: 5:39 - loss: 0.1312 - accuracy: 0.9539\n",
      "Epoch 00006: saving model to /Users/sra/Desktop/Data_Science_2023/_capstone/00_capstone_data/models/_sam_vgg19/model_checkpoints\n",
      "244/271 [==========================>...] - ETA: 48s - loss: 0.1246 - accuracy: 0.9593\n",
      "Epoch 00006: saving model to /Users/sra/Desktop/Data_Science_2023/_capstone/00_capstone_data/models/_sam_vgg19/model_checkpoints\n",
      "271/271 [==============================] - 594s 2s/step - loss: 0.1240 - accuracy: 0.9591 - val_loss: 0.3071 - val_accuracy: 0.9044\n",
      "Epoch 7/30\n",
      "133/271 [=============>................] - ETA: 3:46 - loss: 0.1197 - accuracy: 0.9609\n",
      "Epoch 00007: saving model to /Users/sra/Desktop/Data_Science_2023/_capstone/00_capstone_data/models/_sam_vgg19/model_checkpoints\n",
      "271/271 [==============================] - 552s 2s/step - loss: 0.1196 - accuracy: 0.9594 - val_loss: 0.3027 - val_accuracy: 0.9067\n",
      "Epoch 8/30\n",
      " 22/271 [=>............................] - ETA: 6:30 - loss: 0.1451 - accuracy: 0.9460\n",
      "Epoch 00008: saving model to /Users/sra/Desktop/Data_Science_2023/_capstone/00_capstone_data/models/_sam_vgg19/model_checkpoints\n",
      "182/271 [===================>..........] - ETA: 2:21 - loss: 0.1159 - accuracy: 0.9632\n",
      "Epoch 00008: saving model to /Users/sra/Desktop/Data_Science_2023/_capstone/00_capstone_data/models/_sam_vgg19/model_checkpoints\n",
      "271/271 [==============================] - 537s 2s/step - loss: 0.1136 - accuracy: 0.9634 - val_loss: 0.3016 - val_accuracy: 0.9067\n",
      "Epoch 9/30\n",
      " 71/271 [======>.......................] - ETA: 5:25 - loss: 0.1044 - accuracy: 0.9679\n",
      "Epoch 00009: saving model to /Users/sra/Desktop/Data_Science_2023/_capstone/00_capstone_data/models/_sam_vgg19/model_checkpoints\n",
      "231/271 [========================>.....] - ETA: 1:05 - loss: 0.1088 - accuracy: 0.9638\n",
      "Epoch 00009: saving model to /Users/sra/Desktop/Data_Science_2023/_capstone/00_capstone_data/models/_sam_vgg19/model_checkpoints\n",
      "271/271 [==============================] - 550s 2s/step - loss: 0.1090 - accuracy: 0.9637 - val_loss: 0.2839 - val_accuracy: 0.9207\n",
      "Epoch 10/30\n",
      "120/271 [============>.................] - ETA: 4:04 - loss: 0.1072 - accuracy: 0.9619\n",
      "Epoch 00010: saving model to /Users/sra/Desktop/Data_Science_2023/_capstone/00_capstone_data/models/_sam_vgg19/model_checkpoints\n",
      "271/271 [==============================] - 548s 2s/step - loss: 0.1064 - accuracy: 0.9636 - val_loss: 0.2767 - val_accuracy: 0.9179\n",
      "Epoch 11/30\n",
      "  9/271 [..............................] - ETA: 7:05 - loss: 0.1048 - accuracy: 0.9583\n",
      "Epoch 00011: saving model to /Users/sra/Desktop/Data_Science_2023/_capstone/00_capstone_data/models/_sam_vgg19/model_checkpoints\n",
      "169/271 [=================>............] - ETA: 2:42 - loss: 0.1105 - accuracy: 0.9615\n",
      "Epoch 00011: saving model to /Users/sra/Desktop/Data_Science_2023/_capstone/00_capstone_data/models/_sam_vgg19/model_checkpoints\n",
      "271/271 [==============================] - 540s 2s/step - loss: 0.1044 - accuracy: 0.9643 - val_loss: 0.2719 - val_accuracy: 0.9230\n",
      "Epoch 12/30\n",
      " 58/271 [=====>........................] - ETA: 5:45 - loss: 0.1077 - accuracy: 0.9564\n",
      "Epoch 00012: saving model to /Users/sra/Desktop/Data_Science_2023/_capstone/00_capstone_data/models/_sam_vgg19/model_checkpoints\n",
      "218/271 [=======================>......] - ETA: 1:26 - loss: 0.0990 - accuracy: 0.9657\n",
      "Epoch 00012: saving model to /Users/sra/Desktop/Data_Science_2023/_capstone/00_capstone_data/models/_sam_vgg19/model_checkpoints\n",
      "271/271 [==============================] - 554s 2s/step - loss: 0.1025 - accuracy: 0.9649 - val_loss: 0.2759 - val_accuracy: 0.9202\n",
      "Epoch 13/30\n",
      "107/271 [==========>...................] - ETA: 4:36 - loss: 0.0916 - accuracy: 0.9716\n",
      "Epoch 00013: saving model to /Users/sra/Desktop/Data_Science_2023/_capstone/00_capstone_data/models/_sam_vgg19/model_checkpoints\n",
      "267/271 [============================>.] - ETA: 6s - loss: 0.0992 - accuracy: 0.9653\n",
      "Epoch 00013: saving model to /Users/sra/Desktop/Data_Science_2023/_capstone/00_capstone_data/models/_sam_vgg19/model_checkpoints\n",
      "271/271 [==============================] - 566s 2s/step - loss: 0.0990 - accuracy: 0.9655 - val_loss: 0.2735 - val_accuracy: 0.9179\n",
      "Epoch 14/30\n",
      "156/271 [================>.............] - ETA: 3:10 - loss: 0.1006 - accuracy: 0.9629\n",
      "Epoch 00014: saving model to /Users/sra/Desktop/Data_Science_2023/_capstone/00_capstone_data/models/_sam_vgg19/model_checkpoints\n",
      "271/271 [==============================] - 554s 2s/step - loss: 0.0988 - accuracy: 0.9655 - val_loss: 0.2785 - val_accuracy: 0.9170\n",
      "Epoch 15/30\n",
      " 45/271 [===>..........................] - ETA: 6:00 - loss: 0.0896 - accuracy: 0.9667\n",
      "Epoch 00015: saving model to /Users/sra/Desktop/Data_Science_2023/_capstone/00_capstone_data/models/_sam_vgg19/model_checkpoints\n",
      "205/271 [=====================>........] - ETA: 1:46 - loss: 0.0935 - accuracy: 0.9675\n",
      "Epoch 00015: saving model to /Users/sra/Desktop/Data_Science_2023/_capstone/00_capstone_data/models/_sam_vgg19/model_checkpoints\n",
      "271/271 [==============================] - 551s 2s/step - loss: 0.0974 - accuracy: 0.9658 - val_loss: 0.2814 - val_accuracy: 0.9188\n"
     ]
    }
   ],
   "source": [
    "# compile VGG19 model\n",
    "# adapted from\n",
    "# https://github.com/ZeeTsing/Dogs_breed_classification/blob/master/3_inceptionres_best.ipynb\n",
    "import tensorflow as tf\n",
    "\n",
    "adam = tf.keras.optimizers.Adam(learning_rate=0.001)\n",
    "\n",
    "num_classes=2\n",
    "\n",
    "res_model.compile(optimizer = adam, \n",
    "              loss = 'binary_crossentropy', \n",
    "              metrics=['accuracy'])\n",
    "\n",
    "# save the weights using the `checkpoint_path` format\n",
    "res_model.save_weights(checkpoint_path.format(epoch=0))\n",
    "\n",
    "history=res_model.fit(\n",
    "    train_generator,\n",
    "    steps_per_epoch = train_generator.samples // batch_size,\n",
    "    validation_data = validation_generator, \n",
    "    validation_steps = validation_generator.samples // batch_size,\n",
    "    epochs = 30,\n",
    "    verbose = True,\n",
    "    callbacks = [early_stopping,cp_callback]) #early stop and checkpoints\n",
    "\n",
    "# save the model\n",
    "res_model.save('/Users/sra/Desktop/Data_Science_2023/_capstone/00_capstone_data/models/_sam_vgg19/vgg19_20230330.h5')"
   ]
  },
  {
   "cell_type": "markdown",
   "id": "1c83ec41-e9f3-49f3-9311-00b348efbc1e",
   "metadata": {
    "tags": []
   },
   "source": [
    "##### Load model from checkpoint"
   ]
  },
  {
   "cell_type": "code",
   "execution_count": 202,
   "id": "4cda6ec1-b29b-4d80-b419-c5e2335ad268",
   "metadata": {
    "tags": []
   },
   "outputs": [],
   "source": [
    "loaded_model=keras.models.load_model('/Users/sra/Desktop/Data_Science_2023/_capstone/00_capstone_data/models/_sam_vgg19/vgg19_20230330.h5')"
   ]
  },
  {
   "cell_type": "code",
   "execution_count": 203,
   "id": "52068fb6-b1f1-4e0a-a953-e5ca461bacf7",
   "metadata": {
    "tags": []
   },
   "outputs": [
    {
     "name": "stdout",
     "output_type": "stream",
     "text": [
      "Model: \"model_10\"\n",
      "_________________________________________________________________\n",
      " Layer (type)                Output Shape              Param #   \n",
      "=================================================================\n",
      " input_9 (InputLayer)        [(None, 128, 128, 3)]     0         \n",
      "                                                                 \n",
      " block1_conv1 (Conv2D)       (None, 128, 128, 64)      1792      \n",
      "                                                                 \n",
      " block1_conv2 (Conv2D)       (None, 128, 128, 64)      36928     \n",
      "                                                                 \n",
      " block1_pool (MaxPooling2D)  (None, 64, 64, 64)        0         \n",
      "                                                                 \n",
      " block2_conv1 (Conv2D)       (None, 64, 64, 128)       73856     \n",
      "                                                                 \n",
      " block2_conv2 (Conv2D)       (None, 64, 64, 128)       147584    \n",
      "                                                                 \n",
      " block2_pool (MaxPooling2D)  (None, 32, 32, 128)       0         \n",
      "                                                                 \n",
      " block3_conv1 (Conv2D)       (None, 32, 32, 256)       295168    \n",
      "                                                                 \n",
      " block3_conv2 (Conv2D)       (None, 32, 32, 256)       590080    \n",
      "                                                                 \n",
      " block3_conv3 (Conv2D)       (None, 32, 32, 256)       590080    \n",
      "                                                                 \n",
      " block3_conv4 (Conv2D)       (None, 32, 32, 256)       590080    \n",
      "                                                                 \n",
      " block3_pool (MaxPooling2D)  (None, 16, 16, 256)       0         \n",
      "                                                                 \n",
      " block4_conv1 (Conv2D)       (None, 16, 16, 512)       1180160   \n",
      "                                                                 \n",
      " block4_conv2 (Conv2D)       (None, 16, 16, 512)       2359808   \n",
      "                                                                 \n",
      " block4_conv3 (Conv2D)       (None, 16, 16, 512)       2359808   \n",
      "                                                                 \n",
      " block4_conv4 (Conv2D)       (None, 16, 16, 512)       2359808   \n",
      "                                                                 \n",
      " block4_pool (MaxPooling2D)  (None, 8, 8, 512)         0         \n",
      "                                                                 \n",
      " block5_conv1 (Conv2D)       (None, 8, 8, 512)         2359808   \n",
      "                                                                 \n",
      " block5_conv2 (Conv2D)       (None, 8, 8, 512)         2359808   \n",
      "                                                                 \n",
      " block5_conv3 (Conv2D)       (None, 8, 8, 512)         2359808   \n",
      "                                                                 \n",
      " block5_conv4 (Conv2D)       (None, 8, 8, 512)         2359808   \n",
      "                                                                 \n",
      " block5_pool (MaxPooling2D)  (None, 4, 4, 512)         0         \n",
      "                                                                 \n",
      " global_average_pooling2d_8   (None, 512)              0         \n",
      " (GlobalAveragePooling2D)                                        \n",
      "                                                                 \n",
      " output_ (Dense)             (None, 2)                 1026      \n",
      "                                                                 \n",
      "=================================================================\n",
      "Total params: 20,025,410\n",
      "Trainable params: 1,026\n",
      "Non-trainable params: 20,024,384\n",
      "_________________________________________________________________\n"
     ]
    }
   ],
   "source": [
    "loaded_model.summary()"
   ]
  },
  {
   "cell_type": "markdown",
   "id": "e93b7c53-c42e-422b-abb7-235b495f538d",
   "metadata": {
    "tags": []
   },
   "source": [
    "#### Evaluate 'VGG19' model"
   ]
  },
  {
   "cell_type": "code",
   "execution_count": 205,
   "id": "ccb95abd-58b6-4bbe-9524-563e7485d899",
   "metadata": {
    "tags": []
   },
   "outputs": [
    {
     "ename": "ValueError",
     "evalue": "`y` argument is not supported when using `keras.utils.Sequence` as input.",
     "output_type": "error",
     "traceback": [
      "\u001b[0;31m---------------------------------------------------------------------------\u001b[0m",
      "\u001b[0;31mValueError\u001b[0m                                Traceback (most recent call last)",
      "Cell \u001b[0;32mIn[205], line 18\u001b[0m\n\u001b[1;32m      1\u001b[0m \u001b[38;5;66;03m# save the entire model as a SavedModel\u001b[39;00m\n\u001b[1;32m      2\u001b[0m \u001b[38;5;66;03m# !mkdir -p saved_moderes_models_model.save('/Users/sra/Desktop/Data_Science_2023/_capstone/00_capstone_data/models/_sam_vgg19/saved_model/vgg19_01')\u001b[39;00m\n\u001b[1;32m      3\u001b[0m \n\u001b[0;32m   (...)\u001b[0m\n\u001b[1;32m     16\u001b[0m \n\u001b[1;32m     17\u001b[0m \u001b[38;5;66;03m# check its accuracy\u001b[39;00m\n\u001b[0;32m---> 18\u001b[0m loss, acc \u001b[38;5;241m=\u001b[39m \u001b[43mloaded_model\u001b[49m\u001b[38;5;241;43m.\u001b[39;49m\u001b[43mevaluate\u001b[49m\u001b[43m(\u001b[49m\u001b[43mtest_generator\u001b[49m\u001b[43m,\u001b[49m\u001b[43m \u001b[49m\u001b[43mlandscape_classes\u001b[49m\u001b[43m,\u001b[49m\u001b[43m \u001b[49m\u001b[43mverbose\u001b[49m\u001b[38;5;241;43m=\u001b[39;49m\u001b[38;5;241;43m2\u001b[39;49m\u001b[43m)\u001b[49m\n\u001b[1;32m     19\u001b[0m \u001b[38;5;28mprint\u001b[39m(\u001b[38;5;124m'\u001b[39m\u001b[38;5;124mRestored model, accuracy: \u001b[39m\u001b[38;5;132;01m{:5.2f}\u001b[39;00m\u001b[38;5;124m%\u001b[39m\u001b[38;5;124m'\u001b[39m\u001b[38;5;241m.\u001b[39mformat(\u001b[38;5;241m100\u001b[39m \u001b[38;5;241m*\u001b[39m acc))\n",
      "File \u001b[0;32m/Applications/Anaconda/anaconda3/envs/deeplearning/lib/python3.8/site-packages/keras/utils/traceback_utils.py:67\u001b[0m, in \u001b[0;36mfilter_traceback.<locals>.error_handler\u001b[0;34m(*args, **kwargs)\u001b[0m\n\u001b[1;32m     65\u001b[0m \u001b[38;5;28;01mexcept\u001b[39;00m \u001b[38;5;167;01mException\u001b[39;00m \u001b[38;5;28;01mas\u001b[39;00m e:  \u001b[38;5;66;03m# pylint: disable=broad-except\u001b[39;00m\n\u001b[1;32m     66\u001b[0m   filtered_tb \u001b[38;5;241m=\u001b[39m _process_traceback_frames(e\u001b[38;5;241m.\u001b[39m__traceback__)\n\u001b[0;32m---> 67\u001b[0m   \u001b[38;5;28;01mraise\u001b[39;00m e\u001b[38;5;241m.\u001b[39mwith_traceback(filtered_tb) \u001b[38;5;28;01mfrom\u001b[39;00m \u001b[38;5;28mNone\u001b[39m\n\u001b[1;32m     68\u001b[0m \u001b[38;5;28;01mfinally\u001b[39;00m:\n\u001b[1;32m     69\u001b[0m   \u001b[38;5;28;01mdel\u001b[39;00m filtered_tb\n",
      "File \u001b[0;32m/Applications/Anaconda/anaconda3/envs/deeplearning/lib/python3.8/site-packages/keras/engine/data_adapter.py:919\u001b[0m, in \u001b[0;36mKerasSequenceAdapter.__init__\u001b[0;34m(self, x, y, sample_weights, shuffle, workers, use_multiprocessing, max_queue_size, model, **kwargs)\u001b[0m\n\u001b[1;32m    908\u001b[0m \u001b[38;5;28;01mdef\u001b[39;00m \u001b[38;5;21m__init__\u001b[39m(\u001b[38;5;28mself\u001b[39m,\n\u001b[1;32m    909\u001b[0m              x,\n\u001b[1;32m    910\u001b[0m              y\u001b[38;5;241m=\u001b[39m\u001b[38;5;28;01mNone\u001b[39;00m,\n\u001b[0;32m   (...)\u001b[0m\n\u001b[1;32m    916\u001b[0m              model\u001b[38;5;241m=\u001b[39m\u001b[38;5;28;01mNone\u001b[39;00m,\n\u001b[1;32m    917\u001b[0m              \u001b[38;5;241m*\u001b[39m\u001b[38;5;241m*\u001b[39mkwargs):\n\u001b[1;32m    918\u001b[0m   \u001b[38;5;28;01mif\u001b[39;00m \u001b[38;5;129;01mnot\u001b[39;00m is_none_or_empty(y):\n\u001b[0;32m--> 919\u001b[0m     \u001b[38;5;28;01mraise\u001b[39;00m \u001b[38;5;167;01mValueError\u001b[39;00m(\u001b[38;5;124m\"\u001b[39m\u001b[38;5;124m`y` argument is not supported when using \u001b[39m\u001b[38;5;124m\"\u001b[39m\n\u001b[1;32m    920\u001b[0m                      \u001b[38;5;124m\"\u001b[39m\u001b[38;5;124m`keras.utils.Sequence` as input.\u001b[39m\u001b[38;5;124m\"\u001b[39m)\n\u001b[1;32m    921\u001b[0m   \u001b[38;5;28;01mif\u001b[39;00m \u001b[38;5;129;01mnot\u001b[39;00m is_none_or_empty(sample_weights):\n\u001b[1;32m    922\u001b[0m     \u001b[38;5;28;01mraise\u001b[39;00m \u001b[38;5;167;01mValueError\u001b[39;00m(\u001b[38;5;124m\"\u001b[39m\u001b[38;5;124m`sample_weight` argument is not supported when using \u001b[39m\u001b[38;5;124m\"\u001b[39m\n\u001b[1;32m    923\u001b[0m                      \u001b[38;5;124m\"\u001b[39m\u001b[38;5;124m`keras.utils.Sequence` as input.\u001b[39m\u001b[38;5;124m\"\u001b[39m)\n",
      "\u001b[0;31mValueError\u001b[0m: `y` argument is not supported when using `keras.utils.Sequence` as input."
     ]
    }
   ],
   "source": [
    "# save the entire model as a SavedModel\n",
    "# !mkdir -p saved_moderes_models_model.save('/Users/sra/Desktop/Data_Science_2023/_capstone/00_capstone_data/models/_sam_vgg19/saved_model/vgg19_01')\n",
    "\n",
    "# # review resulting checkpoints\n",
    "# os.listdir(checkpoint_dir)\n",
    "\n",
    "# # choose latest checkpoint\n",
    "# latest = tf.train.latest_checkpoint(checkpoint_dir)\n",
    "# latest\n",
    "\n",
    "# # reload fresh Keras model from saved model\n",
    "# new_model = tf.keras.models.load_model('saved_model/my_model')\n",
    "\n",
    "# # Check its architecture\n",
    "# new_model.summary()\n",
    "\n",
    "# check its accuracy\n",
    "loss, acc = loaded_model.evaluate(test_generator, landscape_classes, verbose=2)\n",
    "print('Restored model, accuracy: {:5.2f}%'.format(100 * acc))"
   ]
  },
  {
   "cell_type": "code",
   "execution_count": 58,
   "id": "b0bab68f-2c1b-4a1f-93bc-a053da682503",
   "metadata": {},
   "outputs": [
    {
     "ename": "NameError",
     "evalue": "name 'validation_data' is not defined",
     "output_type": "error",
     "traceback": [
      "\u001b[0;31m---------------------------------------------------------------------------\u001b[0m",
      "\u001b[0;31mNameError\u001b[0m                                 Traceback (most recent call last)",
      "Cell \u001b[0;32mIn[58], line 4\u001b[0m\n\u001b[1;32m      2\u001b[0m counter\u001b[38;5;241m=\u001b[39m\u001b[38;5;241m1\u001b[39m\n\u001b[1;32m      3\u001b[0m \u001b[38;5;28;01mif\u001b[39;00m counter\u001b[38;5;241m==\u001b[39m\u001b[38;5;241m1\u001b[39m:\n\u001b[0;32m----> 4\u001b[0m     score \u001b[38;5;241m=\u001b[39m res_model\u001b[38;5;241m.\u001b[39mevaluate(\u001b[43mvalidation_data\u001b[49m, verbose\u001b[38;5;241m=\u001b[39m\u001b[38;5;241m1\u001b[39m)\n\u001b[1;32m      5\u001b[0m     \u001b[38;5;28mprint\u001b[39m(\u001b[38;5;124m'\u001b[39m\u001b[38;5;124mTest loss:\u001b[39m\u001b[38;5;124m'\u001b[39m, score[\u001b[38;5;241m0\u001b[39m])\n\u001b[1;32m      6\u001b[0m     \u001b[38;5;28mprint\u001b[39m(\u001b[38;5;124m'\u001b[39m\u001b[38;5;124mTest accuracy:\u001b[39m\u001b[38;5;124m'\u001b[39m, score[\u001b[38;5;241m1\u001b[39m])\n",
      "\u001b[0;31mNameError\u001b[0m: name 'validation_data' is not defined"
     ]
    }
   ],
   "source": [
    "# flow control\n",
    "counter=1\n",
    "if counter==1:\n",
    "    score = res_model.evaluate(validation_data, verbose=1)\n",
    "    print('Test loss:', score[0])\n",
    "    print('Test accuracy:', score[1])\n",
    "    counter=1"
   ]
  },
  {
   "cell_type": "markdown",
   "id": "01ac5f7a-da4d-43af-9392-31183b1b2450",
   "metadata": {
    "tags": []
   },
   "source": [
    "##### Calculate the predictions"
   ]
  },
  {
   "cell_type": "code",
   "execution_count": null,
   "id": "3cf8b3ae-2e9b-40f0-90b8-7cda4b45522c",
   "metadata": {},
   "outputs": [],
   "source": [
    "predict_probas = model.predict(X_test)\n",
    "\n",
    "# Convert probabilities to label encoding\n",
    "y_predict = np.argmax(predict_probas, axis=1)"
   ]
  },
  {
   "cell_type": "markdown",
   "id": "70c3f889-b43b-4bca-8905-871eacc19ae9",
   "metadata": {},
   "source": [
    "##### Convert test labels from one-hot encoding to label encoding"
   ]
  },
  {
   "cell_type": "code",
   "execution_count": 56,
   "id": "475b0975-8fcc-4d1a-a881-0272b15cc9e1",
   "metadata": {},
   "outputs": [
    {
     "ename": "NameError",
     "evalue": "name 'y_test' is not defined",
     "output_type": "error",
     "traceback": [
      "\u001b[0;31m---------------------------------------------------------------------------\u001b[0m",
      "\u001b[0;31mNameError\u001b[0m                                 Traceback (most recent call last)",
      "Cell \u001b[0;32mIn[56], line 1\u001b[0m\n\u001b[0;32m----> 1\u001b[0m y_test_labels \u001b[38;5;241m=\u001b[39m np\u001b[38;5;241m.\u001b[39margmax(\u001b[43my_test\u001b[49m, axis\u001b[38;5;241m=\u001b[39m\u001b[38;5;241m1\u001b[39m)\n\u001b[1;32m      3\u001b[0m conf_mat \u001b[38;5;241m=\u001b[39m confusion_matrix(y_test_labels, y_predict)\n\u001b[1;32m      4\u001b[0m normalized_conf_mat \u001b[38;5;241m=\u001b[39m conf_mat \u001b[38;5;241m/\u001b[39m conf_mat\u001b[38;5;241m.\u001b[39msum(axis\u001b[38;5;241m=\u001b[39m\u001b[38;5;241m1\u001b[39m)\n",
      "\u001b[0;31mNameError\u001b[0m: name 'y_test' is not defined"
     ]
    }
   ],
   "source": [
    "y_test_labels = np.argmax(y_test, axis=1)\n",
    "\n",
    "conf_mat = confusion_matrix(y_test_labels, y_predict)\n",
    "normalized_conf_mat = conf_mat / conf_mat.sum(axis=1)\n",
    "\n",
    "plt.figure(figsize = (8,6))\n",
    "sns.heatmap(normalized_conf_mat,\n",
    "            annot=True,\n",
    "            cbar=False,\n",
    "            xticklabels=landscape_classes,\n",
    "            yticklabels=landscape_classes,\n",
    "            cmap=\"rocket_r\",\n",
    "            linewidths=1,\n",
    "            \n",
    "           )\n",
    "plt.title('Confusion Matrix',size = 25,y=1.01)\n",
    "plt.xlabel(\"Predicted Label\", size = 20)\n",
    "plt.ylabel(\"True Label\", size = 20)\n",
    "plt.show()"
   ]
  },
  {
   "cell_type": "markdown",
   "id": "6d3c76aa-1d5e-4736-80d6-305524c4d601",
   "metadata": {
    "tags": []
   },
   "source": [
    "##### Incorrectly predicted images"
   ]
  },
  {
   "cell_type": "code",
   "execution_count": 55,
   "id": "dd7964ec-53e0-4e61-b9dc-ed361cf2e4e2",
   "metadata": {
    "tags": []
   },
   "outputs": [
    {
     "ename": "NameError",
     "evalue": "name 'y_test_labels' is not defined",
     "output_type": "error",
     "traceback": [
      "\u001b[0;31m---------------------------------------------------------------------------\u001b[0m",
      "\u001b[0;31mNameError\u001b[0m                                 Traceback (most recent call last)",
      "Cell \u001b[0;32mIn[55], line 3\u001b[0m\n\u001b[1;32m      1\u001b[0m \u001b[38;5;28;01mimport\u001b[39;00m \u001b[38;5;21;01mmath\u001b[39;00m\n\u001b[0;32m----> 3\u001b[0m incorrect_photos \u001b[38;5;241m=\u001b[39m \u001b[43my_test_labels\u001b[49m \u001b[38;5;241m!=\u001b[39m y_predict\n\u001b[1;32m      5\u001b[0m num_images \u001b[38;5;241m=\u001b[39m np\u001b[38;5;241m.\u001b[39mcount_nonzero(incorrect_photos)\n\u001b[1;32m      6\u001b[0m columns \u001b[38;5;241m=\u001b[39m \u001b[38;5;241m3\u001b[39m\n",
      "\u001b[0;31mNameError\u001b[0m: name 'y_test_labels' is not defined"
     ]
    }
   ],
   "source": [
    "import math\n",
    "\n",
    "incorrect_photos = y_test_labels != y_predict\n",
    "\n",
    "num_images = np.count_nonzero(incorrect_photos)\n",
    "columns = 3\n",
    "rows = math.ceil(num_images / columns)\n",
    "\n",
    "fig, axes = plt.subplots(nrows=rows, ncols=columns, figsize=(10, 3.5*rows))\n",
    "\n",
    "axes = axes.flatten()\n",
    "\n",
    "for i, image in enumerate(X_test[incorrect_photos]):\n",
    "    axes[i].imshow(image, cmap='gray')\n",
    "\n",
    "    # get predicted label\n",
    "    predicted_label = landscape_classes[y_predict[incorrect_photos][i]]\n",
    "    \n",
    "    # get actual label\n",
    "    true_label =  landscape_classes[y_test_labels[incorrect_photos][i]]\n",
    "    \n",
    "    # set the title of the subplot\n",
    "    axes[i].set_title(f\"Predicted: {predicted_label}\\n True: {true_label}\")\n",
    "    \n",
    "    # Hide the x and y ticks to make \n",
    "    axes[i].set_xticks([]) \n",
    "    axes[i].set_yticks([])\n",
    "    \n",
    "fig.tight_layout()\n",
    "\n",
    "# Hide unused subplots\n",
    "for i in range(num_images, rows*columns):\n",
    "    fig.delaxes(axes[i])\n",
    "\n",
    "plt.show()"
   ]
  },
  {
   "cell_type": "markdown",
   "id": "8802ca94-48e7-49d3-906b-e38c3ea122d0",
   "metadata": {},
   "source": [
    "### `ResNet50v2`"
   ]
  },
  {
   "cell_type": "code",
   "execution_count": null,
   "id": "6fb1fda0-2ecb-425a-a53f-35afe78673fc",
   "metadata": {},
   "outputs": [],
   "source": []
  }
 ],
 "metadata": {
  "kernelspec": {
   "display_name": "deeplearning",
   "language": "python",
   "name": "deeplearning"
  },
  "language_info": {
   "codemirror_mode": {
    "name": "ipython",
    "version": 3
   },
   "file_extension": ".py",
   "mimetype": "text/x-python",
   "name": "python",
   "nbconvert_exporter": "python",
   "pygments_lexer": "ipython3",
   "version": "3.8.15"
  }
 },
 "nbformat": 4,
 "nbformat_minor": 5
}
