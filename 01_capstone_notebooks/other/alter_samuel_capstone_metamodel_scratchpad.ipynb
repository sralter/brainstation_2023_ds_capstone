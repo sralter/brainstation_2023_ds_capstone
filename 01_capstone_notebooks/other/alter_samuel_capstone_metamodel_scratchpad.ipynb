{
 "cells": [
  {
   "cell_type": "code",
   "execution_count": null,
   "id": "2faf2d99-5ecf-42f4-af1d-4358f8358350",
   "metadata": {},
   "outputs": [],
   "source": [
    "# img_prob_corrected=img_prob_corrected['0']\n",
    "# img_prob_corrected=img_prob_corrected.reset_index"
   ]
  }
 ],
 "metadata": {
  "kernelspec": {
   "display_name": "sklearn",
   "language": "python",
   "name": "sklearn"
  },
  "language_info": {
   "codemirror_mode": {
    "name": "ipython",
    "version": 3
   },
   "file_extension": ".py",
   "mimetype": "text/x-python",
   "name": "python",
   "nbconvert_exporter": "python",
   "pygments_lexer": "ipython3",
   "version": "3.9.16"
  }
 },
 "nbformat": 4,
 "nbformat_minor": 5
}
