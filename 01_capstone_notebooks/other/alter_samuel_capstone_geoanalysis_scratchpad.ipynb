{
 "cells": [
  {
   "cell_type": "code",
   "execution_count": null,
   "id": "e3a2b1b1-19f8-40b9-920c-d75a370d5744",
   "metadata": {},
   "outputs": [],
   "source": [
    "def angleBinner(compassList):\n",
    "    '''\n",
    "    Creates list of angles dependent on \n",
    "    how many compass points you give the function\n",
    "    '''\n",
    "    \n",
    "#     how many compass points were given?\n",
    "    bins=len(compassList)\n",
    "    \n",
    "#     what is the angle interval?\n",
    "    angleInterval=(360/bins)\n",
    "        \n",
    "#     \n",
    "    angleBins=[]    \n",
    "    \n",
    "#     for loop to create \n",
    "    for compass in compassList:\n",
    "        \n",
    "    \n",
    "\n",
    "def aspectConverter(df_column):\n",
    "    "
   ]
  },
  {
   "cell_type": "code",
   "execution_count": null,
   "id": "a73a7a1c-c503-4d54-a6c0-28d7f12a4079",
   "metadata": {},
   "outputs": [],
   "source": [
    "pd.cut(df['A'], \n",
    "       bins=[0, 2, 8, 10], \n",
    "       include_lowest=True, \n",
    "       labels=['low', 'mid', 'high'])\n"
   ]
  },
  {
   "cell_type": "code",
   "execution_count": 1,
   "id": "2205bae7-3ec9-4016-b786-2bfb1b55b683",
   "metadata": {},
   "outputs": [],
   "source": [
    "\n",
    "# for direction in range(len(directions)):\n",
    "#     for i in ___:\n",
    "#         if (sm_geo['asp_cont']>i) & (sm_geo['asp_cont']<(i+iterator)):\n",
    "#             sm_geo['asp_cat']=direction\n",
    "            \n",
    "\n",
    "            \n",
    "# if (sm_geo['asp_cont']>0) & (sm_geo['asp_cont']<22.5):\n",
    "#     sm_geo['asp_cat']='N'\n",
    "# elif (sm_geo['asp_cont']>22.5) & (sm_geo['asp_cont']<45):\n",
    "#     sm_geo['asp_cat']='NE')\n",
    "# elif (sm_geo['asp_cont']>45) & (sm_geo['asp_cont']<67.5):\n",
    "#     sm_geo['asp_cat']='NE')\n",
    "# elif (sm_geo['asp_cont']>67.5) & (sm_geo['asp_cont']<90):\n",
    "#     sm_geo['asp_cat']='E')\n",
    "# elif (sm_geo['asp_cont']>90) & (sm_geo['asp_cont']<112.5):\n",
    "#     sm_geo['asp_cat']='E')\n",
    "# elif (sm_geo['asp_cont']>112.5) & (sm_geo['asp_cont']<135):\n",
    "#     sm_geo['asp_cat']='SE')\n",
    "# elif (sm_geo['asp_cont']>135) & (sm_geo['asp_cont']<157.5:\n",
    "#     sm_geo['asp_cat']='SE')\n",
    "# elif (sm_geo['asp_cont']>157.5) & (sm_geo['asp_cont']<45):\n",
    "#     sm_geo['asp_cat']='S')\n",
    "# elif (sm_geo['asp_cont']>45) & (sm_geo['asp_cont']<67.5):\n",
    "#     sm_geo['asp_cat']='S')\n",
    "\n",
    "# sm_geo['asp_cat']=pd.cut(sm_geo['asp_cont'], \n",
    "#                          bins=bins, \n",
    "#                          include_lowest=True, \n",
    "#                          labels=directions)\n",
    "\n",
    "# sm_geo\n",
    "\n",
    "# sm_geo_test=sm_geo[(sm_geo['asp_cont']>(360-angleInterval)) & \\\n",
    "#                    (sm_geo['asp_cont']<(0+angleInterval))]\n",
    "\n",
    "# bins=[22.5,45,67.5]\n",
    "\n",
    "# sm_geo_test=pd.cut(sm_geo_test['asp_cont'], \n",
    "#                    bins=[0, 2, 8, 10], include_lowest=True)\n",
    "\n",
    "# sm_geo_test=sm_geo[(sm_geo['asp_cont']>(337.5)) & \\\n",
    "#                    (sm_geo['asp_cont']<(22.5))]\n",
    "\n",
    "\n",
    "# sm_geo_test\n",
    "\n",
    "# if sm_geo[sm_geo['asp_cont']>(360-angleInterval) or \\\n",
    "# sm_geo['asp_cont']<(360-angleInterval)]:\n",
    "#     sm_geo['asp_cat']='N'\n",
    "# else:\n",
    "#     pass\n",
    "    \n",
    "# sm_geo\n",
    "# if sm_geo['asp_cont']\n",
    "\n",
    "# sm_geo['asp_cat']=np.where(sm_geo['asp_cont'])\n",
    "\n",
    "# convert aspect (continuous) to aspect (categorical)\n",
    "# eight classes: N, NE, E, SE, S, SW, W, NW\n",
    "\n",
    "# # how many compass points were given?\n",
    "# bins=len(directions)\n",
    "    \n",
    "# # what is the angle interval?\n",
    "# angleInterval=(360/bins)\n",
    "        \n",
    "# # from x to y to signify which interval of the compass\n",
    "# # the specific direction is.\n",
    "# # for example: 360/8 bins = 45\n",
    "# # 45/2 = 22.5\n",
    "# # 360-22.5=western bound for N\n",
    "# # 0+22.5=eastern bound for N\n",
    "# angleBins=[]    \n",
    "    \n",
    "# N_west=360-(angleInterval)\n",
    "# N_east=0+angleInterval\n",
    "\n",
    "# above_35 = titanic[titanic[\"Age\"] > 35]\n",
    "# class_23 = titanic[(titanic[\"Pclass\"] == 2) | \\\n",
    "#                    (titanic[\"Pclass\"] == 3)]\n",
    "\n",
    "# directions=['N', 'N', \n",
    "#             'NE', 'NE', \n",
    "#             'E', 'E', \n",
    "#             'SE', 'SE', \n",
    "#             'S', 'S', \n",
    "#             'SW', 'SW', \n",
    "#             'W', 'W', \n",
    "#             'NW', 'NW']\n",
    "\n",
    "# bins=[]\n",
    "\n",
    "# for i in range(17):\n",
    "#     result=(i*22.5)\n",
    "#     bins.append(result)\n",
    "\n",
    "# print(len(bins))\n",
    "# bins\n",
    "\n",
    "# [0.0,22.5, #N\n",
    "#  45.0,67.5, #NE\n",
    "#  90.0,112.5, #E\n",
    "#  135.0,157.5, #SE\n",
    "#  180.0,202.5, #S\n",
    "#  225.0,247.5, #SW\n",
    "#  270.0,292.5, #W\n",
    "#  315.0,337.5, #NW\n",
    "#  360.0]\n"
   ]
  },
  {
   "cell_type": "code",
   "execution_count": 2,
   "id": "61ed4784-b267-4584-bf0d-98ad86639b85",
   "metadata": {},
   "outputs": [],
   "source": [
    "# sm_geo['asp_cat']=sm_geo.apply(lambda row: \\\n",
    "#                                degToCompass(sm_geo['asp_cont']),\n",
    "#                                axis=1)\n",
    "# sm_geo"
   ]
  },
  {
   "cell_type": "code",
   "execution_count": null,
   "id": "10486039-fd54-43e3-a787-01d1a99f0f5f",
   "metadata": {},
   "outputs": [],
   "source": [
    "# # drop N column\n",
    "# sm_geo_aspCat=sm_geo_aspCat.drop(labels='N',axis=1)\n",
    "# sm_geo_aspCat"
   ]
  },
  {
   "cell_type": "code",
   "execution_count": null,
   "id": "b8e1e382-38a1-4056-92fa-5bee3c6eda7d",
   "metadata": {},
   "outputs": [],
   "source": [
    "# store betas and raise e to each beta value\n",
    "betas=[]\n",
    "\n",
    "for i in range(len(logreg_sm_results.params)):\n",
    "    beta=logreg_sm_results.params[i]\n",
    "    betas.append(np.exp(beta))\n",
    "    \n",
    "betas"
   ]
  },
  {
   "cell_type": "code",
   "execution_count": null,
   "id": "e29e6dc2-4d50-4bf9-a99b-27a349dc8ac6",
   "metadata": {},
   "outputs": [],
   "source": [
    "quants=[0]\n",
    "bins=4\n",
    "results=[]\n",
    "\n",
    "for i in range(bins):\n",
    "    quants.append((i+1)/bins)\n",
    "\n",
    "for i in quants:\n",
    "    results=sm_geo['elev_cont'].quantile(i)\n",
    "\n",
    "results"
   ]
  },
  {
   "cell_type": "code",
   "execution_count": null,
   "id": "d9349fba-3a80-4ae1-964c-7ce787dd2f8a",
   "metadata": {},
   "outputs": [],
   "source": [
    "quants=[0]\n",
    "\n",
    "for i in range(bins):\n",
    "    quants.append((i+1)/bins)\n",
    "    \n",
    "quants"
   ]
  },
  {
   "cell_type": "code",
   "execution_count": null,
   "id": "8c1aa183-2730-40bf-851d-7fee822d1d21",
   "metadata": {},
   "outputs": [],
   "source": [
    "df_col=[0,2,3,4,5,6,10.1]\n",
    "\n",
    "for i in quants:\n",
    "    for j in df_col:\n",
    "        if df_col[j]<=quants[i]:\n",
    "            'cat'+'_'+str(quants[i])"
   ]
  },
  {
   "cell_type": "code",
   "execution_count": null,
   "id": "bfc644a8-47a2-4247-89fa-736743936183",
   "metadata": {},
   "outputs": [],
   "source": [
    "# function to bin the elevations\n",
    "\n",
    "def elevBinner(df_col,bins=4):\n",
    "    '''\n",
    "    Takes a continuous elevation value\n",
    "    and creates a category for it.\n",
    "    \n",
    "    Defaults to four elevation bins.\n",
    "    '''\n",
    "    quants=[0]\n",
    "    results=[]\n",
    "\n",
    "#     setup quantile range based on bins\n",
    "    for i in range(bins):\n",
    "        quants.append((i+1)/bins)\n",
    "\n",
    "#     setup results to compare to each row value\n",
    "    for i in quants:\n",
    "        results.append(df_col.quantile(i))\n",
    "        results[i]<=quants[i]\n",
    "        return 'cat'+'_'+str(quants[i])\n",
    "\n",
    "elevBinner(sm_geo['elev_cont'])"
   ]
  },
  {
   "cell_type": "code",
   "execution_count": null,
   "id": "9a100fbf-ca93-42fe-9054-e05db0c3aab7",
   "metadata": {},
   "outputs": [],
   "source": [
    "def elevCategorizer(df_col):\n",
    "    '''\n",
    "    Hard-codes elevation bins into:\n",
    "\n",
    "    low, medium, high, very high\n",
    "    3-193, 306-193, 412-306, 917-412\n",
    "    '''\n",
    "\n",
    "    bins = [193, 306, 412, 917]\n",
    "    labels = ['low', 'med', 'high', 'vhigh']\n",
    "\n",
    "    for i, bin_upper in enumerate(bins):\n",
    "        if df_col <= bin_upper:\n",
    "            return labels[i]\n",
    "    \n",
    "    return 'vhigh'  # If the input value is above the highest bin\n"
   ]
  },
  {
   "cell_type": "code",
   "execution_count": 1,
   "id": "8c67cff5-4c08-40fc-b96e-c9e77d2d4fbe",
   "metadata": {},
   "outputs": [
    {
     "ename": "NameError",
     "evalue": "name 'val_size' is not defined",
     "output_type": "error",
     "traceback": [
      "\u001b[0;31m---------------------------------------------------------------------------\u001b[0m",
      "\u001b[0;31mNameError\u001b[0m                                 Traceback (most recent call last)",
      "Cell \u001b[0;32mIn[1], line 1\u001b[0m\n\u001b[0;32m----> 1\u001b[0m \u001b[38;5;28mprint\u001b[39m(\u001b[38;5;124mf\u001b[39m\u001b[38;5;124m'\u001b[39m\u001b[38;5;124mThere are ~\u001b[39m\u001b[38;5;132;01m{\u001b[39;00m\u001b[38;5;28mround\u001b[39m(\u001b[38;5;241m.8\u001b[39m\u001b[38;5;241m*\u001b[39m(\u001b[38;5;241m1\u001b[39m\u001b[38;5;241m-\u001b[39mval_size)\u001b[38;5;241m*\u001b[39mrows)\u001b[38;5;132;01m}\u001b[39;00m\u001b[38;5;124m observations in the training partition.\u001b[39m\u001b[38;5;124m'\u001b[39m)\n\u001b[1;32m      2\u001b[0m \u001b[38;5;28mprint\u001b[39m(\u001b[38;5;124mf\u001b[39m\u001b[38;5;124m'\u001b[39m\u001b[38;5;124mThere are ~\u001b[39m\u001b[38;5;132;01m{\u001b[39;00m\u001b[38;5;28mround\u001b[39m(\u001b[38;5;241m.8\u001b[39m\u001b[38;5;241m*\u001b[39mval_size\u001b[38;5;241m*\u001b[39mrows)\u001b[38;5;132;01m}\u001b[39;00m\u001b[38;5;124m observations in the validation partition.\u001b[39m\u001b[38;5;124m'\u001b[39m)\n\u001b[1;32m      3\u001b[0m \u001b[38;5;28mprint\u001b[39m(\u001b[38;5;124mf\u001b[39m\u001b[38;5;124m'\u001b[39m\u001b[38;5;124mThere are ~\u001b[39m\u001b[38;5;132;01m{\u001b[39;00m\u001b[38;5;28mround\u001b[39m(testing_size\u001b[38;5;241m*\u001b[39mrows)\u001b[38;5;132;01m}\u001b[39;00m\u001b[38;5;124m observations in the testing partition.\u001b[39m\u001b[38;5;124m'\u001b[39m)\n",
      "\u001b[0;31mNameError\u001b[0m: name 'val_size' is not defined"
     ]
    }
   ],
   "source": [
    "print(f'There are ~{round(.8*(1-val_size)*rows)} observations in the training partition.')\n",
    "print(f'There are ~{round(.8*val_size*rows)} observations in the validation partition.')\n",
    "print(f'There are ~{round(testing_size*rows)} observations in the testing partition.')"
   ]
  },
  {
   "cell_type": "code",
   "execution_count": null,
   "id": "7250312d-7eb7-4bd2-a745-f07b29ca1895",
   "metadata": {},
   "outputs": [],
   "source": [
    "y_remainder_array=np.ravel(a=y_remainder,order='C')\n",
    "y_test_array=np.ravel(a=y_test,order='C')\n",
    "y_train_array=np.ravel(a=y_train,order='C')\n",
    "y_validation_array=np.ravel(a=y_validation,order='C')"
   ]
  },
  {
   "cell_type": "code",
   "execution_count": 1,
   "id": "f6105253-c7ff-4292-989e-6f3462bed0bc",
   "metadata": {},
   "outputs": [
    {
     "ename": "NameError",
     "evalue": "name 'pd' is not defined",
     "output_type": "error",
     "traceback": [
      "\u001b[0;31m---------------------------------------------------------------------------\u001b[0m",
      "\u001b[0;31mNameError\u001b[0m                                 Traceback (most recent call last)",
      "Cell \u001b[0;32mIn[1], line 3\u001b[0m\n\u001b[1;32m      1\u001b[0m \u001b[38;5;66;03m# import geographic information .CSV\u001b[39;00m\n\u001b[0;32m----> 3\u001b[0m sm_geo_original\u001b[38;5;241m=\u001b[39m\u001b[43mpd\u001b[49m\u001b[38;5;241m.\u001b[39mread_csv(\u001b[38;5;124m'\u001b[39m\u001b[38;5;124m/Users/sra/Desktop/Data_Science_2023/_capstone/00_capstone_data/shapefiles/joins/sm_geo_combine.csv\u001b[39m\u001b[38;5;124m'\u001b[39m)\n\u001b[1;32m      4\u001b[0m sm_geo_original\n",
      "\u001b[0;31mNameError\u001b[0m: name 'pd' is not defined"
     ]
    }
   ],
   "source": [
    "# import geographic information .CSV\n",
    "\n",
    "sm_geo_original=pd.read_csv('/Users/sra/Desktop/Data_Science_2023/_capstone/00_capstone_data/shapefiles/joins/sm_geo_combine.csv')\n",
    "sm_geo_original"
   ]
  },
  {
   "cell_type": "code",
   "execution_count": null,
   "id": "6be5761b-1069-4369-b13a-3e406042b4b4",
   "metadata": {},
   "outputs": [],
   "source": []
  },
  {
   "cell_type": "code",
   "execution_count": null,
   "id": "9f347fd3-9447-4e55-90ae-4c2b8e7a4ef2",
   "metadata": {},
   "outputs": [],
   "source": []
  },
  {
   "cell_type": "code",
   "execution_count": 309,
   "id": "d10284a3-8879-4786-a884-f7f3eff73a15",
   "metadata": {},
   "outputs": [
    {
     "data": {
      "text/html": [
       "<div>\n",
       "<style scoped>\n",
       "    .dataframe tbody tr th:only-of-type {\n",
       "        vertical-align: middle;\n",
       "    }\n",
       "\n",
       "    .dataframe tbody tr th {\n",
       "        vertical-align: top;\n",
       "    }\n",
       "\n",
       "    .dataframe thead th {\n",
       "        text-align: right;\n",
       "    }\n",
       "</style>\n",
       "<table border=\"1\" class=\"dataframe\">\n",
       "  <thead>\n",
       "    <tr style=\"text-align: right;\">\n",
       "      <th></th>\n",
       "      <th>objectid</th>\n",
       "      <th>perim_id</th>\n",
       "      <th>perim_elevation_1</th>\n",
       "      <th>perim_asp_1</th>\n",
       "      <th>fire</th>\n",
       "      <th>geometry</th>\n",
       "    </tr>\n",
       "  </thead>\n",
       "  <tbody>\n",
       "    <tr>\n",
       "      <th>14</th>\n",
       "      <td>4753.0</td>\n",
       "      <td>NaN</td>\n",
       "      <td>NaN</td>\n",
       "      <td>NaN</td>\n",
       "      <td>1</td>\n",
       "      <td>MULTIPOLYGON (((-118.305363835672 34.119507991...</td>\n",
       "    </tr>\n",
       "    <tr>\n",
       "      <th>15</th>\n",
       "      <td>4767.0</td>\n",
       "      <td>NaN</td>\n",
       "      <td>NaN</td>\n",
       "      <td>NaN</td>\n",
       "      <td>1</td>\n",
       "      <td>MULTIPOLYGON (((-118.843533279074 34.169495387...</td>\n",
       "    </tr>\n",
       "    <tr>\n",
       "      <th>24</th>\n",
       "      <td>4796.0</td>\n",
       "      <td>NaN</td>\n",
       "      <td>NaN</td>\n",
       "      <td>NaN</td>\n",
       "      <td>1</td>\n",
       "      <td>MULTIPOLYGON (((-118.60574361788 34.1457095562...</td>\n",
       "    </tr>\n",
       "    <tr>\n",
       "      <th>25</th>\n",
       "      <td>4849.0</td>\n",
       "      <td>NaN</td>\n",
       "      <td>NaN</td>\n",
       "      <td>NaN</td>\n",
       "      <td>1</td>\n",
       "      <td>MULTIPOLYGON (((-118.377669263434 34.122895200...</td>\n",
       "    </tr>\n",
       "    <tr>\n",
       "      <th>26</th>\n",
       "      <td>4850.0</td>\n",
       "      <td>NaN</td>\n",
       "      <td>NaN</td>\n",
       "      <td>NaN</td>\n",
       "      <td>1</td>\n",
       "      <td>MULTIPOLYGON (((-118.574062124596 34.079625547...</td>\n",
       "    </tr>\n",
       "    <tr>\n",
       "      <th>...</th>\n",
       "      <td>...</td>\n",
       "      <td>...</td>\n",
       "      <td>...</td>\n",
       "      <td>...</td>\n",
       "      <td>...</td>\n",
       "      <td>...</td>\n",
       "    </tr>\n",
       "    <tr>\n",
       "      <th>18743</th>\n",
       "      <td>0.0</td>\n",
       "      <td>4600.0</td>\n",
       "      <td>32.0</td>\n",
       "      <td>NaN</td>\n",
       "      <td>0</td>\n",
       "      <td>POINT (-118.3680000000007 34.04)</td>\n",
       "    </tr>\n",
       "    <tr>\n",
       "      <th>18786</th>\n",
       "      <td>0.0</td>\n",
       "      <td>4752.0</td>\n",
       "      <td>53.0</td>\n",
       "      <td>NaN</td>\n",
       "      <td>0</td>\n",
       "      <td>POINT (-118.4330000000006 34.035)</td>\n",
       "    </tr>\n",
       "    <tr>\n",
       "      <th>18810</th>\n",
       "      <td>0.0</td>\n",
       "      <td>4776.0</td>\n",
       "      <td>67.0</td>\n",
       "      <td>NaN</td>\n",
       "      <td>0</td>\n",
       "      <td>POINT (-118.3130000000007 34.035)</td>\n",
       "    </tr>\n",
       "    <tr>\n",
       "      <th>18863</th>\n",
       "      <td>0.0</td>\n",
       "      <td>4941.0</td>\n",
       "      <td>52.0</td>\n",
       "      <td>NaN</td>\n",
       "      <td>0</td>\n",
       "      <td>POINT (-118.3130000000007 34.03)</td>\n",
       "    </tr>\n",
       "    <tr>\n",
       "      <th>18864</th>\n",
       "      <td>0.0</td>\n",
       "      <td>4942.0</td>\n",
       "      <td>56.0</td>\n",
       "      <td>NaN</td>\n",
       "      <td>0</td>\n",
       "      <td>POINT (-118.3080000000007 34.03)</td>\n",
       "    </tr>\n",
       "  </tbody>\n",
       "</table>\n",
       "<p>668 rows × 6 columns</p>\n",
       "</div>"
      ],
      "text/plain": [
       "       objectid  perim_id  perim_elevation_1  perim_asp_1  fire  \\\n",
       "14       4753.0       NaN                NaN          NaN     1   \n",
       "15       4767.0       NaN                NaN          NaN     1   \n",
       "24       4796.0       NaN                NaN          NaN     1   \n",
       "25       4849.0       NaN                NaN          NaN     1   \n",
       "26       4850.0       NaN                NaN          NaN     1   \n",
       "...         ...       ...                ...          ...   ...   \n",
       "18743       0.0    4600.0               32.0          NaN     0   \n",
       "18786       0.0    4752.0               53.0          NaN     0   \n",
       "18810       0.0    4776.0               67.0          NaN     0   \n",
       "18863       0.0    4941.0               52.0          NaN     0   \n",
       "18864       0.0    4942.0               56.0          NaN     0   \n",
       "\n",
       "                                                geometry  \n",
       "14     MULTIPOLYGON (((-118.305363835672 34.119507991...  \n",
       "15     MULTIPOLYGON (((-118.843533279074 34.169495387...  \n",
       "24     MULTIPOLYGON (((-118.60574361788 34.1457095562...  \n",
       "25     MULTIPOLYGON (((-118.377669263434 34.122895200...  \n",
       "26     MULTIPOLYGON (((-118.574062124596 34.079625547...  \n",
       "...                                                  ...  \n",
       "18743                   POINT (-118.3680000000007 34.04)  \n",
       "18786                  POINT (-118.4330000000006 34.035)  \n",
       "18810                  POINT (-118.3130000000007 34.035)  \n",
       "18863                   POINT (-118.3130000000007 34.03)  \n",
       "18864                   POINT (-118.3080000000007 34.03)  \n",
       "\n",
       "[668 rows x 6 columns]"
      ]
     },
     "execution_count": 309,
     "metadata": {},
     "output_type": "execute_result"
    }
   ],
   "source": [
    "sm_geo_original[sm_geo_original['perim_asp_1'].isna()==True]"
   ]
  },
  {
   "cell_type": "code",
   "execution_count": 310,
   "id": "a7b6e074-933c-445f-967a-255d95caf488",
   "metadata": {},
   "outputs": [
    {
     "data": {
      "text/plain": [
       "objectid             0.000000\n",
       "perim_id             3.464116\n",
       "perim_elevation_1    3.464116\n",
       "perim_asp_1          3.615306\n",
       "fire                 0.000000\n",
       "geometry             0.000000\n",
       "dtype: float64"
      ]
     },
     "execution_count": 310,
     "metadata": {},
     "output_type": "execute_result"
    }
   ],
   "source": [
    "(sm_geo_original.isna().sum())/(sm_geo_original.count())*100"
   ]
  },
  {
   "cell_type": "markdown",
   "id": "93190f0c-f492-406d-85e2-4fef36805a19",
   "metadata": {},
   "source": [
    "I have enough data that $3.5{\\%}$ (roughly $650$ rows) is not a large portion of the dataset. I will remove these `NaN` rows:"
   ]
  },
  {
   "cell_type": "code",
   "execution_count": 311,
   "id": "b7aeae7a-cf39-4ba0-8229-af24e14b8aad",
   "metadata": {},
   "outputs": [
    {
     "data": {
      "text/plain": [
       "objectid             0\n",
       "perim_id             0\n",
       "perim_elevation_1    0\n",
       "perim_asp_1          0\n",
       "fire                 0\n",
       "geometry             0\n",
       "dtype: int64"
      ]
     },
     "execution_count": 311,
     "metadata": {},
     "output_type": "execute_result"
    }
   ],
   "source": [
    "sm_geo_original=sm_geo_original.dropna()\n",
    "sm_geo_original.isna().sum()"
   ]
  },
  {
   "cell_type": "code",
   "execution_count": 317,
   "id": "4efff4cd-f5aa-4632-851f-e4f17a3b0709",
   "metadata": {
    "tags": []
   },
   "outputs": [
    {
     "data": {
      "text/html": [
       "<div>\n",
       "<style scoped>\n",
       "    .dataframe tbody tr th:only-of-type {\n",
       "        vertical-align: middle;\n",
       "    }\n",
       "\n",
       "    .dataframe tbody tr th {\n",
       "        vertical-align: top;\n",
       "    }\n",
       "\n",
       "    .dataframe thead th {\n",
       "        text-align: right;\n",
       "    }\n",
       "</style>\n",
       "<table border=\"1\" class=\"dataframe\">\n",
       "  <thead>\n",
       "    <tr style=\"text-align: right;\">\n",
       "      <th></th>\n",
       "      <th>objectid</th>\n",
       "      <th>perim_id</th>\n",
       "      <th>geometry</th>\n",
       "      <th>asp_cont</th>\n",
       "      <th>asp_cat</th>\n",
       "      <th>elev_cont</th>\n",
       "      <th>elev_cat</th>\n",
       "      <th>fire</th>\n",
       "    </tr>\n",
       "  </thead>\n",
       "  <tbody>\n",
       "    <tr>\n",
       "      <th>0</th>\n",
       "      <td>4751.0</td>\n",
       "      <td>1644.0</td>\n",
       "      <td>MULTIPOLYGON (((-118.297645979672 34.135057069...</td>\n",
       "      <td>31.883564</td>\n",
       "      <td>NNE</td>\n",
       "      <td>434.0</td>\n",
       "      <td>434.0</td>\n",
       "      <td>1</td>\n",
       "    </tr>\n",
       "  </tbody>\n",
       "</table>\n",
       "</div>"
      ],
      "text/plain": [
       "   objectid  perim_id                                           geometry  \\\n",
       "0    4751.0    1644.0  MULTIPOLYGON (((-118.297645979672 34.135057069...   \n",
       "\n",
       "    asp_cont asp_cat  elev_cont  elev_cat  fire  \n",
       "0  31.883564     NNE      434.0     434.0     1  "
      ]
     },
     "execution_count": 317,
     "metadata": {},
     "output_type": "execute_result"
    }
   ],
   "source": [
    "# rename columns\n",
    "\n",
    "sm_geo['elev_cont']=sm_geo['elevation']\n",
    "sm_geo=sm_geo.rename({'elevation':'elev_cat'},axis=1)\n",
    "\n",
    "sm_geo=sm_geo[['objectid','perim_id','geometry','asp_cont','asp_cat','elev_cont','elev_cat','fire']]\n",
    "sm_geo.head(1)"
   ]
  },
  {
   "cell_type": "code",
   "execution_count": null,
   "id": "08788049-7228-4f3b-9d29-1cdd79448853",
   "metadata": {},
   "outputs": [],
   "source": [
    "quartiles=pd.qcut(sm_geo['elev_cont'],q=4,labels=False)\n",
    "quartiles"
   ]
  },
  {
   "cell_type": "code",
   "execution_count": null,
   "id": "4e46757b-b5a2-4489-8f33-b38775476c3e",
   "metadata": {},
   "outputs": [],
   "source": [
    "def elevCategorizer(df,column,quants=4,labels=False):\n",
    "    '''\n",
    "    Converts elevation bins into quartiles,\n",
    "    which is the default. Requires \n",
    "    pandas as pd to be imported, as it uses the \n",
    "    pd.qcut() function.\n",
    "    \n",
    "     low ,medium,  high  , very high\n",
    "     <25%,25-50%, 50-75% ,    <75%\n",
    "     \n",
    "     Takes a dataframe[column] as required input.\n",
    "    '''\n",
    "\n",
    "#     setup quantiles\n",
    "    quantiles=pd.qcut(df[column],q=quants,labels=labels)\n",
    "    \n",
    "#     add quantile information to the original dataset\n",
    "    df[column]=quantiles\n",
    "    \n",
    "#     create output object\n",
    "    df_output=df[column]\n",
    "    \n",
    "    return df_output\n",
    "    \n",
    "\n",
    "# if df_col <= 193:\n",
    "#     return 'low'\n",
    "# elif df_col <= 306:\n",
    "#     return 'med'\n",
    "# elif df_col <= 412:\n",
    "#     return 'high'\n",
    "# else:\n",
    "#     return 'vhigh'\n",
    "\n",
    "elevCategorizer(450)"
   ]
  },
  {
   "cell_type": "code",
   "execution_count": null,
   "id": "81df0e2c-841a-4c6b-b221-5ba45fde7011",
   "metadata": {},
   "outputs": [],
   "source": [
    "# reset axis\n",
    "sm_geo=sm_geo.reset_index()\n",
    "\n",
    "sm_geo=sm_geo.drop(labels=['index'],axis=1)\n",
    "\n",
    "sm_geo"
   ]
  },
  {
   "cell_type": "code",
   "execution_count": null,
   "id": "38892790-6afc-4d0d-b852-5b06b3034920",
   "metadata": {},
   "outputs": [],
   "source": [
    "# define X and y\n",
    "\n",
    "droppedCols=['objectid','perim_id','geometry','fire']\n",
    "\n",
    "cols=[col for col in sm_geo.columns if col not in droppedCols]\n",
    "\n",
    "X=sm_geo[cols]\n",
    "y=sm_geo[['fire']]\n",
    "\n",
    "X"
   ]
  },
  {
   "cell_type": "markdown",
   "id": "e1be09ac-976e-410b-8e9f-479280e21aad",
   "metadata": {},
   "source": [
    "\n",
    "\n",
    "Areas in the mountains show more of a relationship, though this relationship is very small. This makes sense as areas in the mountains have steeper topography. In the city, where there is less elevation change, the aspect is more random or nonexistant."
   ]
  },
  {
   "cell_type": "code",
   "execution_count": null,
   "id": "5e18fe9a-9e2e-4fe6-809f-beebe8c7e6e7",
   "metadata": {},
   "outputs": [],
   "source": [
    "# make the results from the statsmodels logistic regresion\n",
    "# into a dataframe to compare betas.\n",
    "# make sure to raise e to the beta to convert to odds\n",
    "\n",
    "results=logreg_sm_results.params\n",
    "col_names=list(X_withconstant.columns)\n",
    "col_vals=[]\n",
    "\n",
    "for i in range(len(results)):\n",
    "    col_vals.append(results[i])\n",
    "    \n",
    "results_=list(zip(col_names,col_vals))\n",
    "results_df=pd.DataFrame(results_,columns=['beta_name','beta_logOdds'])\n",
    "\n",
    "results_df['beta_odds']=results_df['beta_logOdds'].apply(np.exp)\n",
    "results_df=results_df.sort_values('beta_odds',ascending=False)\n",
    "results_df=results_df.reset_index()\n",
    "results_df=results_df.drop(labels=['index'],axis=1)\n",
    "\n",
    "results_df"
   ]
  },
  {
   "cell_type": "code",
   "execution_count": null,
   "id": "5c00dda8-a635-4b79-8d0c-3ad425f37724",
   "metadata": {},
   "outputs": [],
   "source": [
    "Low elevations (less than or equal to 193 m above sea level) almost 2x more likely to experience fires.\n",
    "\n",
    "As for aspect, WSW-facing areas are almost 2x more likely to have a fire than other areas. Overall, areas facing west and south are more likely to experience a fire than places facing east or north."
   ]
  },
  {
   "cell_type": "code",
   "execution_count": null,
   "id": "faedf381-64a8-472f-9ac1-f514ac2fc5e9",
   "metadata": {},
   "outputs": [],
   "source": [
    "# # flatten y sets to make them 1D arrays\n",
    "\n",
    "# y_remainder_flat=y_remainder.values.flatten()\n",
    "# y_test_flat=y_test.values.flatten()\n",
    "# y_train_flat=y_train.values.flatten()\n",
    "# y_validation_flat=y_validation.values.flatten()\n",
    "\n",
    "# y_train_array.shape"
   ]
  },
  {
   "cell_type": "code",
   "execution_count": null,
   "id": "6a16865b-2967-4b2a-be46-7da61e594105",
   "metadata": {},
   "outputs": [],
   "source": [
    "from sklearn.model_selection import GridSearchCV\n",
    "from sklearn.decomposition import PCA\n",
    "from sklearn import svm\n",
    "from sklearn.linear_model import LogisticRegression\n",
    "from sklearn.preprocessing import StandardScaler\n",
    "from sklearn.preprocessing import MinMaxScaler\n",
    "from sklearn.pipeline import Pipeline\n",
    "\n",
    "estimators = [('normalise', StandardScaler()),\n",
    "              ('reduce_dim', PCA()),\n",
    "              # ('svm', svm.SVC()),\n",
    "              ('model',LogisticRegression())\n",
    "             ]\n",
    "\n",
    "pipe = Pipeline(estimators)\n",
    "\n",
    "params = {#'svm__kernel': ['linear','rbf'], \n",
    "          'normalise': [StandardScaler(),MinMaxScaler()],\n",
    "          'reduce_dim__n_components': [1, 2, 3, 4, 5],\n",
    "          'model': [LogisticRegression(penalty='l2',max_iter=10000),\n",
    "                    LogisticRegression(penalty='l1',solver='liblinear',max_iter=10000)],\n",
    "          # 'model__penalty': ['elasticnet',None],\n",
    "          'model__C': [np.logspace(-2,-4,5)]\n",
    "         }\n",
    "\n",
    "grid_search = GridSearchCV(estimator=pipe, \n",
    "                           param_grid=params, \n",
    "                           cv=5,\n",
    "                           verbose=1,\n",
    "                           n_jobs=7,\n",
    "                           scoring=\"f1_weighted\")\n",
    "\n",
    "fittedgrid = grid_search.fit(X_train,y_train)"
   ]
  },
  {
   "cell_type": "code",
   "execution_count": null,
   "id": "393357e3-e580-4314-89c7-23c1ea59656d",
   "metadata": {},
   "outputs": [],
   "source": [
    "\n",
    "# https://stackoverflow.com/questions/52952310/plot-decision-regions-with-error-filler-values-must-be-provided-when-x-has-more\n",
    "clf = SVC(C=100,gamma=0.0001)\n",
    "pca = PCA(n_components = 2)\n",
    "X_train2 = pca.fit_transform(X_train)\n",
    "clf.fit(X_train2, y_train)\n",
    "plot_decision_regions(X_train2, y_train, clf=clf, legend=2)\n",
    "\n",
    "plt.xlabel(X.columns[0], size=14)\n",
    "plt.ylabel(X.columns[1], size=14)\n",
    "plt.title('SVM Decision Region Boundary', size=16)"
   ]
  },
  {
   "cell_type": "code",
   "execution_count": null,
   "id": "b207ecfb-3331-437d-a19d-78585fda518b",
   "metadata": {},
   "outputs": [],
   "source": []
  },
  {
   "cell_type": "code",
   "execution_count": 139,
   "id": "08caab88-e364-4df1-bcf2-9c9befff0515",
   "metadata": {
    "tags": []
   },
   "outputs": [
    {
     "data": {
      "text/html": [
       "<div>\n",
       "<style scoped>\n",
       "    .dataframe tbody tr th:only-of-type {\n",
       "        vertical-align: middle;\n",
       "    }\n",
       "\n",
       "    .dataframe tbody tr th {\n",
       "        vertical-align: top;\n",
       "    }\n",
       "\n",
       "    .dataframe thead th {\n",
       "        text-align: right;\n",
       "    }\n",
       "</style>\n",
       "<table border=\"1\" class=\"dataframe\">\n",
       "  <thead>\n",
       "    <tr style=\"text-align: right;\">\n",
       "      <th></th>\n",
       "      <th>elevation</th>\n",
       "      <th>aspect</th>\n",
       "      <th>fire</th>\n",
       "    </tr>\n",
       "  </thead>\n",
       "  <tbody>\n",
       "    <tr>\n",
       "      <th>0</th>\n",
       "      <td>52.0</td>\n",
       "      <td>14.743560</td>\n",
       "      <td>1</td>\n",
       "    </tr>\n",
       "    <tr>\n",
       "      <th>1</th>\n",
       "      <td>45.0</td>\n",
       "      <td>21.037510</td>\n",
       "      <td>1</td>\n",
       "    </tr>\n",
       "    <tr>\n",
       "      <th>2</th>\n",
       "      <td>45.0</td>\n",
       "      <td>333.434967</td>\n",
       "      <td>1</td>\n",
       "    </tr>\n",
       "    <tr>\n",
       "      <th>3</th>\n",
       "      <td>51.0</td>\n",
       "      <td>283.392487</td>\n",
       "      <td>1</td>\n",
       "    </tr>\n",
       "    <tr>\n",
       "      <th>4</th>\n",
       "      <td>63.0</td>\n",
       "      <td>229.289154</td>\n",
       "      <td>1</td>\n",
       "    </tr>\n",
       "    <tr>\n",
       "      <th>...</th>\n",
       "      <td>...</td>\n",
       "      <td>...</td>\n",
       "      <td>...</td>\n",
       "    </tr>\n",
       "    <tr>\n",
       "      <th>19831</th>\n",
       "      <td>22.0</td>\n",
       "      <td>270.000000</td>\n",
       "      <td>0</td>\n",
       "    </tr>\n",
       "    <tr>\n",
       "      <th>19832</th>\n",
       "      <td>18.0</td>\n",
       "      <td>59.036243</td>\n",
       "      <td>0</td>\n",
       "    </tr>\n",
       "    <tr>\n",
       "      <th>19833</th>\n",
       "      <td>20.0</td>\n",
       "      <td>264.805573</td>\n",
       "      <td>0</td>\n",
       "    </tr>\n",
       "    <tr>\n",
       "      <th>19834</th>\n",
       "      <td>17.0</td>\n",
       "      <td>63.434952</td>\n",
       "      <td>0</td>\n",
       "    </tr>\n",
       "    <tr>\n",
       "      <th>19835</th>\n",
       "      <td>17.0</td>\n",
       "      <td>320.710602</td>\n",
       "      <td>0</td>\n",
       "    </tr>\n",
       "  </tbody>\n",
       "</table>\n",
       "<p>19836 rows × 3 columns</p>\n",
       "</div>"
      ],
      "text/plain": [
       "       elevation      aspect  fire\n",
       "0           52.0   14.743560     1\n",
       "1           45.0   21.037510     1\n",
       "2           45.0  333.434967     1\n",
       "3           51.0  283.392487     1\n",
       "4           63.0  229.289154     1\n",
       "...          ...         ...   ...\n",
       "19831       22.0  270.000000     0\n",
       "19832       18.0   59.036243     0\n",
       "19833       20.0  264.805573     0\n",
       "19834       17.0   63.434952     0\n",
       "19835       17.0  320.710602     0\n",
       "\n",
       "[19836 rows x 3 columns]"
      ]
     },
     "execution_count": 139,
     "metadata": {},
     "output_type": "execute_result"
    }
   ],
   "source": [
    "# import geographic information .CSV\n",
    "\n",
    "df_original=pd.read_csv('/Users/sra/Desktop/Data_Science_2023/_capstone/00_capstone_data/shapefiles/joins/layer_combine.csv')\n",
    "df_original"
   ]
  },
  {
   "cell_type": "code",
   "execution_count": null,
   "id": "eca3bc70-dd03-49cb-969b-974dfb759abe",
   "metadata": {},
   "outputs": [],
   "source": []
  },
  {
   "cell_type": "code",
   "execution_count": 1,
   "id": "0d4160fb-2901-47c8-b746-ed4184867ee4",
   "metadata": {},
   "outputs": [],
   "source": [
    "#### Grid Search, second round"
   ]
  },
  {
   "cell_type": "code",
   "execution_count": null,
   "id": "e98d1986-8524-4a57-91bd-d4838684e802",
   "metadata": {},
   "outputs": [],
   "source": [
    "# Using a `GridSearchCV` on a smaller hyperparameter space to see if we can increase the accuracy even more. I will add a random forest and naive bayes to the grid search to incorporate those models. This is because random forests usually perform quite well. Naive bayes may result in a higher accuracy. We will also attempt some boosting models."
   ]
  },
  {
   "cell_type": "code",
   "execution_count": null,
   "id": "4d5855b5-387e-4f93-aafc-36b7e654be5a",
   "metadata": {},
   "outputs": [],
   "source": [
    "##### First, run basic versions of the models"
   ]
  },
  {
   "cell_type": "code",
   "execution_count": 2,
   "id": "fd78d19f-c307-4192-8a94-d636bd7e5316",
   "metadata": {},
   "outputs": [],
   "source": [
    "##### Running the grid search, second attempt "
   ]
  },
  {
   "cell_type": "code",
   "execution_count": null,
   "id": "4d2e6eba-2a11-4944-a741-6605535d0cde",
   "metadata": {},
   "outputs": [],
   "source": []
  },
  {
   "cell_type": "markdown",
   "id": "4aac878e-518e-4f82-a38c-246e950252b1",
   "metadata": {},
   "source": [
    "# grid searches"
   ]
  },
  {
   "cell_type": "markdown",
   "id": "118c41d6-3cb5-4245-b515-68c843c7b485",
   "metadata": {},
   "source": [
    "Let's try one more run. We are already getting diminishing returns, but I'm curious how much higher the accuracy can increase."
   ]
  },
  {
   "cell_type": "code",
   "execution_count": null,
   "id": "148382e4-067a-4fb4-a035-cc5e19d6c2fd",
   "metadata": {},
   "outputs": [],
   "source": [
    "gbc = GradientBoostingClassifier()\n",
    "\n",
    "parameters = {\n",
    "    'loss': ['exponential'],\n",
    "    'learning_rate': (np.logspace(-.5,-.3,20)),\n",
    "    'n_estimators': (np.arange(88,96))\n",
    "}\n",
    "grid_search_gbc = GridSearchCV(gbc, parameters, cv = 5, n_jobs = 7, verbose = 3)\n",
    "grid_search_gbc.fit(X_train_scale, y_train)\n",
    "\n",
    "# best score\n",
    "print(f\"best score: {grid_search_gbc.best_score_}\")\n",
    "\n",
    "# best parameters \n",
    "print(f\"best parameters: {grid_search_gbc.best_params_}\")"
   ]
  },
  {
   "cell_type": "markdown",
   "id": "2ecdaad4-df8b-4880-9384-45e16d886cb6",
   "metadata": {},
   "source": [
    "best score: `0.9114975657853945`  \n",
    "best parameters: `{'learning_rate': 0.4891856223541835, 'loss': 'exponential', 'n_estimators': 93}`"
   ]
  },
  {
   "cell_type": "markdown",
   "id": "679ce81e-73a4-46a7-a366-c3a35711fd47",
   "metadata": {},
   "source": [
    "Running the optimized hyperparameters on the scaled data:"
   ]
  },
  {
   "cell_type": "code",
   "execution_count": null,
   "id": "530e24ec-b21b-43a0-92de-5260da0d3c9e",
   "metadata": {},
   "outputs": [],
   "source": [
    "gbc=GradientBoostingClassifier(learning_rate=0.4891856223541835,\n",
    "                               loss='exponential',\n",
    "                               n_estimators=93)\n",
    "gbc.fit(X=X_train_scale,y=y_train)\n",
    "\n",
    "gbc.score(X=X_test_scale,y=y_test)"
   ]
  },
  {
   "cell_type": "markdown",
   "id": "4cff602b-9fda-4214-9300-f4739f8aa787",
   "metadata": {},
   "source": [
    "$91\\%$ is a good score, it's in the A-range!"
   ]
  },
  {
   "cell_type": "code",
   "execution_count": null,
   "id": "e31fbb85-5163-40aa-8a3d-fe3ab53dd555",
   "metadata": {},
   "outputs": [],
   "source": []
  },
  {
   "cell_type": "markdown",
   "id": "66f46b9f-514d-4b6c-97e1-552545a3e8a5",
   "metadata": {},
   "source": [
    "Stacking using `StackingClassifier`"
   ]
  },
  {
   "cell_type": "code",
   "execution_count": null,
   "id": "f0246120-08f9-4e1b-be20-a1876be0d658",
   "metadata": {},
   "outputs": [],
   "source": [
    "# # reset axis\n",
    "# sm_geo=sm_geo.reset_index()\n",
    "\n",
    "# sm_geo=sm_geo.drop(labels=['index','elev_cat','asp_cat'],axis=1)\n"
   ]
  }
 ],
 "metadata": {
  "kernelspec": {
   "display_name": "deeplearning",
   "language": "python",
   "name": "deeplearning"
  },
  "language_info": {
   "codemirror_mode": {
    "name": "ipython",
    "version": 3
   },
   "file_extension": ".py",
   "mimetype": "text/x-python",
   "name": "python",
   "nbconvert_exporter": "python",
   "pygments_lexer": "ipython3",
   "version": "3.8.15"
  }
 },
 "nbformat": 4,
 "nbformat_minor": 5
}
