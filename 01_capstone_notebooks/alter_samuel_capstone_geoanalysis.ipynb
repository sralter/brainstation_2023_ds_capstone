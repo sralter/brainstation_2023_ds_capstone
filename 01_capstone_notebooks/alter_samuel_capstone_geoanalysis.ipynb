{
 "cells": [
  {
   "cell_type": "markdown",
   "id": "1961f067-cf00-4d62-9c0f-85b78417531e",
   "metadata": {},
   "source": [
    "# Welcome  \n",
    "\n",
    "Notebook Author: Samuel Alter  \n",
    "Notebook Subject: Capstone Project - Geographic Analysis\n",
    "\n",
    "BrainStation Winter 2023: Data Science"
   ]
  },
  {
   "cell_type": "markdown",
   "id": "67615c52-2b21-4436-8a9e-0412b0c53ec1",
   "metadata": {},
   "source": [
    "## Introduction"
   ]
  },
  {
   "cell_type": "markdown",
   "id": "b26399e3-a0aa-4e02-b982-483dc9464aa1",
   "metadata": {},
   "source": [
    "This notebook walks through an analysis of geographic data's (i.e., elevation and aspect) influence on wildfire incidence. We want to see if these features of the landscape can accurately predict when a wildfire will be more likely. The location of study for this project are the Santa Monica Mountains, an east-west trending mountain range."
   ]
  },
  {
   "cell_type": "markdown",
   "id": "9d819902-da26-4c89-84c0-1c37fdd8e8e3",
   "metadata": {},
   "source": [
    "The dataset consists of a high-density grid that have elevation, and aspect data appended to each point. Also added to each point is whether there was a wildfire in that location. The elevation and aspect data are sourced from [USGS EarthExplorer](https://earthexplorer.usgs.gov), using the SRTM dataset. The wildfire data is sourced from the [National Interagency Fire Center](https://data-nifc.opendata.arcgis.com/datasets/nifc::interagencyfireperimeterhistory-all-years-view/explore?location=39.778749%2C-121.769073%2C11.96). "
   ]
  },
  {
   "cell_type": "markdown",
   "id": "c308d545-fe73-482e-92ca-8dd50fe38e2f",
   "metadata": {},
   "source": [
    "Please refer to the visualization notebook to see maps of the field site."
   ]
  },
  {
   "cell_type": "markdown",
   "id": "ad9e5e16-42de-4e7d-9fef-152dbb95aad0",
   "metadata": {},
   "source": [
    "## Initial Setup"
   ]
  },
  {
   "cell_type": "markdown",
   "id": "a56ca1ea-6b00-487c-8a98-fc2b7814f866",
   "metadata": {},
   "source": [
    "### Imports"
   ]
  },
  {
   "cell_type": "code",
   "execution_count": 18,
   "id": "8a626e16-8790-4e07-a15e-76095a0b9c2d",
   "metadata": {},
   "outputs": [],
   "source": [
    "import pandas as pd\n",
    "import numpy as np\n",
    "import seaborn as sns\n",
    "\n",
    "import statsmodels.api as sm\n",
    "\n",
    "from sklearn.linear_model import LogisticRegression\n",
    "from sklearn.model_selection import train_test_split"
   ]
  },
  {
   "cell_type": "code",
   "execution_count": 2,
   "id": "d89d44d9-5dd3-4077-9301-fed67a2f9858",
   "metadata": {
    "tags": []
   },
   "outputs": [
    {
     "data": {
      "text/html": [
       "<div>\n",
       "<style scoped>\n",
       "    .dataframe tbody tr th:only-of-type {\n",
       "        vertical-align: middle;\n",
       "    }\n",
       "\n",
       "    .dataframe tbody tr th {\n",
       "        vertical-align: top;\n",
       "    }\n",
       "\n",
       "    .dataframe thead th {\n",
       "        text-align: right;\n",
       "    }\n",
       "</style>\n",
       "<table border=\"1\" class=\"dataframe\">\n",
       "  <thead>\n",
       "    <tr style=\"text-align: right;\">\n",
       "      <th></th>\n",
       "      <th>objectid</th>\n",
       "      <th>perim_id</th>\n",
       "      <th>perim_elevation_1</th>\n",
       "      <th>perim_asp_1</th>\n",
       "      <th>fire</th>\n",
       "      <th>geometry</th>\n",
       "    </tr>\n",
       "  </thead>\n",
       "  <tbody>\n",
       "    <tr>\n",
       "      <th>0</th>\n",
       "      <td>4751.0</td>\n",
       "      <td>1644.0</td>\n",
       "      <td>434.0</td>\n",
       "      <td>31.883564</td>\n",
       "      <td>1</td>\n",
       "      <td>MULTIPOLYGON (((-118.297645979672 34.135057069...</td>\n",
       "    </tr>\n",
       "    <tr>\n",
       "      <th>1</th>\n",
       "      <td>4751.0</td>\n",
       "      <td>1645.0</td>\n",
       "      <td>349.0</td>\n",
       "      <td>7.624194</td>\n",
       "      <td>1</td>\n",
       "      <td>MULTIPOLYGON (((-118.297645979672 34.135057069...</td>\n",
       "    </tr>\n",
       "    <tr>\n",
       "      <th>2</th>\n",
       "      <td>4751.0</td>\n",
       "      <td>1646.0</td>\n",
       "      <td>288.0</td>\n",
       "      <td>72.613029</td>\n",
       "      <td>1</td>\n",
       "      <td>MULTIPOLYGON (((-118.297645979672 34.135057069...</td>\n",
       "    </tr>\n",
       "    <tr>\n",
       "      <th>3</th>\n",
       "      <td>4751.0</td>\n",
       "      <td>1647.0</td>\n",
       "      <td>189.0</td>\n",
       "      <td>335.170654</td>\n",
       "      <td>1</td>\n",
       "      <td>MULTIPOLYGON (((-118.297645979672 34.135057069...</td>\n",
       "    </tr>\n",
       "    <tr>\n",
       "      <th>4</th>\n",
       "      <td>4751.0</td>\n",
       "      <td>1648.0</td>\n",
       "      <td>229.0</td>\n",
       "      <td>346.464142</td>\n",
       "      <td>1</td>\n",
       "      <td>MULTIPOLYGON (((-118.297645979672 34.135057069...</td>\n",
       "    </tr>\n",
       "    <tr>\n",
       "      <th>...</th>\n",
       "      <td>...</td>\n",
       "      <td>...</td>\n",
       "      <td>...</td>\n",
       "      <td>...</td>\n",
       "      <td>...</td>\n",
       "      <td>...</td>\n",
       "    </tr>\n",
       "    <tr>\n",
       "      <th>19140</th>\n",
       "      <td>0.0</td>\n",
       "      <td>5935.0</td>\n",
       "      <td>52.0</td>\n",
       "      <td>149.036240</td>\n",
       "      <td>0</td>\n",
       "      <td>POINT (-118.2930000000007 34)</td>\n",
       "    </tr>\n",
       "    <tr>\n",
       "      <th>19141</th>\n",
       "      <td>0.0</td>\n",
       "      <td>5936.0</td>\n",
       "      <td>51.0</td>\n",
       "      <td>185.194427</td>\n",
       "      <td>0</td>\n",
       "      <td>POINT (-118.2880000000007 34)</td>\n",
       "    </tr>\n",
       "    <tr>\n",
       "      <th>19142</th>\n",
       "      <td>0.0</td>\n",
       "      <td>5937.0</td>\n",
       "      <td>52.0</td>\n",
       "      <td>270.000000</td>\n",
       "      <td>0</td>\n",
       "      <td>POINT (-118.2830000000007 34)</td>\n",
       "    </tr>\n",
       "    <tr>\n",
       "      <th>19143</th>\n",
       "      <td>0.0</td>\n",
       "      <td>5938.0</td>\n",
       "      <td>54.0</td>\n",
       "      <td>341.565063</td>\n",
       "      <td>0</td>\n",
       "      <td>POINT (-118.2780000000007 34)</td>\n",
       "    </tr>\n",
       "    <tr>\n",
       "      <th>19144</th>\n",
       "      <td>0.0</td>\n",
       "      <td>5939.0</td>\n",
       "      <td>55.0</td>\n",
       "      <td>270.000000</td>\n",
       "      <td>0</td>\n",
       "      <td>POINT (-118.2730000000007 34)</td>\n",
       "    </tr>\n",
       "  </tbody>\n",
       "</table>\n",
       "<p>19145 rows × 6 columns</p>\n",
       "</div>"
      ],
      "text/plain": [
       "       objectid  perim_id  perim_elevation_1  perim_asp_1  fire  \\\n",
       "0        4751.0    1644.0              434.0    31.883564     1   \n",
       "1        4751.0    1645.0              349.0     7.624194     1   \n",
       "2        4751.0    1646.0              288.0    72.613029     1   \n",
       "3        4751.0    1647.0              189.0   335.170654     1   \n",
       "4        4751.0    1648.0              229.0   346.464142     1   \n",
       "...         ...       ...                ...          ...   ...   \n",
       "19140       0.0    5935.0               52.0   149.036240     0   \n",
       "19141       0.0    5936.0               51.0   185.194427     0   \n",
       "19142       0.0    5937.0               52.0   270.000000     0   \n",
       "19143       0.0    5938.0               54.0   341.565063     0   \n",
       "19144       0.0    5939.0               55.0   270.000000     0   \n",
       "\n",
       "                                                geometry  \n",
       "0      MULTIPOLYGON (((-118.297645979672 34.135057069...  \n",
       "1      MULTIPOLYGON (((-118.297645979672 34.135057069...  \n",
       "2      MULTIPOLYGON (((-118.297645979672 34.135057069...  \n",
       "3      MULTIPOLYGON (((-118.297645979672 34.135057069...  \n",
       "4      MULTIPOLYGON (((-118.297645979672 34.135057069...  \n",
       "...                                                  ...  \n",
       "19140                      POINT (-118.2930000000007 34)  \n",
       "19141                      POINT (-118.2880000000007 34)  \n",
       "19142                      POINT (-118.2830000000007 34)  \n",
       "19143                      POINT (-118.2780000000007 34)  \n",
       "19144                      POINT (-118.2730000000007 34)  \n",
       "\n",
       "[19145 rows x 6 columns]"
      ]
     },
     "execution_count": 2,
     "metadata": {},
     "output_type": "execute_result"
    }
   ],
   "source": [
    "# import geographic information .CSV\n",
    "\n",
    "sm_geo_original=pd.read_csv('/Users/sra/Desktop/Data_Science_2023/_capstone/00_capstone_data/shapefiles/joins/sm_geo_combine.csv')\n",
    "sm_geo_original"
   ]
  },
  {
   "cell_type": "markdown",
   "id": "5af43ce4-da58-4bee-ae70-154af68adb44",
   "metadata": {},
   "source": [
    "### EDA"
   ]
  },
  {
   "cell_type": "code",
   "execution_count": 3,
   "id": "b916f8b7-1e85-43e3-ae10-ef7a5fa1010c",
   "metadata": {},
   "outputs": [
    {
     "data": {
      "text/plain": [
       "objectid               0\n",
       "perim_id             641\n",
       "perim_elevation_1    641\n",
       "perim_asp_1          668\n",
       "fire                   0\n",
       "geometry               0\n",
       "dtype: int64"
      ]
     },
     "execution_count": 3,
     "metadata": {},
     "output_type": "execute_result"
    }
   ],
   "source": [
    "sm_geo_original.isna().sum()"
   ]
  },
  {
   "cell_type": "code",
   "execution_count": 4,
   "id": "c2c86c52-3c41-4130-92d4-27ffd0155edf",
   "metadata": {},
   "outputs": [
    {
     "data": {
      "text/html": [
       "<div>\n",
       "<style scoped>\n",
       "    .dataframe tbody tr th:only-of-type {\n",
       "        vertical-align: middle;\n",
       "    }\n",
       "\n",
       "    .dataframe tbody tr th {\n",
       "        vertical-align: top;\n",
       "    }\n",
       "\n",
       "    .dataframe thead th {\n",
       "        text-align: right;\n",
       "    }\n",
       "</style>\n",
       "<table border=\"1\" class=\"dataframe\">\n",
       "  <thead>\n",
       "    <tr style=\"text-align: right;\">\n",
       "      <th></th>\n",
       "      <th>objectid</th>\n",
       "      <th>perim_id</th>\n",
       "      <th>perim_elevation_1</th>\n",
       "      <th>perim_asp_1</th>\n",
       "      <th>fire</th>\n",
       "      <th>geometry</th>\n",
       "    </tr>\n",
       "  </thead>\n",
       "  <tbody>\n",
       "    <tr>\n",
       "      <th>14</th>\n",
       "      <td>4753.0</td>\n",
       "      <td>NaN</td>\n",
       "      <td>NaN</td>\n",
       "      <td>NaN</td>\n",
       "      <td>1</td>\n",
       "      <td>MULTIPOLYGON (((-118.305363835672 34.119507991...</td>\n",
       "    </tr>\n",
       "    <tr>\n",
       "      <th>15</th>\n",
       "      <td>4767.0</td>\n",
       "      <td>NaN</td>\n",
       "      <td>NaN</td>\n",
       "      <td>NaN</td>\n",
       "      <td>1</td>\n",
       "      <td>MULTIPOLYGON (((-118.843533279074 34.169495387...</td>\n",
       "    </tr>\n",
       "    <tr>\n",
       "      <th>24</th>\n",
       "      <td>4796.0</td>\n",
       "      <td>NaN</td>\n",
       "      <td>NaN</td>\n",
       "      <td>NaN</td>\n",
       "      <td>1</td>\n",
       "      <td>MULTIPOLYGON (((-118.60574361788 34.1457095562...</td>\n",
       "    </tr>\n",
       "    <tr>\n",
       "      <th>25</th>\n",
       "      <td>4849.0</td>\n",
       "      <td>NaN</td>\n",
       "      <td>NaN</td>\n",
       "      <td>NaN</td>\n",
       "      <td>1</td>\n",
       "      <td>MULTIPOLYGON (((-118.377669263434 34.122895200...</td>\n",
       "    </tr>\n",
       "    <tr>\n",
       "      <th>26</th>\n",
       "      <td>4850.0</td>\n",
       "      <td>NaN</td>\n",
       "      <td>NaN</td>\n",
       "      <td>NaN</td>\n",
       "      <td>1</td>\n",
       "      <td>MULTIPOLYGON (((-118.574062124596 34.079625547...</td>\n",
       "    </tr>\n",
       "    <tr>\n",
       "      <th>...</th>\n",
       "      <td>...</td>\n",
       "      <td>...</td>\n",
       "      <td>...</td>\n",
       "      <td>...</td>\n",
       "      <td>...</td>\n",
       "      <td>...</td>\n",
       "    </tr>\n",
       "    <tr>\n",
       "      <th>18743</th>\n",
       "      <td>0.0</td>\n",
       "      <td>4600.0</td>\n",
       "      <td>32.0</td>\n",
       "      <td>NaN</td>\n",
       "      <td>0</td>\n",
       "      <td>POINT (-118.3680000000007 34.04)</td>\n",
       "    </tr>\n",
       "    <tr>\n",
       "      <th>18786</th>\n",
       "      <td>0.0</td>\n",
       "      <td>4752.0</td>\n",
       "      <td>53.0</td>\n",
       "      <td>NaN</td>\n",
       "      <td>0</td>\n",
       "      <td>POINT (-118.4330000000006 34.035)</td>\n",
       "    </tr>\n",
       "    <tr>\n",
       "      <th>18810</th>\n",
       "      <td>0.0</td>\n",
       "      <td>4776.0</td>\n",
       "      <td>67.0</td>\n",
       "      <td>NaN</td>\n",
       "      <td>0</td>\n",
       "      <td>POINT (-118.3130000000007 34.035)</td>\n",
       "    </tr>\n",
       "    <tr>\n",
       "      <th>18863</th>\n",
       "      <td>0.0</td>\n",
       "      <td>4941.0</td>\n",
       "      <td>52.0</td>\n",
       "      <td>NaN</td>\n",
       "      <td>0</td>\n",
       "      <td>POINT (-118.3130000000007 34.03)</td>\n",
       "    </tr>\n",
       "    <tr>\n",
       "      <th>18864</th>\n",
       "      <td>0.0</td>\n",
       "      <td>4942.0</td>\n",
       "      <td>56.0</td>\n",
       "      <td>NaN</td>\n",
       "      <td>0</td>\n",
       "      <td>POINT (-118.3080000000007 34.03)</td>\n",
       "    </tr>\n",
       "  </tbody>\n",
       "</table>\n",
       "<p>668 rows × 6 columns</p>\n",
       "</div>"
      ],
      "text/plain": [
       "       objectid  perim_id  perim_elevation_1  perim_asp_1  fire  \\\n",
       "14       4753.0       NaN                NaN          NaN     1   \n",
       "15       4767.0       NaN                NaN          NaN     1   \n",
       "24       4796.0       NaN                NaN          NaN     1   \n",
       "25       4849.0       NaN                NaN          NaN     1   \n",
       "26       4850.0       NaN                NaN          NaN     1   \n",
       "...         ...       ...                ...          ...   ...   \n",
       "18743       0.0    4600.0               32.0          NaN     0   \n",
       "18786       0.0    4752.0               53.0          NaN     0   \n",
       "18810       0.0    4776.0               67.0          NaN     0   \n",
       "18863       0.0    4941.0               52.0          NaN     0   \n",
       "18864       0.0    4942.0               56.0          NaN     0   \n",
       "\n",
       "                                                geometry  \n",
       "14     MULTIPOLYGON (((-118.305363835672 34.119507991...  \n",
       "15     MULTIPOLYGON (((-118.843533279074 34.169495387...  \n",
       "24     MULTIPOLYGON (((-118.60574361788 34.1457095562...  \n",
       "25     MULTIPOLYGON (((-118.377669263434 34.122895200...  \n",
       "26     MULTIPOLYGON (((-118.574062124596 34.079625547...  \n",
       "...                                                  ...  \n",
       "18743                   POINT (-118.3680000000007 34.04)  \n",
       "18786                  POINT (-118.4330000000006 34.035)  \n",
       "18810                  POINT (-118.3130000000007 34.035)  \n",
       "18863                   POINT (-118.3130000000007 34.03)  \n",
       "18864                   POINT (-118.3080000000007 34.03)  \n",
       "\n",
       "[668 rows x 6 columns]"
      ]
     },
     "execution_count": 4,
     "metadata": {},
     "output_type": "execute_result"
    }
   ],
   "source": [
    "sm_geo_original[sm_geo_original['perim_asp_1'].isna()==True]"
   ]
  },
  {
   "cell_type": "code",
   "execution_count": 5,
   "id": "84a2771c-d84d-4bfc-bec7-a61ef09fbb94",
   "metadata": {},
   "outputs": [
    {
     "data": {
      "text/plain": [
       "objectid             0.000000\n",
       "perim_id             3.464116\n",
       "perim_elevation_1    3.464116\n",
       "perim_asp_1          3.615306\n",
       "fire                 0.000000\n",
       "geometry             0.000000\n",
       "dtype: float64"
      ]
     },
     "execution_count": 5,
     "metadata": {},
     "output_type": "execute_result"
    }
   ],
   "source": [
    "(sm_geo_original.isna().sum())/(sm_geo_original.count())*100"
   ]
  },
  {
   "cell_type": "markdown",
   "id": "0a45ccb7-db71-4147-b8c9-2b1300eae77b",
   "metadata": {},
   "source": [
    "I have enough data that $3.5{\\%}$ (roughly $650$ rows) is not a large portion of the dataset. I will remove these `NaN` rows:"
   ]
  },
  {
   "cell_type": "code",
   "execution_count": 6,
   "id": "1b3a651b-c41f-4a75-9d38-dc9707853371",
   "metadata": {},
   "outputs": [
    {
     "data": {
      "text/plain": [
       "objectid             0\n",
       "perim_id             0\n",
       "perim_elevation_1    0\n",
       "perim_asp_1          0\n",
       "fire                 0\n",
       "geometry             0\n",
       "dtype: int64"
      ]
     },
     "execution_count": 6,
     "metadata": {},
     "output_type": "execute_result"
    }
   ],
   "source": [
    "sm_geo_original=sm_geo_original.dropna()\n",
    "sm_geo_original.isna().sum()"
   ]
  },
  {
   "cell_type": "markdown",
   "id": "01fa73b1-2321-4bab-a6e4-c5c50785a2a7",
   "metadata": {
    "tags": []
   },
   "source": [
    "### Prepare data for analysis"
   ]
  },
  {
   "cell_type": "code",
   "execution_count": 25,
   "id": "a4851b6d-9901-43a5-8116-cd710a11610b",
   "metadata": {},
   "outputs": [
    {
     "data": {
      "text/html": [
       "<div>\n",
       "<style scoped>\n",
       "    .dataframe tbody tr th:only-of-type {\n",
       "        vertical-align: middle;\n",
       "    }\n",
       "\n",
       "    .dataframe tbody tr th {\n",
       "        vertical-align: top;\n",
       "    }\n",
       "\n",
       "    .dataframe thead th {\n",
       "        text-align: right;\n",
       "    }\n",
       "</style>\n",
       "<table border=\"1\" class=\"dataframe\">\n",
       "  <thead>\n",
       "    <tr style=\"text-align: right;\">\n",
       "      <th></th>\n",
       "      <th>fire</th>\n",
       "    </tr>\n",
       "  </thead>\n",
       "  <tbody>\n",
       "    <tr>\n",
       "      <th>0</th>\n",
       "      <td>1</td>\n",
       "    </tr>\n",
       "    <tr>\n",
       "      <th>1</th>\n",
       "      <td>1</td>\n",
       "    </tr>\n",
       "    <tr>\n",
       "      <th>2</th>\n",
       "      <td>1</td>\n",
       "    </tr>\n",
       "    <tr>\n",
       "      <th>3</th>\n",
       "      <td>1</td>\n",
       "    </tr>\n",
       "    <tr>\n",
       "      <th>4</th>\n",
       "      <td>1</td>\n",
       "    </tr>\n",
       "    <tr>\n",
       "      <th>...</th>\n",
       "      <td>...</td>\n",
       "    </tr>\n",
       "    <tr>\n",
       "      <th>19140</th>\n",
       "      <td>0</td>\n",
       "    </tr>\n",
       "    <tr>\n",
       "      <th>19141</th>\n",
       "      <td>0</td>\n",
       "    </tr>\n",
       "    <tr>\n",
       "      <th>19142</th>\n",
       "      <td>0</td>\n",
       "    </tr>\n",
       "    <tr>\n",
       "      <th>19143</th>\n",
       "      <td>0</td>\n",
       "    </tr>\n",
       "    <tr>\n",
       "      <th>19144</th>\n",
       "      <td>0</td>\n",
       "    </tr>\n",
       "  </tbody>\n",
       "</table>\n",
       "<p>18477 rows × 1 columns</p>\n",
       "</div>"
      ],
      "text/plain": [
       "       fire\n",
       "0         1\n",
       "1         1\n",
       "2         1\n",
       "3         1\n",
       "4         1\n",
       "...     ...\n",
       "19140     0\n",
       "19141     0\n",
       "19142     0\n",
       "19143     0\n",
       "19144     0\n",
       "\n",
       "[18477 rows x 1 columns]"
      ]
     },
     "execution_count": 25,
     "metadata": {},
     "output_type": "execute_result"
    }
   ],
   "source": [
    "X=sm_geo_original[['perim_elevation_1','perim_asp_1']]\n",
    "y=sm_geo_original[['fire']]\n",
    "\n",
    "y"
   ]
  },
  {
   "cell_type": "code",
   "execution_count": 8,
   "id": "71bae5f0-873b-4636-aee1-878050c357c8",
   "metadata": {},
   "outputs": [
    {
     "name": "stdout",
     "output_type": "stream",
     "text": [
      "(18477, 2)\n",
      "(18477, 1)\n"
     ]
    }
   ],
   "source": [
    "print(X.shape)\n",
    "print(y.shape)"
   ]
  },
  {
   "cell_type": "code",
   "execution_count": 9,
   "id": "94964da9-3ad0-443a-b71f-c9f428eca67e",
   "metadata": {},
   "outputs": [
    {
     "data": {
      "text/plain": [
       "array([1, 1, 1, ..., 0, 0, 0])"
      ]
     },
     "execution_count": 9,
     "metadata": {},
     "output_type": "execute_result"
    }
   ],
   "source": [
    "# reshape the y data into a 1D array for modeling\n",
    "\n",
    "y_array=np.ravel(a=y,order='C')\n",
    "y_array"
   ]
  },
  {
   "cell_type": "code",
   "execution_count": 10,
   "id": "74b5f504-8d0d-4930-95dd-4ba4659dafa5",
   "metadata": {},
   "outputs": [
    {
     "data": {
      "text/plain": [
       "fire    0.889809\n",
       "dtype: float64"
      ]
     },
     "execution_count": 10,
     "metadata": {},
     "output_type": "execute_result"
    }
   ],
   "source": [
    "y.sum()/y.count()"
   ]
  },
  {
   "cell_type": "markdown",
   "id": "8c79eadf-bda4-475d-bea4-205dbf04b47a",
   "metadata": {},
   "source": [
    "The dataset has $89{\\%}$ of the landscape enduring a wildfire."
   ]
  },
  {
   "cell_type": "code",
   "execution_count": 16,
   "id": "0f8d9519-b178-4726-a6ab-eca6bf02ef87",
   "metadata": {},
   "outputs": [
    {
     "data": {
      "text/html": [
       "<div>\n",
       "<style scoped>\n",
       "    .dataframe tbody tr th:only-of-type {\n",
       "        vertical-align: middle;\n",
       "    }\n",
       "\n",
       "    .dataframe tbody tr th {\n",
       "        vertical-align: top;\n",
       "    }\n",
       "\n",
       "    .dataframe thead th {\n",
       "        text-align: right;\n",
       "    }\n",
       "</style>\n",
       "<table border=\"1\" class=\"dataframe\">\n",
       "  <thead>\n",
       "    <tr style=\"text-align: right;\">\n",
       "      <th></th>\n",
       "      <th>perim_elevation_1</th>\n",
       "      <th>perim_asp_1</th>\n",
       "    </tr>\n",
       "  </thead>\n",
       "  <tbody>\n",
       "    <tr>\n",
       "      <th>perim_elevation_1</th>\n",
       "      <td>1.000000</td>\n",
       "      <td>-0.018131</td>\n",
       "    </tr>\n",
       "    <tr>\n",
       "      <th>perim_asp_1</th>\n",
       "      <td>-0.018131</td>\n",
       "      <td>1.000000</td>\n",
       "    </tr>\n",
       "  </tbody>\n",
       "</table>\n",
       "</div>"
      ],
      "text/plain": [
       "                   perim_elevation_1  perim_asp_1\n",
       "perim_elevation_1           1.000000    -0.018131\n",
       "perim_asp_1                -0.018131     1.000000"
      ]
     },
     "execution_count": 16,
     "metadata": {},
     "output_type": "execute_result"
    }
   ],
   "source": [
    "X.corr()"
   ]
  },
  {
   "cell_type": "markdown",
   "id": "41827867-e296-47c6-8323-0f4493e419a7",
   "metadata": {},
   "source": [
    "Additionally, there is no collinearity between aspect and elevation."
   ]
  },
  {
   "cell_type": "markdown",
   "id": "ad0585f0-dd5f-4f79-ba32-59f9a89ece6c",
   "metadata": {
    "tags": []
   },
   "source": [
    "## Modeling"
   ]
  },
  {
   "cell_type": "markdown",
   "id": "ad518ef3-c56c-46cb-9e75-e8e4ef303444",
   "metadata": {},
   "source": [
    "### Train, Test, Split\n",
    "\n",
    "Partition dataset to have $0.\\overline3$ of the total as testing."
   ]
  },
  {
   "cell_type": "code",
   "execution_count": 11,
   "id": "c89c2422-ca61-4ac4-981f-f4b26e9d49e2",
   "metadata": {},
   "outputs": [],
   "source": [
    "X_train, X_test, y_train, y_test = train_test_split(X, y_array, test_size=(1/3),stratify=y)"
   ]
  },
  {
   "cell_type": "markdown",
   "id": "c6487529-988f-406a-ba74-4f9780f1191f",
   "metadata": {},
   "source": [
    "#### Basic logistic regression:"
   ]
  },
  {
   "cell_type": "markdown",
   "id": "de728a2e-4f15-41de-89e0-c245c2d2650a",
   "metadata": {},
   "source": [
    "##### `sklearn`:"
   ]
  },
  {
   "cell_type": "code",
   "execution_count": 12,
   "id": "62dc2007-a884-4432-b757-ff0603b40d82",
   "metadata": {},
   "outputs": [
    {
     "name": "stdout",
     "output_type": "stream",
     "text": [
      "Training Score:  0.8898360123396656\n",
      "Testing Score:   0.889754830329599\n"
     ]
    }
   ],
   "source": [
    "# instantiate model\n",
    "logreg=LogisticRegression()\n",
    "\n",
    "# fit the model\n",
    "logreg.fit(X_train,y_train)\n",
    "\n",
    "print('Training Score: ',logreg.score(X_train,y_train))\n",
    "print('Testing Score:  ',logreg.score(X_test,y_test))"
   ]
  },
  {
   "cell_type": "markdown",
   "id": "c9f93c4d-5a7e-4937-a50e-2e707fbfdce5",
   "metadata": {},
   "source": [
    "Good match with the training set, though the accuracy is lower than I'd like; it's the same as the base rate. What about using `statsmodels` to see if we can make a stronger statistical understanding about what influences wildfires?"
   ]
  },
  {
   "cell_type": "markdown",
   "id": "8d4dc584-c2c9-46fe-bdcd-a81eebc6105f",
   "metadata": {},
   "source": [
    "##### `statsmodels`:"
   ]
  },
  {
   "cell_type": "code",
   "execution_count": 20,
   "id": "884d3d97-9577-436a-adc8-3f1f166db996",
   "metadata": {},
   "outputs": [
    {
     "data": {
      "text/html": [
       "<div>\n",
       "<style scoped>\n",
       "    .dataframe tbody tr th:only-of-type {\n",
       "        vertical-align: middle;\n",
       "    }\n",
       "\n",
       "    .dataframe tbody tr th {\n",
       "        vertical-align: top;\n",
       "    }\n",
       "\n",
       "    .dataframe thead th {\n",
       "        text-align: right;\n",
       "    }\n",
       "</style>\n",
       "<table border=\"1\" class=\"dataframe\">\n",
       "  <thead>\n",
       "    <tr style=\"text-align: right;\">\n",
       "      <th></th>\n",
       "      <th>const</th>\n",
       "      <th>perim_elevation_1</th>\n",
       "      <th>perim_asp_1</th>\n",
       "    </tr>\n",
       "  </thead>\n",
       "  <tbody>\n",
       "    <tr>\n",
       "      <th>0</th>\n",
       "      <td>1.0</td>\n",
       "      <td>434.0</td>\n",
       "      <td>31.883564</td>\n",
       "    </tr>\n",
       "    <tr>\n",
       "      <th>1</th>\n",
       "      <td>1.0</td>\n",
       "      <td>349.0</td>\n",
       "      <td>7.624194</td>\n",
       "    </tr>\n",
       "    <tr>\n",
       "      <th>2</th>\n",
       "      <td>1.0</td>\n",
       "      <td>288.0</td>\n",
       "      <td>72.613029</td>\n",
       "    </tr>\n",
       "    <tr>\n",
       "      <th>3</th>\n",
       "      <td>1.0</td>\n",
       "      <td>189.0</td>\n",
       "      <td>335.170654</td>\n",
       "    </tr>\n",
       "    <tr>\n",
       "      <th>4</th>\n",
       "      <td>1.0</td>\n",
       "      <td>229.0</td>\n",
       "      <td>346.464142</td>\n",
       "    </tr>\n",
       "  </tbody>\n",
       "</table>\n",
       "</div>"
      ],
      "text/plain": [
       "   const  perim_elevation_1  perim_asp_1\n",
       "0    1.0              434.0    31.883564\n",
       "1    1.0              349.0     7.624194\n",
       "2    1.0              288.0    72.613029\n",
       "3    1.0              189.0   335.170654\n",
       "4    1.0              229.0   346.464142"
      ]
     },
     "execution_count": 20,
     "metadata": {},
     "output_type": "execute_result"
    }
   ],
   "source": [
    "# add constant to prepare for statsmodels\n",
    "\n",
    "X_withconstant=sm.add_constant(X)\n",
    "X_withconstant.head()"
   ]
  },
  {
   "cell_type": "code",
   "execution_count": 21,
   "id": "f485decf-8f65-42da-9bd0-d2e5c9e6188d",
   "metadata": {},
   "outputs": [
    {
     "name": "stdout",
     "output_type": "stream",
     "text": [
      "Optimization terminated successfully.\n",
      "         Current function value: 0.284397\n",
      "         Iterations 7\n"
     ]
    },
    {
     "data": {
      "text/html": [
       "<table class=\"simpletable\">\n",
       "<caption>Logit Regression Results</caption>\n",
       "<tr>\n",
       "  <th>Dep. Variable:</th>         <td>fire</td>       <th>  No. Observations:  </th>  <td> 18477</td> \n",
       "</tr>\n",
       "<tr>\n",
       "  <th>Model:</th>                 <td>Logit</td>      <th>  Df Residuals:      </th>  <td> 18474</td> \n",
       "</tr>\n",
       "<tr>\n",
       "  <th>Method:</th>                 <td>MLE</td>       <th>  Df Model:          </th>  <td>     2</td> \n",
       "</tr>\n",
       "<tr>\n",
       "  <th>Date:</th>            <td>Wed, 22 Mar 2023</td> <th>  Pseudo R-squ.:     </th>  <td>0.1802</td> \n",
       "</tr>\n",
       "<tr>\n",
       "  <th>Time:</th>                <td>13:35:58</td>     <th>  Log-Likelihood:    </th> <td> -5254.8</td>\n",
       "</tr>\n",
       "<tr>\n",
       "  <th>converged:</th>             <td>True</td>       <th>  LL-Null:           </th> <td> -6409.9</td>\n",
       "</tr>\n",
       "<tr>\n",
       "  <th>Covariance Type:</th>     <td>nonrobust</td>    <th>  LLR p-value:       </th>  <td> 0.000</td> \n",
       "</tr>\n",
       "</table>\n",
       "<table class=\"simpletable\">\n",
       "<tr>\n",
       "          <td></td>             <th>coef</th>     <th>std err</th>      <th>z</th>      <th>P>|z|</th>  <th>[0.025</th>    <th>0.975]</th>  \n",
       "</tr>\n",
       "<tr>\n",
       "  <th>const</th>             <td>   -0.0242</td> <td>    0.072</td> <td>   -0.338</td> <td> 0.736</td> <td>   -0.165</td> <td>    0.116</td>\n",
       "</tr>\n",
       "<tr>\n",
       "  <th>perim_elevation_1</th> <td>    0.0087</td> <td>    0.000</td> <td>   40.762</td> <td> 0.000</td> <td>    0.008</td> <td>    0.009</td>\n",
       "</tr>\n",
       "<tr>\n",
       "  <th>perim_asp_1</th>       <td>    0.0003</td> <td>    0.000</td> <td>    0.887</td> <td> 0.375</td> <td>   -0.000</td> <td>    0.001</td>\n",
       "</tr>\n",
       "</table>"
      ],
      "text/plain": [
       "<class 'statsmodels.iolib.summary.Summary'>\n",
       "\"\"\"\n",
       "                           Logit Regression Results                           \n",
       "==============================================================================\n",
       "Dep. Variable:                   fire   No. Observations:                18477\n",
       "Model:                          Logit   Df Residuals:                    18474\n",
       "Method:                           MLE   Df Model:                            2\n",
       "Date:                Wed, 22 Mar 2023   Pseudo R-squ.:                  0.1802\n",
       "Time:                        13:35:58   Log-Likelihood:                -5254.8\n",
       "converged:                       True   LL-Null:                       -6409.9\n",
       "Covariance Type:            nonrobust   LLR p-value:                     0.000\n",
       "=====================================================================================\n",
       "                        coef    std err          z      P>|z|      [0.025      0.975]\n",
       "-------------------------------------------------------------------------------------\n",
       "const                -0.0242      0.072     -0.338      0.736      -0.165       0.116\n",
       "perim_elevation_1     0.0087      0.000     40.762      0.000       0.008       0.009\n",
       "perim_asp_1           0.0003      0.000      0.887      0.375      -0.000       0.001\n",
       "=====================================================================================\n",
       "\"\"\""
      ]
     },
     "execution_count": 21,
     "metadata": {},
     "output_type": "execute_result"
    }
   ],
   "source": [
    "# instantiate model\n",
    "logreg_sm=sm.Logit(y,X_withconstant)\n",
    "\n",
    "# fit the model\n",
    "logreg_sm_results=logreg_sm.fit()\n",
    "\n",
    "# summary\n",
    "logreg_sm_results.summary()"
   ]
  },
  {
   "cell_type": "code",
   "execution_count": 22,
   "id": "baeafff4-566d-411b-ad1c-16b6ac6df549",
   "metadata": {},
   "outputs": [
    {
     "data": {
      "text/plain": [
       "const               -0.024207\n",
       "perim_elevation_1    0.008738\n",
       "perim_asp_1          0.000252\n",
       "dtype: float64"
      ]
     },
     "execution_count": 22,
     "metadata": {},
     "output_type": "execute_result"
    }
   ],
   "source": [
    "logreg_sm_results.params"
   ]
  },
  {
   "cell_type": "code",
   "execution_count": 24,
   "id": "60ca8ab2-f199-47a1-8fbb-2e568be840cb",
   "metadata": {},
   "outputs": [
    {
     "name": "stdout",
     "output_type": "stream",
     "text": [
      "[0.9760838980920863, 1.0087765028598021, 1.0002517075801256]\n"
     ]
    }
   ],
   "source": [
    "beta0=logreg_sm_results.params[0] # constant\n",
    "beta1=logreg_sm_results.params[1] # elevation\n",
    "beta2=logreg_sm_results.params[2] # aspect\n",
    "\n",
    "betas=[beta0,beta1,beta2]\n",
    "odds=[]\n",
    "\n",
    "for b in betas:\n",
    "    odds.append(np.exp(b))\n",
    "    \n",
    "print(odds)"
   ]
  },
  {
   "cell_type": "markdown",
   "id": "263785c4-be5c-48b5-89bf-30e2e92feff0",
   "metadata": {},
   "source": [
    "Now let's try to increase the accuracy of our model."
   ]
  },
  {
   "cell_type": "code",
   "execution_count": null,
   "id": "34575246-9189-4038-838b-d546d9f4d631",
   "metadata": {},
   "outputs": [],
   "source": []
  }
 ],
 "metadata": {
  "kernelspec": {
   "display_name": "sklearn",
   "language": "python",
   "name": "sklearn"
  },
  "language_info": {
   "codemirror_mode": {
    "name": "ipython",
    "version": 3
   },
   "file_extension": ".py",
   "mimetype": "text/x-python",
   "name": "python",
   "nbconvert_exporter": "python",
   "pygments_lexer": "ipython3",
   "version": "3.9.16"
  }
 },
 "nbformat": 4,
 "nbformat_minor": 5
}
