{
 "cells": [
  {
   "cell_type": "markdown",
   "id": "1961f067-cf00-4d62-9c0f-85b78417531e",
   "metadata": {},
   "source": [
    "# Welcome  \n",
    "\n",
    "Notebook Author: Samuel Alter  \n",
    "Notebook Subject: Capstone Project - Geographic Analysis\n",
    "\n",
    "BrainStation Winter 2023: Data Science"
   ]
  },
  {
   "cell_type": "markdown",
   "id": "67615c52-2b21-4436-8a9e-0412b0c53ec1",
   "metadata": {},
   "source": [
    "## Introduction"
   ]
  },
  {
   "cell_type": "markdown",
   "id": "b26399e3-a0aa-4e02-b982-483dc9464aa1",
   "metadata": {},
   "source": [
    "This notebook works through an analysis of geographic data (i.e., elevation and aspect) - looking at its influence on wildfire incidence. We want to see if these features of the landscape can accurately predict when a wildfire will be more likely. The location of study for this project are the Santa Monica Mountains, an east-west trending mountain range."
   ]
  },
  {
   "cell_type": "markdown",
   "id": "9d819902-da26-4c89-84c0-1c37fdd8e8e3",
   "metadata": {},
   "source": [
    "The dataset consists of a high-density grid that has elevation and aspect data appended to each point. Also added to each point is whether there was a wildfire in that location. The elevation and aspect data are sourced from [USGS EarthExplorer](https://earthexplorer.usgs.gov), using the SRTM elevation dataset. The wildfire data is sourced from the [National Interagency Fire Center](https://data-nifc.opendata.arcgis.com/datasets/nifc::interagencyfireperimeterhistory-all-years-view/explore?location=39.778749%2C-121.769073%2C11.96). "
   ]
  },
  {
   "cell_type": "markdown",
   "id": "c31a49df-6f7d-452e-aef2-060ba53b5303",
   "metadata": {},
   "source": [
    "This notebook uses the .csv written in the final step from the Perimeters file. The .csv has already been cleaned and ready for further processing and modeling."
   ]
  },
  {
   "cell_type": "markdown",
   "id": "c308d545-fe73-482e-92ca-8dd50fe38e2f",
   "metadata": {},
   "source": [
    "Please refer to the visualization notebook to see maps of the field site."
   ]
  },
  {
   "cell_type": "markdown",
   "id": "ad9e5e16-42de-4e7d-9fef-152dbb95aad0",
   "metadata": {},
   "source": [
    "## Initial Setup"
   ]
  },
  {
   "cell_type": "markdown",
   "id": "a56ca1ea-6b00-487c-8a98-fc2b7814f866",
   "metadata": {},
   "source": [
    "### Imports"
   ]
  },
  {
   "cell_type": "code",
   "execution_count": 1,
   "id": "8a626e16-8790-4e07-a15e-76095a0b9c2d",
   "metadata": {},
   "outputs": [],
   "source": [
    "import pandas as pd\n",
    "import numpy as np\n",
    "import seaborn as sns\n",
    "import matplotlib.pyplot as plt\n",
    "\n",
    "import statsmodels.api as sm\n",
    "\n",
    "from sklearn.linear_model import LogisticRegression\n",
    "from sklearn.model_selection import train_test_split\n",
    "\n",
    "from sklearn.model_selection import GridSearchCV\n",
    "from sklearn.decomposition import PCA\n",
    "from sklearn import svm\n",
    "from sklearn.linear_model import LogisticRegression\n",
    "from sklearn.preprocessing import StandardScaler\n",
    "from sklearn.preprocessing import MinMaxScaler\n",
    "from sklearn.pipeline import Pipeline"
   ]
  },
  {
   "cell_type": "code",
   "execution_count": 2,
   "id": "d89d44d9-5dd3-4077-9301-fed67a2f9858",
   "metadata": {
    "tags": []
   },
   "outputs": [
    {
     "data": {
      "text/html": [
       "<div>\n",
       "<style scoped>\n",
       "    .dataframe tbody tr th:only-of-type {\n",
       "        vertical-align: middle;\n",
       "    }\n",
       "\n",
       "    .dataframe tbody tr th {\n",
       "        vertical-align: top;\n",
       "    }\n",
       "\n",
       "    .dataframe thead th {\n",
       "        text-align: right;\n",
       "    }\n",
       "</style>\n",
       "<table border=\"1\" class=\"dataframe\">\n",
       "  <thead>\n",
       "    <tr style=\"text-align: right;\">\n",
       "      <th></th>\n",
       "      <th>elevation</th>\n",
       "      <th>aspect</th>\n",
       "      <th>slope</th>\n",
       "      <th>fire</th>\n",
       "    </tr>\n",
       "  </thead>\n",
       "  <tbody>\n",
       "    <tr>\n",
       "      <th>0</th>\n",
       "      <td>229.0</td>\n",
       "      <td>90.000000</td>\n",
       "      <td>1.891522</td>\n",
       "      <td>0</td>\n",
       "    </tr>\n",
       "    <tr>\n",
       "      <th>1</th>\n",
       "      <td>230.0</td>\n",
       "      <td>180.000000</td>\n",
       "      <td>0.535182</td>\n",
       "      <td>0</td>\n",
       "    </tr>\n",
       "    <tr>\n",
       "      <th>2</th>\n",
       "      <td>227.0</td>\n",
       "      <td>147.528809</td>\n",
       "      <td>2.269464</td>\n",
       "      <td>0</td>\n",
       "    </tr>\n",
       "    <tr>\n",
       "      <th>3</th>\n",
       "      <td>226.0</td>\n",
       "      <td>149.036240</td>\n",
       "      <td>1.559970</td>\n",
       "      <td>0</td>\n",
       "    </tr>\n",
       "    <tr>\n",
       "      <th>4</th>\n",
       "      <td>228.0</td>\n",
       "      <td>206.565048</td>\n",
       "      <td>2.037113</td>\n",
       "      <td>0</td>\n",
       "    </tr>\n",
       "    <tr>\n",
       "      <th>...</th>\n",
       "      <td>...</td>\n",
       "      <td>...</td>\n",
       "      <td>...</td>\n",
       "      <td>...</td>\n",
       "    </tr>\n",
       "    <tr>\n",
       "      <th>19831</th>\n",
       "      <td>92.0</td>\n",
       "      <td>249.702423</td>\n",
       "      <td>19.977131</td>\n",
       "      <td>1</td>\n",
       "    </tr>\n",
       "    <tr>\n",
       "      <th>19832</th>\n",
       "      <td>120.0</td>\n",
       "      <td>222.709396</td>\n",
       "      <td>18.289597</td>\n",
       "      <td>1</td>\n",
       "    </tr>\n",
       "    <tr>\n",
       "      <th>19833</th>\n",
       "      <td>134.0</td>\n",
       "      <td>228.990921</td>\n",
       "      <td>15.892071</td>\n",
       "      <td>1</td>\n",
       "    </tr>\n",
       "    <tr>\n",
       "      <th>19834</th>\n",
       "      <td>149.0</td>\n",
       "      <td>233.686356</td>\n",
       "      <td>25.691380</td>\n",
       "      <td>1</td>\n",
       "    </tr>\n",
       "    <tr>\n",
       "      <th>19835</th>\n",
       "      <td>194.0</td>\n",
       "      <td>227.563766</td>\n",
       "      <td>28.442411</td>\n",
       "      <td>1</td>\n",
       "    </tr>\n",
       "  </tbody>\n",
       "</table>\n",
       "<p>19836 rows × 4 columns</p>\n",
       "</div>"
      ],
      "text/plain": [
       "       elevation      aspect      slope  fire\n",
       "0          229.0   90.000000   1.891522     0\n",
       "1          230.0  180.000000   0.535182     0\n",
       "2          227.0  147.528809   2.269464     0\n",
       "3          226.0  149.036240   1.559970     0\n",
       "4          228.0  206.565048   2.037113     0\n",
       "...          ...         ...        ...   ...\n",
       "19831       92.0  249.702423  19.977131     1\n",
       "19832      120.0  222.709396  18.289597     1\n",
       "19833      134.0  228.990921  15.892071     1\n",
       "19834      149.0  233.686356  25.691380     1\n",
       "19835      194.0  227.563766  28.442411     1\n",
       "\n",
       "[19836 rows x 4 columns]"
      ]
     },
     "execution_count": 2,
     "metadata": {},
     "output_type": "execute_result"
    }
   ],
   "source": [
    "# import geographic information .CSV\n",
    "\n",
    "df_original=pd.read_csv('/Users/sra/Desktop/Data_Science_2023/_capstone/00_capstone_data/shapefiles/joins/layer_combine.csv')\n",
    "df_original"
   ]
  },
  {
   "cell_type": "markdown",
   "id": "619f52a7-3835-4049-913f-b81cbe219951",
   "metadata": {},
   "source": [
    "##### Convert aspect, which is a continuous variable, into a categorical.\n",
    "\n",
    "First, rename columns."
   ]
  },
  {
   "cell_type": "code",
   "execution_count": 3,
   "id": "91c63048-c2a8-4847-9313-ac941df2b553",
   "metadata": {
    "tags": []
   },
   "outputs": [],
   "source": [
    "# rename columns\n",
    "sm_geo=df_original.copy()"
   ]
  },
  {
   "cell_type": "code",
   "execution_count": 4,
   "id": "eaca0dbe-54bd-4a97-a713-b1f2ea1f9a47",
   "metadata": {
    "tags": []
   },
   "outputs": [
    {
     "data": {
      "text/html": [
       "<div>\n",
       "<style scoped>\n",
       "    .dataframe tbody tr th:only-of-type {\n",
       "        vertical-align: middle;\n",
       "    }\n",
       "\n",
       "    .dataframe tbody tr th {\n",
       "        vertical-align: top;\n",
       "    }\n",
       "\n",
       "    .dataframe thead th {\n",
       "        text-align: right;\n",
       "    }\n",
       "</style>\n",
       "<table border=\"1\" class=\"dataframe\">\n",
       "  <thead>\n",
       "    <tr style=\"text-align: right;\">\n",
       "      <th></th>\n",
       "      <th>elevation</th>\n",
       "      <th>aspect</th>\n",
       "      <th>slope</th>\n",
       "      <th>fire</th>\n",
       "      <th>asp_cont</th>\n",
       "      <th>elev_cont</th>\n",
       "      <th>slope_cont</th>\n",
       "    </tr>\n",
       "  </thead>\n",
       "  <tbody>\n",
       "    <tr>\n",
       "      <th>0</th>\n",
       "      <td>229.0</td>\n",
       "      <td>90.000000</td>\n",
       "      <td>1.891522</td>\n",
       "      <td>0</td>\n",
       "      <td>90.000000</td>\n",
       "      <td>229.0</td>\n",
       "      <td>1.891522</td>\n",
       "    </tr>\n",
       "    <tr>\n",
       "      <th>1</th>\n",
       "      <td>230.0</td>\n",
       "      <td>180.000000</td>\n",
       "      <td>0.535182</td>\n",
       "      <td>0</td>\n",
       "      <td>180.000000</td>\n",
       "      <td>230.0</td>\n",
       "      <td>0.535182</td>\n",
       "    </tr>\n",
       "    <tr>\n",
       "      <th>2</th>\n",
       "      <td>227.0</td>\n",
       "      <td>147.528809</td>\n",
       "      <td>2.269464</td>\n",
       "      <td>0</td>\n",
       "      <td>147.528809</td>\n",
       "      <td>227.0</td>\n",
       "      <td>2.269464</td>\n",
       "    </tr>\n",
       "    <tr>\n",
       "      <th>3</th>\n",
       "      <td>226.0</td>\n",
       "      <td>149.036240</td>\n",
       "      <td>1.559970</td>\n",
       "      <td>0</td>\n",
       "      <td>149.036240</td>\n",
       "      <td>226.0</td>\n",
       "      <td>1.559970</td>\n",
       "    </tr>\n",
       "    <tr>\n",
       "      <th>4</th>\n",
       "      <td>228.0</td>\n",
       "      <td>206.565048</td>\n",
       "      <td>2.037113</td>\n",
       "      <td>0</td>\n",
       "      <td>206.565048</td>\n",
       "      <td>228.0</td>\n",
       "      <td>2.037113</td>\n",
       "    </tr>\n",
       "    <tr>\n",
       "      <th>...</th>\n",
       "      <td>...</td>\n",
       "      <td>...</td>\n",
       "      <td>...</td>\n",
       "      <td>...</td>\n",
       "      <td>...</td>\n",
       "      <td>...</td>\n",
       "      <td>...</td>\n",
       "    </tr>\n",
       "    <tr>\n",
       "      <th>19831</th>\n",
       "      <td>92.0</td>\n",
       "      <td>249.702423</td>\n",
       "      <td>19.977131</td>\n",
       "      <td>1</td>\n",
       "      <td>249.702423</td>\n",
       "      <td>92.0</td>\n",
       "      <td>19.977131</td>\n",
       "    </tr>\n",
       "    <tr>\n",
       "      <th>19832</th>\n",
       "      <td>120.0</td>\n",
       "      <td>222.709396</td>\n",
       "      <td>18.289597</td>\n",
       "      <td>1</td>\n",
       "      <td>222.709396</td>\n",
       "      <td>120.0</td>\n",
       "      <td>18.289597</td>\n",
       "    </tr>\n",
       "    <tr>\n",
       "      <th>19833</th>\n",
       "      <td>134.0</td>\n",
       "      <td>228.990921</td>\n",
       "      <td>15.892071</td>\n",
       "      <td>1</td>\n",
       "      <td>228.990921</td>\n",
       "      <td>134.0</td>\n",
       "      <td>15.892071</td>\n",
       "    </tr>\n",
       "    <tr>\n",
       "      <th>19834</th>\n",
       "      <td>149.0</td>\n",
       "      <td>233.686356</td>\n",
       "      <td>25.691380</td>\n",
       "      <td>1</td>\n",
       "      <td>233.686356</td>\n",
       "      <td>149.0</td>\n",
       "      <td>25.691380</td>\n",
       "    </tr>\n",
       "    <tr>\n",
       "      <th>19835</th>\n",
       "      <td>194.0</td>\n",
       "      <td>227.563766</td>\n",
       "      <td>28.442411</td>\n",
       "      <td>1</td>\n",
       "      <td>227.563766</td>\n",
       "      <td>194.0</td>\n",
       "      <td>28.442411</td>\n",
       "    </tr>\n",
       "  </tbody>\n",
       "</table>\n",
       "<p>19836 rows × 7 columns</p>\n",
       "</div>"
      ],
      "text/plain": [
       "       elevation      aspect      slope  fire    asp_cont  elev_cont  \\\n",
       "0          229.0   90.000000   1.891522     0   90.000000      229.0   \n",
       "1          230.0  180.000000   0.535182     0  180.000000      230.0   \n",
       "2          227.0  147.528809   2.269464     0  147.528809      227.0   \n",
       "3          226.0  149.036240   1.559970     0  149.036240      226.0   \n",
       "4          228.0  206.565048   2.037113     0  206.565048      228.0   \n",
       "...          ...         ...        ...   ...         ...        ...   \n",
       "19831       92.0  249.702423  19.977131     1  249.702423       92.0   \n",
       "19832      120.0  222.709396  18.289597     1  222.709396      120.0   \n",
       "19833      134.0  228.990921  15.892071     1  228.990921      134.0   \n",
       "19834      149.0  233.686356  25.691380     1  233.686356      149.0   \n",
       "19835      194.0  227.563766  28.442411     1  227.563766      194.0   \n",
       "\n",
       "       slope_cont  \n",
       "0        1.891522  \n",
       "1        0.535182  \n",
       "2        2.269464  \n",
       "3        1.559970  \n",
       "4        2.037113  \n",
       "...           ...  \n",
       "19831   19.977131  \n",
       "19832   18.289597  \n",
       "19833   15.892071  \n",
       "19834   25.691380  \n",
       "19835   28.442411  \n",
       "\n",
       "[19836 rows x 7 columns]"
      ]
     },
     "execution_count": 4,
     "metadata": {},
     "output_type": "execute_result"
    }
   ],
   "source": [
    "sm_geo['asp_cont']=sm_geo['aspect']\n",
    "\n",
    "sm_geo['elev_cont']=sm_geo['elevation']\n",
    "\n",
    "sm_geo['slope_cont']=sm_geo['slope']\n",
    "\n",
    "sm_geo"
   ]
  },
  {
   "cell_type": "code",
   "execution_count": 5,
   "id": "b3345e16-f392-4523-bcee-d023a72a8c46",
   "metadata": {
    "tags": []
   },
   "outputs": [
    {
     "data": {
      "text/plain": [
       "'N'"
      ]
     },
     "execution_count": 5,
     "metadata": {},
     "output_type": "execute_result"
    }
   ],
   "source": [
    "def degToCompass(num):\n",
    "    '''\n",
    "    From https://stackoverflow.com/questions/\\\n",
    "    7490660/converting-wind-direction-in-angles-to-text-words\n",
    "    \n",
    "    Takes a value between 0 and 360 and \n",
    "    outputs the corresponding compass representation\n",
    "    '''\n",
    "    val=int((num/22.5)+.5)\n",
    "    arr=[\"N\",\"NNE\",\"NE\",\"ENE\",\"E\",\"ESE\", \"SE\", \"SSE\",\"S\",\"SSW\",\"SW\",\"WSW\",\"W\",\"WNW\",\"NW\",\"NNW\"]\n",
    "    return arr[(val % 16)]\n",
    "\n",
    "degToCompass(355)"
   ]
  },
  {
   "cell_type": "code",
   "execution_count": 6,
   "id": "dd354604-0d94-40c2-aa4d-fcfa876d09b2",
   "metadata": {},
   "outputs": [
    {
     "data": {
      "text/plain": [
       "0         90.000000\n",
       "1        180.000000\n",
       "2        147.528809\n",
       "3        149.036240\n",
       "4        206.565048\n",
       "            ...    \n",
       "19831    249.702423\n",
       "19832    222.709396\n",
       "19833    228.990921\n",
       "19834    233.686356\n",
       "19835    227.563766\n",
       "Name: asp_cont, Length: 19836, dtype: float64"
      ]
     },
     "execution_count": 6,
     "metadata": {},
     "output_type": "execute_result"
    }
   ],
   "source": [
    "sm_geo['asp_cont']"
   ]
  },
  {
   "cell_type": "code",
   "execution_count": 7,
   "id": "449a86cc-674a-446e-bce5-76ff6a005c83",
   "metadata": {},
   "outputs": [
    {
     "data": {
      "text/html": [
       "<div>\n",
       "<style scoped>\n",
       "    .dataframe tbody tr th:only-of-type {\n",
       "        vertical-align: middle;\n",
       "    }\n",
       "\n",
       "    .dataframe tbody tr th {\n",
       "        vertical-align: top;\n",
       "    }\n",
       "\n",
       "    .dataframe thead th {\n",
       "        text-align: right;\n",
       "    }\n",
       "</style>\n",
       "<table border=\"1\" class=\"dataframe\">\n",
       "  <thead>\n",
       "    <tr style=\"text-align: right;\">\n",
       "      <th></th>\n",
       "      <th>elevation</th>\n",
       "      <th>aspect</th>\n",
       "      <th>slope</th>\n",
       "      <th>fire</th>\n",
       "      <th>asp_cont</th>\n",
       "      <th>elev_cont</th>\n",
       "      <th>slope_cont</th>\n",
       "      <th>asp_cat</th>\n",
       "    </tr>\n",
       "  </thead>\n",
       "  <tbody>\n",
       "    <tr>\n",
       "      <th>0</th>\n",
       "      <td>229.0</td>\n",
       "      <td>90.000000</td>\n",
       "      <td>1.891522</td>\n",
       "      <td>0</td>\n",
       "      <td>90.000000</td>\n",
       "      <td>229.0</td>\n",
       "      <td>1.891522</td>\n",
       "      <td>E</td>\n",
       "    </tr>\n",
       "    <tr>\n",
       "      <th>1</th>\n",
       "      <td>230.0</td>\n",
       "      <td>180.000000</td>\n",
       "      <td>0.535182</td>\n",
       "      <td>0</td>\n",
       "      <td>180.000000</td>\n",
       "      <td>230.0</td>\n",
       "      <td>0.535182</td>\n",
       "      <td>S</td>\n",
       "    </tr>\n",
       "    <tr>\n",
       "      <th>2</th>\n",
       "      <td>227.0</td>\n",
       "      <td>147.528809</td>\n",
       "      <td>2.269464</td>\n",
       "      <td>0</td>\n",
       "      <td>147.528809</td>\n",
       "      <td>227.0</td>\n",
       "      <td>2.269464</td>\n",
       "      <td>SSE</td>\n",
       "    </tr>\n",
       "    <tr>\n",
       "      <th>3</th>\n",
       "      <td>226.0</td>\n",
       "      <td>149.036240</td>\n",
       "      <td>1.559970</td>\n",
       "      <td>0</td>\n",
       "      <td>149.036240</td>\n",
       "      <td>226.0</td>\n",
       "      <td>1.559970</td>\n",
       "      <td>SSE</td>\n",
       "    </tr>\n",
       "    <tr>\n",
       "      <th>4</th>\n",
       "      <td>228.0</td>\n",
       "      <td>206.565048</td>\n",
       "      <td>2.037113</td>\n",
       "      <td>0</td>\n",
       "      <td>206.565048</td>\n",
       "      <td>228.0</td>\n",
       "      <td>2.037113</td>\n",
       "      <td>SSW</td>\n",
       "    </tr>\n",
       "    <tr>\n",
       "      <th>...</th>\n",
       "      <td>...</td>\n",
       "      <td>...</td>\n",
       "      <td>...</td>\n",
       "      <td>...</td>\n",
       "      <td>...</td>\n",
       "      <td>...</td>\n",
       "      <td>...</td>\n",
       "      <td>...</td>\n",
       "    </tr>\n",
       "    <tr>\n",
       "      <th>19831</th>\n",
       "      <td>92.0</td>\n",
       "      <td>249.702423</td>\n",
       "      <td>19.977131</td>\n",
       "      <td>1</td>\n",
       "      <td>249.702423</td>\n",
       "      <td>92.0</td>\n",
       "      <td>19.977131</td>\n",
       "      <td>WSW</td>\n",
       "    </tr>\n",
       "    <tr>\n",
       "      <th>19832</th>\n",
       "      <td>120.0</td>\n",
       "      <td>222.709396</td>\n",
       "      <td>18.289597</td>\n",
       "      <td>1</td>\n",
       "      <td>222.709396</td>\n",
       "      <td>120.0</td>\n",
       "      <td>18.289597</td>\n",
       "      <td>SW</td>\n",
       "    </tr>\n",
       "    <tr>\n",
       "      <th>19833</th>\n",
       "      <td>134.0</td>\n",
       "      <td>228.990921</td>\n",
       "      <td>15.892071</td>\n",
       "      <td>1</td>\n",
       "      <td>228.990921</td>\n",
       "      <td>134.0</td>\n",
       "      <td>15.892071</td>\n",
       "      <td>SW</td>\n",
       "    </tr>\n",
       "    <tr>\n",
       "      <th>19834</th>\n",
       "      <td>149.0</td>\n",
       "      <td>233.686356</td>\n",
       "      <td>25.691380</td>\n",
       "      <td>1</td>\n",
       "      <td>233.686356</td>\n",
       "      <td>149.0</td>\n",
       "      <td>25.691380</td>\n",
       "      <td>SW</td>\n",
       "    </tr>\n",
       "    <tr>\n",
       "      <th>19835</th>\n",
       "      <td>194.0</td>\n",
       "      <td>227.563766</td>\n",
       "      <td>28.442411</td>\n",
       "      <td>1</td>\n",
       "      <td>227.563766</td>\n",
       "      <td>194.0</td>\n",
       "      <td>28.442411</td>\n",
       "      <td>SW</td>\n",
       "    </tr>\n",
       "  </tbody>\n",
       "</table>\n",
       "<p>19836 rows × 8 columns</p>\n",
       "</div>"
      ],
      "text/plain": [
       "       elevation      aspect      slope  fire    asp_cont  elev_cont  \\\n",
       "0          229.0   90.000000   1.891522     0   90.000000      229.0   \n",
       "1          230.0  180.000000   0.535182     0  180.000000      230.0   \n",
       "2          227.0  147.528809   2.269464     0  147.528809      227.0   \n",
       "3          226.0  149.036240   1.559970     0  149.036240      226.0   \n",
       "4          228.0  206.565048   2.037113     0  206.565048      228.0   \n",
       "...          ...         ...        ...   ...         ...        ...   \n",
       "19831       92.0  249.702423  19.977131     1  249.702423       92.0   \n",
       "19832      120.0  222.709396  18.289597     1  222.709396      120.0   \n",
       "19833      134.0  228.990921  15.892071     1  228.990921      134.0   \n",
       "19834      149.0  233.686356  25.691380     1  233.686356      149.0   \n",
       "19835      194.0  227.563766  28.442411     1  227.563766      194.0   \n",
       "\n",
       "       slope_cont asp_cat  \n",
       "0        1.891522       E  \n",
       "1        0.535182       S  \n",
       "2        2.269464     SSE  \n",
       "3        1.559970     SSE  \n",
       "4        2.037113     SSW  \n",
       "...           ...     ...  \n",
       "19831   19.977131     WSW  \n",
       "19832   18.289597      SW  \n",
       "19833   15.892071      SW  \n",
       "19834   25.691380      SW  \n",
       "19835   28.442411      SW  \n",
       "\n",
       "[19836 rows x 8 columns]"
      ]
     },
     "execution_count": 7,
     "metadata": {},
     "output_type": "execute_result"
    }
   ],
   "source": [
    "# `.apply` the function degToCompass\n",
    "# to each row in the column thusly:\n",
    "sm_geo['asp_cat']=sm_geo['asp_cont'].apply(degToCompass)\n",
    "sm_geo"
   ]
  },
  {
   "cell_type": "code",
   "execution_count": 8,
   "id": "28dbb0f9-cca2-4f66-a970-f0f659b9adce",
   "metadata": {
    "tags": []
   },
   "outputs": [
    {
     "data": {
      "text/plain": [
       "SSE    1722\n",
       "S      1672\n",
       "SSW    1463\n",
       "N      1427\n",
       "NNE    1394\n",
       "SE     1319\n",
       "NNW    1268\n",
       "NE     1213\n",
       "SW     1200\n",
       "ESE    1157\n",
       "NW     1121\n",
       "ENE    1068\n",
       "WSW    1030\n",
       "E      1001\n",
       "WNW     894\n",
       "W       887\n",
       "Name: asp_cat, dtype: int64"
      ]
     },
     "execution_count": 8,
     "metadata": {},
     "output_type": "execute_result"
    }
   ],
   "source": [
    "sm_geo['asp_cat'].value_counts()"
   ]
  },
  {
   "cell_type": "markdown",
   "id": "1bbd96ec-cc7b-4545-a34b-1a4c8420c332",
   "metadata": {},
   "source": [
    "##### Convert elevation, which is a continuous variable, into a categorical.\n",
    "\n",
    "First, rename columns."
   ]
  },
  {
   "cell_type": "code",
   "execution_count": 9,
   "id": "11c1a042-e365-4587-8399-0b7da89bd5c6",
   "metadata": {
    "tags": []
   },
   "outputs": [
    {
     "data": {
      "text/html": [
       "<div>\n",
       "<style scoped>\n",
       "    .dataframe tbody tr th:only-of-type {\n",
       "        vertical-align: middle;\n",
       "    }\n",
       "\n",
       "    .dataframe tbody tr th {\n",
       "        vertical-align: top;\n",
       "    }\n",
       "\n",
       "    .dataframe thead th {\n",
       "        text-align: right;\n",
       "    }\n",
       "</style>\n",
       "<table border=\"1\" class=\"dataframe\">\n",
       "  <thead>\n",
       "    <tr style=\"text-align: right;\">\n",
       "      <th></th>\n",
       "      <th>asp_cont</th>\n",
       "      <th>asp_cat</th>\n",
       "      <th>elev_cont</th>\n",
       "      <th>elev_cat</th>\n",
       "      <th>slope_cont</th>\n",
       "      <th>slope_cat</th>\n",
       "      <th>fire</th>\n",
       "    </tr>\n",
       "  </thead>\n",
       "  <tbody>\n",
       "    <tr>\n",
       "      <th>0</th>\n",
       "      <td>90.0</td>\n",
       "      <td>E</td>\n",
       "      <td>229.0</td>\n",
       "      <td>229.0</td>\n",
       "      <td>1.891522</td>\n",
       "      <td>1.891522</td>\n",
       "      <td>0</td>\n",
       "    </tr>\n",
       "  </tbody>\n",
       "</table>\n",
       "</div>"
      ],
      "text/plain": [
       "   asp_cont asp_cat  elev_cont  elev_cat  slope_cont  slope_cat  fire\n",
       "0      90.0       E      229.0     229.0    1.891522   1.891522     0"
      ]
     },
     "execution_count": 9,
     "metadata": {},
     "output_type": "execute_result"
    }
   ],
   "source": [
    "# rename columns\n",
    "\n",
    "sm_geo['elev_cont']=sm_geo['elevation']\n",
    "sm_geo=sm_geo.rename({'elevation':'elev_cat'},axis=1)\n",
    "\n",
    "sm_geo['slope_cont']=sm_geo['slope']\n",
    "sm_geo=sm_geo.rename({'slope':'slope_cat'},axis=1)\n",
    "\n",
    "sm_geo=sm_geo[['asp_cont','asp_cat','elev_cont','elev_cat','slope_cont','slope_cat','fire']]\n",
    "sm_geo.head(1)"
   ]
  },
  {
   "cell_type": "code",
   "execution_count": 10,
   "id": "d790aa7a-30ad-4c4a-b2c6-333aed46e518",
   "metadata": {
    "tags": []
   },
   "outputs": [
    {
     "data": {
      "image/png": "[encoded data removed]",
      "text/plain": [
       "<Figure size 640x480 with 1 Axes>"
      ]
     },
     "metadata": {},
     "output_type": "display_data"
    },
    {
     "data": {
      "text/plain": [
       "count    19836.000000\n",
       "mean       281.611867\n",
       "std        203.469005\n",
       "min          1.000000\n",
       "25%        185.000000\n",
       "50%        212.000000\n",
       "75%        357.000000\n",
       "max        924.000000\n",
       "Name: elev_cont, dtype: float64"
      ]
     },
     "execution_count": 10,
     "metadata": {},
     "output_type": "execute_result"
    }
   ],
   "source": [
    "chart=sns.boxplot(data=sm_geo['elev_cont'])\n",
    "chart.set_title('Boxplot of Elevation (m)\\nMean elevation is 310 m')\n",
    "chart.set_ylabel('Elevation (m)')\n",
    "chart.set_xlabel('Santa Monica Mountain Range')\n",
    "plt.show()\n",
    "\n",
    "sm_geo['elev_cont'].describe()"
   ]
  },
  {
   "cell_type": "code",
   "execution_count": 11,
   "id": "83eef341-92a3-45a6-aa4d-6c36033261d3",
   "metadata": {},
   "outputs": [
    {
     "data": {
      "text/plain": [
       "(19836, 7)"
      ]
     },
     "execution_count": 11,
     "metadata": {},
     "output_type": "execute_result"
    }
   ],
   "source": [
    "sm_geo.shape"
   ]
  },
  {
   "cell_type": "markdown",
   "id": "2eed6861-476a-44f9-be23-27169981bd18",
   "metadata": {},
   "source": [
    "I will categorize the elevation into four quartiles:\n",
    "* $0-25\\%$\n",
    "* $25-50\\%$\n",
    "* $50-75\\%$\n",
    "* $>75\\%$"
   ]
  },
  {
   "cell_type": "code",
   "execution_count": 12,
   "id": "02d0b349-d89b-4a17-803e-56e54eb46cb5",
   "metadata": {},
   "outputs": [
    {
     "data": {
      "text/plain": [
       "'elev_vhigh'"
      ]
     },
     "execution_count": 12,
     "metadata": {},
     "output_type": "execute_result"
    }
   ],
   "source": [
    "def elevCategorizer(df_col):\n",
    "    '''\n",
    "    Hard-codes elevation bins into:\n",
    "    \n",
    "    low, medium, high, very high\n",
    "    1-185, 185-212, 212-357, 357-924\n",
    "    '''\n",
    "    \n",
    "    if df_col <= 185:\n",
    "        return 'elev_low'\n",
    "    elif df_col <= 212:\n",
    "        return 'elev_med'\n",
    "    elif df_col <= 357:\n",
    "        return 'elev_high'\n",
    "    else:\n",
    "        return 'elev_vhigh'\n",
    "        \n",
    "elevCategorizer(450)"
   ]
  },
  {
   "cell_type": "code",
   "execution_count": 13,
   "id": "2cbeb9c9-7b0e-47ff-b2b0-ec56a3546b11",
   "metadata": {},
   "outputs": [
    {
     "data": {
      "text/html": [
       "<div>\n",
       "<style scoped>\n",
       "    .dataframe tbody tr th:only-of-type {\n",
       "        vertical-align: middle;\n",
       "    }\n",
       "\n",
       "    .dataframe tbody tr th {\n",
       "        vertical-align: top;\n",
       "    }\n",
       "\n",
       "    .dataframe thead th {\n",
       "        text-align: right;\n",
       "    }\n",
       "</style>\n",
       "<table border=\"1\" class=\"dataframe\">\n",
       "  <thead>\n",
       "    <tr style=\"text-align: right;\">\n",
       "      <th></th>\n",
       "      <th>asp_cont</th>\n",
       "      <th>asp_cat</th>\n",
       "      <th>elev_cont</th>\n",
       "      <th>elev_cat</th>\n",
       "      <th>slope_cont</th>\n",
       "      <th>slope_cat</th>\n",
       "      <th>fire</th>\n",
       "    </tr>\n",
       "  </thead>\n",
       "  <tbody>\n",
       "    <tr>\n",
       "      <th>0</th>\n",
       "      <td>90.000000</td>\n",
       "      <td>E</td>\n",
       "      <td>229.0</td>\n",
       "      <td>elev_high</td>\n",
       "      <td>1.891522</td>\n",
       "      <td>1.891522</td>\n",
       "      <td>0</td>\n",
       "    </tr>\n",
       "    <tr>\n",
       "      <th>1</th>\n",
       "      <td>180.000000</td>\n",
       "      <td>S</td>\n",
       "      <td>230.0</td>\n",
       "      <td>elev_high</td>\n",
       "      <td>0.535182</td>\n",
       "      <td>0.535182</td>\n",
       "      <td>0</td>\n",
       "    </tr>\n",
       "    <tr>\n",
       "      <th>2</th>\n",
       "      <td>147.528809</td>\n",
       "      <td>SSE</td>\n",
       "      <td>227.0</td>\n",
       "      <td>elev_high</td>\n",
       "      <td>2.269464</td>\n",
       "      <td>2.269464</td>\n",
       "      <td>0</td>\n",
       "    </tr>\n",
       "    <tr>\n",
       "      <th>3</th>\n",
       "      <td>149.036240</td>\n",
       "      <td>SSE</td>\n",
       "      <td>226.0</td>\n",
       "      <td>elev_high</td>\n",
       "      <td>1.559970</td>\n",
       "      <td>1.559970</td>\n",
       "      <td>0</td>\n",
       "    </tr>\n",
       "    <tr>\n",
       "      <th>4</th>\n",
       "      <td>206.565048</td>\n",
       "      <td>SSW</td>\n",
       "      <td>228.0</td>\n",
       "      <td>elev_high</td>\n",
       "      <td>2.037113</td>\n",
       "      <td>2.037113</td>\n",
       "      <td>0</td>\n",
       "    </tr>\n",
       "    <tr>\n",
       "      <th>...</th>\n",
       "      <td>...</td>\n",
       "      <td>...</td>\n",
       "      <td>...</td>\n",
       "      <td>...</td>\n",
       "      <td>...</td>\n",
       "      <td>...</td>\n",
       "      <td>...</td>\n",
       "    </tr>\n",
       "    <tr>\n",
       "      <th>19831</th>\n",
       "      <td>249.702423</td>\n",
       "      <td>WSW</td>\n",
       "      <td>92.0</td>\n",
       "      <td>elev_low</td>\n",
       "      <td>19.977131</td>\n",
       "      <td>19.977131</td>\n",
       "      <td>1</td>\n",
       "    </tr>\n",
       "    <tr>\n",
       "      <th>19832</th>\n",
       "      <td>222.709396</td>\n",
       "      <td>SW</td>\n",
       "      <td>120.0</td>\n",
       "      <td>elev_low</td>\n",
       "      <td>18.289597</td>\n",
       "      <td>18.289597</td>\n",
       "      <td>1</td>\n",
       "    </tr>\n",
       "    <tr>\n",
       "      <th>19833</th>\n",
       "      <td>228.990921</td>\n",
       "      <td>SW</td>\n",
       "      <td>134.0</td>\n",
       "      <td>elev_low</td>\n",
       "      <td>15.892071</td>\n",
       "      <td>15.892071</td>\n",
       "      <td>1</td>\n",
       "    </tr>\n",
       "    <tr>\n",
       "      <th>19834</th>\n",
       "      <td>233.686356</td>\n",
       "      <td>SW</td>\n",
       "      <td>149.0</td>\n",
       "      <td>elev_low</td>\n",
       "      <td>25.691380</td>\n",
       "      <td>25.691380</td>\n",
       "      <td>1</td>\n",
       "    </tr>\n",
       "    <tr>\n",
       "      <th>19835</th>\n",
       "      <td>227.563766</td>\n",
       "      <td>SW</td>\n",
       "      <td>194.0</td>\n",
       "      <td>elev_med</td>\n",
       "      <td>28.442411</td>\n",
       "      <td>28.442411</td>\n",
       "      <td>1</td>\n",
       "    </tr>\n",
       "  </tbody>\n",
       "</table>\n",
       "<p>19836 rows × 7 columns</p>\n",
       "</div>"
      ],
      "text/plain": [
       "         asp_cont asp_cat  elev_cont   elev_cat  slope_cont  slope_cat  fire\n",
       "0       90.000000       E      229.0  elev_high    1.891522   1.891522     0\n",
       "1      180.000000       S      230.0  elev_high    0.535182   0.535182     0\n",
       "2      147.528809     SSE      227.0  elev_high    2.269464   2.269464     0\n",
       "3      149.036240     SSE      226.0  elev_high    1.559970   1.559970     0\n",
       "4      206.565048     SSW      228.0  elev_high    2.037113   2.037113     0\n",
       "...           ...     ...        ...        ...         ...        ...   ...\n",
       "19831  249.702423     WSW       92.0   elev_low   19.977131  19.977131     1\n",
       "19832  222.709396      SW      120.0   elev_low   18.289597  18.289597     1\n",
       "19833  228.990921      SW      134.0   elev_low   15.892071  15.892071     1\n",
       "19834  233.686356      SW      149.0   elev_low   25.691380  25.691380     1\n",
       "19835  227.563766      SW      194.0   elev_med   28.442411  28.442411     1\n",
       "\n",
       "[19836 rows x 7 columns]"
      ]
     },
     "execution_count": 13,
     "metadata": {},
     "output_type": "execute_result"
    }
   ],
   "source": [
    "# `.apply` the function elevCategorizer\n",
    "# to each row in the column thusly:\n",
    "sm_geo['elev_cat']=sm_geo['elev_cont'].apply(elevCategorizer)\n",
    "sm_geo"
   ]
  },
  {
   "cell_type": "code",
   "execution_count": 14,
   "id": "fb1a338e-fa9a-416a-b8b7-05779d47ed8c",
   "metadata": {
    "tags": []
   },
   "outputs": [
    {
     "data": {
      "text/plain": [
       "elev_low      5051\n",
       "elev_high     4960\n",
       "elev_vhigh    4952\n",
       "elev_med      4873\n",
       "Name: elev_cat, dtype: int64"
      ]
     },
     "execution_count": 14,
     "metadata": {},
     "output_type": "execute_result"
    }
   ],
   "source": [
    "sm_geo['elev_cat'].value_counts()"
   ]
  },
  {
   "cell_type": "markdown",
   "id": "a01e1c7a-6604-455e-ab86-d0b816989e0b",
   "metadata": {},
   "source": [
    "The spread in elevation as binned by quartiles is very even."
   ]
  },
  {
   "cell_type": "markdown",
   "id": "3bffc9f4-6aed-40ca-adfa-ee68a9284c07",
   "metadata": {},
   "source": [
    "##### Convert slope, which is a continuous variable, into a categorical.\n",
    "\n",
    "First, rename columns."
   ]
  },
  {
   "cell_type": "code",
   "execution_count": 15,
   "id": "aa34b04f-1568-4181-8797-982ad6c8d973",
   "metadata": {
    "tags": []
   },
   "outputs": [
    {
     "data": {
      "image/png": "[encoded data removed]",
      "text/plain": [
       "<Figure size 640x480 with 1 Axes>"
      ]
     },
     "metadata": {},
     "output_type": "display_data"
    },
    {
     "data": {
      "text/plain": [
       "count    19836.000000\n",
       "mean        10.670559\n",
       "std         10.365280\n",
       "min          0.000000\n",
       "25%          1.891522\n",
       "50%          5.890609\n",
       "75%         18.752480\n",
       "max         64.823074\n",
       "Name: slope_cont, dtype: float64"
      ]
     },
     "execution_count": 15,
     "metadata": {},
     "output_type": "execute_result"
    }
   ],
   "source": [
    "chart=sns.boxplot(data=sm_geo['slope_cont'])\n",
    "chart.set_title('Boxplot of Slope (m)\\nMean slope is 10.67 degrees')\n",
    "chart.set_ylabel('Slope (degrees)')\n",
    "chart.set_xlabel('Santa Monica Mountain Range')\n",
    "plt.show()\n",
    "\n",
    "sm_geo['slope_cont'].describe()"
   ]
  },
  {
   "cell_type": "markdown",
   "id": "3585ac82-2af8-4418-995b-f307e5f3471e",
   "metadata": {
    "tags": []
   },
   "source": [
    "I will categorize the elevation into four quartiles:\n",
    "* $0-25\\%$\n",
    "* $25-50\\%$\n",
    "* $50-75\\%$\n",
    "* $>75\\%$"
   ]
  },
  {
   "cell_type": "code",
   "execution_count": 16,
   "id": "095438b8-17e7-4469-afb8-6b9b99950511",
   "metadata": {
    "tags": []
   },
   "outputs": [
    {
     "data": {
      "text/plain": [
       "'slope_vhigh'"
      ]
     },
     "execution_count": 16,
     "metadata": {},
     "output_type": "execute_result"
    }
   ],
   "source": [
    "def slopeCategorizer(df_col):\n",
    "    '''\n",
    "    Hard-codes slope bins into:\n",
    "    \n",
    "    low, medium, high, very high\n",
    "    0-1.89, 1.89-5.89, 5.89-18.75, 18.75-64.823074\n",
    "    '''\n",
    "    \n",
    "    if df_col <= 1.89:\n",
    "        return 'slope_low'\n",
    "    elif df_col <= 5.89:\n",
    "        return 'slope_med'\n",
    "    elif df_col <= 18.75:\n",
    "        return 'slope_high'\n",
    "    else:\n",
    "        return 'slope_vhigh'\n",
    "        \n",
    "slopeCategorizer(45)"
   ]
  },
  {
   "cell_type": "code",
   "execution_count": 17,
   "id": "81a2bd16-cb4e-41fa-ac2f-13a0c37ed1f0",
   "metadata": {
    "tags": []
   },
   "outputs": [
    {
     "data": {
      "text/html": [
       "<div>\n",
       "<style scoped>\n",
       "    .dataframe tbody tr th:only-of-type {\n",
       "        vertical-align: middle;\n",
       "    }\n",
       "\n",
       "    .dataframe tbody tr th {\n",
       "        vertical-align: top;\n",
       "    }\n",
       "\n",
       "    .dataframe thead th {\n",
       "        text-align: right;\n",
       "    }\n",
       "</style>\n",
       "<table border=\"1\" class=\"dataframe\">\n",
       "  <thead>\n",
       "    <tr style=\"text-align: right;\">\n",
       "      <th></th>\n",
       "      <th>asp_cont</th>\n",
       "      <th>asp_cat</th>\n",
       "      <th>elev_cont</th>\n",
       "      <th>elev_cat</th>\n",
       "      <th>slope_cont</th>\n",
       "      <th>slope_cat</th>\n",
       "      <th>fire</th>\n",
       "    </tr>\n",
       "  </thead>\n",
       "  <tbody>\n",
       "    <tr>\n",
       "      <th>0</th>\n",
       "      <td>90.000000</td>\n",
       "      <td>E</td>\n",
       "      <td>229.0</td>\n",
       "      <td>elev_high</td>\n",
       "      <td>1.891522</td>\n",
       "      <td>slope_med</td>\n",
       "      <td>0</td>\n",
       "    </tr>\n",
       "    <tr>\n",
       "      <th>1</th>\n",
       "      <td>180.000000</td>\n",
       "      <td>S</td>\n",
       "      <td>230.0</td>\n",
       "      <td>elev_high</td>\n",
       "      <td>0.535182</td>\n",
       "      <td>slope_low</td>\n",
       "      <td>0</td>\n",
       "    </tr>\n",
       "    <tr>\n",
       "      <th>2</th>\n",
       "      <td>147.528809</td>\n",
       "      <td>SSE</td>\n",
       "      <td>227.0</td>\n",
       "      <td>elev_high</td>\n",
       "      <td>2.269464</td>\n",
       "      <td>slope_med</td>\n",
       "      <td>0</td>\n",
       "    </tr>\n",
       "    <tr>\n",
       "      <th>3</th>\n",
       "      <td>149.036240</td>\n",
       "      <td>SSE</td>\n",
       "      <td>226.0</td>\n",
       "      <td>elev_high</td>\n",
       "      <td>1.559970</td>\n",
       "      <td>slope_low</td>\n",
       "      <td>0</td>\n",
       "    </tr>\n",
       "    <tr>\n",
       "      <th>4</th>\n",
       "      <td>206.565048</td>\n",
       "      <td>SSW</td>\n",
       "      <td>228.0</td>\n",
       "      <td>elev_high</td>\n",
       "      <td>2.037113</td>\n",
       "      <td>slope_med</td>\n",
       "      <td>0</td>\n",
       "    </tr>\n",
       "    <tr>\n",
       "      <th>...</th>\n",
       "      <td>...</td>\n",
       "      <td>...</td>\n",
       "      <td>...</td>\n",
       "      <td>...</td>\n",
       "      <td>...</td>\n",
       "      <td>...</td>\n",
       "      <td>...</td>\n",
       "    </tr>\n",
       "    <tr>\n",
       "      <th>19831</th>\n",
       "      <td>249.702423</td>\n",
       "      <td>WSW</td>\n",
       "      <td>92.0</td>\n",
       "      <td>elev_low</td>\n",
       "      <td>19.977131</td>\n",
       "      <td>slope_vhigh</td>\n",
       "      <td>1</td>\n",
       "    </tr>\n",
       "    <tr>\n",
       "      <th>19832</th>\n",
       "      <td>222.709396</td>\n",
       "      <td>SW</td>\n",
       "      <td>120.0</td>\n",
       "      <td>elev_low</td>\n",
       "      <td>18.289597</td>\n",
       "      <td>slope_high</td>\n",
       "      <td>1</td>\n",
       "    </tr>\n",
       "    <tr>\n",
       "      <th>19833</th>\n",
       "      <td>228.990921</td>\n",
       "      <td>SW</td>\n",
       "      <td>134.0</td>\n",
       "      <td>elev_low</td>\n",
       "      <td>15.892071</td>\n",
       "      <td>slope_high</td>\n",
       "      <td>1</td>\n",
       "    </tr>\n",
       "    <tr>\n",
       "      <th>19834</th>\n",
       "      <td>233.686356</td>\n",
       "      <td>SW</td>\n",
       "      <td>149.0</td>\n",
       "      <td>elev_low</td>\n",
       "      <td>25.691380</td>\n",
       "      <td>slope_vhigh</td>\n",
       "      <td>1</td>\n",
       "    </tr>\n",
       "    <tr>\n",
       "      <th>19835</th>\n",
       "      <td>227.563766</td>\n",
       "      <td>SW</td>\n",
       "      <td>194.0</td>\n",
       "      <td>elev_med</td>\n",
       "      <td>28.442411</td>\n",
       "      <td>slope_vhigh</td>\n",
       "      <td>1</td>\n",
       "    </tr>\n",
       "  </tbody>\n",
       "</table>\n",
       "<p>19836 rows × 7 columns</p>\n",
       "</div>"
      ],
      "text/plain": [
       "         asp_cont asp_cat  elev_cont   elev_cat  slope_cont    slope_cat  fire\n",
       "0       90.000000       E      229.0  elev_high    1.891522    slope_med     0\n",
       "1      180.000000       S      230.0  elev_high    0.535182    slope_low     0\n",
       "2      147.528809     SSE      227.0  elev_high    2.269464    slope_med     0\n",
       "3      149.036240     SSE      226.0  elev_high    1.559970    slope_low     0\n",
       "4      206.565048     SSW      228.0  elev_high    2.037113    slope_med     0\n",
       "...           ...     ...        ...        ...         ...          ...   ...\n",
       "19831  249.702423     WSW       92.0   elev_low   19.977131  slope_vhigh     1\n",
       "19832  222.709396      SW      120.0   elev_low   18.289597   slope_high     1\n",
       "19833  228.990921      SW      134.0   elev_low   15.892071   slope_high     1\n",
       "19834  233.686356      SW      149.0   elev_low   25.691380  slope_vhigh     1\n",
       "19835  227.563766      SW      194.0   elev_med   28.442411  slope_vhigh     1\n",
       "\n",
       "[19836 rows x 7 columns]"
      ]
     },
     "execution_count": 17,
     "metadata": {},
     "output_type": "execute_result"
    }
   ],
   "source": [
    "# `.apply` the function elevCategorizer\n",
    "# to each row in the column thusly:\n",
    "sm_geo['slope_cat']=sm_geo['slope_cont'].apply(slopeCategorizer)\n",
    "sm_geo"
   ]
  },
  {
   "cell_type": "code",
   "execution_count": 18,
   "id": "cfc843a4-75ec-4df5-82d1-12674e3d2b2e",
   "metadata": {
    "tags": []
   },
   "outputs": [
    {
     "data": {
      "text/plain": [
       "slope_med      5012\n",
       "slope_vhigh    4962\n",
       "slope_high     4957\n",
       "slope_low      4905\n",
       "Name: slope_cat, dtype: int64"
      ]
     },
     "execution_count": 18,
     "metadata": {},
     "output_type": "execute_result"
    }
   ],
   "source": [
    "sm_geo['slope_cat'].value_counts()"
   ]
  },
  {
   "cell_type": "markdown",
   "id": "50d62422-817a-444d-a0fc-217d406eb038",
   "metadata": {},
   "source": [
    "Like the elevation in the area, the slopes are evenly distributed. I was not expecting that."
   ]
  },
  {
   "cell_type": "markdown",
   "id": "01fa73b1-2321-4bab-a6e4-c5c50785a2a7",
   "metadata": {
    "tags": []
   },
   "source": [
    "## Prepare data for analysis"
   ]
  },
  {
   "cell_type": "markdown",
   "id": "593cf2a0-5e20-4511-ae11-4b81a62d7b65",
   "metadata": {},
   "source": [
    "#### `get_dummies` on the `asp_cat` column"
   ]
  },
  {
   "cell_type": "code",
   "execution_count": 19,
   "id": "f5e639a8-aea0-420d-ba5d-b720119efd6f",
   "metadata": {},
   "outputs": [
    {
     "data": {
      "text/html": [
       "<div>\n",
       "<style scoped>\n",
       "    .dataframe tbody tr th:only-of-type {\n",
       "        vertical-align: middle;\n",
       "    }\n",
       "\n",
       "    .dataframe tbody tr th {\n",
       "        vertical-align: top;\n",
       "    }\n",
       "\n",
       "    .dataframe thead th {\n",
       "        text-align: right;\n",
       "    }\n",
       "</style>\n",
       "<table border=\"1\" class=\"dataframe\">\n",
       "  <thead>\n",
       "    <tr style=\"text-align: right;\">\n",
       "      <th></th>\n",
       "      <th>E</th>\n",
       "      <th>ENE</th>\n",
       "      <th>ESE</th>\n",
       "      <th>N</th>\n",
       "      <th>NE</th>\n",
       "      <th>NNE</th>\n",
       "      <th>NNW</th>\n",
       "      <th>NW</th>\n",
       "      <th>S</th>\n",
       "      <th>SE</th>\n",
       "      <th>SSE</th>\n",
       "      <th>SSW</th>\n",
       "      <th>SW</th>\n",
       "      <th>W</th>\n",
       "      <th>WNW</th>\n",
       "      <th>WSW</th>\n",
       "    </tr>\n",
       "  </thead>\n",
       "  <tbody>\n",
       "    <tr>\n",
       "      <th>0</th>\n",
       "      <td>1</td>\n",
       "      <td>0</td>\n",
       "      <td>0</td>\n",
       "      <td>0</td>\n",
       "      <td>0</td>\n",
       "      <td>0</td>\n",
       "      <td>0</td>\n",
       "      <td>0</td>\n",
       "      <td>0</td>\n",
       "      <td>0</td>\n",
       "      <td>0</td>\n",
       "      <td>0</td>\n",
       "      <td>0</td>\n",
       "      <td>0</td>\n",
       "      <td>0</td>\n",
       "      <td>0</td>\n",
       "    </tr>\n",
       "    <tr>\n",
       "      <th>1</th>\n",
       "      <td>0</td>\n",
       "      <td>0</td>\n",
       "      <td>0</td>\n",
       "      <td>0</td>\n",
       "      <td>0</td>\n",
       "      <td>0</td>\n",
       "      <td>0</td>\n",
       "      <td>0</td>\n",
       "      <td>1</td>\n",
       "      <td>0</td>\n",
       "      <td>0</td>\n",
       "      <td>0</td>\n",
       "      <td>0</td>\n",
       "      <td>0</td>\n",
       "      <td>0</td>\n",
       "      <td>0</td>\n",
       "    </tr>\n",
       "    <tr>\n",
       "      <th>2</th>\n",
       "      <td>0</td>\n",
       "      <td>0</td>\n",
       "      <td>0</td>\n",
       "      <td>0</td>\n",
       "      <td>0</td>\n",
       "      <td>0</td>\n",
       "      <td>0</td>\n",
       "      <td>0</td>\n",
       "      <td>0</td>\n",
       "      <td>0</td>\n",
       "      <td>1</td>\n",
       "      <td>0</td>\n",
       "      <td>0</td>\n",
       "      <td>0</td>\n",
       "      <td>0</td>\n",
       "      <td>0</td>\n",
       "    </tr>\n",
       "    <tr>\n",
       "      <th>3</th>\n",
       "      <td>0</td>\n",
       "      <td>0</td>\n",
       "      <td>0</td>\n",
       "      <td>0</td>\n",
       "      <td>0</td>\n",
       "      <td>0</td>\n",
       "      <td>0</td>\n",
       "      <td>0</td>\n",
       "      <td>0</td>\n",
       "      <td>0</td>\n",
       "      <td>1</td>\n",
       "      <td>0</td>\n",
       "      <td>0</td>\n",
       "      <td>0</td>\n",
       "      <td>0</td>\n",
       "      <td>0</td>\n",
       "    </tr>\n",
       "    <tr>\n",
       "      <th>4</th>\n",
       "      <td>0</td>\n",
       "      <td>0</td>\n",
       "      <td>0</td>\n",
       "      <td>0</td>\n",
       "      <td>0</td>\n",
       "      <td>0</td>\n",
       "      <td>0</td>\n",
       "      <td>0</td>\n",
       "      <td>0</td>\n",
       "      <td>0</td>\n",
       "      <td>0</td>\n",
       "      <td>1</td>\n",
       "      <td>0</td>\n",
       "      <td>0</td>\n",
       "      <td>0</td>\n",
       "      <td>0</td>\n",
       "    </tr>\n",
       "    <tr>\n",
       "      <th>...</th>\n",
       "      <td>...</td>\n",
       "      <td>...</td>\n",
       "      <td>...</td>\n",
       "      <td>...</td>\n",
       "      <td>...</td>\n",
       "      <td>...</td>\n",
       "      <td>...</td>\n",
       "      <td>...</td>\n",
       "      <td>...</td>\n",
       "      <td>...</td>\n",
       "      <td>...</td>\n",
       "      <td>...</td>\n",
       "      <td>...</td>\n",
       "      <td>...</td>\n",
       "      <td>...</td>\n",
       "      <td>...</td>\n",
       "    </tr>\n",
       "    <tr>\n",
       "      <th>19831</th>\n",
       "      <td>0</td>\n",
       "      <td>0</td>\n",
       "      <td>0</td>\n",
       "      <td>0</td>\n",
       "      <td>0</td>\n",
       "      <td>0</td>\n",
       "      <td>0</td>\n",
       "      <td>0</td>\n",
       "      <td>0</td>\n",
       "      <td>0</td>\n",
       "      <td>0</td>\n",
       "      <td>0</td>\n",
       "      <td>0</td>\n",
       "      <td>0</td>\n",
       "      <td>0</td>\n",
       "      <td>1</td>\n",
       "    </tr>\n",
       "    <tr>\n",
       "      <th>19832</th>\n",
       "      <td>0</td>\n",
       "      <td>0</td>\n",
       "      <td>0</td>\n",
       "      <td>0</td>\n",
       "      <td>0</td>\n",
       "      <td>0</td>\n",
       "      <td>0</td>\n",
       "      <td>0</td>\n",
       "      <td>0</td>\n",
       "      <td>0</td>\n",
       "      <td>0</td>\n",
       "      <td>0</td>\n",
       "      <td>1</td>\n",
       "      <td>0</td>\n",
       "      <td>0</td>\n",
       "      <td>0</td>\n",
       "    </tr>\n",
       "    <tr>\n",
       "      <th>19833</th>\n",
       "      <td>0</td>\n",
       "      <td>0</td>\n",
       "      <td>0</td>\n",
       "      <td>0</td>\n",
       "      <td>0</td>\n",
       "      <td>0</td>\n",
       "      <td>0</td>\n",
       "      <td>0</td>\n",
       "      <td>0</td>\n",
       "      <td>0</td>\n",
       "      <td>0</td>\n",
       "      <td>0</td>\n",
       "      <td>1</td>\n",
       "      <td>0</td>\n",
       "      <td>0</td>\n",
       "      <td>0</td>\n",
       "    </tr>\n",
       "    <tr>\n",
       "      <th>19834</th>\n",
       "      <td>0</td>\n",
       "      <td>0</td>\n",
       "      <td>0</td>\n",
       "      <td>0</td>\n",
       "      <td>0</td>\n",
       "      <td>0</td>\n",
       "      <td>0</td>\n",
       "      <td>0</td>\n",
       "      <td>0</td>\n",
       "      <td>0</td>\n",
       "      <td>0</td>\n",
       "      <td>0</td>\n",
       "      <td>1</td>\n",
       "      <td>0</td>\n",
       "      <td>0</td>\n",
       "      <td>0</td>\n",
       "    </tr>\n",
       "    <tr>\n",
       "      <th>19835</th>\n",
       "      <td>0</td>\n",
       "      <td>0</td>\n",
       "      <td>0</td>\n",
       "      <td>0</td>\n",
       "      <td>0</td>\n",
       "      <td>0</td>\n",
       "      <td>0</td>\n",
       "      <td>0</td>\n",
       "      <td>0</td>\n",
       "      <td>0</td>\n",
       "      <td>0</td>\n",
       "      <td>0</td>\n",
       "      <td>1</td>\n",
       "      <td>0</td>\n",
       "      <td>0</td>\n",
       "      <td>0</td>\n",
       "    </tr>\n",
       "  </tbody>\n",
       "</table>\n",
       "<p>19836 rows × 16 columns</p>\n",
       "</div>"
      ],
      "text/plain": [
       "       E  ENE  ESE  N  NE  NNE  NNW  NW  S  SE  SSE  SSW  SW  W  WNW  WSW\n",
       "0      1    0    0  0   0    0    0   0  0   0    0    0   0  0    0    0\n",
       "1      0    0    0  0   0    0    0   0  1   0    0    0   0  0    0    0\n",
       "2      0    0    0  0   0    0    0   0  0   0    1    0   0  0    0    0\n",
       "3      0    0    0  0   0    0    0   0  0   0    1    0   0  0    0    0\n",
       "4      0    0    0  0   0    0    0   0  0   0    0    1   0  0    0    0\n",
       "...   ..  ...  ... ..  ..  ...  ...  .. ..  ..  ...  ...  .. ..  ...  ...\n",
       "19831  0    0    0  0   0    0    0   0  0   0    0    0   0  0    0    1\n",
       "19832  0    0    0  0   0    0    0   0  0   0    0    0   1  0    0    0\n",
       "19833  0    0    0  0   0    0    0   0  0   0    0    0   1  0    0    0\n",
       "19834  0    0    0  0   0    0    0   0  0   0    0    0   1  0    0    0\n",
       "19835  0    0    0  0   0    0    0   0  0   0    0    0   1  0    0    0\n",
       "\n",
       "[19836 rows x 16 columns]"
      ]
     },
     "execution_count": 19,
     "metadata": {},
     "output_type": "execute_result"
    }
   ],
   "source": [
    "sm_geo_aspCat=pd.get_dummies(data=sm_geo['asp_cat'])\n",
    "sm_geo_aspCat"
   ]
  },
  {
   "cell_type": "code",
   "execution_count": 20,
   "id": "28988999-a418-41bf-98ba-0d03889a4e3b",
   "metadata": {
    "tags": []
   },
   "outputs": [
    {
     "data": {
      "text/html": [
       "<div>\n",
       "<style scoped>\n",
       "    .dataframe tbody tr th:only-of-type {\n",
       "        vertical-align: middle;\n",
       "    }\n",
       "\n",
       "    .dataframe tbody tr th {\n",
       "        vertical-align: top;\n",
       "    }\n",
       "\n",
       "    .dataframe thead th {\n",
       "        text-align: right;\n",
       "    }\n",
       "</style>\n",
       "<table border=\"1\" class=\"dataframe\">\n",
       "  <thead>\n",
       "    <tr style=\"text-align: right;\">\n",
       "      <th></th>\n",
       "      <th>asp_cont</th>\n",
       "      <th>asp_cat</th>\n",
       "      <th>elev_cont</th>\n",
       "      <th>elev_cat</th>\n",
       "      <th>slope_cont</th>\n",
       "      <th>slope_cat</th>\n",
       "      <th>fire</th>\n",
       "      <th>E</th>\n",
       "      <th>ENE</th>\n",
       "      <th>ESE</th>\n",
       "      <th>...</th>\n",
       "      <th>NNW</th>\n",
       "      <th>NW</th>\n",
       "      <th>S</th>\n",
       "      <th>SE</th>\n",
       "      <th>SSE</th>\n",
       "      <th>SSW</th>\n",
       "      <th>SW</th>\n",
       "      <th>W</th>\n",
       "      <th>WNW</th>\n",
       "      <th>WSW</th>\n",
       "    </tr>\n",
       "  </thead>\n",
       "  <tbody>\n",
       "    <tr>\n",
       "      <th>0</th>\n",
       "      <td>90.000000</td>\n",
       "      <td>E</td>\n",
       "      <td>229.0</td>\n",
       "      <td>elev_high</td>\n",
       "      <td>1.891522</td>\n",
       "      <td>slope_med</td>\n",
       "      <td>0</td>\n",
       "      <td>1</td>\n",
       "      <td>0</td>\n",
       "      <td>0</td>\n",
       "      <td>...</td>\n",
       "      <td>0</td>\n",
       "      <td>0</td>\n",
       "      <td>0</td>\n",
       "      <td>0</td>\n",
       "      <td>0</td>\n",
       "      <td>0</td>\n",
       "      <td>0</td>\n",
       "      <td>0</td>\n",
       "      <td>0</td>\n",
       "      <td>0</td>\n",
       "    </tr>\n",
       "    <tr>\n",
       "      <th>1</th>\n",
       "      <td>180.000000</td>\n",
       "      <td>S</td>\n",
       "      <td>230.0</td>\n",
       "      <td>elev_high</td>\n",
       "      <td>0.535182</td>\n",
       "      <td>slope_low</td>\n",
       "      <td>0</td>\n",
       "      <td>0</td>\n",
       "      <td>0</td>\n",
       "      <td>0</td>\n",
       "      <td>...</td>\n",
       "      <td>0</td>\n",
       "      <td>0</td>\n",
       "      <td>1</td>\n",
       "      <td>0</td>\n",
       "      <td>0</td>\n",
       "      <td>0</td>\n",
       "      <td>0</td>\n",
       "      <td>0</td>\n",
       "      <td>0</td>\n",
       "      <td>0</td>\n",
       "    </tr>\n",
       "    <tr>\n",
       "      <th>2</th>\n",
       "      <td>147.528809</td>\n",
       "      <td>SSE</td>\n",
       "      <td>227.0</td>\n",
       "      <td>elev_high</td>\n",
       "      <td>2.269464</td>\n",
       "      <td>slope_med</td>\n",
       "      <td>0</td>\n",
       "      <td>0</td>\n",
       "      <td>0</td>\n",
       "      <td>0</td>\n",
       "      <td>...</td>\n",
       "      <td>0</td>\n",
       "      <td>0</td>\n",
       "      <td>0</td>\n",
       "      <td>0</td>\n",
       "      <td>1</td>\n",
       "      <td>0</td>\n",
       "      <td>0</td>\n",
       "      <td>0</td>\n",
       "      <td>0</td>\n",
       "      <td>0</td>\n",
       "    </tr>\n",
       "    <tr>\n",
       "      <th>3</th>\n",
       "      <td>149.036240</td>\n",
       "      <td>SSE</td>\n",
       "      <td>226.0</td>\n",
       "      <td>elev_high</td>\n",
       "      <td>1.559970</td>\n",
       "      <td>slope_low</td>\n",
       "      <td>0</td>\n",
       "      <td>0</td>\n",
       "      <td>0</td>\n",
       "      <td>0</td>\n",
       "      <td>...</td>\n",
       "      <td>0</td>\n",
       "      <td>0</td>\n",
       "      <td>0</td>\n",
       "      <td>0</td>\n",
       "      <td>1</td>\n",
       "      <td>0</td>\n",
       "      <td>0</td>\n",
       "      <td>0</td>\n",
       "      <td>0</td>\n",
       "      <td>0</td>\n",
       "    </tr>\n",
       "    <tr>\n",
       "      <th>4</th>\n",
       "      <td>206.565048</td>\n",
       "      <td>SSW</td>\n",
       "      <td>228.0</td>\n",
       "      <td>elev_high</td>\n",
       "      <td>2.037113</td>\n",
       "      <td>slope_med</td>\n",
       "      <td>0</td>\n",
       "      <td>0</td>\n",
       "      <td>0</td>\n",
       "      <td>0</td>\n",
       "      <td>...</td>\n",
       "      <td>0</td>\n",
       "      <td>0</td>\n",
       "      <td>0</td>\n",
       "      <td>0</td>\n",
       "      <td>0</td>\n",
       "      <td>1</td>\n",
       "      <td>0</td>\n",
       "      <td>0</td>\n",
       "      <td>0</td>\n",
       "      <td>0</td>\n",
       "    </tr>\n",
       "    <tr>\n",
       "      <th>...</th>\n",
       "      <td>...</td>\n",
       "      <td>...</td>\n",
       "      <td>...</td>\n",
       "      <td>...</td>\n",
       "      <td>...</td>\n",
       "      <td>...</td>\n",
       "      <td>...</td>\n",
       "      <td>...</td>\n",
       "      <td>...</td>\n",
       "      <td>...</td>\n",
       "      <td>...</td>\n",
       "      <td>...</td>\n",
       "      <td>...</td>\n",
       "      <td>...</td>\n",
       "      <td>...</td>\n",
       "      <td>...</td>\n",
       "      <td>...</td>\n",
       "      <td>...</td>\n",
       "      <td>...</td>\n",
       "      <td>...</td>\n",
       "      <td>...</td>\n",
       "    </tr>\n",
       "    <tr>\n",
       "      <th>19831</th>\n",
       "      <td>249.702423</td>\n",
       "      <td>WSW</td>\n",
       "      <td>92.0</td>\n",
       "      <td>elev_low</td>\n",
       "      <td>19.977131</td>\n",
       "      <td>slope_vhigh</td>\n",
       "      <td>1</td>\n",
       "      <td>0</td>\n",
       "      <td>0</td>\n",
       "      <td>0</td>\n",
       "      <td>...</td>\n",
       "      <td>0</td>\n",
       "      <td>0</td>\n",
       "      <td>0</td>\n",
       "      <td>0</td>\n",
       "      <td>0</td>\n",
       "      <td>0</td>\n",
       "      <td>0</td>\n",
       "      <td>0</td>\n",
       "      <td>0</td>\n",
       "      <td>1</td>\n",
       "    </tr>\n",
       "    <tr>\n",
       "      <th>19832</th>\n",
       "      <td>222.709396</td>\n",
       "      <td>SW</td>\n",
       "      <td>120.0</td>\n",
       "      <td>elev_low</td>\n",
       "      <td>18.289597</td>\n",
       "      <td>slope_high</td>\n",
       "      <td>1</td>\n",
       "      <td>0</td>\n",
       "      <td>0</td>\n",
       "      <td>0</td>\n",
       "      <td>...</td>\n",
       "      <td>0</td>\n",
       "      <td>0</td>\n",
       "      <td>0</td>\n",
       "      <td>0</td>\n",
       "      <td>0</td>\n",
       "      <td>0</td>\n",
       "      <td>1</td>\n",
       "      <td>0</td>\n",
       "      <td>0</td>\n",
       "      <td>0</td>\n",
       "    </tr>\n",
       "    <tr>\n",
       "      <th>19833</th>\n",
       "      <td>228.990921</td>\n",
       "      <td>SW</td>\n",
       "      <td>134.0</td>\n",
       "      <td>elev_low</td>\n",
       "      <td>15.892071</td>\n",
       "      <td>slope_high</td>\n",
       "      <td>1</td>\n",
       "      <td>0</td>\n",
       "      <td>0</td>\n",
       "      <td>0</td>\n",
       "      <td>...</td>\n",
       "      <td>0</td>\n",
       "      <td>0</td>\n",
       "      <td>0</td>\n",
       "      <td>0</td>\n",
       "      <td>0</td>\n",
       "      <td>0</td>\n",
       "      <td>1</td>\n",
       "      <td>0</td>\n",
       "      <td>0</td>\n",
       "      <td>0</td>\n",
       "    </tr>\n",
       "    <tr>\n",
       "      <th>19834</th>\n",
       "      <td>233.686356</td>\n",
       "      <td>SW</td>\n",
       "      <td>149.0</td>\n",
       "      <td>elev_low</td>\n",
       "      <td>25.691380</td>\n",
       "      <td>slope_vhigh</td>\n",
       "      <td>1</td>\n",
       "      <td>0</td>\n",
       "      <td>0</td>\n",
       "      <td>0</td>\n",
       "      <td>...</td>\n",
       "      <td>0</td>\n",
       "      <td>0</td>\n",
       "      <td>0</td>\n",
       "      <td>0</td>\n",
       "      <td>0</td>\n",
       "      <td>0</td>\n",
       "      <td>1</td>\n",
       "      <td>0</td>\n",
       "      <td>0</td>\n",
       "      <td>0</td>\n",
       "    </tr>\n",
       "    <tr>\n",
       "      <th>19835</th>\n",
       "      <td>227.563766</td>\n",
       "      <td>SW</td>\n",
       "      <td>194.0</td>\n",
       "      <td>elev_med</td>\n",
       "      <td>28.442411</td>\n",
       "      <td>slope_vhigh</td>\n",
       "      <td>1</td>\n",
       "      <td>0</td>\n",
       "      <td>0</td>\n",
       "      <td>0</td>\n",
       "      <td>...</td>\n",
       "      <td>0</td>\n",
       "      <td>0</td>\n",
       "      <td>0</td>\n",
       "      <td>0</td>\n",
       "      <td>0</td>\n",
       "      <td>0</td>\n",
       "      <td>1</td>\n",
       "      <td>0</td>\n",
       "      <td>0</td>\n",
       "      <td>0</td>\n",
       "    </tr>\n",
       "  </tbody>\n",
       "</table>\n",
       "<p>19836 rows × 23 columns</p>\n",
       "</div>"
      ],
      "text/plain": [
       "         asp_cont asp_cat  elev_cont   elev_cat  slope_cont    slope_cat  \\\n",
       "0       90.000000       E      229.0  elev_high    1.891522    slope_med   \n",
       "1      180.000000       S      230.0  elev_high    0.535182    slope_low   \n",
       "2      147.528809     SSE      227.0  elev_high    2.269464    slope_med   \n",
       "3      149.036240     SSE      226.0  elev_high    1.559970    slope_low   \n",
       "4      206.565048     SSW      228.0  elev_high    2.037113    slope_med   \n",
       "...           ...     ...        ...        ...         ...          ...   \n",
       "19831  249.702423     WSW       92.0   elev_low   19.977131  slope_vhigh   \n",
       "19832  222.709396      SW      120.0   elev_low   18.289597   slope_high   \n",
       "19833  228.990921      SW      134.0   elev_low   15.892071   slope_high   \n",
       "19834  233.686356      SW      149.0   elev_low   25.691380  slope_vhigh   \n",
       "19835  227.563766      SW      194.0   elev_med   28.442411  slope_vhigh   \n",
       "\n",
       "       fire  E  ENE  ESE  ...  NNW  NW  S  SE  SSE  SSW  SW  W  WNW  WSW  \n",
       "0         0  1    0    0  ...    0   0  0   0    0    0   0  0    0    0  \n",
       "1         0  0    0    0  ...    0   0  1   0    0    0   0  0    0    0  \n",
       "2         0  0    0    0  ...    0   0  0   0    1    0   0  0    0    0  \n",
       "3         0  0    0    0  ...    0   0  0   0    1    0   0  0    0    0  \n",
       "4         0  0    0    0  ...    0   0  0   0    0    1   0  0    0    0  \n",
       "...     ... ..  ...  ...  ...  ...  .. ..  ..  ...  ...  .. ..  ...  ...  \n",
       "19831     1  0    0    0  ...    0   0  0   0    0    0   0  0    0    1  \n",
       "19832     1  0    0    0  ...    0   0  0   0    0    0   1  0    0    0  \n",
       "19833     1  0    0    0  ...    0   0  0   0    0    0   1  0    0    0  \n",
       "19834     1  0    0    0  ...    0   0  0   0    0    0   1  0    0    0  \n",
       "19835     1  0    0    0  ...    0   0  0   0    0    0   1  0    0    0  \n",
       "\n",
       "[19836 rows x 23 columns]"
      ]
     },
     "execution_count": 20,
     "metadata": {},
     "output_type": "execute_result"
    }
   ],
   "source": [
    "# add binarized columns back to dataframe\n",
    "sm_geo=pd.concat([sm_geo,sm_geo_aspCat],axis=1)\n",
    "sm_geo"
   ]
  },
  {
   "cell_type": "markdown",
   "id": "821f415b-7938-4ef5-a8c6-d2338dc279fa",
   "metadata": {},
   "source": [
    "#### `get_dummies` on the `elev_cat` column"
   ]
  },
  {
   "cell_type": "code",
   "execution_count": 21,
   "id": "6c1aece8-9b7b-4e62-9e53-53fb2ddb261e",
   "metadata": {},
   "outputs": [
    {
     "data": {
      "text/html": [
       "<div>\n",
       "<style scoped>\n",
       "    .dataframe tbody tr th:only-of-type {\n",
       "        vertical-align: middle;\n",
       "    }\n",
       "\n",
       "    .dataframe tbody tr th {\n",
       "        vertical-align: top;\n",
       "    }\n",
       "\n",
       "    .dataframe thead th {\n",
       "        text-align: right;\n",
       "    }\n",
       "</style>\n",
       "<table border=\"1\" class=\"dataframe\">\n",
       "  <thead>\n",
       "    <tr style=\"text-align: right;\">\n",
       "      <th></th>\n",
       "      <th>asp_cont</th>\n",
       "      <th>asp_cat</th>\n",
       "      <th>elev_cont</th>\n",
       "      <th>elev_cat</th>\n",
       "      <th>slope_cont</th>\n",
       "      <th>slope_cat</th>\n",
       "      <th>fire</th>\n",
       "      <th>E</th>\n",
       "      <th>ENE</th>\n",
       "      <th>ESE</th>\n",
       "      <th>...</th>\n",
       "      <th>SSE</th>\n",
       "      <th>SSW</th>\n",
       "      <th>SW</th>\n",
       "      <th>W</th>\n",
       "      <th>WNW</th>\n",
       "      <th>WSW</th>\n",
       "      <th>elev_high</th>\n",
       "      <th>elev_low</th>\n",
       "      <th>elev_med</th>\n",
       "      <th>elev_vhigh</th>\n",
       "    </tr>\n",
       "  </thead>\n",
       "  <tbody>\n",
       "    <tr>\n",
       "      <th>0</th>\n",
       "      <td>90.000000</td>\n",
       "      <td>E</td>\n",
       "      <td>229.0</td>\n",
       "      <td>elev_high</td>\n",
       "      <td>1.891522</td>\n",
       "      <td>slope_med</td>\n",
       "      <td>0</td>\n",
       "      <td>1</td>\n",
       "      <td>0</td>\n",
       "      <td>0</td>\n",
       "      <td>...</td>\n",
       "      <td>0</td>\n",
       "      <td>0</td>\n",
       "      <td>0</td>\n",
       "      <td>0</td>\n",
       "      <td>0</td>\n",
       "      <td>0</td>\n",
       "      <td>1</td>\n",
       "      <td>0</td>\n",
       "      <td>0</td>\n",
       "      <td>0</td>\n",
       "    </tr>\n",
       "    <tr>\n",
       "      <th>1</th>\n",
       "      <td>180.000000</td>\n",
       "      <td>S</td>\n",
       "      <td>230.0</td>\n",
       "      <td>elev_high</td>\n",
       "      <td>0.535182</td>\n",
       "      <td>slope_low</td>\n",
       "      <td>0</td>\n",
       "      <td>0</td>\n",
       "      <td>0</td>\n",
       "      <td>0</td>\n",
       "      <td>...</td>\n",
       "      <td>0</td>\n",
       "      <td>0</td>\n",
       "      <td>0</td>\n",
       "      <td>0</td>\n",
       "      <td>0</td>\n",
       "      <td>0</td>\n",
       "      <td>1</td>\n",
       "      <td>0</td>\n",
       "      <td>0</td>\n",
       "      <td>0</td>\n",
       "    </tr>\n",
       "    <tr>\n",
       "      <th>2</th>\n",
       "      <td>147.528809</td>\n",
       "      <td>SSE</td>\n",
       "      <td>227.0</td>\n",
       "      <td>elev_high</td>\n",
       "      <td>2.269464</td>\n",
       "      <td>slope_med</td>\n",
       "      <td>0</td>\n",
       "      <td>0</td>\n",
       "      <td>0</td>\n",
       "      <td>0</td>\n",
       "      <td>...</td>\n",
       "      <td>1</td>\n",
       "      <td>0</td>\n",
       "      <td>0</td>\n",
       "      <td>0</td>\n",
       "      <td>0</td>\n",
       "      <td>0</td>\n",
       "      <td>1</td>\n",
       "      <td>0</td>\n",
       "      <td>0</td>\n",
       "      <td>0</td>\n",
       "    </tr>\n",
       "    <tr>\n",
       "      <th>3</th>\n",
       "      <td>149.036240</td>\n",
       "      <td>SSE</td>\n",
       "      <td>226.0</td>\n",
       "      <td>elev_high</td>\n",
       "      <td>1.559970</td>\n",
       "      <td>slope_low</td>\n",
       "      <td>0</td>\n",
       "      <td>0</td>\n",
       "      <td>0</td>\n",
       "      <td>0</td>\n",
       "      <td>...</td>\n",
       "      <td>1</td>\n",
       "      <td>0</td>\n",
       "      <td>0</td>\n",
       "      <td>0</td>\n",
       "      <td>0</td>\n",
       "      <td>0</td>\n",
       "      <td>1</td>\n",
       "      <td>0</td>\n",
       "      <td>0</td>\n",
       "      <td>0</td>\n",
       "    </tr>\n",
       "    <tr>\n",
       "      <th>4</th>\n",
       "      <td>206.565048</td>\n",
       "      <td>SSW</td>\n",
       "      <td>228.0</td>\n",
       "      <td>elev_high</td>\n",
       "      <td>2.037113</td>\n",
       "      <td>slope_med</td>\n",
       "      <td>0</td>\n",
       "      <td>0</td>\n",
       "      <td>0</td>\n",
       "      <td>0</td>\n",
       "      <td>...</td>\n",
       "      <td>0</td>\n",
       "      <td>1</td>\n",
       "      <td>0</td>\n",
       "      <td>0</td>\n",
       "      <td>0</td>\n",
       "      <td>0</td>\n",
       "      <td>1</td>\n",
       "      <td>0</td>\n",
       "      <td>0</td>\n",
       "      <td>0</td>\n",
       "    </tr>\n",
       "    <tr>\n",
       "      <th>...</th>\n",
       "      <td>...</td>\n",
       "      <td>...</td>\n",
       "      <td>...</td>\n",
       "      <td>...</td>\n",
       "      <td>...</td>\n",
       "      <td>...</td>\n",
       "      <td>...</td>\n",
       "      <td>...</td>\n",
       "      <td>...</td>\n",
       "      <td>...</td>\n",
       "      <td>...</td>\n",
       "      <td>...</td>\n",
       "      <td>...</td>\n",
       "      <td>...</td>\n",
       "      <td>...</td>\n",
       "      <td>...</td>\n",
       "      <td>...</td>\n",
       "      <td>...</td>\n",
       "      <td>...</td>\n",
       "      <td>...</td>\n",
       "      <td>...</td>\n",
       "    </tr>\n",
       "    <tr>\n",
       "      <th>19831</th>\n",
       "      <td>249.702423</td>\n",
       "      <td>WSW</td>\n",
       "      <td>92.0</td>\n",
       "      <td>elev_low</td>\n",
       "      <td>19.977131</td>\n",
       "      <td>slope_vhigh</td>\n",
       "      <td>1</td>\n",
       "      <td>0</td>\n",
       "      <td>0</td>\n",
       "      <td>0</td>\n",
       "      <td>...</td>\n",
       "      <td>0</td>\n",
       "      <td>0</td>\n",
       "      <td>0</td>\n",
       "      <td>0</td>\n",
       "      <td>0</td>\n",
       "      <td>1</td>\n",
       "      <td>0</td>\n",
       "      <td>1</td>\n",
       "      <td>0</td>\n",
       "      <td>0</td>\n",
       "    </tr>\n",
       "    <tr>\n",
       "      <th>19832</th>\n",
       "      <td>222.709396</td>\n",
       "      <td>SW</td>\n",
       "      <td>120.0</td>\n",
       "      <td>elev_low</td>\n",
       "      <td>18.289597</td>\n",
       "      <td>slope_high</td>\n",
       "      <td>1</td>\n",
       "      <td>0</td>\n",
       "      <td>0</td>\n",
       "      <td>0</td>\n",
       "      <td>...</td>\n",
       "      <td>0</td>\n",
       "      <td>0</td>\n",
       "      <td>1</td>\n",
       "      <td>0</td>\n",
       "      <td>0</td>\n",
       "      <td>0</td>\n",
       "      <td>0</td>\n",
       "      <td>1</td>\n",
       "      <td>0</td>\n",
       "      <td>0</td>\n",
       "    </tr>\n",
       "    <tr>\n",
       "      <th>19833</th>\n",
       "      <td>228.990921</td>\n",
       "      <td>SW</td>\n",
       "      <td>134.0</td>\n",
       "      <td>elev_low</td>\n",
       "      <td>15.892071</td>\n",
       "      <td>slope_high</td>\n",
       "      <td>1</td>\n",
       "      <td>0</td>\n",
       "      <td>0</td>\n",
       "      <td>0</td>\n",
       "      <td>...</td>\n",
       "      <td>0</td>\n",
       "      <td>0</td>\n",
       "      <td>1</td>\n",
       "      <td>0</td>\n",
       "      <td>0</td>\n",
       "      <td>0</td>\n",
       "      <td>0</td>\n",
       "      <td>1</td>\n",
       "      <td>0</td>\n",
       "      <td>0</td>\n",
       "    </tr>\n",
       "    <tr>\n",
       "      <th>19834</th>\n",
       "      <td>233.686356</td>\n",
       "      <td>SW</td>\n",
       "      <td>149.0</td>\n",
       "      <td>elev_low</td>\n",
       "      <td>25.691380</td>\n",
       "      <td>slope_vhigh</td>\n",
       "      <td>1</td>\n",
       "      <td>0</td>\n",
       "      <td>0</td>\n",
       "      <td>0</td>\n",
       "      <td>...</td>\n",
       "      <td>0</td>\n",
       "      <td>0</td>\n",
       "      <td>1</td>\n",
       "      <td>0</td>\n",
       "      <td>0</td>\n",
       "      <td>0</td>\n",
       "      <td>0</td>\n",
       "      <td>1</td>\n",
       "      <td>0</td>\n",
       "      <td>0</td>\n",
       "    </tr>\n",
       "    <tr>\n",
       "      <th>19835</th>\n",
       "      <td>227.563766</td>\n",
       "      <td>SW</td>\n",
       "      <td>194.0</td>\n",
       "      <td>elev_med</td>\n",
       "      <td>28.442411</td>\n",
       "      <td>slope_vhigh</td>\n",
       "      <td>1</td>\n",
       "      <td>0</td>\n",
       "      <td>0</td>\n",
       "      <td>0</td>\n",
       "      <td>...</td>\n",
       "      <td>0</td>\n",
       "      <td>0</td>\n",
       "      <td>1</td>\n",
       "      <td>0</td>\n",
       "      <td>0</td>\n",
       "      <td>0</td>\n",
       "      <td>0</td>\n",
       "      <td>0</td>\n",
       "      <td>1</td>\n",
       "      <td>0</td>\n",
       "    </tr>\n",
       "  </tbody>\n",
       "</table>\n",
       "<p>19836 rows × 27 columns</p>\n",
       "</div>"
      ],
      "text/plain": [
       "         asp_cont asp_cat  elev_cont   elev_cat  slope_cont    slope_cat  \\\n",
       "0       90.000000       E      229.0  elev_high    1.891522    slope_med   \n",
       "1      180.000000       S      230.0  elev_high    0.535182    slope_low   \n",
       "2      147.528809     SSE      227.0  elev_high    2.269464    slope_med   \n",
       "3      149.036240     SSE      226.0  elev_high    1.559970    slope_low   \n",
       "4      206.565048     SSW      228.0  elev_high    2.037113    slope_med   \n",
       "...           ...     ...        ...        ...         ...          ...   \n",
       "19831  249.702423     WSW       92.0   elev_low   19.977131  slope_vhigh   \n",
       "19832  222.709396      SW      120.0   elev_low   18.289597   slope_high   \n",
       "19833  228.990921      SW      134.0   elev_low   15.892071   slope_high   \n",
       "19834  233.686356      SW      149.0   elev_low   25.691380  slope_vhigh   \n",
       "19835  227.563766      SW      194.0   elev_med   28.442411  slope_vhigh   \n",
       "\n",
       "       fire  E  ENE  ESE  ...  SSE  SSW  SW  W  WNW  WSW  elev_high  elev_low  \\\n",
       "0         0  1    0    0  ...    0    0   0  0    0    0          1         0   \n",
       "1         0  0    0    0  ...    0    0   0  0    0    0          1         0   \n",
       "2         0  0    0    0  ...    1    0   0  0    0    0          1         0   \n",
       "3         0  0    0    0  ...    1    0   0  0    0    0          1         0   \n",
       "4         0  0    0    0  ...    0    1   0  0    0    0          1         0   \n",
       "...     ... ..  ...  ...  ...  ...  ...  .. ..  ...  ...        ...       ...   \n",
       "19831     1  0    0    0  ...    0    0   0  0    0    1          0         1   \n",
       "19832     1  0    0    0  ...    0    0   1  0    0    0          0         1   \n",
       "19833     1  0    0    0  ...    0    0   1  0    0    0          0         1   \n",
       "19834     1  0    0    0  ...    0    0   1  0    0    0          0         1   \n",
       "19835     1  0    0    0  ...    0    0   1  0    0    0          0         0   \n",
       "\n",
       "       elev_med  elev_vhigh  \n",
       "0             0           0  \n",
       "1             0           0  \n",
       "2             0           0  \n",
       "3             0           0  \n",
       "4             0           0  \n",
       "...         ...         ...  \n",
       "19831         0           0  \n",
       "19832         0           0  \n",
       "19833         0           0  \n",
       "19834         0           0  \n",
       "19835         1           0  \n",
       "\n",
       "[19836 rows x 27 columns]"
      ]
     },
     "execution_count": 21,
     "metadata": {},
     "output_type": "execute_result"
    }
   ],
   "source": [
    "# dummies\n",
    "sm_geo_elevCat=pd.get_dummies(data=sm_geo['elev_cat'])\n",
    "\n",
    "# add binarized columns back to dataframe\n",
    "sm_geo=pd.concat([sm_geo,sm_geo_elevCat],axis=1)\n",
    "\n",
    "# # reset axis\n",
    "# sm_geo=sm_geo.reset_index()\n",
    "\n",
    "# sm_geo=sm_geo.drop(labels=['index','elev_cat','asp_cat'],axis=1)\n",
    "\n",
    "sm_geo"
   ]
  },
  {
   "cell_type": "markdown",
   "id": "26c1357b-4293-4ba7-8667-ae2e22e979f3",
   "metadata": {
    "tags": []
   },
   "source": [
    "#### `get_dummies` on the `slope_cat` column"
   ]
  },
  {
   "cell_type": "code",
   "execution_count": 22,
   "id": "c088fef0-9aa7-4d83-8955-1af9e3c1620b",
   "metadata": {
    "tags": []
   },
   "outputs": [
    {
     "data": {
      "text/html": [
       "<div>\n",
       "<style scoped>\n",
       "    .dataframe tbody tr th:only-of-type {\n",
       "        vertical-align: middle;\n",
       "    }\n",
       "\n",
       "    .dataframe tbody tr th {\n",
       "        vertical-align: top;\n",
       "    }\n",
       "\n",
       "    .dataframe thead th {\n",
       "        text-align: right;\n",
       "    }\n",
       "</style>\n",
       "<table border=\"1\" class=\"dataframe\">\n",
       "  <thead>\n",
       "    <tr style=\"text-align: right;\">\n",
       "      <th></th>\n",
       "      <th>asp_cont</th>\n",
       "      <th>asp_cat</th>\n",
       "      <th>elev_cont</th>\n",
       "      <th>elev_cat</th>\n",
       "      <th>slope_cont</th>\n",
       "      <th>slope_cat</th>\n",
       "      <th>fire</th>\n",
       "      <th>E</th>\n",
       "      <th>ENE</th>\n",
       "      <th>ESE</th>\n",
       "      <th>...</th>\n",
       "      <th>WNW</th>\n",
       "      <th>WSW</th>\n",
       "      <th>elev_high</th>\n",
       "      <th>elev_low</th>\n",
       "      <th>elev_med</th>\n",
       "      <th>elev_vhigh</th>\n",
       "      <th>slope_high</th>\n",
       "      <th>slope_low</th>\n",
       "      <th>slope_med</th>\n",
       "      <th>slope_vhigh</th>\n",
       "    </tr>\n",
       "  </thead>\n",
       "  <tbody>\n",
       "    <tr>\n",
       "      <th>0</th>\n",
       "      <td>90.000000</td>\n",
       "      <td>E</td>\n",
       "      <td>229.0</td>\n",
       "      <td>elev_high</td>\n",
       "      <td>1.891522</td>\n",
       "      <td>slope_med</td>\n",
       "      <td>0</td>\n",
       "      <td>1</td>\n",
       "      <td>0</td>\n",
       "      <td>0</td>\n",
       "      <td>...</td>\n",
       "      <td>0</td>\n",
       "      <td>0</td>\n",
       "      <td>1</td>\n",
       "      <td>0</td>\n",
       "      <td>0</td>\n",
       "      <td>0</td>\n",
       "      <td>0</td>\n",
       "      <td>0</td>\n",
       "      <td>1</td>\n",
       "      <td>0</td>\n",
       "    </tr>\n",
       "    <tr>\n",
       "      <th>1</th>\n",
       "      <td>180.000000</td>\n",
       "      <td>S</td>\n",
       "      <td>230.0</td>\n",
       "      <td>elev_high</td>\n",
       "      <td>0.535182</td>\n",
       "      <td>slope_low</td>\n",
       "      <td>0</td>\n",
       "      <td>0</td>\n",
       "      <td>0</td>\n",
       "      <td>0</td>\n",
       "      <td>...</td>\n",
       "      <td>0</td>\n",
       "      <td>0</td>\n",
       "      <td>1</td>\n",
       "      <td>0</td>\n",
       "      <td>0</td>\n",
       "      <td>0</td>\n",
       "      <td>0</td>\n",
       "      <td>1</td>\n",
       "      <td>0</td>\n",
       "      <td>0</td>\n",
       "    </tr>\n",
       "    <tr>\n",
       "      <th>2</th>\n",
       "      <td>147.528809</td>\n",
       "      <td>SSE</td>\n",
       "      <td>227.0</td>\n",
       "      <td>elev_high</td>\n",
       "      <td>2.269464</td>\n",
       "      <td>slope_med</td>\n",
       "      <td>0</td>\n",
       "      <td>0</td>\n",
       "      <td>0</td>\n",
       "      <td>0</td>\n",
       "      <td>...</td>\n",
       "      <td>0</td>\n",
       "      <td>0</td>\n",
       "      <td>1</td>\n",
       "      <td>0</td>\n",
       "      <td>0</td>\n",
       "      <td>0</td>\n",
       "      <td>0</td>\n",
       "      <td>0</td>\n",
       "      <td>1</td>\n",
       "      <td>0</td>\n",
       "    </tr>\n",
       "    <tr>\n",
       "      <th>3</th>\n",
       "      <td>149.036240</td>\n",
       "      <td>SSE</td>\n",
       "      <td>226.0</td>\n",
       "      <td>elev_high</td>\n",
       "      <td>1.559970</td>\n",
       "      <td>slope_low</td>\n",
       "      <td>0</td>\n",
       "      <td>0</td>\n",
       "      <td>0</td>\n",
       "      <td>0</td>\n",
       "      <td>...</td>\n",
       "      <td>0</td>\n",
       "      <td>0</td>\n",
       "      <td>1</td>\n",
       "      <td>0</td>\n",
       "      <td>0</td>\n",
       "      <td>0</td>\n",
       "      <td>0</td>\n",
       "      <td>1</td>\n",
       "      <td>0</td>\n",
       "      <td>0</td>\n",
       "    </tr>\n",
       "    <tr>\n",
       "      <th>4</th>\n",
       "      <td>206.565048</td>\n",
       "      <td>SSW</td>\n",
       "      <td>228.0</td>\n",
       "      <td>elev_high</td>\n",
       "      <td>2.037113</td>\n",
       "      <td>slope_med</td>\n",
       "      <td>0</td>\n",
       "      <td>0</td>\n",
       "      <td>0</td>\n",
       "      <td>0</td>\n",
       "      <td>...</td>\n",
       "      <td>0</td>\n",
       "      <td>0</td>\n",
       "      <td>1</td>\n",
       "      <td>0</td>\n",
       "      <td>0</td>\n",
       "      <td>0</td>\n",
       "      <td>0</td>\n",
       "      <td>0</td>\n",
       "      <td>1</td>\n",
       "      <td>0</td>\n",
       "    </tr>\n",
       "    <tr>\n",
       "      <th>...</th>\n",
       "      <td>...</td>\n",
       "      <td>...</td>\n",
       "      <td>...</td>\n",
       "      <td>...</td>\n",
       "      <td>...</td>\n",
       "      <td>...</td>\n",
       "      <td>...</td>\n",
       "      <td>...</td>\n",
       "      <td>...</td>\n",
       "      <td>...</td>\n",
       "      <td>...</td>\n",
       "      <td>...</td>\n",
       "      <td>...</td>\n",
       "      <td>...</td>\n",
       "      <td>...</td>\n",
       "      <td>...</td>\n",
       "      <td>...</td>\n",
       "      <td>...</td>\n",
       "      <td>...</td>\n",
       "      <td>...</td>\n",
       "      <td>...</td>\n",
       "    </tr>\n",
       "    <tr>\n",
       "      <th>19831</th>\n",
       "      <td>249.702423</td>\n",
       "      <td>WSW</td>\n",
       "      <td>92.0</td>\n",
       "      <td>elev_low</td>\n",
       "      <td>19.977131</td>\n",
       "      <td>slope_vhigh</td>\n",
       "      <td>1</td>\n",
       "      <td>0</td>\n",
       "      <td>0</td>\n",
       "      <td>0</td>\n",
       "      <td>...</td>\n",
       "      <td>0</td>\n",
       "      <td>1</td>\n",
       "      <td>0</td>\n",
       "      <td>1</td>\n",
       "      <td>0</td>\n",
       "      <td>0</td>\n",
       "      <td>0</td>\n",
       "      <td>0</td>\n",
       "      <td>0</td>\n",
       "      <td>1</td>\n",
       "    </tr>\n",
       "    <tr>\n",
       "      <th>19832</th>\n",
       "      <td>222.709396</td>\n",
       "      <td>SW</td>\n",
       "      <td>120.0</td>\n",
       "      <td>elev_low</td>\n",
       "      <td>18.289597</td>\n",
       "      <td>slope_high</td>\n",
       "      <td>1</td>\n",
       "      <td>0</td>\n",
       "      <td>0</td>\n",
       "      <td>0</td>\n",
       "      <td>...</td>\n",
       "      <td>0</td>\n",
       "      <td>0</td>\n",
       "      <td>0</td>\n",
       "      <td>1</td>\n",
       "      <td>0</td>\n",
       "      <td>0</td>\n",
       "      <td>1</td>\n",
       "      <td>0</td>\n",
       "      <td>0</td>\n",
       "      <td>0</td>\n",
       "    </tr>\n",
       "    <tr>\n",
       "      <th>19833</th>\n",
       "      <td>228.990921</td>\n",
       "      <td>SW</td>\n",
       "      <td>134.0</td>\n",
       "      <td>elev_low</td>\n",
       "      <td>15.892071</td>\n",
       "      <td>slope_high</td>\n",
       "      <td>1</td>\n",
       "      <td>0</td>\n",
       "      <td>0</td>\n",
       "      <td>0</td>\n",
       "      <td>...</td>\n",
       "      <td>0</td>\n",
       "      <td>0</td>\n",
       "      <td>0</td>\n",
       "      <td>1</td>\n",
       "      <td>0</td>\n",
       "      <td>0</td>\n",
       "      <td>1</td>\n",
       "      <td>0</td>\n",
       "      <td>0</td>\n",
       "      <td>0</td>\n",
       "    </tr>\n",
       "    <tr>\n",
       "      <th>19834</th>\n",
       "      <td>233.686356</td>\n",
       "      <td>SW</td>\n",
       "      <td>149.0</td>\n",
       "      <td>elev_low</td>\n",
       "      <td>25.691380</td>\n",
       "      <td>slope_vhigh</td>\n",
       "      <td>1</td>\n",
       "      <td>0</td>\n",
       "      <td>0</td>\n",
       "      <td>0</td>\n",
       "      <td>...</td>\n",
       "      <td>0</td>\n",
       "      <td>0</td>\n",
       "      <td>0</td>\n",
       "      <td>1</td>\n",
       "      <td>0</td>\n",
       "      <td>0</td>\n",
       "      <td>0</td>\n",
       "      <td>0</td>\n",
       "      <td>0</td>\n",
       "      <td>1</td>\n",
       "    </tr>\n",
       "    <tr>\n",
       "      <th>19835</th>\n",
       "      <td>227.563766</td>\n",
       "      <td>SW</td>\n",
       "      <td>194.0</td>\n",
       "      <td>elev_med</td>\n",
       "      <td>28.442411</td>\n",
       "      <td>slope_vhigh</td>\n",
       "      <td>1</td>\n",
       "      <td>0</td>\n",
       "      <td>0</td>\n",
       "      <td>0</td>\n",
       "      <td>...</td>\n",
       "      <td>0</td>\n",
       "      <td>0</td>\n",
       "      <td>0</td>\n",
       "      <td>0</td>\n",
       "      <td>1</td>\n",
       "      <td>0</td>\n",
       "      <td>0</td>\n",
       "      <td>0</td>\n",
       "      <td>0</td>\n",
       "      <td>1</td>\n",
       "    </tr>\n",
       "  </tbody>\n",
       "</table>\n",
       "<p>19836 rows × 31 columns</p>\n",
       "</div>"
      ],
      "text/plain": [
       "         asp_cont asp_cat  elev_cont   elev_cat  slope_cont    slope_cat  \\\n",
       "0       90.000000       E      229.0  elev_high    1.891522    slope_med   \n",
       "1      180.000000       S      230.0  elev_high    0.535182    slope_low   \n",
       "2      147.528809     SSE      227.0  elev_high    2.269464    slope_med   \n",
       "3      149.036240     SSE      226.0  elev_high    1.559970    slope_low   \n",
       "4      206.565048     SSW      228.0  elev_high    2.037113    slope_med   \n",
       "...           ...     ...        ...        ...         ...          ...   \n",
       "19831  249.702423     WSW       92.0   elev_low   19.977131  slope_vhigh   \n",
       "19832  222.709396      SW      120.0   elev_low   18.289597   slope_high   \n",
       "19833  228.990921      SW      134.0   elev_low   15.892071   slope_high   \n",
       "19834  233.686356      SW      149.0   elev_low   25.691380  slope_vhigh   \n",
       "19835  227.563766      SW      194.0   elev_med   28.442411  slope_vhigh   \n",
       "\n",
       "       fire  E  ENE  ESE  ...  WNW  WSW  elev_high  elev_low  elev_med  \\\n",
       "0         0  1    0    0  ...    0    0          1         0         0   \n",
       "1         0  0    0    0  ...    0    0          1         0         0   \n",
       "2         0  0    0    0  ...    0    0          1         0         0   \n",
       "3         0  0    0    0  ...    0    0          1         0         0   \n",
       "4         0  0    0    0  ...    0    0          1         0         0   \n",
       "...     ... ..  ...  ...  ...  ...  ...        ...       ...       ...   \n",
       "19831     1  0    0    0  ...    0    1          0         1         0   \n",
       "19832     1  0    0    0  ...    0    0          0         1         0   \n",
       "19833     1  0    0    0  ...    0    0          0         1         0   \n",
       "19834     1  0    0    0  ...    0    0          0         1         0   \n",
       "19835     1  0    0    0  ...    0    0          0         0         1   \n",
       "\n",
       "       elev_vhigh  slope_high  slope_low  slope_med  slope_vhigh  \n",
       "0               0           0          0          1            0  \n",
       "1               0           0          1          0            0  \n",
       "2               0           0          0          1            0  \n",
       "3               0           0          1          0            0  \n",
       "4               0           0          0          1            0  \n",
       "...           ...         ...        ...        ...          ...  \n",
       "19831           0           0          0          0            1  \n",
       "19832           0           1          0          0            0  \n",
       "19833           0           1          0          0            0  \n",
       "19834           0           0          0          0            1  \n",
       "19835           0           0          0          0            1  \n",
       "\n",
       "[19836 rows x 31 columns]"
      ]
     },
     "execution_count": 22,
     "metadata": {},
     "output_type": "execute_result"
    }
   ],
   "source": [
    "# dummies\n",
    "sm_geo_slopeCat=pd.get_dummies(data=sm_geo['slope_cat'])\n",
    "\n",
    "# add binarized columns back to dataframe\n",
    "sm_geo=pd.concat([sm_geo,sm_geo_slopeCat],axis=1)\n",
    "\n",
    "sm_geo"
   ]
  },
  {
   "cell_type": "code",
   "execution_count": 23,
   "id": "c83eaa73-5a63-4323-b2b8-23dd31db8db2",
   "metadata": {},
   "outputs": [
    {
     "data": {
      "text/html": [
       "<div>\n",
       "<style scoped>\n",
       "    .dataframe tbody tr th:only-of-type {\n",
       "        vertical-align: middle;\n",
       "    }\n",
       "\n",
       "    .dataframe tbody tr th {\n",
       "        vertical-align: top;\n",
       "    }\n",
       "\n",
       "    .dataframe thead th {\n",
       "        text-align: right;\n",
       "    }\n",
       "</style>\n",
       "<table border=\"1\" class=\"dataframe\">\n",
       "  <thead>\n",
       "    <tr style=\"text-align: right;\">\n",
       "      <th></th>\n",
       "      <th>asp_cont</th>\n",
       "      <th>elev_cont</th>\n",
       "      <th>slope_cont</th>\n",
       "      <th>E</th>\n",
       "      <th>ENE</th>\n",
       "      <th>ESE</th>\n",
       "      <th>N</th>\n",
       "      <th>NE</th>\n",
       "      <th>NNE</th>\n",
       "      <th>NNW</th>\n",
       "      <th>...</th>\n",
       "      <th>WNW</th>\n",
       "      <th>WSW</th>\n",
       "      <th>elev_high</th>\n",
       "      <th>elev_low</th>\n",
       "      <th>elev_med</th>\n",
       "      <th>elev_vhigh</th>\n",
       "      <th>slope_high</th>\n",
       "      <th>slope_low</th>\n",
       "      <th>slope_med</th>\n",
       "      <th>slope_vhigh</th>\n",
       "    </tr>\n",
       "  </thead>\n",
       "  <tbody>\n",
       "    <tr>\n",
       "      <th>0</th>\n",
       "      <td>90.000000</td>\n",
       "      <td>229.0</td>\n",
       "      <td>1.891522</td>\n",
       "      <td>1</td>\n",
       "      <td>0</td>\n",
       "      <td>0</td>\n",
       "      <td>0</td>\n",
       "      <td>0</td>\n",
       "      <td>0</td>\n",
       "      <td>0</td>\n",
       "      <td>...</td>\n",
       "      <td>0</td>\n",
       "      <td>0</td>\n",
       "      <td>1</td>\n",
       "      <td>0</td>\n",
       "      <td>0</td>\n",
       "      <td>0</td>\n",
       "      <td>0</td>\n",
       "      <td>0</td>\n",
       "      <td>1</td>\n",
       "      <td>0</td>\n",
       "    </tr>\n",
       "    <tr>\n",
       "      <th>1</th>\n",
       "      <td>180.000000</td>\n",
       "      <td>230.0</td>\n",
       "      <td>0.535182</td>\n",
       "      <td>0</td>\n",
       "      <td>0</td>\n",
       "      <td>0</td>\n",
       "      <td>0</td>\n",
       "      <td>0</td>\n",
       "      <td>0</td>\n",
       "      <td>0</td>\n",
       "      <td>...</td>\n",
       "      <td>0</td>\n",
       "      <td>0</td>\n",
       "      <td>1</td>\n",
       "      <td>0</td>\n",
       "      <td>0</td>\n",
       "      <td>0</td>\n",
       "      <td>0</td>\n",
       "      <td>1</td>\n",
       "      <td>0</td>\n",
       "      <td>0</td>\n",
       "    </tr>\n",
       "    <tr>\n",
       "      <th>2</th>\n",
       "      <td>147.528809</td>\n",
       "      <td>227.0</td>\n",
       "      <td>2.269464</td>\n",
       "      <td>0</td>\n",
       "      <td>0</td>\n",
       "      <td>0</td>\n",
       "      <td>0</td>\n",
       "      <td>0</td>\n",
       "      <td>0</td>\n",
       "      <td>0</td>\n",
       "      <td>...</td>\n",
       "      <td>0</td>\n",
       "      <td>0</td>\n",
       "      <td>1</td>\n",
       "      <td>0</td>\n",
       "      <td>0</td>\n",
       "      <td>0</td>\n",
       "      <td>0</td>\n",
       "      <td>0</td>\n",
       "      <td>1</td>\n",
       "      <td>0</td>\n",
       "    </tr>\n",
       "    <tr>\n",
       "      <th>3</th>\n",
       "      <td>149.036240</td>\n",
       "      <td>226.0</td>\n",
       "      <td>1.559970</td>\n",
       "      <td>0</td>\n",
       "      <td>0</td>\n",
       "      <td>0</td>\n",
       "      <td>0</td>\n",
       "      <td>0</td>\n",
       "      <td>0</td>\n",
       "      <td>0</td>\n",
       "      <td>...</td>\n",
       "      <td>0</td>\n",
       "      <td>0</td>\n",
       "      <td>1</td>\n",
       "      <td>0</td>\n",
       "      <td>0</td>\n",
       "      <td>0</td>\n",
       "      <td>0</td>\n",
       "      <td>1</td>\n",
       "      <td>0</td>\n",
       "      <td>0</td>\n",
       "    </tr>\n",
       "    <tr>\n",
       "      <th>4</th>\n",
       "      <td>206.565048</td>\n",
       "      <td>228.0</td>\n",
       "      <td>2.037113</td>\n",
       "      <td>0</td>\n",
       "      <td>0</td>\n",
       "      <td>0</td>\n",
       "      <td>0</td>\n",
       "      <td>0</td>\n",
       "      <td>0</td>\n",
       "      <td>0</td>\n",
       "      <td>...</td>\n",
       "      <td>0</td>\n",
       "      <td>0</td>\n",
       "      <td>1</td>\n",
       "      <td>0</td>\n",
       "      <td>0</td>\n",
       "      <td>0</td>\n",
       "      <td>0</td>\n",
       "      <td>0</td>\n",
       "      <td>1</td>\n",
       "      <td>0</td>\n",
       "    </tr>\n",
       "    <tr>\n",
       "      <th>...</th>\n",
       "      <td>...</td>\n",
       "      <td>...</td>\n",
       "      <td>...</td>\n",
       "      <td>...</td>\n",
       "      <td>...</td>\n",
       "      <td>...</td>\n",
       "      <td>...</td>\n",
       "      <td>...</td>\n",
       "      <td>...</td>\n",
       "      <td>...</td>\n",
       "      <td>...</td>\n",
       "      <td>...</td>\n",
       "      <td>...</td>\n",
       "      <td>...</td>\n",
       "      <td>...</td>\n",
       "      <td>...</td>\n",
       "      <td>...</td>\n",
       "      <td>...</td>\n",
       "      <td>...</td>\n",
       "      <td>...</td>\n",
       "      <td>...</td>\n",
       "    </tr>\n",
       "    <tr>\n",
       "      <th>19831</th>\n",
       "      <td>249.702423</td>\n",
       "      <td>92.0</td>\n",
       "      <td>19.977131</td>\n",
       "      <td>0</td>\n",
       "      <td>0</td>\n",
       "      <td>0</td>\n",
       "      <td>0</td>\n",
       "      <td>0</td>\n",
       "      <td>0</td>\n",
       "      <td>0</td>\n",
       "      <td>...</td>\n",
       "      <td>0</td>\n",
       "      <td>1</td>\n",
       "      <td>0</td>\n",
       "      <td>1</td>\n",
       "      <td>0</td>\n",
       "      <td>0</td>\n",
       "      <td>0</td>\n",
       "      <td>0</td>\n",
       "      <td>0</td>\n",
       "      <td>1</td>\n",
       "    </tr>\n",
       "    <tr>\n",
       "      <th>19832</th>\n",
       "      <td>222.709396</td>\n",
       "      <td>120.0</td>\n",
       "      <td>18.289597</td>\n",
       "      <td>0</td>\n",
       "      <td>0</td>\n",
       "      <td>0</td>\n",
       "      <td>0</td>\n",
       "      <td>0</td>\n",
       "      <td>0</td>\n",
       "      <td>0</td>\n",
       "      <td>...</td>\n",
       "      <td>0</td>\n",
       "      <td>0</td>\n",
       "      <td>0</td>\n",
       "      <td>1</td>\n",
       "      <td>0</td>\n",
       "      <td>0</td>\n",
       "      <td>1</td>\n",
       "      <td>0</td>\n",
       "      <td>0</td>\n",
       "      <td>0</td>\n",
       "    </tr>\n",
       "    <tr>\n",
       "      <th>19833</th>\n",
       "      <td>228.990921</td>\n",
       "      <td>134.0</td>\n",
       "      <td>15.892071</td>\n",
       "      <td>0</td>\n",
       "      <td>0</td>\n",
       "      <td>0</td>\n",
       "      <td>0</td>\n",
       "      <td>0</td>\n",
       "      <td>0</td>\n",
       "      <td>0</td>\n",
       "      <td>...</td>\n",
       "      <td>0</td>\n",
       "      <td>0</td>\n",
       "      <td>0</td>\n",
       "      <td>1</td>\n",
       "      <td>0</td>\n",
       "      <td>0</td>\n",
       "      <td>1</td>\n",
       "      <td>0</td>\n",
       "      <td>0</td>\n",
       "      <td>0</td>\n",
       "    </tr>\n",
       "    <tr>\n",
       "      <th>19834</th>\n",
       "      <td>233.686356</td>\n",
       "      <td>149.0</td>\n",
       "      <td>25.691380</td>\n",
       "      <td>0</td>\n",
       "      <td>0</td>\n",
       "      <td>0</td>\n",
       "      <td>0</td>\n",
       "      <td>0</td>\n",
       "      <td>0</td>\n",
       "      <td>0</td>\n",
       "      <td>...</td>\n",
       "      <td>0</td>\n",
       "      <td>0</td>\n",
       "      <td>0</td>\n",
       "      <td>1</td>\n",
       "      <td>0</td>\n",
       "      <td>0</td>\n",
       "      <td>0</td>\n",
       "      <td>0</td>\n",
       "      <td>0</td>\n",
       "      <td>1</td>\n",
       "    </tr>\n",
       "    <tr>\n",
       "      <th>19835</th>\n",
       "      <td>227.563766</td>\n",
       "      <td>194.0</td>\n",
       "      <td>28.442411</td>\n",
       "      <td>0</td>\n",
       "      <td>0</td>\n",
       "      <td>0</td>\n",
       "      <td>0</td>\n",
       "      <td>0</td>\n",
       "      <td>0</td>\n",
       "      <td>0</td>\n",
       "      <td>...</td>\n",
       "      <td>0</td>\n",
       "      <td>0</td>\n",
       "      <td>0</td>\n",
       "      <td>0</td>\n",
       "      <td>1</td>\n",
       "      <td>0</td>\n",
       "      <td>0</td>\n",
       "      <td>0</td>\n",
       "      <td>0</td>\n",
       "      <td>1</td>\n",
       "    </tr>\n",
       "  </tbody>\n",
       "</table>\n",
       "<p>19836 rows × 27 columns</p>\n",
       "</div>"
      ],
      "text/plain": [
       "         asp_cont  elev_cont  slope_cont  E  ENE  ESE  N  NE  NNE  NNW  ...  \\\n",
       "0       90.000000      229.0    1.891522  1    0    0  0   0    0    0  ...   \n",
       "1      180.000000      230.0    0.535182  0    0    0  0   0    0    0  ...   \n",
       "2      147.528809      227.0    2.269464  0    0    0  0   0    0    0  ...   \n",
       "3      149.036240      226.0    1.559970  0    0    0  0   0    0    0  ...   \n",
       "4      206.565048      228.0    2.037113  0    0    0  0   0    0    0  ...   \n",
       "...           ...        ...         ... ..  ...  ... ..  ..  ...  ...  ...   \n",
       "19831  249.702423       92.0   19.977131  0    0    0  0   0    0    0  ...   \n",
       "19832  222.709396      120.0   18.289597  0    0    0  0   0    0    0  ...   \n",
       "19833  228.990921      134.0   15.892071  0    0    0  0   0    0    0  ...   \n",
       "19834  233.686356      149.0   25.691380  0    0    0  0   0    0    0  ...   \n",
       "19835  227.563766      194.0   28.442411  0    0    0  0   0    0    0  ...   \n",
       "\n",
       "       WNW  WSW  elev_high  elev_low  elev_med  elev_vhigh  slope_high  \\\n",
       "0        0    0          1         0         0           0           0   \n",
       "1        0    0          1         0         0           0           0   \n",
       "2        0    0          1         0         0           0           0   \n",
       "3        0    0          1         0         0           0           0   \n",
       "4        0    0          1         0         0           0           0   \n",
       "...    ...  ...        ...       ...       ...         ...         ...   \n",
       "19831    0    1          0         1         0           0           0   \n",
       "19832    0    0          0         1         0           0           1   \n",
       "19833    0    0          0         1         0           0           1   \n",
       "19834    0    0          0         1         0           0           0   \n",
       "19835    0    0          0         0         1           0           0   \n",
       "\n",
       "       slope_low  slope_med  slope_vhigh  \n",
       "0              0          1            0  \n",
       "1              1          0            0  \n",
       "2              0          1            0  \n",
       "3              1          0            0  \n",
       "4              0          1            0  \n",
       "...          ...        ...          ...  \n",
       "19831          0          0            1  \n",
       "19832          0          0            0  \n",
       "19833          0          0            0  \n",
       "19834          0          0            1  \n",
       "19835          0          0            1  \n",
       "\n",
       "[19836 rows x 27 columns]"
      ]
     },
     "execution_count": 23,
     "metadata": {},
     "output_type": "execute_result"
    }
   ],
   "source": [
    "# define X and y\n",
    "\n",
    "droppedcols=['fire','asp_cat','elev_cat','slope_cat']\n",
    "\n",
    "cols=[col for col in sm_geo.columns if col not in droppedcols]\n",
    "\n",
    "X=sm_geo[cols]\n",
    "y=sm_geo[['fire']]\n",
    "\n",
    "X"
   ]
  },
  {
   "cell_type": "code",
   "execution_count": 24,
   "id": "71bae5f0-873b-4636-aee1-878050c357c8",
   "metadata": {},
   "outputs": [
    {
     "name": "stdout",
     "output_type": "stream",
     "text": [
      "(19836, 27)\n",
      "(19836, 1)\n"
     ]
    }
   ],
   "source": [
    "print(X.shape)\n",
    "print(y.shape)"
   ]
  },
  {
   "cell_type": "code",
   "execution_count": 25,
   "id": "94964da9-3ad0-443a-b71f-c9f428eca67e",
   "metadata": {},
   "outputs": [
    {
     "data": {
      "text/plain": [
       "(19836,)"
      ]
     },
     "execution_count": 25,
     "metadata": {},
     "output_type": "execute_result"
    }
   ],
   "source": [
    "# reshape the y data into a 1D array for sklearn modeling\n",
    "\n",
    "y_array=np.ravel(a=y,order='C')\n",
    "y_array.shape"
   ]
  },
  {
   "cell_type": "code",
   "execution_count": 26,
   "id": "74b5f504-8d0d-4930-95dd-4ba4659dafa5",
   "metadata": {},
   "outputs": [
    {
     "data": {
      "text/plain": [
       "fire    0.5\n",
       "dtype: float64"
      ]
     },
     "execution_count": 26,
     "metadata": {},
     "output_type": "execute_result"
    }
   ],
   "source": [
    "y.mean()"
   ]
  },
  {
   "cell_type": "markdown",
   "id": "8c79eadf-bda4-475d-bea4-205dbf04b47a",
   "metadata": {},
   "source": [
    "The dataset has $50{\\%}$ of the landscape enduring a wildfire. I call this the *base rate*, as in, what would a 'dumb model' predict if an area is predicted to have a fire or not."
   ]
  },
  {
   "cell_type": "code",
   "execution_count": 27,
   "id": "0f8d9519-b178-4726-a6ab-eca6bf02ef87",
   "metadata": {},
   "outputs": [
    {
     "data": {
      "image/png": "[encoded data removed]",
      "text/plain": [
       "<Figure size 1000x700 with 2 Axes>"
      ]
     },
     "metadata": {},
     "output_type": "display_data"
    }
   ],
   "source": [
    "plt.figure(figsize=(10,7))\n",
    "mask=np.triu(np.ones_like(X.corr(),dtype=bool))\n",
    "sns.heatmap(data=X.corr(),\n",
    "            annot=True, \n",
    "            fmt='.1f',\n",
    "            cmap='coolwarm',\n",
    "            vmin=-1,vmax=1,\n",
    "            mask=mask)\n",
    "plt.show()"
   ]
  },
  {
   "cell_type": "markdown",
   "id": "41827867-e296-47c6-8323-0f4493e419a7",
   "metadata": {},
   "source": [
    "There is no collinearity between aspect, slope, and elevation. Any collinearity between aspect bins and `asp_cont` is soley because aspects of `NW` and `NNW` are the highest aspect values (i.e., closest to 360 degrees). Same is true for `elev_cont`: `low` and `vhigh` elevations are negatively and positively correlated with the continuous elevation column. Slope is also predictably correlated: the categorical slopes are correlated with `slope_cont`. Categorical elevation and slopes are both correlated with `elev_cont` and `slope_cont`. All of this is to be expected. I should drop the categorical elevations and slopes, but will run some models first."
   ]
  },
  {
   "cell_type": "markdown",
   "id": "ad0585f0-dd5f-4f79-ba32-59f9a89ece6c",
   "metadata": {
    "tags": []
   },
   "source": [
    "## Modeling"
   ]
  },
  {
   "cell_type": "markdown",
   "id": "c6487529-988f-406a-ba74-4f9780f1191f",
   "metadata": {},
   "source": [
    "### Basic logistic regression:"
   ]
  },
  {
   "cell_type": "markdown",
   "id": "8d4dc584-c2c9-46fe-bdcd-a81eebc6105f",
   "metadata": {},
   "source": [
    "#### `statsmodels`:"
   ]
  },
  {
   "cell_type": "code",
   "execution_count": 28,
   "id": "884d3d97-9577-436a-adc8-3f1f166db996",
   "metadata": {},
   "outputs": [
    {
     "data": {
      "text/html": [
       "<div>\n",
       "<style scoped>\n",
       "    .dataframe tbody tr th:only-of-type {\n",
       "        vertical-align: middle;\n",
       "    }\n",
       "\n",
       "    .dataframe tbody tr th {\n",
       "        vertical-align: top;\n",
       "    }\n",
       "\n",
       "    .dataframe thead th {\n",
       "        text-align: right;\n",
       "    }\n",
       "</style>\n",
       "<table border=\"1\" class=\"dataframe\">\n",
       "  <thead>\n",
       "    <tr style=\"text-align: right;\">\n",
       "      <th></th>\n",
       "      <th>const</th>\n",
       "      <th>asp_cont</th>\n",
       "      <th>elev_cont</th>\n",
       "      <th>slope_cont</th>\n",
       "      <th>E</th>\n",
       "      <th>ENE</th>\n",
       "      <th>ESE</th>\n",
       "      <th>N</th>\n",
       "      <th>NE</th>\n",
       "      <th>NNE</th>\n",
       "      <th>...</th>\n",
       "      <th>WNW</th>\n",
       "      <th>WSW</th>\n",
       "      <th>elev_high</th>\n",
       "      <th>elev_low</th>\n",
       "      <th>elev_med</th>\n",
       "      <th>elev_vhigh</th>\n",
       "      <th>slope_high</th>\n",
       "      <th>slope_low</th>\n",
       "      <th>slope_med</th>\n",
       "      <th>slope_vhigh</th>\n",
       "    </tr>\n",
       "  </thead>\n",
       "  <tbody>\n",
       "    <tr>\n",
       "      <th>0</th>\n",
       "      <td>1.0</td>\n",
       "      <td>90.000000</td>\n",
       "      <td>229.0</td>\n",
       "      <td>1.891522</td>\n",
       "      <td>1</td>\n",
       "      <td>0</td>\n",
       "      <td>0</td>\n",
       "      <td>0</td>\n",
       "      <td>0</td>\n",
       "      <td>0</td>\n",
       "      <td>...</td>\n",
       "      <td>0</td>\n",
       "      <td>0</td>\n",
       "      <td>1</td>\n",
       "      <td>0</td>\n",
       "      <td>0</td>\n",
       "      <td>0</td>\n",
       "      <td>0</td>\n",
       "      <td>0</td>\n",
       "      <td>1</td>\n",
       "      <td>0</td>\n",
       "    </tr>\n",
       "    <tr>\n",
       "      <th>1</th>\n",
       "      <td>1.0</td>\n",
       "      <td>180.000000</td>\n",
       "      <td>230.0</td>\n",
       "      <td>0.535182</td>\n",
       "      <td>0</td>\n",
       "      <td>0</td>\n",
       "      <td>0</td>\n",
       "      <td>0</td>\n",
       "      <td>0</td>\n",
       "      <td>0</td>\n",
       "      <td>...</td>\n",
       "      <td>0</td>\n",
       "      <td>0</td>\n",
       "      <td>1</td>\n",
       "      <td>0</td>\n",
       "      <td>0</td>\n",
       "      <td>0</td>\n",
       "      <td>0</td>\n",
       "      <td>1</td>\n",
       "      <td>0</td>\n",
       "      <td>0</td>\n",
       "    </tr>\n",
       "    <tr>\n",
       "      <th>2</th>\n",
       "      <td>1.0</td>\n",
       "      <td>147.528809</td>\n",
       "      <td>227.0</td>\n",
       "      <td>2.269464</td>\n",
       "      <td>0</td>\n",
       "      <td>0</td>\n",
       "      <td>0</td>\n",
       "      <td>0</td>\n",
       "      <td>0</td>\n",
       "      <td>0</td>\n",
       "      <td>...</td>\n",
       "      <td>0</td>\n",
       "      <td>0</td>\n",
       "      <td>1</td>\n",
       "      <td>0</td>\n",
       "      <td>0</td>\n",
       "      <td>0</td>\n",
       "      <td>0</td>\n",
       "      <td>0</td>\n",
       "      <td>1</td>\n",
       "      <td>0</td>\n",
       "    </tr>\n",
       "    <tr>\n",
       "      <th>3</th>\n",
       "      <td>1.0</td>\n",
       "      <td>149.036240</td>\n",
       "      <td>226.0</td>\n",
       "      <td>1.559970</td>\n",
       "      <td>0</td>\n",
       "      <td>0</td>\n",
       "      <td>0</td>\n",
       "      <td>0</td>\n",
       "      <td>0</td>\n",
       "      <td>0</td>\n",
       "      <td>...</td>\n",
       "      <td>0</td>\n",
       "      <td>0</td>\n",
       "      <td>1</td>\n",
       "      <td>0</td>\n",
       "      <td>0</td>\n",
       "      <td>0</td>\n",
       "      <td>0</td>\n",
       "      <td>1</td>\n",
       "      <td>0</td>\n",
       "      <td>0</td>\n",
       "    </tr>\n",
       "    <tr>\n",
       "      <th>4</th>\n",
       "      <td>1.0</td>\n",
       "      <td>206.565048</td>\n",
       "      <td>228.0</td>\n",
       "      <td>2.037113</td>\n",
       "      <td>0</td>\n",
       "      <td>0</td>\n",
       "      <td>0</td>\n",
       "      <td>0</td>\n",
       "      <td>0</td>\n",
       "      <td>0</td>\n",
       "      <td>...</td>\n",
       "      <td>0</td>\n",
       "      <td>0</td>\n",
       "      <td>1</td>\n",
       "      <td>0</td>\n",
       "      <td>0</td>\n",
       "      <td>0</td>\n",
       "      <td>0</td>\n",
       "      <td>0</td>\n",
       "      <td>1</td>\n",
       "      <td>0</td>\n",
       "    </tr>\n",
       "  </tbody>\n",
       "</table>\n",
       "<p>5 rows × 28 columns</p>\n",
       "</div>"
      ],
      "text/plain": [
       "   const    asp_cont  elev_cont  slope_cont  E  ENE  ESE  N  NE  NNE  ...  \\\n",
       "0    1.0   90.000000      229.0    1.891522  1    0    0  0   0    0  ...   \n",
       "1    1.0  180.000000      230.0    0.535182  0    0    0  0   0    0  ...   \n",
       "2    1.0  147.528809      227.0    2.269464  0    0    0  0   0    0  ...   \n",
       "3    1.0  149.036240      226.0    1.559970  0    0    0  0   0    0  ...   \n",
       "4    1.0  206.565048      228.0    2.037113  0    0    0  0   0    0  ...   \n",
       "\n",
       "   WNW  WSW  elev_high  elev_low  elev_med  elev_vhigh  slope_high  slope_low  \\\n",
       "0    0    0          1         0         0           0           0          0   \n",
       "1    0    0          1         0         0           0           0          1   \n",
       "2    0    0          1         0         0           0           0          0   \n",
       "3    0    0          1         0         0           0           0          1   \n",
       "4    0    0          1         0         0           0           0          0   \n",
       "\n",
       "   slope_med  slope_vhigh  \n",
       "0          1            0  \n",
       "1          0            0  \n",
       "2          1            0  \n",
       "3          0            0  \n",
       "4          1            0  \n",
       "\n",
       "[5 rows x 28 columns]"
      ]
     },
     "execution_count": 28,
     "metadata": {},
     "output_type": "execute_result"
    }
   ],
   "source": [
    "# add constant to prepare for statsmodels\n",
    "\n",
    "X_withconstant=sm.add_constant(X)\n",
    "X_withconstant.head()"
   ]
  },
  {
   "cell_type": "code",
   "execution_count": 29,
   "id": "fd930cae-7df2-461f-9e44-d27187e3c009",
   "metadata": {},
   "outputs": [],
   "source": [
    "X_withconstant_binary=X_withconstant.drop(['asp_cont','elev_cont','slope_cont'],axis=1)"
   ]
  },
  {
   "cell_type": "code",
   "execution_count": 30,
   "id": "d665d5bc-3cd1-4ae8-abf1-3b88cd850f14",
   "metadata": {},
   "outputs": [
    {
     "name": "stdout",
     "output_type": "stream",
     "text": [
      "<class 'pandas.core.frame.DataFrame'>\n",
      "RangeIndex: 19836 entries, 0 to 19835\n",
      "Data columns (total 25 columns):\n",
      " #   Column       Non-Null Count  Dtype  \n",
      "---  ------       --------------  -----  \n",
      " 0   const        19836 non-null  float64\n",
      " 1   E            19836 non-null  uint8  \n",
      " 2   ENE          19836 non-null  uint8  \n",
      " 3   ESE          19836 non-null  uint8  \n",
      " 4   N            19836 non-null  uint8  \n",
      " 5   NE           19836 non-null  uint8  \n",
      " 6   NNE          19836 non-null  uint8  \n",
      " 7   NNW          19836 non-null  uint8  \n",
      " 8   NW           19836 non-null  uint8  \n",
      " 9   S            19836 non-null  uint8  \n",
      " 10  SE           19836 non-null  uint8  \n",
      " 11  SSE          19836 non-null  uint8  \n",
      " 12  SSW          19836 non-null  uint8  \n",
      " 13  SW           19836 non-null  uint8  \n",
      " 14  W            19836 non-null  uint8  \n",
      " 15  WNW          19836 non-null  uint8  \n",
      " 16  WSW          19836 non-null  uint8  \n",
      " 17  elev_high    19836 non-null  uint8  \n",
      " 18  elev_low     19836 non-null  uint8  \n",
      " 19  elev_med     19836 non-null  uint8  \n",
      " 20  elev_vhigh   19836 non-null  uint8  \n",
      " 21  slope_high   19836 non-null  uint8  \n",
      " 22  slope_low    19836 non-null  uint8  \n",
      " 23  slope_med    19836 non-null  uint8  \n",
      " 24  slope_vhigh  19836 non-null  uint8  \n",
      "dtypes: float64(1), uint8(24)\n",
      "memory usage: 620.0 KB\n"
     ]
    }
   ],
   "source": [
    "X_withconstant_binary.info()"
   ]
  },
  {
   "cell_type": "code",
   "execution_count": 31,
   "id": "dbe01405-1ad4-4de2-bbfa-28d374afe3a8",
   "metadata": {},
   "outputs": [
    {
     "name": "stdout",
     "output_type": "stream",
     "text": [
      "Warning: Maximum number of iterations has been exceeded.\n",
      "         Current function value: 0.147414\n",
      "         Iterations: 35\n"
     ]
    },
    {
     "name": "stderr",
     "output_type": "stream",
     "text": [
      "/Applications/Anaconda/anaconda3/envs/sklearn/lib/python3.9/site-packages/statsmodels/base/model.py:604: ConvergenceWarning: Maximum Likelihood optimization failed to converge. Check mle_retvals\n",
      "  warnings.warn(\"Maximum Likelihood optimization failed to \"\n"
     ]
    },
    {
     "data": {
      "text/html": [
       "<table class=\"simpletable\">\n",
       "<caption>Logit Regression Results</caption>\n",
       "<tr>\n",
       "  <th>Dep. Variable:</th>         <td>fire</td>       <th>  No. Observations:  </th>  <td> 19836</td> \n",
       "</tr>\n",
       "<tr>\n",
       "  <th>Model:</th>                 <td>Logit</td>      <th>  Df Residuals:      </th>  <td> 19811</td> \n",
       "</tr>\n",
       "<tr>\n",
       "  <th>Method:</th>                 <td>MLE</td>       <th>  Df Model:          </th>  <td>    24</td> \n",
       "</tr>\n",
       "<tr>\n",
       "  <th>Date:</th>            <td>Fri, 07 Apr 2023</td> <th>  Pseudo R-squ.:     </th>  <td>0.7873</td> \n",
       "</tr>\n",
       "<tr>\n",
       "  <th>Time:</th>                <td>23:27:57</td>     <th>  Log-Likelihood:    </th> <td> -2924.1</td>\n",
       "</tr>\n",
       "<tr>\n",
       "  <th>converged:</th>             <td>False</td>      <th>  LL-Null:           </th> <td> -13749.</td>\n",
       "</tr>\n",
       "<tr>\n",
       "  <th>Covariance Type:</th>     <td>nonrobust</td>    <th>  LLR p-value:       </th>  <td> 0.000</td> \n",
       "</tr>\n",
       "</table>\n",
       "<table class=\"simpletable\">\n",
       "<tr>\n",
       "       <td></td>          <th>coef</th>     <th>std err</th>      <th>z</th>      <th>P>|z|</th>  <th>[0.025</th>    <th>0.975]</th>  \n",
       "</tr>\n",
       "<tr>\n",
       "  <th>const</th>       <td>    3.4033</td> <td>      nan</td> <td>      nan</td> <td>   nan</td> <td>      nan</td> <td>      nan</td>\n",
       "</tr>\n",
       "<tr>\n",
       "  <th>E</th>           <td>   -0.0813</td> <td> 6.17e+06</td> <td>-1.32e-08</td> <td> 1.000</td> <td>-1.21e+07</td> <td> 1.21e+07</td>\n",
       "</tr>\n",
       "<tr>\n",
       "  <th>ENE</th>         <td>   -0.5071</td> <td> 6.18e+06</td> <td>-8.21e-08</td> <td> 1.000</td> <td>-1.21e+07</td> <td> 1.21e+07</td>\n",
       "</tr>\n",
       "<tr>\n",
       "  <th>ESE</th>         <td>    0.1251</td> <td> 6.13e+06</td> <td> 2.04e-08</td> <td> 1.000</td> <td> -1.2e+07</td> <td>  1.2e+07</td>\n",
       "</tr>\n",
       "<tr>\n",
       "  <th>N</th>           <td>   -0.6563</td> <td> 6.11e+06</td> <td>-1.07e-07</td> <td> 1.000</td> <td> -1.2e+07</td> <td>  1.2e+07</td>\n",
       "</tr>\n",
       "<tr>\n",
       "  <th>NE</th>          <td>   -0.4147</td> <td> 6.17e+06</td> <td>-6.72e-08</td> <td> 1.000</td> <td>-1.21e+07</td> <td> 1.21e+07</td>\n",
       "</tr>\n",
       "<tr>\n",
       "  <th>NNE</th>         <td>   -0.8274</td> <td> 6.14e+06</td> <td>-1.35e-07</td> <td> 1.000</td> <td> -1.2e+07</td> <td>  1.2e+07</td>\n",
       "</tr>\n",
       "<tr>\n",
       "  <th>NNW</th>         <td>   -0.3884</td> <td> 6.17e+06</td> <td> -6.3e-08</td> <td> 1.000</td> <td>-1.21e+07</td> <td> 1.21e+07</td>\n",
       "</tr>\n",
       "<tr>\n",
       "  <th>NW</th>          <td>   -0.1040</td> <td> 6.13e+06</td> <td> -1.7e-08</td> <td> 1.000</td> <td> -1.2e+07</td> <td>  1.2e+07</td>\n",
       "</tr>\n",
       "<tr>\n",
       "  <th>S</th>           <td>    1.1339</td> <td> 6.14e+06</td> <td> 1.85e-07</td> <td> 1.000</td> <td> -1.2e+07</td> <td>  1.2e+07</td>\n",
       "</tr>\n",
       "<tr>\n",
       "  <th>SE</th>          <td>    0.7937</td> <td> 6.18e+06</td> <td> 1.28e-07</td> <td> 1.000</td> <td>-1.21e+07</td> <td> 1.21e+07</td>\n",
       "</tr>\n",
       "<tr>\n",
       "  <th>SSE</th>         <td>    1.1780</td> <td> 6.16e+06</td> <td> 1.91e-07</td> <td> 1.000</td> <td>-1.21e+07</td> <td> 1.21e+07</td>\n",
       "</tr>\n",
       "<tr>\n",
       "  <th>SSW</th>         <td>    0.9348</td> <td> 6.13e+06</td> <td> 1.53e-07</td> <td> 1.000</td> <td> -1.2e+07</td> <td>  1.2e+07</td>\n",
       "</tr>\n",
       "<tr>\n",
       "  <th>SW</th>          <td>    0.7599</td> <td> 6.09e+06</td> <td> 1.25e-07</td> <td> 1.000</td> <td>-1.19e+07</td> <td> 1.19e+07</td>\n",
       "</tr>\n",
       "<tr>\n",
       "  <th>W</th>           <td>    0.5685</td> <td> 6.13e+06</td> <td> 9.28e-08</td> <td> 1.000</td> <td> -1.2e+07</td> <td>  1.2e+07</td>\n",
       "</tr>\n",
       "<tr>\n",
       "  <th>WNW</th>         <td>    0.3592</td> <td> 6.13e+06</td> <td> 5.86e-08</td> <td> 1.000</td> <td> -1.2e+07</td> <td>  1.2e+07</td>\n",
       "</tr>\n",
       "<tr>\n",
       "  <th>WSW</th>         <td>    0.5293</td> <td>  6.1e+06</td> <td> 8.67e-08</td> <td> 1.000</td> <td> -1.2e+07</td> <td>  1.2e+07</td>\n",
       "</tr>\n",
       "<tr>\n",
       "  <th>elev_high</th>   <td>   -4.6844</td> <td> 5.34e+06</td> <td>-8.78e-07</td> <td> 1.000</td> <td>-1.05e+07</td> <td> 1.05e+07</td>\n",
       "</tr>\n",
       "<tr>\n",
       "  <th>elev_low</th>    <td>   -4.5733</td> <td>  5.4e+06</td> <td>-8.46e-07</td> <td> 1.000</td> <td>-1.06e+07</td> <td> 1.06e+07</td>\n",
       "</tr>\n",
       "<tr>\n",
       "  <th>elev_med</th>    <td>   -5.9449</td> <td> 5.48e+06</td> <td>-1.08e-06</td> <td> 1.000</td> <td>-1.07e+07</td> <td> 1.07e+07</td>\n",
       "</tr>\n",
       "<tr>\n",
       "  <th>elev_vhigh</th>  <td>   18.6059</td> <td>  5.5e+06</td> <td> 3.39e-06</td> <td> 1.000</td> <td>-1.08e+07</td> <td> 1.08e+07</td>\n",
       "</tr>\n",
       "<tr>\n",
       "  <th>slope_high</th>  <td>    2.7269</td> <td>      nan</td> <td>      nan</td> <td>   nan</td> <td>      nan</td> <td>      nan</td>\n",
       "</tr>\n",
       "<tr>\n",
       "  <th>slope_low</th>   <td>   -3.5361</td> <td>      nan</td> <td>      nan</td> <td>   nan</td> <td>      nan</td> <td>      nan</td>\n",
       "</tr>\n",
       "<tr>\n",
       "  <th>slope_med</th>   <td>   -1.2367</td> <td>      nan</td> <td>      nan</td> <td>   nan</td> <td>      nan</td> <td>      nan</td>\n",
       "</tr>\n",
       "<tr>\n",
       "  <th>slope_vhigh</th> <td>    5.4492</td> <td>      nan</td> <td>      nan</td> <td>   nan</td> <td>      nan</td> <td>      nan</td>\n",
       "</tr>\n",
       "</table><br/><br/>Possibly complete quasi-separation: A fraction 0.25 of observations can be<br/>perfectly predicted. This might indicate that there is complete<br/>quasi-separation. In this case some parameters will not be identified."
      ],
      "text/plain": [
       "<class 'statsmodels.iolib.summary.Summary'>\n",
       "\"\"\"\n",
       "                           Logit Regression Results                           \n",
       "==============================================================================\n",
       "Dep. Variable:                   fire   No. Observations:                19836\n",
       "Model:                          Logit   Df Residuals:                    19811\n",
       "Method:                           MLE   Df Model:                           24\n",
       "Date:                Fri, 07 Apr 2023   Pseudo R-squ.:                  0.7873\n",
       "Time:                        23:27:57   Log-Likelihood:                -2924.1\n",
       "converged:                      False   LL-Null:                       -13749.\n",
       "Covariance Type:            nonrobust   LLR p-value:                     0.000\n",
       "===============================================================================\n",
       "                  coef    std err          z      P>|z|      [0.025      0.975]\n",
       "-------------------------------------------------------------------------------\n",
       "const           3.4033        nan        nan        nan         nan         nan\n",
       "E              -0.0813   6.17e+06  -1.32e-08      1.000   -1.21e+07    1.21e+07\n",
       "ENE            -0.5071   6.18e+06  -8.21e-08      1.000   -1.21e+07    1.21e+07\n",
       "ESE             0.1251   6.13e+06   2.04e-08      1.000    -1.2e+07     1.2e+07\n",
       "N              -0.6563   6.11e+06  -1.07e-07      1.000    -1.2e+07     1.2e+07\n",
       "NE             -0.4147   6.17e+06  -6.72e-08      1.000   -1.21e+07    1.21e+07\n",
       "NNE            -0.8274   6.14e+06  -1.35e-07      1.000    -1.2e+07     1.2e+07\n",
       "NNW            -0.3884   6.17e+06   -6.3e-08      1.000   -1.21e+07    1.21e+07\n",
       "NW             -0.1040   6.13e+06   -1.7e-08      1.000    -1.2e+07     1.2e+07\n",
       "S               1.1339   6.14e+06   1.85e-07      1.000    -1.2e+07     1.2e+07\n",
       "SE              0.7937   6.18e+06   1.28e-07      1.000   -1.21e+07    1.21e+07\n",
       "SSE             1.1780   6.16e+06   1.91e-07      1.000   -1.21e+07    1.21e+07\n",
       "SSW             0.9348   6.13e+06   1.53e-07      1.000    -1.2e+07     1.2e+07\n",
       "SW              0.7599   6.09e+06   1.25e-07      1.000   -1.19e+07    1.19e+07\n",
       "W               0.5685   6.13e+06   9.28e-08      1.000    -1.2e+07     1.2e+07\n",
       "WNW             0.3592   6.13e+06   5.86e-08      1.000    -1.2e+07     1.2e+07\n",
       "WSW             0.5293    6.1e+06   8.67e-08      1.000    -1.2e+07     1.2e+07\n",
       "elev_high      -4.6844   5.34e+06  -8.78e-07      1.000   -1.05e+07    1.05e+07\n",
       "elev_low       -4.5733    5.4e+06  -8.46e-07      1.000   -1.06e+07    1.06e+07\n",
       "elev_med       -5.9449   5.48e+06  -1.08e-06      1.000   -1.07e+07    1.07e+07\n",
       "elev_vhigh     18.6059    5.5e+06   3.39e-06      1.000   -1.08e+07    1.08e+07\n",
       "slope_high      2.7269        nan        nan        nan         nan         nan\n",
       "slope_low      -3.5361        nan        nan        nan         nan         nan\n",
       "slope_med      -1.2367        nan        nan        nan         nan         nan\n",
       "slope_vhigh     5.4492        nan        nan        nan         nan         nan\n",
       "===============================================================================\n",
       "\n",
       "Possibly complete quasi-separation: A fraction 0.25 of observations can be\n",
       "perfectly predicted. This might indicate that there is complete\n",
       "quasi-separation. In this case some parameters will not be identified.\n",
       "\"\"\""
      ]
     },
     "execution_count": 31,
     "metadata": {},
     "output_type": "execute_result"
    }
   ],
   "source": [
    "# instantiate model with binary variables\n",
    "logreg_sm_binary=sm.Logit(y,X_withconstant_binary)\n",
    "\n",
    "# fit the model\n",
    "logreg_sm_binary_results=logreg_sm_binary.fit()\n",
    "\n",
    "# summary\n",
    "logreg_sm_binary_results.summary()"
   ]
  },
  {
   "cell_type": "code",
   "execution_count": 32,
   "id": "751eb8f6-4f00-4914-9412-0a6f53de3222",
   "metadata": {},
   "outputs": [
    {
     "data": {
      "text/html": [
       "<div>\n",
       "<style scoped>\n",
       "    .dataframe tbody tr th:only-of-type {\n",
       "        vertical-align: middle;\n",
       "    }\n",
       "\n",
       "    .dataframe tbody tr th {\n",
       "        vertical-align: top;\n",
       "    }\n",
       "\n",
       "    .dataframe thead th {\n",
       "        text-align: right;\n",
       "    }\n",
       "</style>\n",
       "<table border=\"1\" class=\"dataframe\">\n",
       "  <thead>\n",
       "    <tr style=\"text-align: right;\">\n",
       "      <th></th>\n",
       "      <th>beta_name</th>\n",
       "      <th>beta_logOdds</th>\n",
       "      <th>beta_odds</th>\n",
       "    </tr>\n",
       "  </thead>\n",
       "  <tbody>\n",
       "    <tr>\n",
       "      <th>0</th>\n",
       "      <td>elev_vhigh</td>\n",
       "      <td>18.605948</td>\n",
       "      <td>1.203541e+08</td>\n",
       "    </tr>\n",
       "    <tr>\n",
       "      <th>1</th>\n",
       "      <td>slope_vhigh</td>\n",
       "      <td>5.449223</td>\n",
       "      <td>2.325774e+02</td>\n",
       "    </tr>\n",
       "    <tr>\n",
       "      <th>2</th>\n",
       "      <td>const</td>\n",
       "      <td>3.403293</td>\n",
       "      <td>3.006293e+01</td>\n",
       "    </tr>\n",
       "    <tr>\n",
       "      <th>3</th>\n",
       "      <td>slope_high</td>\n",
       "      <td>2.726863</td>\n",
       "      <td>1.528487e+01</td>\n",
       "    </tr>\n",
       "    <tr>\n",
       "      <th>4</th>\n",
       "      <td>SSE</td>\n",
       "      <td>1.178004</td>\n",
       "      <td>3.247886e+00</td>\n",
       "    </tr>\n",
       "    <tr>\n",
       "      <th>5</th>\n",
       "      <td>S</td>\n",
       "      <td>1.133871</td>\n",
       "      <td>3.107664e+00</td>\n",
       "    </tr>\n",
       "    <tr>\n",
       "      <th>6</th>\n",
       "      <td>SSW</td>\n",
       "      <td>0.934801</td>\n",
       "      <td>2.546707e+00</td>\n",
       "    </tr>\n",
       "    <tr>\n",
       "      <th>7</th>\n",
       "      <td>SE</td>\n",
       "      <td>0.793725</td>\n",
       "      <td>2.211620e+00</td>\n",
       "    </tr>\n",
       "    <tr>\n",
       "      <th>8</th>\n",
       "      <td>SW</td>\n",
       "      <td>0.759857</td>\n",
       "      <td>2.137970e+00</td>\n",
       "    </tr>\n",
       "    <tr>\n",
       "      <th>9</th>\n",
       "      <td>W</td>\n",
       "      <td>0.568527</td>\n",
       "      <td>1.765664e+00</td>\n",
       "    </tr>\n",
       "    <tr>\n",
       "      <th>10</th>\n",
       "      <td>WSW</td>\n",
       "      <td>0.529350</td>\n",
       "      <td>1.697828e+00</td>\n",
       "    </tr>\n",
       "    <tr>\n",
       "      <th>11</th>\n",
       "      <td>WNW</td>\n",
       "      <td>0.359199</td>\n",
       "      <td>1.432182e+00</td>\n",
       "    </tr>\n",
       "    <tr>\n",
       "      <th>12</th>\n",
       "      <td>ESE</td>\n",
       "      <td>0.125145</td>\n",
       "      <td>1.133313e+00</td>\n",
       "    </tr>\n",
       "    <tr>\n",
       "      <th>13</th>\n",
       "      <td>E</td>\n",
       "      <td>-0.081340</td>\n",
       "      <td>9.218801e-01</td>\n",
       "    </tr>\n",
       "    <tr>\n",
       "      <th>14</th>\n",
       "      <td>NW</td>\n",
       "      <td>-0.103973</td>\n",
       "      <td>9.012497e-01</td>\n",
       "    </tr>\n",
       "    <tr>\n",
       "      <th>15</th>\n",
       "      <td>NNW</td>\n",
       "      <td>-0.388357</td>\n",
       "      <td>6.781701e-01</td>\n",
       "    </tr>\n",
       "    <tr>\n",
       "      <th>16</th>\n",
       "      <td>NE</td>\n",
       "      <td>-0.414684</td>\n",
       "      <td>6.605491e-01</td>\n",
       "    </tr>\n",
       "    <tr>\n",
       "      <th>17</th>\n",
       "      <td>ENE</td>\n",
       "      <td>-0.507109</td>\n",
       "      <td>6.022342e-01</td>\n",
       "    </tr>\n",
       "    <tr>\n",
       "      <th>18</th>\n",
       "      <td>N</td>\n",
       "      <td>-0.656287</td>\n",
       "      <td>5.187739e-01</td>\n",
       "    </tr>\n",
       "    <tr>\n",
       "      <th>19</th>\n",
       "      <td>NNE</td>\n",
       "      <td>-0.827434</td>\n",
       "      <td>4.371694e-01</td>\n",
       "    </tr>\n",
       "    <tr>\n",
       "      <th>20</th>\n",
       "      <td>slope_med</td>\n",
       "      <td>-1.236659</td>\n",
       "      <td>2.903526e-01</td>\n",
       "    </tr>\n",
       "    <tr>\n",
       "      <th>21</th>\n",
       "      <td>slope_low</td>\n",
       "      <td>-3.536134</td>\n",
       "      <td>2.912572e-02</td>\n",
       "    </tr>\n",
       "    <tr>\n",
       "      <th>22</th>\n",
       "      <td>elev_low</td>\n",
       "      <td>-4.573328</td>\n",
       "      <td>1.032354e-02</td>\n",
       "    </tr>\n",
       "    <tr>\n",
       "      <th>23</th>\n",
       "      <td>elev_high</td>\n",
       "      <td>-4.684428</td>\n",
       "      <td>9.238017e-03</td>\n",
       "    </tr>\n",
       "    <tr>\n",
       "      <th>24</th>\n",
       "      <td>elev_med</td>\n",
       "      <td>-5.944895</td>\n",
       "      <td>2.619177e-03</td>\n",
       "    </tr>\n",
       "  </tbody>\n",
       "</table>\n",
       "</div>"
      ],
      "text/plain": [
       "      beta_name  beta_logOdds     beta_odds\n",
       "0    elev_vhigh     18.605948  1.203541e+08\n",
       "1   slope_vhigh      5.449223  2.325774e+02\n",
       "2         const      3.403293  3.006293e+01\n",
       "3    slope_high      2.726863  1.528487e+01\n",
       "4           SSE      1.178004  3.247886e+00\n",
       "5             S      1.133871  3.107664e+00\n",
       "6           SSW      0.934801  2.546707e+00\n",
       "7            SE      0.793725  2.211620e+00\n",
       "8            SW      0.759857  2.137970e+00\n",
       "9             W      0.568527  1.765664e+00\n",
       "10          WSW      0.529350  1.697828e+00\n",
       "11          WNW      0.359199  1.432182e+00\n",
       "12          ESE      0.125145  1.133313e+00\n",
       "13            E     -0.081340  9.218801e-01\n",
       "14           NW     -0.103973  9.012497e-01\n",
       "15          NNW     -0.388357  6.781701e-01\n",
       "16           NE     -0.414684  6.605491e-01\n",
       "17          ENE     -0.507109  6.022342e-01\n",
       "18            N     -0.656287  5.187739e-01\n",
       "19          NNE     -0.827434  4.371694e-01\n",
       "20    slope_med     -1.236659  2.903526e-01\n",
       "21    slope_low     -3.536134  2.912572e-02\n",
       "22     elev_low     -4.573328  1.032354e-02\n",
       "23    elev_high     -4.684428  9.238017e-03\n",
       "24     elev_med     -5.944895  2.619177e-03"
      ]
     },
     "execution_count": 32,
     "metadata": {},
     "output_type": "execute_result"
    }
   ],
   "source": [
    "# make the results from the statsmodels logistic regresion\n",
    "# into a dataframe to compare betas.\n",
    "# make sure to raise e to the beta to convert to odds\n",
    "\n",
    "results=logreg_sm_binary_results.params\n",
    "col_names=list(X_withconstant_binary.columns)\n",
    "col_vals=[]\n",
    "\n",
    "for i in range(len(results)):\n",
    "    col_vals.append(results[i])\n",
    "    \n",
    "results_=list(zip(col_names,col_vals))\n",
    "results_df=pd.DataFrame(results_,columns=['beta_name','beta_logOdds'])\n",
    "\n",
    "results_df['beta_odds']=results_df['beta_logOdds'].apply(np.exp)\n",
    "results_df=results_df.sort_values('beta_odds',ascending=False)\n",
    "results_df=results_df.reset_index()\n",
    "results_df=results_df.drop(labels=['index'],axis=1)\n",
    "\n",
    "results_df.sort_values('beta_odds',ascending=False)"
   ]
  },
  {
   "cell_type": "markdown",
   "id": "df5ffbc5-51f9-4035-ae6f-59da9f85ab63",
   "metadata": {},
   "source": [
    "Using the binary columns, being at very high elevations, facing south or west, and having high slopes, give the highest probability of a fire occurring. However, the p-value is very high, so this result is not significant."
   ]
  },
  {
   "cell_type": "markdown",
   "id": "d206f09b-f0ff-4463-86a8-6811da27d3b9",
   "metadata": {},
   "source": [
    "What if I run the model with only the continuous variables?\n",
    "\n",
    "**But first, we need to scale the data:**"
   ]
  },
  {
   "cell_type": "code",
   "execution_count": 33,
   "id": "d0b608a4-b4f2-4368-9b04-240399af7078",
   "metadata": {
    "tags": []
   },
   "outputs": [],
   "source": [
    "# setup X for continuous columns\n",
    "\n",
    "droppedcols=['E','ENE','ESE','N','NE','NNE','NNW','NW','S','SE','SSE','SSW','SW','W','WNW','WSW',\n",
    "             'elev_high','elev_low','elev_med','elev_vhigh',\n",
    "            'slope_vhigh','slope_high','slope_med','slope_low']\n",
    "\n",
    "cols=[col for col in X_withconstant.columns if col not in droppedcols]\n",
    "\n",
    "X_withconstant_continuous=X_withconstant[cols]"
   ]
  },
  {
   "cell_type": "code",
   "execution_count": 34,
   "id": "6be3182e-9dd1-40b8-828d-203a1ae2ced0",
   "metadata": {
    "tags": []
   },
   "outputs": [],
   "source": [
    "# drop constant, I'll add this again after scaling\n",
    "X_withconstant_continuous=X_withconstant_continuous.drop('const',axis=1)"
   ]
  },
  {
   "cell_type": "code",
   "execution_count": 35,
   "id": "08d6b217-e8f4-4d70-ada6-f40689072a87",
   "metadata": {},
   "outputs": [
    {
     "data": {
      "text/html": [
       "<div>\n",
       "<style scoped>\n",
       "    .dataframe tbody tr th:only-of-type {\n",
       "        vertical-align: middle;\n",
       "    }\n",
       "\n",
       "    .dataframe tbody tr th {\n",
       "        vertical-align: top;\n",
       "    }\n",
       "\n",
       "    .dataframe thead th {\n",
       "        text-align: right;\n",
       "    }\n",
       "</style>\n",
       "<table border=\"1\" class=\"dataframe\">\n",
       "  <thead>\n",
       "    <tr style=\"text-align: right;\">\n",
       "      <th></th>\n",
       "      <th>asp_cont</th>\n",
       "      <th>elev_cont</th>\n",
       "      <th>slope_cont</th>\n",
       "    </tr>\n",
       "  </thead>\n",
       "  <tbody>\n",
       "    <tr>\n",
       "      <th>0</th>\n",
       "      <td>90.000000</td>\n",
       "      <td>229.0</td>\n",
       "      <td>1.891522</td>\n",
       "    </tr>\n",
       "    <tr>\n",
       "      <th>1</th>\n",
       "      <td>180.000000</td>\n",
       "      <td>230.0</td>\n",
       "      <td>0.535182</td>\n",
       "    </tr>\n",
       "    <tr>\n",
       "      <th>2</th>\n",
       "      <td>147.528809</td>\n",
       "      <td>227.0</td>\n",
       "      <td>2.269464</td>\n",
       "    </tr>\n",
       "    <tr>\n",
       "      <th>3</th>\n",
       "      <td>149.036240</td>\n",
       "      <td>226.0</td>\n",
       "      <td>1.559970</td>\n",
       "    </tr>\n",
       "    <tr>\n",
       "      <th>4</th>\n",
       "      <td>206.565048</td>\n",
       "      <td>228.0</td>\n",
       "      <td>2.037113</td>\n",
       "    </tr>\n",
       "  </tbody>\n",
       "</table>\n",
       "</div>"
      ],
      "text/plain": [
       "     asp_cont  elev_cont  slope_cont\n",
       "0   90.000000      229.0    1.891522\n",
       "1  180.000000      230.0    0.535182\n",
       "2  147.528809      227.0    2.269464\n",
       "3  149.036240      226.0    1.559970\n",
       "4  206.565048      228.0    2.037113"
      ]
     },
     "execution_count": 35,
     "metadata": {},
     "output_type": "execute_result"
    }
   ],
   "source": [
    "X_withconstant_continuous.head()"
   ]
  },
  {
   "cell_type": "code",
   "execution_count": 36,
   "id": "c82b41f6-b968-4cf5-9504-52c3c7f577ee",
   "metadata": {
    "tags": []
   },
   "outputs": [],
   "source": [
    "# instantiate scaler\n",
    "scaler=StandardScaler()\n",
    "\n",
    "# fit scaler on X\n",
    "X_withconstant_continuous_scaled=scaler.fit_transform(X_withconstant_continuous)"
   ]
  },
  {
   "cell_type": "code",
   "execution_count": 37,
   "id": "cd768e01-cb5d-41f2-a558-a666b5712747",
   "metadata": {},
   "outputs": [
    {
     "data": {
      "text/plain": [
       "array([[-0.86282054, -0.25858088, -0.84698711],\n",
       "       [ 0.01072149, -0.253666  , -0.97784456],\n",
       "       [-0.30444463, -0.26841063, -0.81052389],\n",
       "       ...,\n",
       "       [ 0.48622847, -0.72549423,  0.50376285],\n",
       "       [ 0.53180246, -0.65177107,  1.44918407],\n",
       "       [ 0.47237647, -0.43060158,  1.71459911]])"
      ]
     },
     "execution_count": 37,
     "metadata": {},
     "output_type": "execute_result"
    }
   ],
   "source": [
    "X_withconstant_continuous_scaled"
   ]
  },
  {
   "cell_type": "code",
   "execution_count": 38,
   "id": "8fd72de9-df13-4624-af7a-8ed7f7150fd7",
   "metadata": {
    "tags": []
   },
   "outputs": [],
   "source": [
    "# add constant\n",
    "X_withconstant_continuous_scaled=sm.add_constant(X_withconstant_continuous_scaled)"
   ]
  },
  {
   "cell_type": "code",
   "execution_count": 39,
   "id": "7f53ac13-f784-41a4-a242-23fa02162224",
   "metadata": {},
   "outputs": [
    {
     "data": {
      "text/plain": [
       "array([[ 1.        , -0.86282054, -0.25858088, -0.84698711],\n",
       "       [ 1.        ,  0.01072149, -0.253666  , -0.97784456],\n",
       "       [ 1.        , -0.30444463, -0.26841063, -0.81052389],\n",
       "       ...,\n",
       "       [ 1.        ,  0.48622847, -0.72549423,  0.50376285],\n",
       "       [ 1.        ,  0.53180246, -0.65177107,  1.44918407],\n",
       "       [ 1.        ,  0.47237647, -0.43060158,  1.71459911]])"
      ]
     },
     "execution_count": 39,
     "metadata": {},
     "output_type": "execute_result"
    }
   ],
   "source": [
    "X_withconstant_continuous_scaled"
   ]
  },
  {
   "cell_type": "code",
   "execution_count": 40,
   "id": "61b653fe-3db3-4802-b515-21e1d17ac4da",
   "metadata": {
    "tags": []
   },
   "outputs": [
    {
     "name": "stdout",
     "output_type": "stream",
     "text": [
      "Optimization terminated successfully.\n",
      "         Current function value: 0.165467\n",
      "         Iterations 9\n"
     ]
    },
    {
     "data": {
      "text/html": [
       "<table class=\"simpletable\">\n",
       "<caption>Logit Regression Results</caption>\n",
       "<tr>\n",
       "  <th>Dep. Variable:</th>         <td>fire</td>       <th>  No. Observations:  </th>  <td> 19836</td> \n",
       "</tr>\n",
       "<tr>\n",
       "  <th>Model:</th>                 <td>Logit</td>      <th>  Df Residuals:      </th>  <td> 19832</td> \n",
       "</tr>\n",
       "<tr>\n",
       "  <th>Method:</th>                 <td>MLE</td>       <th>  Df Model:          </th>  <td>     3</td> \n",
       "</tr>\n",
       "<tr>\n",
       "  <th>Date:</th>            <td>Fri, 07 Apr 2023</td> <th>  Pseudo R-squ.:     </th>  <td>0.7613</td> \n",
       "</tr>\n",
       "<tr>\n",
       "  <th>Time:</th>                <td>23:28:04</td>     <th>  Log-Likelihood:    </th> <td> -3282.2</td>\n",
       "</tr>\n",
       "<tr>\n",
       "  <th>converged:</th>             <td>True</td>       <th>  LL-Null:           </th> <td> -13749.</td>\n",
       "</tr>\n",
       "<tr>\n",
       "  <th>Covariance Type:</th>     <td>nonrobust</td>    <th>  LLR p-value:       </th>  <td> 0.000</td> \n",
       "</tr>\n",
       "</table>\n",
       "<table class=\"simpletable\">\n",
       "<tr>\n",
       "    <td></td>       <th>coef</th>     <th>std err</th>      <th>z</th>      <th>P>|z|</th>  <th>[0.025</th>    <th>0.975]</th>  \n",
       "</tr>\n",
       "<tr>\n",
       "  <th>const</th> <td>    1.6987</td> <td>    0.052</td> <td>   32.369</td> <td> 0.000</td> <td>    1.596</td> <td>    1.802</td>\n",
       "</tr>\n",
       "<tr>\n",
       "  <th>x1</th>    <td>    0.1306</td> <td>    0.033</td> <td>    3.953</td> <td> 0.000</td> <td>    0.066</td> <td>    0.195</td>\n",
       "</tr>\n",
       "<tr>\n",
       "  <th>x2</th>    <td>    1.8135</td> <td>    0.070</td> <td>   25.968</td> <td> 0.000</td> <td>    1.677</td> <td>    1.950</td>\n",
       "</tr>\n",
       "<tr>\n",
       "  <th>x3</th>    <td>    4.5541</td> <td>    0.082</td> <td>   55.809</td> <td> 0.000</td> <td>    4.394</td> <td>    4.714</td>\n",
       "</tr>\n",
       "</table><br/><br/>Possibly complete quasi-separation: A fraction 0.13 of observations can be<br/>perfectly predicted. This might indicate that there is complete<br/>quasi-separation. In this case some parameters will not be identified."
      ],
      "text/plain": [
       "<class 'statsmodels.iolib.summary.Summary'>\n",
       "\"\"\"\n",
       "                           Logit Regression Results                           \n",
       "==============================================================================\n",
       "Dep. Variable:                   fire   No. Observations:                19836\n",
       "Model:                          Logit   Df Residuals:                    19832\n",
       "Method:                           MLE   Df Model:                            3\n",
       "Date:                Fri, 07 Apr 2023   Pseudo R-squ.:                  0.7613\n",
       "Time:                        23:28:04   Log-Likelihood:                -3282.2\n",
       "converged:                       True   LL-Null:                       -13749.\n",
       "Covariance Type:            nonrobust   LLR p-value:                     0.000\n",
       "==============================================================================\n",
       "                 coef    std err          z      P>|z|      [0.025      0.975]\n",
       "------------------------------------------------------------------------------\n",
       "const          1.6987      0.052     32.369      0.000       1.596       1.802\n",
       "x1             0.1306      0.033      3.953      0.000       0.066       0.195\n",
       "x2             1.8135      0.070     25.968      0.000       1.677       1.950\n",
       "x3             4.5541      0.082     55.809      0.000       4.394       4.714\n",
       "==============================================================================\n",
       "\n",
       "Possibly complete quasi-separation: A fraction 0.13 of observations can be\n",
       "perfectly predicted. This might indicate that there is complete\n",
       "quasi-separation. In this case some parameters will not be identified.\n",
       "\"\"\""
      ]
     },
     "execution_count": 40,
     "metadata": {},
     "output_type": "execute_result"
    }
   ],
   "source": [
    "# instantiate model\n",
    "logreg_sm_cont=sm.Logit(y,X_withconstant_continuous_scaled)\n",
    "\n",
    "# fit the model\n",
    "logreg_sm_cont_results=logreg_sm_cont.fit()\n",
    "\n",
    "# summary\n",
    "logreg_sm_cont_results.summary()"
   ]
  },
  {
   "cell_type": "code",
   "execution_count": 41,
   "id": "90fc887c-2931-43d1-9dbb-f64e99d098c7",
   "metadata": {},
   "outputs": [
    {
     "data": {
      "text/html": [
       "<div>\n",
       "<style scoped>\n",
       "    .dataframe tbody tr th:only-of-type {\n",
       "        vertical-align: middle;\n",
       "    }\n",
       "\n",
       "    .dataframe tbody tr th {\n",
       "        vertical-align: top;\n",
       "    }\n",
       "\n",
       "    .dataframe thead th {\n",
       "        text-align: right;\n",
       "    }\n",
       "</style>\n",
       "<table border=\"1\" class=\"dataframe\">\n",
       "  <thead>\n",
       "    <tr style=\"text-align: right;\">\n",
       "      <th></th>\n",
       "      <th>beta_name</th>\n",
       "      <th>beta_logOdds</th>\n",
       "      <th>beta_odds</th>\n",
       "    </tr>\n",
       "  </thead>\n",
       "  <tbody>\n",
       "    <tr>\n",
       "      <th>0</th>\n",
       "      <td>slope_cont</td>\n",
       "      <td>1.813518</td>\n",
       "      <td>6.131984</td>\n",
       "    </tr>\n",
       "    <tr>\n",
       "      <th>1</th>\n",
       "      <td>asp_cont</td>\n",
       "      <td>1.698651</td>\n",
       "      <td>5.466566</td>\n",
       "    </tr>\n",
       "    <tr>\n",
       "      <th>2</th>\n",
       "      <td>elev_cont</td>\n",
       "      <td>0.130628</td>\n",
       "      <td>1.139544</td>\n",
       "    </tr>\n",
       "  </tbody>\n",
       "</table>\n",
       "</div>"
      ],
      "text/plain": [
       "    beta_name  beta_logOdds  beta_odds\n",
       "0  slope_cont      1.813518   6.131984\n",
       "1    asp_cont      1.698651   5.466566\n",
       "2   elev_cont      0.130628   1.139544"
      ]
     },
     "execution_count": 41,
     "metadata": {},
     "output_type": "execute_result"
    }
   ],
   "source": [
    "# make the results from the statsmodels logistic regresion\n",
    "# into a dataframe to compare betas.\n",
    "# make sure to raise e to the beta to convert to odds\n",
    "\n",
    "results=logreg_sm_cont_results.params\n",
    "col_names=list(X_withconstant_continuous.columns)\n",
    "col_vals=[]\n",
    "\n",
    "for i in range(len(results)):\n",
    "    col_vals.append(results[i])\n",
    "    \n",
    "results_=list(zip(col_names,col_vals))\n",
    "results_df=pd.DataFrame(results_,columns=['beta_name','beta_logOdds'])\n",
    "\n",
    "results_df['beta_odds']=results_df['beta_logOdds'].apply(np.exp)\n",
    "results_df=results_df.sort_values('beta_odds',ascending=False)\n",
    "results_df=results_df.reset_index()\n",
    "results_df=results_df.drop(labels=['index'],axis=1)\n",
    "\n",
    "results_df.sort_values(by='beta_odds',ascending=False)"
   ]
  },
  {
   "cell_type": "markdown",
   "id": "2c1f30ee-c4d7-4234-af64-972935c809a4",
   "metadata": {},
   "source": [
    "The results of the logistic regression show that as the slope increases, the odds of a fire increase $6.13$ times. As the aspect gets closer to NW and NNW, the odds of a fire go up almost $5.5$ times. Elevation has less of an effect on fire risk, increasing the risk just $1.14$ times."
   ]
  },
  {
   "cell_type": "markdown",
   "id": "de728a2e-4f15-41de-89e0-c245c2d2650a",
   "metadata": {},
   "source": [
    "#### `sklearn`:"
   ]
  },
  {
   "cell_type": "markdown",
   "id": "cd24ca39-4fe9-4f37-99b4-dbd88d57e292",
   "metadata": {},
   "source": [
    "##### Train, Test, Split\n",
    "\n",
    "Partition dataset to have $0.\\overline3$ of the total as testing."
   ]
  },
  {
   "cell_type": "code",
   "execution_count": 42,
   "id": "5f1db713-91a3-4749-a034-a807a78ceda2",
   "metadata": {},
   "outputs": [
    {
     "data": {
      "text/plain": [
       "(19836, 27)"
      ]
     },
     "execution_count": 42,
     "metadata": {},
     "output_type": "execute_result"
    }
   ],
   "source": [
    "X.shape"
   ]
  },
  {
   "cell_type": "code",
   "execution_count": 43,
   "id": "9d6ded84-73a1-4b4b-8480-4b71635fba19",
   "metadata": {
    "tags": []
   },
   "outputs": [
    {
     "data": {
      "text/plain": [
       "Index(['asp_cont', 'elev_cont', 'slope_cont', 'E', 'ENE', 'ESE', 'N', 'NE',\n",
       "       'NNE', 'NNW', 'NW', 'S', 'SE', 'SSE', 'SSW', 'SW', 'W', 'WNW', 'WSW',\n",
       "       'elev_high', 'elev_low', 'elev_med', 'elev_vhigh', 'slope_high',\n",
       "       'slope_low', 'slope_med', 'slope_vhigh'],\n",
       "      dtype='object')"
      ]
     },
     "execution_count": 43,
     "metadata": {},
     "output_type": "execute_result"
    }
   ],
   "source": [
    "X.columns"
   ]
  },
  {
   "cell_type": "code",
   "execution_count": 44,
   "id": "fd0b464b-1b39-4d4c-8bf6-3c59fd6128f8",
   "metadata": {},
   "outputs": [
    {
     "data": {
      "text/plain": [
       "(19836,)"
      ]
     },
     "execution_count": 44,
     "metadata": {},
     "output_type": "execute_result"
    }
   ],
   "source": [
    "y_array.shape"
   ]
  },
  {
   "cell_type": "code",
   "execution_count": 45,
   "id": "36b979f1-3abc-4d9a-8510-3dce80390e9e",
   "metadata": {},
   "outputs": [],
   "source": [
    "X_train, X_test, y_train, y_test = train_test_split(X.values, y_array, test_size=(1/3),stratify=y)"
   ]
  },
  {
   "cell_type": "code",
   "execution_count": 46,
   "id": "710453a7-f5a9-4ae4-beb4-38252b6cb1ad",
   "metadata": {},
   "outputs": [
    {
     "name": "stdout",
     "output_type": "stream",
     "text": [
      "\n",
      "X_train shape: (13224, 27)\n",
      "\n",
      "y_train shape: (13224,)\n",
      "\n",
      "X_test shape: (6612, 27)\n",
      "\n",
      "y_test shape: (6612,)\n",
      "\n"
     ]
    }
   ],
   "source": [
    "print(f'''\n",
    "X_train shape: {X_train.shape}\\n\n",
    "y_train shape: {y_train.shape}\\n\n",
    "X_test shape: {X_test.shape}\\n\n",
    "y_test shape: {y_test.shape}\n",
    "''')"
   ]
  },
  {
   "cell_type": "markdown",
   "id": "6844db8d-6cd9-4290-900d-bccba769eb13",
   "metadata": {},
   "source": [
    "##### Basic `sklearn` `LogisticRegression`"
   ]
  },
  {
   "cell_type": "code",
   "execution_count": 48,
   "id": "62dc2007-a884-4432-b757-ff0603b40d82",
   "metadata": {
    "tags": []
   },
   "outputs": [
    {
     "name": "stdout",
     "output_type": "stream",
     "text": [
      "Training Score:  0.9530399274047187\n",
      "Testing Score:   0.9516031457955233\n"
     ]
    }
   ],
   "source": [
    "# instantiate model\n",
    "logreg=LogisticRegression(max_iter=10000)\n",
    "\n",
    "# fit the model\n",
    "logreg.fit(X_train,y_train)\n",
    "\n",
    "print('Training Score: ',logreg.score(X_train,y_train))\n",
    "print('Testing Score:  ',logreg.score(X_test,y_test))"
   ]
  },
  {
   "cell_type": "markdown",
   "id": "c9f93c4d-5a7e-4937-a50e-2e707fbfdce5",
   "metadata": {},
   "source": [
    "Wow, this is a very good result. Adding slope greatly increased the accuracy of the model. Before adding the slope, in a previous iteration of the model, had accuracy in the low 80s. \n",
    "\n",
    "For reference, here are my notes from the last iteration: good match with the training set, though the accuracy is lower than I'd like. It's great to see that the accuracy is a lot higher than the base rate of $50\\%$ . I'll need to scale the data too."
   ]
  },
  {
   "cell_type": "markdown",
   "id": "fa7a4b47-e132-4f3c-8d84-07630889354a",
   "metadata": {},
   "source": [
    "This scaler will be used later in the notebook, as this is a purely scaled version of all the X data:"
   ]
  },
  {
   "cell_type": "code",
   "execution_count": 49,
   "id": "e99fa617-5bcb-4854-ad68-84bfb6ae0062",
   "metadata": {},
   "outputs": [
    {
     "name": "stdout",
     "output_type": "stream",
     "text": [
      "Training Score:  0.9531911675741077\n",
      "Testing Score:   0.9511494252873564\n"
     ]
    }
   ],
   "source": [
    "# add scaler\n",
    "logreg_scaler=StandardScaler()\n",
    "\n",
    "# fit scaler on train\n",
    "logreg_scaler.fit(X_train)\n",
    "\n",
    "# transform train data\n",
    "X_scaled_train=logreg_scaler.transform(X_train)\n",
    "X_scaled_test=logreg_scaler.transform(X_test)\n",
    "\n",
    "# apply scaled data to logreg model\n",
    "logreg_scaled = LogisticRegression(C=1,\n",
    "                                   solver='lbfgs',\n",
    "                                   max_iter=10000)\\\n",
    ".fit(X_scaled_train, y_train)\n",
    "\n",
    "print('Training Score: ',logreg_scaled.score(X_scaled_train,y_train))\n",
    "print('Testing Score:  ',logreg_scaled.score(X_scaled_test,y_test))"
   ]
  },
  {
   "cell_type": "markdown",
   "id": "46c6fc92-af91-4712-bd4e-2ca5a99e2b2e",
   "metadata": {},
   "source": [
    "After applying a scaler, the training and test score remained virtually the same. The scaling would only work on the continuous elevation and aspect columns, since the others are binary."
   ]
  },
  {
   "cell_type": "markdown",
   "id": "f0a132f6-22ef-4e70-a405-95486daa8d07",
   "metadata": {},
   "source": [
    "Let's play around with the hyperparameters to see if the accuracy is higher at a particular value.\n",
    "\n",
    "First, let's create a validation set from the training set. We'll aim for 80% of our data be relegated towards training and validation, and 20% being relegated towards testing."
   ]
  },
  {
   "cell_type": "code",
   "execution_count": 50,
   "id": "0cb4964f-e1ec-4a43-b4ef-709360cd0aad",
   "metadata": {},
   "outputs": [
    {
     "name": "stdout",
     "output_type": "stream",
     "text": [
      "There are 19836 rows in the dataset\n"
     ]
    }
   ],
   "source": [
    "print(f'There are {sm_geo.shape[0]} rows in the dataset')"
   ]
  },
  {
   "cell_type": "code",
   "execution_count": 51,
   "id": "4c4c3a09-4ce4-4157-830d-4f756f2517f5",
   "metadata": {},
   "outputs": [],
   "source": [
    "testing_size=0.2\n",
    "val_size=0.3"
   ]
  },
  {
   "cell_type": "code",
   "execution_count": 52,
   "id": "4aa4f570-d1fc-442c-bf67-4d1e589927dd",
   "metadata": {},
   "outputs": [
    {
     "name": "stdout",
     "output_type": "stream",
     "text": [
      "Shape of test set:       (3968, 27)\n",
      "Shape of validation set: (4761, 27)\n",
      "Shape of train set:      (11107, 27)\n"
     ]
    }
   ],
   "source": [
    "X_remainder, X_test, y_remainder, y_test = \\\n",
    "    train_test_split(X.values, y_array, \n",
    "                     test_size = testing_size,stratify=y)\n",
    "\n",
    "X_train, X_validation, y_train, y_validation = \\\n",
    "    train_test_split(X_remainder, y_remainder, \n",
    "                     test_size = val_size,stratify=y_remainder)\n",
    "\n",
    "print(f'Shape of test set:       {X_test.shape}')\n",
    "print(f'Shape of validation set: {X_validation.shape}')\n",
    "print(f'Shape of train set:      {X_train.shape}')"
   ]
  },
  {
   "cell_type": "markdown",
   "id": "68339cff-16fb-47ac-a9e3-44a4df8daae6",
   "metadata": {},
   "source": [
    "Test different C values:"
   ]
  },
  {
   "cell_type": "code",
   "execution_count": 53,
   "id": "1745442b-4d74-4837-90df-30da564ce5df",
   "metadata": {},
   "outputs": [
    {
     "data": {
      "image/png": "[encoded data removed]",
      "text/plain": [
       "<Figure size 640x480 with 1 Axes>"
      ]
     },
     "metadata": {},
     "output_type": "display_data"
    }
   ],
   "source": [
    "C_range=np.logspace(-4,4,9)\n",
    "\n",
    "validation_scores=[]\n",
    "train_scores=[]\n",
    "\n",
    "for c in C_range:\n",
    "    tuning_logreg=LogisticRegression(C=c,max_iter=10000)\n",
    "    tuning_logreg.fit(X_train,y_train)\n",
    "    \n",
    "    # train on traning set\n",
    "    train_scores.\\\n",
    "    append(tuning_logreg.score(X_train,y_train))\n",
    "    # score on validation set\n",
    "    validation_scores.\\\n",
    "    append(tuning_logreg.score(X_validation,y_validation))\n",
    "\n",
    "plt.figure()\n",
    "plt.plot(C_range, train_scores,label=\"Train Scores\",marker='.')\n",
    "plt.plot(C_range, validation_scores,label=\"Validation Scores\",marker='.')\n",
    "plt.xscale('log')\n",
    "plt.xlabel('C')\n",
    "plt.ylabel('Accuracy')\n",
    "plt.legend()\n",
    "plt.show()"
   ]
  },
  {
   "cell_type": "markdown",
   "id": "8ba489f4-7140-44a0-a88a-fd52e5c01a24",
   "metadata": {},
   "source": [
    "It looks like When $C=10^{-1}$, we get the best accuracy for the lowest spread between validation and training."
   ]
  },
  {
   "cell_type": "markdown",
   "id": "263785c4-be5c-48b5-89bf-30e2e92feff0",
   "metadata": {},
   "source": [
    "An accuracy of over 95% is excellent.\n",
    "\n",
    "For reference, here are the notes from a previous model, one that did not have slope values. We get better accuracy than the basic model, but that's not good enough. Now let's try to increase the accuracy of our model with a grid search. We want to find the best possible accuracy. Let's try to break $90\\%$!"
   ]
  },
  {
   "cell_type": "code",
   "execution_count": 54,
   "id": "3d03cbd4-a5c4-4696-b910-7f8b01c2bbe2",
   "metadata": {},
   "outputs": [
    {
     "data": {
      "text/plain": [
       "(11107, 27)"
      ]
     },
     "execution_count": 54,
     "metadata": {},
     "output_type": "execute_result"
    }
   ],
   "source": [
    "X_train.shape"
   ]
  },
  {
   "cell_type": "code",
   "execution_count": 55,
   "id": "167c6eea-cf95-4771-95a4-bf303c256de9",
   "metadata": {},
   "outputs": [
    {
     "data": {
      "text/plain": [
       "(11107,)"
      ]
     },
     "execution_count": 55,
     "metadata": {},
     "output_type": "execute_result"
    }
   ],
   "source": [
    "y_train.shape"
   ]
  },
  {
   "cell_type": "markdown",
   "id": "26b0cfb4-ea47-4453-9b72-6d5b977af3a0",
   "metadata": {},
   "source": [
    "### Grid Search"
   ]
  },
  {
   "cell_type": "code",
   "execution_count": 56,
   "id": "fb8e7221-6826-4df4-a0b8-f2da68a1687b",
   "metadata": {
    "tags": []
   },
   "outputs": [
    {
     "name": "stdout",
     "output_type": "stream",
     "text": [
      "Fitting 5 folds for each of 80 candidates, totalling 400 fits\n"
     ]
    }
   ],
   "source": [
    "estimators = [('normalise', None),\n",
    "              ('model', None)]#,\n",
    "              # ('pca',None)]\n",
    "\n",
    "pipe = Pipeline(estimators)\n",
    "\n",
    "param_grid = [\n",
    "            {'model': [LogisticRegression(max_iter=10000)],\n",
    "             'model': [LogisticRegression(max_iter=10000,penalty='l1',solver='liblinear'),\n",
    "                       LogisticRegression(max_iter=10000,penalty='l2')],\n",
    "             'normalise': [StandardScaler(), None],\n",
    "             'model__C': np.logspace(-2,1,20)}#,\n",
    "             # 'pca': ['passthrough',PCA()]}\n",
    "]\n",
    "\n",
    "grid = GridSearchCV(pipe, \n",
    "                    param_grid, \n",
    "                    cv=5,\n",
    "                    verbose=3,\n",
    "                    n_jobs=7,\n",
    "                    scoring=\"f1_weighted\")\n",
    "\n",
    "fittedgrid = grid.fit(X_train, y_train)"
   ]
  },
  {
   "cell_type": "code",
   "execution_count": 57,
   "id": "bef15403-def0-46e6-9e0b-e18ee9e8ada0",
   "metadata": {},
   "outputs": [
    {
     "data": {
      "text/html": [
       "<style>#sk-container-id-1 {color: black;background-color: white;}#sk-container-id-1 pre{padding: 0;}#sk-container-id-1 div.sk-toggleable {background-color: white;}#sk-container-id-1 label.sk-toggleable__label {cursor: pointer;display: block;width: 100%;margin-bottom: 0;padding: 0.3em;box-sizing: border-box;text-align: center;}#sk-container-id-1 label.sk-toggleable__label-arrow:before {content: \"▸\";float: left;margin-right: 0.25em;color: #696969;}#sk-container-id-1 label.sk-toggleable__label-arrow:hover:before {color: black;}#sk-container-id-1 div.sk-estimator:hover label.sk-toggleable__label-arrow:before {color: black;}#sk-container-id-1 div.sk-toggleable__content {max-height: 0;max-width: 0;overflow: hidden;text-align: left;background-color: #f0f8ff;}#sk-container-id-1 div.sk-toggleable__content pre {margin: 0.2em;color: black;border-radius: 0.25em;background-color: #f0f8ff;}#sk-container-id-1 input.sk-toggleable__control:checked~div.sk-toggleable__content {max-height: 200px;max-width: 100%;overflow: auto;}#sk-container-id-1 input.sk-toggleable__control:checked~label.sk-toggleable__label-arrow:before {content: \"▾\";}#sk-container-id-1 div.sk-estimator input.sk-toggleable__control:checked~label.sk-toggleable__label {background-color: #d4ebff;}#sk-container-id-1 div.sk-label input.sk-toggleable__control:checked~label.sk-toggleable__label {background-color: #d4ebff;}#sk-container-id-1 input.sk-hidden--visually {border: 0;clip: rect(1px 1px 1px 1px);clip: rect(1px, 1px, 1px, 1px);height: 1px;margin: -1px;overflow: hidden;padding: 0;position: absolute;width: 1px;}#sk-container-id-1 div.sk-estimator {font-family: monospace;background-color: #f0f8ff;border: 1px dotted black;border-radius: 0.25em;box-sizing: border-box;margin-bottom: 0.5em;}#sk-container-id-1 div.sk-estimator:hover {background-color: #d4ebff;}#sk-container-id-1 div.sk-parallel-item::after {content: \"\";width: 100%;border-bottom: 1px solid gray;flex-grow: 1;}#sk-container-id-1 div.sk-label:hover label.sk-toggleable__label {background-color: #d4ebff;}#sk-container-id-1 div.sk-serial::before {content: \"\";position: absolute;border-left: 1px solid gray;box-sizing: border-box;top: 0;bottom: 0;left: 50%;z-index: 0;}#sk-container-id-1 div.sk-serial {display: flex;flex-direction: column;align-items: center;background-color: white;padding-right: 0.2em;padding-left: 0.2em;position: relative;}#sk-container-id-1 div.sk-item {position: relative;z-index: 1;}#sk-container-id-1 div.sk-parallel {display: flex;align-items: stretch;justify-content: center;background-color: white;position: relative;}#sk-container-id-1 div.sk-item::before, #sk-container-id-1 div.sk-parallel-item::before {content: \"\";position: absolute;border-left: 1px solid gray;box-sizing: border-box;top: 0;bottom: 0;left: 50%;z-index: -1;}#sk-container-id-1 div.sk-parallel-item {display: flex;flex-direction: column;z-index: 1;position: relative;background-color: white;}#sk-container-id-1 div.sk-parallel-item:first-child::after {align-self: flex-end;width: 50%;}#sk-container-id-1 div.sk-parallel-item:last-child::after {align-self: flex-start;width: 50%;}#sk-container-id-1 div.sk-parallel-item:only-child::after {width: 0;}#sk-container-id-1 div.sk-dashed-wrapped {border: 1px dashed gray;margin: 0 0.4em 0.5em 0.4em;box-sizing: border-box;padding-bottom: 0.4em;background-color: white;}#sk-container-id-1 div.sk-label label {font-family: monospace;font-weight: bold;display: inline-block;line-height: 1.2em;}#sk-container-id-1 div.sk-label-container {text-align: center;}#sk-container-id-1 div.sk-container {/* jupyter's `normalize.less` sets `[hidden] { display: none; }` but bootstrap.min.css set `[hidden] { display: none !important; }` so we also need the `!important` here to be able to override the default hidden behavior on the sphinx rendered scikit-learn.org. See: https://github.com/scikit-learn/scikit-learn/issues/21755 */display: inline-block !important;position: relative;}#sk-container-id-1 div.sk-text-repr-fallback {display: none;}</style><div id=\"sk-container-id-1\" class=\"sk-top-container\"><div class=\"sk-text-repr-fallback\"><pre>Pipeline(steps=[(&#x27;normalise&#x27;, None),\n",
       "                (&#x27;model&#x27;,\n",
       "                 LogisticRegression(C=0.5455594781168517, max_iter=10000))])</pre><b>In a Jupyter environment, please rerun this cell to show the HTML representation or trust the notebook. <br />On GitHub, the HTML representation is unable to render, please try loading this page with nbviewer.org.</b></div><div class=\"sk-container\" hidden><div class=\"sk-item sk-dashed-wrapped\"><div class=\"sk-label-container\"><div class=\"sk-label sk-toggleable\"><input class=\"sk-toggleable__control sk-hidden--visually\" id=\"sk-estimator-id-1\" type=\"checkbox\" ><label for=\"sk-estimator-id-1\" class=\"sk-toggleable__label sk-toggleable__label-arrow\">Pipeline</label><div class=\"sk-toggleable__content\"><pre>Pipeline(steps=[(&#x27;normalise&#x27;, None),\n",
       "                (&#x27;model&#x27;,\n",
       "                 LogisticRegression(C=0.5455594781168517, max_iter=10000))])</pre></div></div></div><div class=\"sk-serial\"><div class=\"sk-item\"><div class=\"sk-estimator sk-toggleable\"><input class=\"sk-toggleable__control sk-hidden--visually\" id=\"sk-estimator-id-2\" type=\"checkbox\" ><label for=\"sk-estimator-id-2\" class=\"sk-toggleable__label sk-toggleable__label-arrow\">None</label><div class=\"sk-toggleable__content\"><pre>None</pre></div></div></div><div class=\"sk-item\"><div class=\"sk-estimator sk-toggleable\"><input class=\"sk-toggleable__control sk-hidden--visually\" id=\"sk-estimator-id-3\" type=\"checkbox\" ><label for=\"sk-estimator-id-3\" class=\"sk-toggleable__label sk-toggleable__label-arrow\">LogisticRegression</label><div class=\"sk-toggleable__content\"><pre>LogisticRegression(C=0.5455594781168517, max_iter=10000)</pre></div></div></div></div></div></div></div>"
      ],
      "text/plain": [
       "Pipeline(steps=[('normalise', None),\n",
       "                ('model',\n",
       "                 LogisticRegression(C=0.5455594781168517, max_iter=10000))])"
      ]
     },
     "execution_count": 57,
     "metadata": {},
     "output_type": "execute_result"
    }
   ],
   "source": [
    "fittedgrid.best_estimator_"
   ]
  },
  {
   "cell_type": "code",
   "execution_count": 58,
   "id": "41b7c29d-425c-47ed-8f9a-a949c61b6dca",
   "metadata": {},
   "outputs": [
    {
     "data": {
      "text/plain": [
       "{'model': LogisticRegression(C=0.5455594781168517, max_iter=10000),\n",
       " 'model__C': 0.5455594781168517,\n",
       " 'normalise': None}"
      ]
     },
     "execution_count": 58,
     "metadata": {},
     "output_type": "execute_result"
    }
   ],
   "source": [
    "fittedgrid.best_params_"
   ]
  },
  {
   "cell_type": "code",
   "execution_count": 59,
   "id": "8ef7716e-4674-4ef0-8e3c-9b6a2fe683ef",
   "metadata": {
    "tags": []
   },
   "outputs": [
    {
     "data": {
      "text/plain": [
       "0.9551403996553013"
      ]
     },
     "execution_count": 59,
     "metadata": {},
     "output_type": "execute_result"
    }
   ],
   "source": [
    "fittedgrid.score(X_test,y_test)"
   ]
  },
  {
   "cell_type": "markdown",
   "id": "cd9ccc3a-cb88-4b59-b531-90dc47f848ba",
   "metadata": {},
   "source": [
    "My best results ($95\\%$) were with a C value of $0.546$."
   ]
  },
  {
   "cell_type": "markdown",
   "id": "5ba1b880-6d1c-45b3-a4ff-a91ac7ab9404",
   "metadata": {},
   "source": [
    "### Random Forest"
   ]
  },
  {
   "cell_type": "code",
   "execution_count": 60,
   "id": "2a31be44-eb6c-4b36-859b-3b5cdb1503f5",
   "metadata": {},
   "outputs": [],
   "source": [
    "from sklearn.ensemble import RandomForestClassifier\n",
    "from mlxtend.plotting import plot_decision_regions\n",
    "from sklearn.svm import SVC"
   ]
  },
  {
   "cell_type": "code",
   "execution_count": 61,
   "id": "7b84bc67-7176-4148-a6a9-9ad6038e6338",
   "metadata": {},
   "outputs": [
    {
     "data": {
      "text/html": [
       "<style>#sk-container-id-2 {color: black;background-color: white;}#sk-container-id-2 pre{padding: 0;}#sk-container-id-2 div.sk-toggleable {background-color: white;}#sk-container-id-2 label.sk-toggleable__label {cursor: pointer;display: block;width: 100%;margin-bottom: 0;padding: 0.3em;box-sizing: border-box;text-align: center;}#sk-container-id-2 label.sk-toggleable__label-arrow:before {content: \"▸\";float: left;margin-right: 0.25em;color: #696969;}#sk-container-id-2 label.sk-toggleable__label-arrow:hover:before {color: black;}#sk-container-id-2 div.sk-estimator:hover label.sk-toggleable__label-arrow:before {color: black;}#sk-container-id-2 div.sk-toggleable__content {max-height: 0;max-width: 0;overflow: hidden;text-align: left;background-color: #f0f8ff;}#sk-container-id-2 div.sk-toggleable__content pre {margin: 0.2em;color: black;border-radius: 0.25em;background-color: #f0f8ff;}#sk-container-id-2 input.sk-toggleable__control:checked~div.sk-toggleable__content {max-height: 200px;max-width: 100%;overflow: auto;}#sk-container-id-2 input.sk-toggleable__control:checked~label.sk-toggleable__label-arrow:before {content: \"▾\";}#sk-container-id-2 div.sk-estimator input.sk-toggleable__control:checked~label.sk-toggleable__label {background-color: #d4ebff;}#sk-container-id-2 div.sk-label input.sk-toggleable__control:checked~label.sk-toggleable__label {background-color: #d4ebff;}#sk-container-id-2 input.sk-hidden--visually {border: 0;clip: rect(1px 1px 1px 1px);clip: rect(1px, 1px, 1px, 1px);height: 1px;margin: -1px;overflow: hidden;padding: 0;position: absolute;width: 1px;}#sk-container-id-2 div.sk-estimator {font-family: monospace;background-color: #f0f8ff;border: 1px dotted black;border-radius: 0.25em;box-sizing: border-box;margin-bottom: 0.5em;}#sk-container-id-2 div.sk-estimator:hover {background-color: #d4ebff;}#sk-container-id-2 div.sk-parallel-item::after {content: \"\";width: 100%;border-bottom: 1px solid gray;flex-grow: 1;}#sk-container-id-2 div.sk-label:hover label.sk-toggleable__label {background-color: #d4ebff;}#sk-container-id-2 div.sk-serial::before {content: \"\";position: absolute;border-left: 1px solid gray;box-sizing: border-box;top: 0;bottom: 0;left: 50%;z-index: 0;}#sk-container-id-2 div.sk-serial {display: flex;flex-direction: column;align-items: center;background-color: white;padding-right: 0.2em;padding-left: 0.2em;position: relative;}#sk-container-id-2 div.sk-item {position: relative;z-index: 1;}#sk-container-id-2 div.sk-parallel {display: flex;align-items: stretch;justify-content: center;background-color: white;position: relative;}#sk-container-id-2 div.sk-item::before, #sk-container-id-2 div.sk-parallel-item::before {content: \"\";position: absolute;border-left: 1px solid gray;box-sizing: border-box;top: 0;bottom: 0;left: 50%;z-index: -1;}#sk-container-id-2 div.sk-parallel-item {display: flex;flex-direction: column;z-index: 1;position: relative;background-color: white;}#sk-container-id-2 div.sk-parallel-item:first-child::after {align-self: flex-end;width: 50%;}#sk-container-id-2 div.sk-parallel-item:last-child::after {align-self: flex-start;width: 50%;}#sk-container-id-2 div.sk-parallel-item:only-child::after {width: 0;}#sk-container-id-2 div.sk-dashed-wrapped {border: 1px dashed gray;margin: 0 0.4em 0.5em 0.4em;box-sizing: border-box;padding-bottom: 0.4em;background-color: white;}#sk-container-id-2 div.sk-label label {font-family: monospace;font-weight: bold;display: inline-block;line-height: 1.2em;}#sk-container-id-2 div.sk-label-container {text-align: center;}#sk-container-id-2 div.sk-container {/* jupyter's `normalize.less` sets `[hidden] { display: none; }` but bootstrap.min.css set `[hidden] { display: none !important; }` so we also need the `!important` here to be able to override the default hidden behavior on the sphinx rendered scikit-learn.org. See: https://github.com/scikit-learn/scikit-learn/issues/21755 */display: inline-block !important;position: relative;}#sk-container-id-2 div.sk-text-repr-fallback {display: none;}</style><div id=\"sk-container-id-2\" class=\"sk-top-container\"><div class=\"sk-text-repr-fallback\"><pre>RandomForestClassifier(n_estimators=50)</pre><b>In a Jupyter environment, please rerun this cell to show the HTML representation or trust the notebook. <br />On GitHub, the HTML representation is unable to render, please try loading this page with nbviewer.org.</b></div><div class=\"sk-container\" hidden><div class=\"sk-item\"><div class=\"sk-estimator sk-toggleable\"><input class=\"sk-toggleable__control sk-hidden--visually\" id=\"sk-estimator-id-4\" type=\"checkbox\" checked><label for=\"sk-estimator-id-4\" class=\"sk-toggleable__label sk-toggleable__label-arrow\">RandomForestClassifier</label><div class=\"sk-toggleable__content\"><pre>RandomForestClassifier(n_estimators=50)</pre></div></div></div></div></div>"
      ],
      "text/plain": [
       "RandomForestClassifier(n_estimators=50)"
      ]
     },
     "execution_count": 61,
     "metadata": {},
     "output_type": "execute_result"
    }
   ],
   "source": [
    "random_forest_model = RandomForestClassifier(n_estimators=50 )\n",
    "random_forest_model.fit(X_train, y_train)"
   ]
  },
  {
   "cell_type": "code",
   "execution_count": 62,
   "id": "63d13116-9ff2-48c9-9eef-6402f1b1b0d0",
   "metadata": {},
   "outputs": [
    {
     "name": "stdout",
     "output_type": "stream",
     "text": [
      "\n",
      "Performance on fitted data:\n",
      "Average Decision Tree: 0.979967588007563\n",
      "Random Forest: 0.9996398667506977\n",
      "----------------\n",
      "Performance on test data:\n",
      "Average Decision Tree: 0.948649193548387\n",
      "Random Forest: 0.9647177419354839\n",
      "\n"
     ]
    }
   ],
   "source": [
    "# score on random forest\n",
    "\n",
    "# Instantiate lists to save scores in\n",
    "decision_tree_train_scores = []\n",
    "decision_tree_test_scores = []\n",
    "# For each tree, score on train and test\n",
    "for sub_tree in random_forest_model.estimators_:\n",
    "    decision_tree_train_scores.append(sub_tree.score(X_train, y_train))\n",
    "    decision_tree_test_scores.append(sub_tree.score(X_test, y_test))\n",
    "\n",
    "# Rather than many separate print() statements, we can combine them into one using triple quotes.\n",
    "print(f\"\"\"\n",
    "Performance on fitted data:\n",
    "Average Decision Tree: {np.mean(decision_tree_train_scores)}\n",
    "Random Forest: {random_forest_model.score(X_train, y_train)}\n",
    "----------------\n",
    "Performance on test data:\n",
    "Average Decision Tree: {np.mean(decision_tree_test_scores)}\n",
    "Random Forest: {random_forest_model.score(X_test, y_test)}\n",
    "\"\"\")"
   ]
  },
  {
   "cell_type": "markdown",
   "id": "898c3ba5-3cc5-4ab8-9f0e-a8d42a12306d",
   "metadata": {},
   "source": [
    "The random forest got the accuracy past $96\\%$, nice!"
   ]
  },
  {
   "cell_type": "code",
   "execution_count": 63,
   "id": "20e30324-baca-4761-a628-96116ec3e665",
   "metadata": {},
   "outputs": [
    {
     "name": "stdout",
     "output_type": "stream",
     "text": [
      "              precision    recall  f1-score   support\n",
      "\n",
      "           0       0.97      0.96      0.96      1984\n",
      "           1       0.96      0.97      0.96      1984\n",
      "\n",
      "    accuracy                           0.96      3968\n",
      "   macro avg       0.96      0.96      0.96      3968\n",
      "weighted avg       0.96      0.96      0.96      3968\n",
      "\n"
     ]
    }
   ],
   "source": [
    "from sklearn.metrics import accuracy_score, confusion_matrix, classification_report\n",
    "\n",
    "# evaluate base model\n",
    "y_pred = random_forest_model.predict(X_test)\n",
    "print(classification_report(y_test, y_pred))"
   ]
  },
  {
   "cell_type": "markdown",
   "id": "0e0d367a-9aa8-4a85-bc3e-35cb97bc452b",
   "metadata": {},
   "source": [
    "The random forest showed the highest accuracy yet!"
   ]
  },
  {
   "cell_type": "markdown",
   "id": "da245ed7-82bd-44d1-892d-50e52dd85080",
   "metadata": {},
   "source": [
    "### Naive Bayes"
   ]
  },
  {
   "cell_type": "code",
   "execution_count": 64,
   "id": "72f28d07-3729-4bda-a2cd-baa317178017",
   "metadata": {},
   "outputs": [],
   "source": [
    "from sklearn.naive_bayes import GaussianNB, MultinomialNB, BernoulliNB"
   ]
  },
  {
   "cell_type": "code",
   "execution_count": 65,
   "id": "89714ea0-710b-4f12-9b04-4eb40acacfab",
   "metadata": {},
   "outputs": [
    {
     "name": "stdout",
     "output_type": "stream",
     "text": [
      "Bernoulli (train): -- 0.9400378139911767\n",
      "Bernoulli (test): --- 0.9478326612903226\n",
      "Gauss (train): ------ 0.9439992797335014\n",
      "Gauss (test): ------- 0.9460685483870968\n",
      "Multinomial (train):- 0.7305302962095975\n",
      "Multinomial (test): - 0.7376512096774194\n"
     ]
    }
   ],
   "source": [
    "# models\n",
    "nbmodel_bern = BernoulliNB()\n",
    "nbmodel_bern.fit(X_train,y_train)\n",
    "print(\"Bernoulli (train): --\",nbmodel_bern.score(X_train,y_train))\n",
    "print(\"Bernoulli (test): ---\",nbmodel_bern.score(X_test,y_test))\n",
    "nbmodel_gauss = GaussianNB()\n",
    "nbmodel_gauss.fit(X_train,y_train)\n",
    "print(\"Gauss (train): ------\",nbmodel_gauss.score(X_train,y_train))\n",
    "print(\"Gauss (test): -------\",nbmodel_gauss.score(X_test,y_test))\n",
    "nbmodel_multi = MultinomialNB()\n",
    "nbmodel_multi.fit(X_train,y_train)\n",
    "print(\"Multinomial (train):-\",nbmodel_multi.score(X_train,y_train))\n",
    "print(\"Multinomial (test): -\",nbmodel_multi.score(X_test,y_test))"
   ]
  },
  {
   "cell_type": "markdown",
   "id": "976f4f0c-f49b-4dc9-8013-4cdb473f50de",
   "metadata": {},
   "source": [
    "These do not perform as well as the random forest, but are still very strong. The `Bernoulli` and `Gauss` performed much better than the `Multinomial`."
   ]
  },
  {
   "cell_type": "markdown",
   "id": "7fd5b21a-29dc-43d6-be7b-2db32308bf89",
   "metadata": {},
   "source": [
    "Let's try some boosting-type models."
   ]
  },
  {
   "cell_type": "markdown",
   "id": "136efc2b-50b0-4309-a29c-970772e1f280",
   "metadata": {},
   "source": [
    "### Boosting"
   ]
  },
  {
   "cell_type": "markdown",
   "id": "82e2697a-31cf-44b1-85e0-d0342fe4022b",
   "metadata": {},
   "source": [
    "#### AdaBoost"
   ]
  },
  {
   "cell_type": "code",
   "execution_count": 66,
   "id": "4dcd9053-536f-4c8b-8b31-51e3cb8a3037",
   "metadata": {},
   "outputs": [
    {
     "name": "stdout",
     "output_type": "stream",
     "text": [
      "              precision    recall  f1-score   support\n",
      "\n",
      "           0       0.98      0.92      0.95      1984\n",
      "           1       0.92      0.98      0.95      1984\n",
      "\n",
      "    accuracy                           0.95      3968\n",
      "   macro avg       0.95      0.95      0.95      3968\n",
      "weighted avg       0.95      0.95      0.95      3968\n",
      "\n"
     ]
    }
   ],
   "source": [
    "scaler = StandardScaler()\n",
    "X_train_scale = scaler.fit_transform(X_train)\n",
    "X_test_scale = scaler.transform(X_test)\n",
    "\n",
    "from sklearn.ensemble import AdaBoostClassifier\n",
    "\n",
    "# fitting AdaBoost model with 2 estimators\n",
    "abc_2 = AdaBoostClassifier(n_estimators=2)\n",
    "abc_2.fit(X_train_scale, y_train)\n",
    "\n",
    "# define base estimator with max_depth=2\n",
    "from sklearn.tree import DecisionTreeClassifier\n",
    "base_tree = DecisionTreeClassifier(max_depth=2)\n",
    "\n",
    "# fit the base decision tree as a benchmark\n",
    "base_tree.fit(X_train_scale, y_train)\n",
    "\n",
    "# evaluate base model\n",
    "y_pred = base_tree.predict(X_test_scale)\n",
    "print(classification_report(y_test, y_pred))"
   ]
  },
  {
   "cell_type": "code",
   "execution_count": 70,
   "id": "04f242de-8cfb-4ff5-8ab4-bd42b6747c05",
   "metadata": {},
   "outputs": [
    {
     "name": "stdout",
     "output_type": "stream",
     "text": [
      "Basic abc accuracy: 0.9652217741935484\n"
     ]
    },
    {
     "data": {
      "image/png": "[encoded data removed]",
      "text/plain": [
       "<Figure size 640x480 with 1 Axes>"
      ]
     },
     "metadata": {},
     "output_type": "display_data"
    },
    {
     "name": "stdout",
     "output_type": "stream",
     "text": [
      "              precision    recall  f1-score   support\n",
      "\n",
      "           0       0.97      0.96      0.97      1984\n",
      "           1       0.96      0.97      0.97      1984\n",
      "\n",
      "    accuracy                           0.97      3968\n",
      "   macro avg       0.97      0.97      0.97      3968\n",
      "weighted avg       0.97      0.97      0.97      3968\n",
      "\n"
     ]
    }
   ],
   "source": [
    "estimators = list(range(1, 50, 3))\n",
    "\n",
    "abc_scores = []\n",
    "for n_est in estimators:\n",
    "    abc = AdaBoostClassifier(\n",
    "        estimator=base_tree, \n",
    "        n_estimators = n_est)\n",
    "    \n",
    "    abc.fit(X_train_scale, y_train)\n",
    "    y_pred = abc.predict(X_test_scale)\n",
    "    abc_scores.append(accuracy_score(y_test, y_pred))\n",
    "\n",
    "# print score for basic abc:\n",
    "print(f'Basic abc accuracy: {abc.score(X_test_scale,y_test)}')\n",
    "\n",
    "# plot test scores and n_estimators\n",
    "plt.plot(estimators, abc_scores)\n",
    "plt.xlabel('n_estimators')\n",
    "plt.ylabel('accuracy')\n",
    "plt.ylim([0.85, 1])\n",
    "plt.title('Best accuracy is at n_estimators=13')\n",
    "plt.vlines(x=13,ymin=.8,ymax=1.1,linestyles='dashed',color='red')\n",
    "plt.show()\n",
    "\n",
    "print(classification_report(y_test, y_pred))"
   ]
  },
  {
   "cell_type": "markdown",
   "id": "94b41ea4-a4f0-446e-8f4c-49eb28ce394c",
   "metadata": {},
   "source": [
    "A result of $96\\%$, wow! This is with about $13$ estimators."
   ]
  },
  {
   "cell_type": "markdown",
   "id": "408bb476-a1d7-4a6d-bff0-39420170bb2c",
   "metadata": {},
   "source": [
    "What about gradient boosting?"
   ]
  },
  {
   "cell_type": "markdown",
   "id": "58a36ab1-240e-4607-9529-40d0b2007943",
   "metadata": {},
   "source": [
    "#### Gradient Boosting"
   ]
  },
  {
   "cell_type": "code",
   "execution_count": 71,
   "id": "c4674205-df58-464e-82e6-5ee1b04e6de6",
   "metadata": {},
   "outputs": [
    {
     "name": "stdout",
     "output_type": "stream",
     "text": [
      "Basic gbc score: 0.9690020161290323\n",
      "              precision    recall  f1-score   support\n",
      "\n",
      "           0       0.97      0.96      0.97      1984\n",
      "           1       0.96      0.98      0.97      1984\n",
      "\n",
      "    accuracy                           0.97      3968\n",
      "   macro avg       0.97      0.97      0.97      3968\n",
      "weighted avg       0.97      0.97      0.97      3968\n",
      "\n"
     ]
    }
   ],
   "source": [
    "from sklearn.ensemble import GradientBoostingClassifier\n",
    "\n",
    "gbc_2 = GradientBoostingClassifier()\n",
    "gbc_2.fit(X_train_scale, y_train)\n",
    "\n",
    "gbc_2.score(X_test_scale,y_test)\n",
    "y_pred = gbc_2.predict(X_test_scale)\n",
    "print(f'Basic gbc score: {gbc_2.score(X_test_scale,y_test)}')\n",
    "print(classification_report(y_test, y_pred))"
   ]
  },
  {
   "cell_type": "code",
   "execution_count": 72,
   "id": "a8637298-b933-439b-9cd1-6372dd05c39a",
   "metadata": {
    "jupyter": {
     "outputs_hidden": true
    },
    "tags": []
   },
   "outputs": [
    {
     "name": "stdout",
     "output_type": "stream",
     "text": [
      "Fitting 5 folds for each of 32 candidates, totalling 160 fits\n",
      "best score: 0.9664178079221701\n",
      "best parameters: {'learning_rate': 0.1, 'loss': 'log_loss', 'n_estimators': 200}\n"
     ]
    }
   ],
   "source": [
    "gbc = GradientBoostingClassifier()\n",
    "\n",
    "parameters = {\n",
    "    'loss': ['log_loss', 'exponential'],\n",
    "    'learning_rate': [0.001, 0.1, 1, 10],\n",
    "    'n_estimators': [100, 150, 180, 200]\n",
    "}\n",
    "grid_search_gbc = GridSearchCV(gbc, parameters, cv = 5, n_jobs = 7, verbose = 3)\n",
    "grid_search_gbc.fit(X_train_scale, y_train)\n",
    "\n",
    "# best score\n",
    "print(f\"best score: {grid_search_gbc.best_score_}\")\n",
    "\n",
    "# best parameters \n",
    "print(f\"best parameters: {grid_search_gbc.best_params_}\")"
   ]
  },
  {
   "cell_type": "markdown",
   "id": "25181258-7614-4246-8d14-ea33641deef8",
   "metadata": {
    "tags": []
   },
   "source": [
    "Almost $97\\%$! It's notable that the basic `gbc` performs better than the grid search."
   ]
  },
  {
   "cell_type": "markdown",
   "id": "67b97e95-edf6-4c8b-9721-9c447e5bf7aa",
   "metadata": {},
   "source": [
    "#### XGBoost"
   ]
  },
  {
   "cell_type": "code",
   "execution_count": 73,
   "id": "f16a46e9-5073-4daa-bdf1-03ce52814917",
   "metadata": {},
   "outputs": [
    {
     "name": "stdout",
     "output_type": "stream",
     "text": [
      "Score on test: 0.9639616935483871\n",
      "              precision    recall  f1-score   support\n",
      "\n",
      "           0       0.97      0.96      0.96      1984\n",
      "           1       0.96      0.97      0.96      1984\n",
      "\n",
      "    accuracy                           0.96      3968\n",
      "   macro avg       0.96      0.96      0.96      3968\n",
      "weighted avg       0.96      0.96      0.96      3968\n",
      "\n"
     ]
    }
   ],
   "source": [
    "from xgboost import XGBClassifier\n",
    "\n",
    "xgbc = XGBClassifier()\n",
    "xgbc.fit(X_train_scale, y_train)\n",
    "\n",
    "y_pred = xgbc.predict(X_test_scale)\n",
    "print(f'Score on test: {xgbc.score(X_test_scale,y_test)}')\n",
    "print(classification_report(y_test, y_pred))"
   ]
  },
  {
   "cell_type": "markdown",
   "id": "bf36acbe-37ff-454a-a20f-c62b0c6f98ad",
   "metadata": {},
   "source": [
    "## Exploring Hyperparameter Space with `GradientBoostingClassifier`.\n",
    "### Aiming for $>96\\%$: This gave us the best accuracy."
   ]
  },
  {
   "cell_type": "markdown",
   "id": "33929293-d61e-4178-84ac-06f41abd62ed",
   "metadata": {},
   "source": [
    "Let's explore these parameters to try to increase the accuracy:\n",
    "\n",
    "best score: `0.9664178079221701`  \n",
    "best parameters:  \n",
    "`{'learning_rate': 0.1, 'loss': 'log_loss', 'n_estimators': 200}`"
   ]
  },
  {
   "cell_type": "code",
   "execution_count": 75,
   "id": "530ba219-a178-4449-99c6-4f132acf551a",
   "metadata": {
    "jupyter": {
     "outputs_hidden": true
    },
    "tags": []
   },
   "outputs": [
    {
     "name": "stdout",
     "output_type": "stream",
     "text": [
      "Fitting 5 folds for each of 100 candidates, totalling 500 fits\n",
      "best score: 0.9654275062805695\n",
      "best parameters: {'learning_rate': 0.11757094257962457, 'loss': 'exponential', 'n_estimators': 195}\n"
     ]
    }
   ],
   "source": [
    "gbc = GradientBoostingClassifier()\n",
    "\n",
    "parameters = {\n",
    "    'loss': ['exponential'],\n",
    "    'learning_rate': (np.logspace(-1.3,-.8239,10)),\n",
    "    'n_estimators': (np.linspace(195,205,10)).astype(int)\n",
    "}\n",
    "grid_search_gbc = GridSearchCV(gbc, parameters, cv = 5, n_jobs = 7, verbose = 3)\n",
    "grid_search_gbc.fit(X_train_scale, y_train)\n",
    "\n",
    "# best score\n",
    "print(f\"best score: {grid_search_gbc.best_score_}\")\n",
    "\n",
    "# best parameters \n",
    "print(f\"best parameters: {grid_search_gbc.best_params_}\")"
   ]
  },
  {
   "cell_type": "markdown",
   "id": "c2276528",
   "metadata": {},
   "source": [
    "I am reaching diminishing returns and will stop there. The grid search was unsuccessful because the best score was worse than the GradientBooster from a few cells above, reproduced below:"
   ]
  },
  {
   "cell_type": "markdown",
   "id": "6c3d0dfc-582d-43dc-b074-335a4b093597",
   "metadata": {},
   "source": [
    "best score: `0.9664178079221701`  \n",
    "best parameters: `{'learning_rate': 0.1, 'loss': 'log_loss', 'n_estimators': 200}`"
   ]
  },
  {
   "cell_type": "markdown",
   "id": "c7254a6c-9b65-4fe4-bcc9-9a37d0700e35",
   "metadata": {},
   "source": [
    "### Transform all of X on the scaler, then run through an optimized `GradientBoostingClassifier`"
   ]
  },
  {
   "cell_type": "markdown",
   "id": "f3b2b609-55ef-4ed7-be35-ba7aa95c96fe",
   "metadata": {},
   "source": [
    "Remind ourselves of `X` and `y`:"
   ]
  },
  {
   "cell_type": "code",
   "execution_count": 76,
   "id": "6fb47dfc-723e-4523-b076-cdee69827aaf",
   "metadata": {},
   "outputs": [
    {
     "data": {
      "text/html": [
       "<div>\n",
       "<style scoped>\n",
       "    .dataframe tbody tr th:only-of-type {\n",
       "        vertical-align: middle;\n",
       "    }\n",
       "\n",
       "    .dataframe tbody tr th {\n",
       "        vertical-align: top;\n",
       "    }\n",
       "\n",
       "    .dataframe thead th {\n",
       "        text-align: right;\n",
       "    }\n",
       "</style>\n",
       "<table border=\"1\" class=\"dataframe\">\n",
       "  <thead>\n",
       "    <tr style=\"text-align: right;\">\n",
       "      <th></th>\n",
       "      <th>asp_cont</th>\n",
       "      <th>elev_cont</th>\n",
       "      <th>slope_cont</th>\n",
       "      <th>E</th>\n",
       "      <th>ENE</th>\n",
       "      <th>ESE</th>\n",
       "      <th>N</th>\n",
       "      <th>NE</th>\n",
       "      <th>NNE</th>\n",
       "      <th>NNW</th>\n",
       "      <th>...</th>\n",
       "      <th>WNW</th>\n",
       "      <th>WSW</th>\n",
       "      <th>elev_high</th>\n",
       "      <th>elev_low</th>\n",
       "      <th>elev_med</th>\n",
       "      <th>elev_vhigh</th>\n",
       "      <th>slope_high</th>\n",
       "      <th>slope_low</th>\n",
       "      <th>slope_med</th>\n",
       "      <th>slope_vhigh</th>\n",
       "    </tr>\n",
       "  </thead>\n",
       "  <tbody>\n",
       "    <tr>\n",
       "      <th>0</th>\n",
       "      <td>90.0</td>\n",
       "      <td>229.0</td>\n",
       "      <td>1.891522</td>\n",
       "      <td>1</td>\n",
       "      <td>0</td>\n",
       "      <td>0</td>\n",
       "      <td>0</td>\n",
       "      <td>0</td>\n",
       "      <td>0</td>\n",
       "      <td>0</td>\n",
       "      <td>...</td>\n",
       "      <td>0</td>\n",
       "      <td>0</td>\n",
       "      <td>1</td>\n",
       "      <td>0</td>\n",
       "      <td>0</td>\n",
       "      <td>0</td>\n",
       "      <td>0</td>\n",
       "      <td>0</td>\n",
       "      <td>1</td>\n",
       "      <td>0</td>\n",
       "    </tr>\n",
       "  </tbody>\n",
       "</table>\n",
       "<p>1 rows × 27 columns</p>\n",
       "</div>"
      ],
      "text/plain": [
       "   asp_cont  elev_cont  slope_cont  E  ENE  ESE  N  NE  NNE  NNW  ...  WNW  \\\n",
       "0      90.0      229.0    1.891522  1    0    0  0   0    0    0  ...    0   \n",
       "\n",
       "   WSW  elev_high  elev_low  elev_med  elev_vhigh  slope_high  slope_low  \\\n",
       "0    0          1         0         0           0           0          0   \n",
       "\n",
       "   slope_med  slope_vhigh  \n",
       "0          1            0  \n",
       "\n",
       "[1 rows x 27 columns]"
      ]
     },
     "execution_count": 76,
     "metadata": {},
     "output_type": "execute_result"
    }
   ],
   "source": [
    "X.head(1)"
   ]
  },
  {
   "cell_type": "code",
   "execution_count": 77,
   "id": "90611248-4924-467e-924e-c79374634fa3",
   "metadata": {},
   "outputs": [
    {
     "data": {
      "text/html": [
       "<div>\n",
       "<style scoped>\n",
       "    .dataframe tbody tr th:only-of-type {\n",
       "        vertical-align: middle;\n",
       "    }\n",
       "\n",
       "    .dataframe tbody tr th {\n",
       "        vertical-align: top;\n",
       "    }\n",
       "\n",
       "    .dataframe thead th {\n",
       "        text-align: right;\n",
       "    }\n",
       "</style>\n",
       "<table border=\"1\" class=\"dataframe\">\n",
       "  <thead>\n",
       "    <tr style=\"text-align: right;\">\n",
       "      <th></th>\n",
       "      <th>fire</th>\n",
       "    </tr>\n",
       "  </thead>\n",
       "  <tbody>\n",
       "    <tr>\n",
       "      <th>0</th>\n",
       "      <td>0</td>\n",
       "    </tr>\n",
       "  </tbody>\n",
       "</table>\n",
       "</div>"
      ],
      "text/plain": [
       "   fire\n",
       "0     0"
      ]
     },
     "execution_count": 77,
     "metadata": {},
     "output_type": "execute_result"
    }
   ],
   "source": [
    "y.head(1)"
   ]
  },
  {
   "cell_type": "markdown",
   "id": "ba6cf824-5bd3-4dd2-bba3-c82e2f4c9307",
   "metadata": {},
   "source": [
    "Reminder on the correlation between the factors:"
   ]
  },
  {
   "cell_type": "code",
   "execution_count": 81,
   "id": "3aee930e-348f-4b1c-bb27-ef11541118b7",
   "metadata": {
    "scrolled": false
   },
   "outputs": [
    {
     "data": {
      "image/png": "[encoded data removed]",
      "text/plain": [
       "<Figure size 1000x700 with 2 Axes>"
      ]
     },
     "metadata": {},
     "output_type": "display_data"
    }
   ],
   "source": [
    "plt.figure(figsize=(10,7))\n",
    "mask=np.triu(np.ones_like(X.corr(),dtype=bool))\n",
    "sns.heatmap(data=X.corr(),\n",
    "            annot=True, \n",
    "            fmt='.1f',\n",
    "            cmap='coolwarm',\n",
    "            vmin=-1,vmax=1,\n",
    "            mask=mask)\n",
    "plt.show()"
   ]
  },
  {
   "cell_type": "markdown",
   "id": "dcde523d-9703-45b4-bab2-58841b0d49d9",
   "metadata": {},
   "source": [
    "I will drop the categorical aspect and elevation columns as discussed previously, because of their collinearity."
   ]
  },
  {
   "cell_type": "code",
   "execution_count": 79,
   "id": "72f79a3f-dab0-4f40-bae1-b5281265f62a",
   "metadata": {},
   "outputs": [
    {
     "data": {
      "text/html": [
       "<div>\n",
       "<style scoped>\n",
       "    .dataframe tbody tr th:only-of-type {\n",
       "        vertical-align: middle;\n",
       "    }\n",
       "\n",
       "    .dataframe tbody tr th {\n",
       "        vertical-align: top;\n",
       "    }\n",
       "\n",
       "    .dataframe thead th {\n",
       "        text-align: right;\n",
       "    }\n",
       "</style>\n",
       "<table border=\"1\" class=\"dataframe\">\n",
       "  <thead>\n",
       "    <tr style=\"text-align: right;\">\n",
       "      <th></th>\n",
       "      <th>asp_cont</th>\n",
       "      <th>elev_cont</th>\n",
       "      <th>slope_cont</th>\n",
       "      <th>E</th>\n",
       "      <th>ENE</th>\n",
       "      <th>ESE</th>\n",
       "      <th>N</th>\n",
       "      <th>NE</th>\n",
       "      <th>NNE</th>\n",
       "      <th>NNW</th>\n",
       "      <th>...</th>\n",
       "      <th>WNW</th>\n",
       "      <th>WSW</th>\n",
       "      <th>elev_high</th>\n",
       "      <th>elev_low</th>\n",
       "      <th>elev_med</th>\n",
       "      <th>elev_vhigh</th>\n",
       "      <th>slope_high</th>\n",
       "      <th>slope_low</th>\n",
       "      <th>slope_med</th>\n",
       "      <th>slope_vhigh</th>\n",
       "    </tr>\n",
       "  </thead>\n",
       "  <tbody>\n",
       "    <tr>\n",
       "      <th>0</th>\n",
       "      <td>90.000000</td>\n",
       "      <td>229.0</td>\n",
       "      <td>1.891522</td>\n",
       "      <td>1</td>\n",
       "      <td>0</td>\n",
       "      <td>0</td>\n",
       "      <td>0</td>\n",
       "      <td>0</td>\n",
       "      <td>0</td>\n",
       "      <td>0</td>\n",
       "      <td>...</td>\n",
       "      <td>0</td>\n",
       "      <td>0</td>\n",
       "      <td>1</td>\n",
       "      <td>0</td>\n",
       "      <td>0</td>\n",
       "      <td>0</td>\n",
       "      <td>0</td>\n",
       "      <td>0</td>\n",
       "      <td>1</td>\n",
       "      <td>0</td>\n",
       "    </tr>\n",
       "    <tr>\n",
       "      <th>1</th>\n",
       "      <td>180.000000</td>\n",
       "      <td>230.0</td>\n",
       "      <td>0.535182</td>\n",
       "      <td>0</td>\n",
       "      <td>0</td>\n",
       "      <td>0</td>\n",
       "      <td>0</td>\n",
       "      <td>0</td>\n",
       "      <td>0</td>\n",
       "      <td>0</td>\n",
       "      <td>...</td>\n",
       "      <td>0</td>\n",
       "      <td>0</td>\n",
       "      <td>1</td>\n",
       "      <td>0</td>\n",
       "      <td>0</td>\n",
       "      <td>0</td>\n",
       "      <td>0</td>\n",
       "      <td>1</td>\n",
       "      <td>0</td>\n",
       "      <td>0</td>\n",
       "    </tr>\n",
       "    <tr>\n",
       "      <th>2</th>\n",
       "      <td>147.528809</td>\n",
       "      <td>227.0</td>\n",
       "      <td>2.269464</td>\n",
       "      <td>0</td>\n",
       "      <td>0</td>\n",
       "      <td>0</td>\n",
       "      <td>0</td>\n",
       "      <td>0</td>\n",
       "      <td>0</td>\n",
       "      <td>0</td>\n",
       "      <td>...</td>\n",
       "      <td>0</td>\n",
       "      <td>0</td>\n",
       "      <td>1</td>\n",
       "      <td>0</td>\n",
       "      <td>0</td>\n",
       "      <td>0</td>\n",
       "      <td>0</td>\n",
       "      <td>0</td>\n",
       "      <td>1</td>\n",
       "      <td>0</td>\n",
       "    </tr>\n",
       "    <tr>\n",
       "      <th>3</th>\n",
       "      <td>149.036240</td>\n",
       "      <td>226.0</td>\n",
       "      <td>1.559970</td>\n",
       "      <td>0</td>\n",
       "      <td>0</td>\n",
       "      <td>0</td>\n",
       "      <td>0</td>\n",
       "      <td>0</td>\n",
       "      <td>0</td>\n",
       "      <td>0</td>\n",
       "      <td>...</td>\n",
       "      <td>0</td>\n",
       "      <td>0</td>\n",
       "      <td>1</td>\n",
       "      <td>0</td>\n",
       "      <td>0</td>\n",
       "      <td>0</td>\n",
       "      <td>0</td>\n",
       "      <td>1</td>\n",
       "      <td>0</td>\n",
       "      <td>0</td>\n",
       "    </tr>\n",
       "    <tr>\n",
       "      <th>4</th>\n",
       "      <td>206.565048</td>\n",
       "      <td>228.0</td>\n",
       "      <td>2.037113</td>\n",
       "      <td>0</td>\n",
       "      <td>0</td>\n",
       "      <td>0</td>\n",
       "      <td>0</td>\n",
       "      <td>0</td>\n",
       "      <td>0</td>\n",
       "      <td>0</td>\n",
       "      <td>...</td>\n",
       "      <td>0</td>\n",
       "      <td>0</td>\n",
       "      <td>1</td>\n",
       "      <td>0</td>\n",
       "      <td>0</td>\n",
       "      <td>0</td>\n",
       "      <td>0</td>\n",
       "      <td>0</td>\n",
       "      <td>1</td>\n",
       "      <td>0</td>\n",
       "    </tr>\n",
       "  </tbody>\n",
       "</table>\n",
       "<p>5 rows × 27 columns</p>\n",
       "</div>"
      ],
      "text/plain": [
       "     asp_cont  elev_cont  slope_cont  E  ENE  ESE  N  NE  NNE  NNW  ...  WNW  \\\n",
       "0   90.000000      229.0    1.891522  1    0    0  0   0    0    0  ...    0   \n",
       "1  180.000000      230.0    0.535182  0    0    0  0   0    0    0  ...    0   \n",
       "2  147.528809      227.0    2.269464  0    0    0  0   0    0    0  ...    0   \n",
       "3  149.036240      226.0    1.559970  0    0    0  0   0    0    0  ...    0   \n",
       "4  206.565048      228.0    2.037113  0    0    0  0   0    0    0  ...    0   \n",
       "\n",
       "   WSW  elev_high  elev_low  elev_med  elev_vhigh  slope_high  slope_low  \\\n",
       "0    0          1         0         0           0           0          0   \n",
       "1    0          1         0         0           0           0          1   \n",
       "2    0          1         0         0           0           0          0   \n",
       "3    0          1         0         0           0           0          1   \n",
       "4    0          1         0         0           0           0          0   \n",
       "\n",
       "   slope_med  slope_vhigh  \n",
       "0          1            0  \n",
       "1          0            0  \n",
       "2          1            0  \n",
       "3          0            0  \n",
       "4          1            0  \n",
       "\n",
       "[5 rows x 27 columns]"
      ]
     },
     "execution_count": 79,
     "metadata": {},
     "output_type": "execute_result"
    }
   ],
   "source": [
    "X.head()"
   ]
  },
  {
   "cell_type": "code",
   "execution_count": 80,
   "id": "c4e7246a-9732-42ad-85da-adea70d61dc9",
   "metadata": {},
   "outputs": [
    {
     "data": {
      "text/plain": [
       "(19836, 27)"
      ]
     },
     "execution_count": 80,
     "metadata": {},
     "output_type": "execute_result"
    }
   ],
   "source": [
    "X.shape"
   ]
  },
  {
   "cell_type": "code",
   "execution_count": 85,
   "id": "c31b6295-bb78-44d0-982e-146e05ccef52",
   "metadata": {},
   "outputs": [],
   "source": [
    "# prepare an X for the optimized hyperparameter GBC\n",
    "# drop columns as discussed above\n",
    "# X_optimized=X.drop(labels=['asp_cont','elev_vhigh','elev_high','elev_med','elev_low','slope_vhigh','slope_high','slope_med','slope_low'],axis=1)\n",
    "\n",
    "X_optimized=X.copy()\n",
    "# X_optimized"
   ]
  },
  {
   "cell_type": "markdown",
   "id": "2d1b5fb1-db9f-49c3-9e17-10a71f4484bc",
   "metadata": {},
   "source": [
    "Transform the optimized X to the `logreg_scaler` that was created earlier:"
   ]
  },
  {
   "cell_type": "code",
   "execution_count": 86,
   "id": "8434ea67-431a-4c43-80c9-3a1498e80c90",
   "metadata": {},
   "outputs": [
    {
     "name": "stderr",
     "output_type": "stream",
     "text": [
      "/Applications/Anaconda/anaconda3/envs/sklearn/lib/python3.9/site-packages/sklearn/base.py:413: UserWarning: X has feature names, but StandardScaler was fitted without feature names\n",
      "  warnings.warn(\n"
     ]
    }
   ],
   "source": [
    "X_optimized_scaled=logreg_scaler.transform(X_optimized)"
   ]
  },
  {
   "cell_type": "code",
   "execution_count": 87,
   "id": "0301052b-0745-4567-8568-34a6f20b54c5",
   "metadata": {},
   "outputs": [
    {
     "data": {
      "text/plain": [
       "array([[-0.86709382, -0.26190766, -0.84754651, ..., -0.57292606,\n",
       "         1.71887913, -0.57991163],\n",
       "       [ 0.01156797, -0.25702726, -0.97790956, ...,  1.74542592,\n",
       "        -0.58177447, -0.57991163],\n",
       "       [-0.30544531, -0.27166845, -0.81122106, ..., -0.57292606,\n",
       "         1.71887913, -0.57991163],\n",
       "       ...,\n",
       "       [ 0.48986187, -0.72554542,  0.49810004, ..., -0.57292606,\n",
       "        -0.58177447, -0.57991163],\n",
       "       [ 0.53570297, -0.65233946,  1.43994927, ..., -0.57292606,\n",
       "        -0.58177447,  1.72440068],\n",
       "       [ 0.47592869, -0.43272157,  1.70436152, ..., -0.57292606,\n",
       "        -0.58177447,  1.72440068]])"
      ]
     },
     "execution_count": 87,
     "metadata": {},
     "output_type": "execute_result"
    }
   ],
   "source": [
    "X_optimized_scaled"
   ]
  },
  {
   "cell_type": "code",
   "execution_count": 88,
   "id": "b194b8db-d0ed-4652-a045-5765eaa38639",
   "metadata": {},
   "outputs": [
    {
     "data": {
      "text/plain": [
       "(19836, 27)"
      ]
     },
     "execution_count": 88,
     "metadata": {},
     "output_type": "execute_result"
    }
   ],
   "source": [
    "X_optimized_scaled.shape"
   ]
  },
  {
   "cell_type": "markdown",
   "id": "ebd6e289-6f3b-4acf-9837-61b8488e160b",
   "metadata": {},
   "source": [
    "Run the `GradientBoostingClassifier` on the optimized hyperparameters. There will be errors but we will ignore them."
   ]
  },
  {
   "cell_type": "code",
   "execution_count": 89,
   "id": "56f4652e-978d-4556-94da-f3a2509807be",
   "metadata": {},
   "outputs": [
    {
     "name": "stderr",
     "output_type": "stream",
     "text": [
      "/Applications/Anaconda/anaconda3/envs/sklearn/lib/python3.9/site-packages/sklearn/ensemble/_gb.py:437: DataConversionWarning: A column-vector y was passed when a 1d array was expected. Please change the shape of y to (n_samples, ), for example using ravel().\n",
      "  y = column_or_1d(y, warn=True)\n"
     ]
    },
    {
     "data": {
      "text/plain": [
       "0.9724238757814075"
      ]
     },
     "execution_count": 89,
     "metadata": {},
     "output_type": "execute_result"
    }
   ],
   "source": [
    "gbc=GradientBoostingClassifier(learning_rate=0.1,\n",
    "                               loss='log_loss',\n",
    "                               n_estimators=200)\n",
    "gbc.fit(X=X_optimized_scaled,y=y)\n",
    "\n",
    "gbc.score(X=X_optimized_scaled,y=y)"
   ]
  },
  {
   "cell_type": "markdown",
   "id": "c9b402f2-24dd-4012-b4e1-4218974c2f2a",
   "metadata": {},
   "source": [
    "$>97\\%$ accuracy is quite good!  \n",
    "I will run `predict_proba` on `X_optimized_scaled`, then take one column of this output probability to serve as a new feature that will be added to a new stacked table."
   ]
  },
  {
   "cell_type": "code",
   "execution_count": 90,
   "id": "fffaa536-3850-475a-bafe-114ac059b3e9",
   "metadata": {},
   "outputs": [
    {
     "data": {
      "text/plain": [
       "array([[9.81562254e-01, 1.84377462e-02],\n",
       "       [9.77176767e-01, 2.28232328e-02],\n",
       "       [9.17647625e-01, 8.23523750e-02],\n",
       "       ...,\n",
       "       [1.00648545e-05, 9.99989935e-01],\n",
       "       [2.76375163e-07, 9.99999724e-01],\n",
       "       [4.03388937e-05, 9.99959661e-01]])"
      ]
     },
     "execution_count": 90,
     "metadata": {},
     "output_type": "execute_result"
    }
   ],
   "source": [
    "probabilities_X=grid_search_gbc.predict_proba(X_optimized_scaled)\n",
    "probabilities_X"
   ]
  },
  {
   "cell_type": "code",
   "execution_count": 91,
   "id": "a1b89f23-2424-45d2-8738-06489534ab54",
   "metadata": {},
   "outputs": [
    {
     "data": {
      "text/plain": [
       "(19836, 2)"
      ]
     },
     "execution_count": 91,
     "metadata": {},
     "output_type": "execute_result"
    }
   ],
   "source": [
    "probabilities_X.shape"
   ]
  },
  {
   "cell_type": "markdown",
   "id": "f668e34f-95c2-4406-852c-75a56667533c",
   "metadata": {},
   "source": [
    "Drop one of the columns from the array, because the probabilities should add up to 1 and thus be perfectly correlated:"
   ]
  },
  {
   "cell_type": "code",
   "execution_count": 96,
   "id": "f54eb179-b62a-40f1-b8e1-5f81b04867a3",
   "metadata": {},
   "outputs": [
    {
     "name": "stdout",
     "output_type": "stream",
     "text": [
      "(19836, 1)\n"
     ]
    },
    {
     "data": {
      "text/plain": [
       "array([[0.01843775],\n",
       "       [0.02282323],\n",
       "       [0.08235237],\n",
       "       ...,\n",
       "       [0.99998994],\n",
       "       [0.99999972],\n",
       "       [0.99995966]])"
      ]
     },
     "execution_count": 96,
     "metadata": {},
     "output_type": "execute_result"
    }
   ],
   "source": [
    "# 'geo_prob' because these predictions came from the geographic data\n",
    "geo_prob=probabilities_X[:,1:]\n",
    "print(geo_prob.shape)\n",
    "geo_prob"
   ]
  },
  {
   "cell_type": "code",
   "execution_count": 113,
   "id": "4c576dae",
   "metadata": {},
   "outputs": [
    {
     "data": {
      "text/plain": [
       "numpy.ndarray"
      ]
     },
     "execution_count": 113,
     "metadata": {},
     "output_type": "execute_result"
    }
   ],
   "source": [
    "type(geo_prob)"
   ]
  },
  {
   "cell_type": "markdown",
   "id": "eea8113d-5781-4c93-8071-ea81f70ddd99",
   "metadata": {},
   "source": [
    "Save the array as a DataFrame and then a `.CSV` so that I can use it in another notebook for the stacked megamodel:"
   ]
  },
  {
   "cell_type": "code",
   "execution_count": 121,
   "id": "babce61b",
   "metadata": {},
   "outputs": [
    {
     "data": {
      "text/html": [
       "<div>\n",
       "<style scoped>\n",
       "    .dataframe tbody tr th:only-of-type {\n",
       "        vertical-align: middle;\n",
       "    }\n",
       "\n",
       "    .dataframe tbody tr th {\n",
       "        vertical-align: top;\n",
       "    }\n",
       "\n",
       "    .dataframe thead th {\n",
       "        text-align: right;\n",
       "    }\n",
       "</style>\n",
       "<table border=\"1\" class=\"dataframe\">\n",
       "  <thead>\n",
       "    <tr style=\"text-align: right;\">\n",
       "      <th></th>\n",
       "      <th>rownum</th>\n",
       "      <th>geo_prob</th>\n",
       "    </tr>\n",
       "  </thead>\n",
       "  <tbody>\n",
       "    <tr>\n",
       "      <th>0</th>\n",
       "      <td>0</td>\n",
       "      <td>0.018438</td>\n",
       "    </tr>\n",
       "    <tr>\n",
       "      <th>1</th>\n",
       "      <td>1</td>\n",
       "      <td>0.022823</td>\n",
       "    </tr>\n",
       "    <tr>\n",
       "      <th>2</th>\n",
       "      <td>2</td>\n",
       "      <td>0.082352</td>\n",
       "    </tr>\n",
       "    <tr>\n",
       "      <th>3</th>\n",
       "      <td>3</td>\n",
       "      <td>0.022845</td>\n",
       "    </tr>\n",
       "    <tr>\n",
       "      <th>4</th>\n",
       "      <td>4</td>\n",
       "      <td>0.103090</td>\n",
       "    </tr>\n",
       "    <tr>\n",
       "      <th>...</th>\n",
       "      <td>...</td>\n",
       "      <td>...</td>\n",
       "    </tr>\n",
       "    <tr>\n",
       "      <th>19831</th>\n",
       "      <td>19831</td>\n",
       "      <td>0.999999</td>\n",
       "    </tr>\n",
       "    <tr>\n",
       "      <th>19832</th>\n",
       "      <td>19832</td>\n",
       "      <td>0.999992</td>\n",
       "    </tr>\n",
       "    <tr>\n",
       "      <th>19833</th>\n",
       "      <td>19833</td>\n",
       "      <td>0.999990</td>\n",
       "    </tr>\n",
       "    <tr>\n",
       "      <th>19834</th>\n",
       "      <td>19834</td>\n",
       "      <td>1.000000</td>\n",
       "    </tr>\n",
       "    <tr>\n",
       "      <th>19835</th>\n",
       "      <td>19835</td>\n",
       "      <td>0.999960</td>\n",
       "    </tr>\n",
       "  </tbody>\n",
       "</table>\n",
       "<p>19836 rows × 2 columns</p>\n",
       "</div>"
      ],
      "text/plain": [
       "       rownum  geo_prob\n",
       "0           0  0.018438\n",
       "1           1  0.022823\n",
       "2           2  0.082352\n",
       "3           3  0.022845\n",
       "4           4  0.103090\n",
       "...       ...       ...\n",
       "19831   19831  0.999999\n",
       "19832   19832  0.999992\n",
       "19833   19833  0.999990\n",
       "19834   19834  1.000000\n",
       "19835   19835  0.999960\n",
       "\n",
       "[19836 rows x 2 columns]"
      ]
     },
     "execution_count": 121,
     "metadata": {},
     "output_type": "execute_result"
    }
   ],
   "source": [
    "geo_prob_df=pd.DataFrame(geo_prob,columns=['geo_prob'])\n",
    "geo_prob_df['rownum']=geo_prob_df.index\n",
    "geo_prob_df=geo_prob_df[['rownum','geo_prob']]\n",
    "geo_prob_df"
   ]
  },
  {
   "cell_type": "code",
   "execution_count": 97,
   "id": "8ee3eb1e-9157-4ee0-8644-b9e222b7b839",
   "metadata": {},
   "outputs": [
    {
     "data": {
      "text/plain": [
       "'/Users/sra/Files/projects/brainstation/brainstation_2023_ds_capstone/brainstation_2023_ds_capstone/01_capstone_notebooks'"
      ]
     },
     "execution_count": 97,
     "metadata": {},
     "output_type": "execute_result"
    }
   ],
   "source": [
    "%pwd"
   ]
  },
  {
   "cell_type": "code",
   "execution_count": 122,
   "id": "1c08f3ab-943c-4664-9d3c-df047374a638",
   "metadata": {},
   "outputs": [],
   "source": [
    "path='/Users/sra/Files/projects/brainstation/brainstation_2023_ds_capstone/brainstation_2023_ds_capstone/01_capstone_notebooks/geo_prob.csv'\n",
    "geo_prob_df.to_csv(path_or_buf=path)"
   ]
  },
  {
   "cell_type": "markdown",
   "id": "76d9352e-2453-4d63-a013-609a489f1223",
   "metadata": {},
   "source": [
    "## Stacking using `StackingClassifier`"
   ]
  },
  {
   "cell_type": "code",
   "execution_count": null,
   "id": "b532d645-ee0c-4e0d-aa6b-1c2047145ff2",
   "metadata": {},
   "outputs": [],
   "source": []
  }
 ],
 "metadata": {
  "kernelspec": {
   "display_name": "sklearn",
   "language": "python",
   "name": "sklearn"
  },
  "language_info": {
   "codemirror_mode": {
    "name": "ipython",
    "version": 3
   },
   "file_extension": ".py",
   "mimetype": "text/x-python",
   "name": "python",
   "nbconvert_exporter": "python",
   "pygments_lexer": "ipython3",
   "version": "3.9.16"
  }
 },
 "nbformat": 4,
 "nbformat_minor": 5
}
