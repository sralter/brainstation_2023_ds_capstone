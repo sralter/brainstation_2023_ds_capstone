{
 "cells": [
  {
   "cell_type": "markdown",
   "id": "1961f067-cf00-4d62-9c0f-85b78417531e",
   "metadata": {},
   "source": [
    "# Welcome  \n",
    "\n",
    "Notebook Author: Samuel Alter  \n",
    "Notebook Subject: Capstone Project - Geographic Analysis\n",
    "\n",
    "BrainStation Winter 2023: Data Science"
   ]
  },
  {
   "cell_type": "code",
   "execution_count": null,
   "id": "85e7334f-8057-4caf-ac19-f0c1dc5d006f",
   "metadata": {},
   "outputs": [],
   "source": [
    "# imports\n"
   ]
  },
  {
   "cell_type": "code",
   "execution_count": null,
   "id": "d89d44d9-5dd3-4077-9301-fed67a2f9858",
   "metadata": {},
   "outputs": [],
   "source": [
    "'/Users/sra/Desktop/Data_Science_2023/_capstone/00_capstone_data/shapefiles/joins/sm_geo_combine.csv'"
   ]
  }
 ],
 "metadata": {
  "kernelspec": {
   "display_name": "sklearn",
   "language": "python",
   "name": "sklearn"
  },
  "language_info": {
   "codemirror_mode": {
    "name": "ipython",
    "version": 3
   },
   "file_extension": ".py",
   "mimetype": "text/x-python",
   "name": "python",
   "nbconvert_exporter": "python",
   "pygments_lexer": "ipython3",
   "version": "3.9.16"
  }
 },
 "nbformat": 4,
 "nbformat_minor": 5
}
