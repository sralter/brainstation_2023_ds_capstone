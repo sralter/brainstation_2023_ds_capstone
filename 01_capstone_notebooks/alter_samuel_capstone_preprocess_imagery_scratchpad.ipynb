{
 "cells": [
  {
   "cell_type": "code",
   "execution_count": 1,
   "id": "d3639467-b266-47fd-90f3-d4cef4d82b97",
   "metadata": {},
   "outputs": [
    {
     "ename": "AttributeError",
     "evalue": "module 'usgs.api' has no attribute 'metadata'",
     "output_type": "error",
     "traceback": [
      "\u001b[0;31m---------------------------------------------------------------------------\u001b[0m",
      "\u001b[0;31mAttributeError\u001b[0m                            Traceback (most recent call last)",
      "Cell \u001b[0;32mIn[1], line 15\u001b[0m\n\u001b[1;32m     12\u001b[0m landsat8_scene_id \u001b[38;5;241m=\u001b[39m \u001b[38;5;124m'\u001b[39m\u001b[38;5;124mLC80290462015135LGN00\u001b[39m\u001b[38;5;124m'\u001b[39m\n\u001b[1;32m     14\u001b[0m \u001b[38;5;66;03m# Submit requests to USGS servers\u001b[39;00m\n\u001b[0;32m---> 15\u001b[0m \u001b[43mapi\u001b[49m\u001b[38;5;241;43m.\u001b[39;49m\u001b[43mmetadata\u001b[49m(hyperion_dataset, node, [hyperion_scene_id])\n\u001b[1;32m     16\u001b[0m api\u001b[38;5;241m.\u001b[39mmetadata(landsat8_dataset, node, [landsat8_scene_id])\n\u001b[1;32m     18\u001b[0m usgs\u001b[38;5;241m.\u001b[39mapi\u001b[38;5;241m.\u001b[39mmetadata(dataset, node, entityids, extended\u001b[38;5;241m=\u001b[39m\u001b[38;5;28;01mFalse\u001b[39;00m, api_key\u001b[38;5;241m=\u001b[39m\u001b[38;5;28;01mNone\u001b[39;00m)\n",
      "\u001b[0;31mAttributeError\u001b[0m: module 'usgs.api' has no attribute 'metadata'"
     ]
    }
   ],
   "source": [
    "from usgs import api\n",
    "\n",
    "# Set the EarthExplorer catalog\n",
    "node = 'EE'# this indicates earth explorer website\n",
    "\n",
    "# Set the Hyperion and Landsat 8 dataset\n",
    "hyperion_dataset = 'EO1_HYP_PUB'\n",
    "landsat8_dataset = 'LANDSAT_8'\n",
    "\n",
    "# Set the scene ids\n",
    "hyperion_scene_id = 'EO1H1820422014302110K2_SG1_01'\n",
    "landsat8_scene_id = 'LC80290462015135LGN00'\n",
    "\n",
    "# Submit requests to USGS servers\n",
    "api.metadata(hyperion_dataset, node, [hyperion_scene_id])\n",
    "api.metadata(landsat8_dataset, node, [landsat8_scene_id])\n",
    "\n",
    "usgs.api.metadata(dataset, node, entityids, extended=False, api_key=None)"
   ]
  },
  {
   "cell_type": "code",
   "execution_count": 2,
   "id": "5f0f3082-5d03-4d20-b1bc-96060d1e1dd1",
   "metadata": {},
   "outputs": [],
   "source": [
    "# https://towardsdatascience.com/satellite-imagery-access-and-analysis-in-python-jupyter-notebooks-387971ece84b"
   ]
  },
  {
   "cell_type": "code",
   "execution_count": 3,
   "id": "6b4027c8-373f-4553-927a-58c0e9fd2486",
   "metadata": {},
   "outputs": [],
   "source": [
    "from sentinelsat import SentinelAPI\n",
    "\n",
    "user = 'COPERNICUS_USERNAME' \n",
    "password = 'COPERNICUS_PASSWORD' \n",
    "api = SentinelAPI(user, password, 'https://scihub.copernicus.eu/dhus')"
   ]
  },
  {
   "cell_type": "code",
   "execution_count": null,
   "id": "3ea715e2-4567-47f5-ab08-2693f76a9258",
   "metadata": {},
   "outputs": [],
   "source": [
    "import geopandas as gpd\n",
    "import folium \n",
    "\n",
    "# santa monica bounds file named nReserve\n",
    "nReserve = gpd.read_file('/Users/sra/Files/brainstation_2023_ds_capstone/brainstation_2023_ds_capstone/01_capstone_data/shapefiles/santa_monica_bounds/sm_bounds.geojson')\n",
    "\n",
    "# empty base map in Folium centered around the bounding box\n",
    "m = folium.Map([34.08483,-118.70617], zoom_start=12)\n",
    "folium.GeoJson(nReserve).add_to(m)\n",
    "m"
   ]
  },
  {
   "cell_type": "code",
   "execution_count": null,
   "id": "1a78269d-291d-4ceb-b9ac-508536da6329",
   "metadata": {},
   "outputs": [],
   "source": [
    "from shapely.geometry import MultiPolygon, Polygon\n",
    "\n",
    "footprint = None\n",
    "for i in nReserve['geometry']:\n",
    "    footprint = i"
   ]
  },
  {
   "cell_type": "code",
   "execution_count": null,
   "id": "394c70cb-4ee8-49f2-88e8-6ae18697f839",
   "metadata": {},
   "outputs": [],
   "source": [
    "products = api.query(footprint,\n",
    "                     #date = ('20190601', '20190626'),\n",
    "                     date = ('20220101', '20221231'),\n",
    "                     platformname = 'Sentinel-2',\n",
    "                     processinglevel = 'Level-2A',\n",
    "                     cloudcoverpercentage = (0,15)\n",
    "                    )"
   ]
  },
  {
   "cell_type": "code",
   "execution_count": null,
   "id": "bb912512-3f28-4d65-94cf-99cb03e7c048",
   "metadata": {},
   "outputs": [],
   "source": [
    "products"
   ]
  },
  {
   "cell_type": "code",
   "execution_count": null,
   "id": "208963e6-0e79-46af-9f66-590eff123b6e",
   "metadata": {},
   "outputs": [],
   "source": []
  },
  {
   "cell_type": "code",
   "execution_count": null,
   "id": "94f230ed-4ad9-4217-b15b-6b7daa9923e4",
   "metadata": {},
   "outputs": [],
   "source": []
  }
 ],
 "metadata": {
  "kernelspec": {
   "display_name": "gis",
   "language": "python",
   "name": "gis"
  },
  "language_info": {
   "codemirror_mode": {
    "name": "ipython",
    "version": 3
   },
   "file_extension": ".py",
   "mimetype": "text/x-python",
   "name": "python",
   "nbconvert_exporter": "python",
   "pygments_lexer": "ipython3",
   "version": "3.10.9"
  }
 },
 "nbformat": 4,
 "nbformat_minor": 5
}
